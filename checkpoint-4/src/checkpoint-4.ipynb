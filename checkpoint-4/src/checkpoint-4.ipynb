{
 "cells": [
  {
   "cell_type": "markdown",
   "metadata": {},
   "source": [
    "# Checkpoint 4: Machine Learning"
   ]
  },
  {
   "cell_type": "code",
   "execution_count": 1,
   "metadata": {},
   "outputs": [],
   "source": [
    "import helpers\n",
    "import numpy as np\n",
    "from sklearn.linear_model import LinearRegression\n",
    "\n",
    "%load_ext autoreload\n",
    "%autoreload 2"
   ]
  },
  {
   "cell_type": "markdown",
   "metadata": {},
   "source": [
    "## Data Preprocessing"
   ]
  },
  {
   "cell_type": "markdown",
   "metadata": {},
   "source": [
    "Our goal for this checkpoint is to compare the police districts of Chicago, grouped into North, Central, West, and South regions. First, we use our pre-made CSV files to load our data into dictionaries: number of complaints per year per district, number of officers per district, civilian population per district, and ratios of Use of Force and Illegal Search allegations to all allegations. \n",
    "\n",
    "The complaint data used only enumerates complaints that fall into the \"Use Of Force\" or \"Illegal Search\" categories, as these are the two types of complaints that would be seen as most malicious."
   ]
  },
  {
   "cell_type": "code",
   "execution_count": 2,
   "metadata": {},
   "outputs": [],
   "source": [
    "complaint_dict = helpers.prepare_complaints()\n",
    "officer_dict = helpers.prepare_officers()\n",
    "population_dict = helpers.prepare_population()\n",
    "uof_ratios, ill_search_ratios = helpers.prepare_ratios()"
   ]
  },
  {
   "cell_type": "code",
   "execution_count": 3,
   "metadata": {},
   "outputs": [
    {
     "name": "stdout",
     "output_type": "stream",
     "text": [
      "['15th', '17th', '25th', '2nd', '22nd', '18th', '16th']\n"
     ]
    }
   ],
   "source": [
    "districts = list(complaint_dict.keys())\n",
    "print(districts[0:7])"
   ]
  },
  {
   "cell_type": "code",
   "execution_count": 4,
   "metadata": {},
   "outputs": [
    {
     "name": "stdout",
     "output_type": "stream",
     "text": [
      "{'2005': 0.2054263565891473, '2003': 0.2087378640776699, '2018': 0.10204081632653061, '2001': 0.16042154566744732, '2016': 0.0891089108910891, '2002': 0.22366288492706646, '2009': 0.2491349480968858, '2004': 0.18911917098445596, '2007': 0.23469387755102042, '2006': 0.21951219512195122, '2017': 0.14736842105263157, '2013': 0.10572687224669604, '2014': 0.08839779005524862, '2008': 0.2724458204334365, '2012': 0.19021739130434784, '2015': 0.06179775280898876, '2011': 0.1595744680851064, '2010': 0.2737226277372263}\n"
     ]
    }
   ],
   "source": [
    "print(uof_ratios['2nd'])"
   ]
  },
  {
   "cell_type": "markdown",
   "metadata": {},
   "source": [
    "Now, we spend the next few cells grouping districts into regional buckets. These 'buckets' were hand-picked by observing a map of Chicago, and each region represents 5-6 districts. We perform this grouping operation for each of the statistics obtained above."
   ]
  },
  {
   "cell_type": "code",
   "execution_count": 5,
   "metadata": {},
   "outputs": [],
   "source": [
    "north   = ['16th', '17th', '24th', '20th', '19th']\n",
    "central = ['14th', '18th', '12th',  '1st',  '9th', '2nd']\n",
    "west    = ['25th', '15th', '11th', '10th',  '8th']\n",
    "south   = [ '7th',  '3rd',  '6th',  '4th', '22nd', '5th']"
   ]
  },
  {
   "cell_type": "code",
   "execution_count": 6,
   "metadata": {},
   "outputs": [
    {
     "name": "stdout",
     "output_type": "stream",
     "text": [
      "['16th', '17th', '24th', '20th', '19th']\n"
     ]
    }
   ],
   "source": [
    "print(north)"
   ]
  },
  {
   "cell_type": "markdown",
   "metadata": {},
   "source": [
    "### Complaints"
   ]
  },
  {
   "cell_type": "markdown",
   "metadata": {},
   "source": [
    "First, we combine the per-district complaint data to create per-area complaint data. This is done by iterating through the complete dictionary, choosing only those districts that are relevant to the region, then using a Python Counter to merge the sub-dictionaries."
   ]
  },
  {
   "cell_type": "code",
   "execution_count": 7,
   "metadata": {},
   "outputs": [],
   "source": [
    "north_complaints = helpers.merge_dicts(north, complaint_dict)\n",
    "central_complaints = helpers.merge_dicts(central, complaint_dict)\n",
    "west_complaints = helpers.merge_dicts(west, complaint_dict)\n",
    "south_complaints = helpers.merge_dicts(south, complaint_dict)"
   ]
  },
  {
   "cell_type": "code",
   "execution_count": 8,
   "metadata": {},
   "outputs": [
    {
     "name": "stdout",
     "output_type": "stream",
     "text": [
      "The complaints for the northern region per year are as follows:\n",
      "\n",
      "Counter({'2007': 14534, '2008': 14418, '2009': 14393, '2001': 13620, '2010': 12603, '2002': 12376, '2011': 12282, '2003': 11277, '2012': 10983, '2013': 10829, '2006': 10268, '2005': 9861, '2004': 9638, '2014': 7962, '2015': 7703, '2016': 7331, '2017': 6491, '2018': 3005})\n"
     ]
    }
   ],
   "source": [
    "print(\"The complaints for the northern region per year are as follows:\\n\")\n",
    "print(north_complaints)"
   ]
  },
  {
   "cell_type": "markdown",
   "metadata": {},
   "source": [
    "### Police Officers"
   ]
  },
  {
   "cell_type": "markdown",
   "metadata": {},
   "source": [
    "Because this data is also a raw number, similar to complaint data, we can merely take the sum of the data for all included police districts. "
   ]
  },
  {
   "cell_type": "code",
   "execution_count": 9,
   "metadata": {},
   "outputs": [],
   "source": [
    "north_cops = helpers.merge_dicts(north, officer_dict)\n",
    "central_cops = helpers.merge_dicts(central, officer_dict)\n",
    "west_cops = helpers.merge_dicts(west, officer_dict)\n",
    "south_cops = helpers.merge_dicts(south, officer_dict)"
   ]
  },
  {
   "cell_type": "code",
   "execution_count": 10,
   "metadata": {},
   "outputs": [
    {
     "name": "stdout",
     "output_type": "stream",
     "text": [
      "Number of officers active in the northern region: Counter({'2001': 897, '2002': 852, '2003': 802, '2007': 712, '2008': 697, '2006': 609, '2004': 605, '2005': 567, '2009': 553, '2010': 486, '2011': 464, '2012': 374, '2013': 364, '2015': 362, '2014': 358, '2016': 242, '2017': 221, '2018': 56})\n",
      "\n"
     ]
    }
   ],
   "source": [
    "print(f'Number of officers active in the northern region: {north_cops}\\n')"
   ]
  },
  {
   "cell_type": "markdown",
   "metadata": {},
   "source": [
    "### Population"
   ]
  },
  {
   "cell_type": "markdown",
   "metadata": {},
   "source": [
    "As we did not have historic (yearly) data for civilian population, we instead opted to use the static data available to us through the CPDP dataset. As such, this is a count of the number of civilians per district, and we can sum the values without the need for a Counter to help with the process."
   ]
  },
  {
   "cell_type": "code",
   "execution_count": 11,
   "metadata": {},
   "outputs": [],
   "source": [
    "north_pop = helpers.merge_values(north, population_dict)\n",
    "central_pop = helpers.merge_values(central, population_dict)\n",
    "west_pop = helpers.merge_values(west, population_dict)\n",
    "south_pop = helpers.merge_values(south, population_dict)"
   ]
  },
  {
   "cell_type": "code",
   "execution_count": 12,
   "metadata": {},
   "outputs": [
    {
     "name": "stdout",
     "output_type": "stream",
     "text": [
      "Number of civilians in the northern region: 776681\n"
     ]
    }
   ],
   "source": [
    "print(f'Number of civilians in the northern region: {north_pop}')"
   ]
  },
  {
   "cell_type": "markdown",
   "metadata": {},
   "source": [
    "### Allegation Proportions"
   ]
  },
  {
   "cell_type": "markdown",
   "metadata": {},
   "source": [
    "Because this data is proportional, instead of being able to merge the dictionaries via summation, we must average the final sums by the number of districts grouped, instead. We also take this opportunity to round the data for both allegation proportions to four decimal places, to facilitate human understanding.\n",
    "\n",
    "Below, 'uof' refers to the data collected for 'Use of Force' allegations, while 'ils' refers to the data for 'Illegal Search' allegations."
   ]
  },
  {
   "cell_type": "code",
   "execution_count": 14,
   "metadata": {},
   "outputs": [],
   "source": [
    "north_uof = helpers.avg_dicts(north, uof_ratios)\n",
    "central_uof = helpers.avg_dicts(central, uof_ratios)\n",
    "west_uof = helpers.avg_dicts(west, uof_ratios)\n",
    "south_uof = helpers.avg_dicts(south, uof_ratios)"
   ]
  },
  {
   "cell_type": "code",
   "execution_count": 15,
   "metadata": {},
   "outputs": [
    {
     "name": "stdout",
     "output_type": "stream",
     "text": [
      "{'2015': 0.2042, '2018': 0.1439, '2005': 0.2328, '2013': 0.2105, '2003': 0.1951, '2016': 0.1423, '2008': 0.193, '2009': 0.1979, '2012': 0.1957, '2006': 0.2463, '2010': 0.2353, '2004': 0.1718, '2001': 0.1977, '2011': 0.2316, '2007': 0.2142, '2014': 0.1465, '2002': 0.2027, '2017': 0.1136}\n"
     ]
    }
   ],
   "source": [
    "print(north_uof)"
   ]
  },
  {
   "cell_type": "code",
   "execution_count": 16,
   "metadata": {},
   "outputs": [],
   "source": [
    "north_ils = helpers.avg_dicts(north, ill_search_ratios)\n",
    "central_ils = helpers.avg_dicts(central, ill_search_ratios)\n",
    "west_ils = helpers.avg_dicts(west, ill_search_ratios)\n",
    "south_ils = helpers.avg_dicts(south, ill_search_ratios)"
   ]
  },
  {
   "cell_type": "markdown",
   "metadata": {},
   "source": [
    "## Linear Regression"
   ]
  },
  {
   "cell_type": "markdown",
   "metadata": {},
   "source": [
    "Now that we've grouped our data, we can begin building a regression model for each of the regions. We can compare the obtained model for each region by looking at it's coefficients and intercept."
   ]
  },
  {
   "cell_type": "markdown",
   "metadata": {},
   "source": [
    "### North"
   ]
  },
  {
   "cell_type": "code",
   "execution_count": 17,
   "metadata": {},
   "outputs": [],
   "source": [
    "X, y = helpers.format_data(north_complaints, north_pop, north_cops, north_uof, north_ils)\n",
    "\n",
    "reg = LinearRegression().fit(X, y)"
   ]
  },
  {
   "cell_type": "code",
   "execution_count": 18,
   "metadata": {},
   "outputs": [
    {
     "name": "stdout",
     "output_type": "stream",
     "text": [
      "[-5.68359643e-04 -4.76603700e-06 -7.64606660e-03  9.62246261e-03]\n",
      "1.1583514771267\n"
     ]
    }
   ],
   "source": [
    "print(reg.coef_)\n",
    "print(reg.intercept_)"
   ]
  },
  {
   "cell_type": "markdown",
   "metadata": {},
   "source": [
    "### Central"
   ]
  },
  {
   "cell_type": "code",
   "execution_count": 19,
   "metadata": {},
   "outputs": [],
   "source": [
    "X, y = helpers.format_data(central_complaints, central_pop, central_cops, central_uof, central_ils)\n",
    "\n",
    "reg = LinearRegression().fit(X, y)"
   ]
  },
  {
   "cell_type": "code",
   "execution_count": 20,
   "metadata": {},
   "outputs": [
    {
     "name": "stdout",
     "output_type": "stream",
     "text": [
      "[-1.40396028e-03 -3.69347728e-06  4.74934489e-02 -1.29356134e-01]\n",
      "2.858155358221636\n"
     ]
    }
   ],
   "source": [
    "print(reg.coef_)\n",
    "print(reg.intercept_)"
   ]
  },
  {
   "cell_type": "markdown",
   "metadata": {},
   "source": [
    "### West"
   ]
  },
  {
   "cell_type": "code",
   "execution_count": 21,
   "metadata": {},
   "outputs": [],
   "source": [
    "X, y = helpers.format_data(west_complaints, west_pop, west_cops, west_uof, west_ils)\n",
    "\n",
    "reg = LinearRegression().fit(X, y)"
   ]
  },
  {
   "cell_type": "code",
   "execution_count": 22,
   "metadata": {},
   "outputs": [
    {
     "name": "stdout",
     "output_type": "stream",
     "text": [
      "[-8.36389759e-04  4.36718135e-06 -3.16112221e-03 -3.36270636e-03]\n",
      "1.7063076945570792\n"
     ]
    }
   ],
   "source": [
    "print(reg.coef_)\n",
    "print(reg.intercept_)"
   ]
  },
  {
   "cell_type": "markdown",
   "metadata": {},
   "source": [
    "### South"
   ]
  },
  {
   "cell_type": "code",
   "execution_count": 23,
   "metadata": {},
   "outputs": [],
   "source": [
    "X, y = helpers.format_data(south_complaints, south_pop, south_cops, south_uof, south_ils)\n",
    "\n",
    "reg = LinearRegression().fit(X, y)"
   ]
  },
  {
   "cell_type": "code",
   "execution_count": 24,
   "metadata": {},
   "outputs": [
    {
     "name": "stdout",
     "output_type": "stream",
     "text": [
      "[-1.18538689e-03  4.24426354e-06 -1.89841235e-02 -3.82502138e-02]\n",
      "2.4309459449772852\n"
     ]
    }
   ],
   "source": [
    "print(reg.coef_)\n",
    "print(reg.intercept_)"
   ]
  }
 ],
 "metadata": {
  "kernelspec": {
   "display_name": "Python 3",
   "language": "python",
   "name": "python3"
  },
  "language_info": {
   "codemirror_mode": {
    "name": "ipython",
    "version": 3
   },
   "file_extension": ".py",
   "mimetype": "text/x-python",
   "name": "python",
   "nbconvert_exporter": "python",
   "pygments_lexer": "ipython3",
   "version": "3.9.0"
  }
 },
 "nbformat": 4,
 "nbformat_minor": 4
}
