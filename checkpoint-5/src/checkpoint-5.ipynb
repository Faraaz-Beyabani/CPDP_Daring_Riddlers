{
 "cells": [
  {
   "cell_type": "code",
   "execution_count": 2,
   "metadata": {},
   "outputs": [
    {
     "name": "stderr",
     "output_type": "stream",
     "text": [
      "/Users/HarG/opt/anaconda3/lib/python3.7/site-packages/ipykernel_launcher.py:20: FutureWarning: Passing a negative integer is deprecated in version 1.0 and will not be supported in future version. Instead, use None to not limit the column width.\n"
     ]
    }
   ],
   "source": [
    "import pandas as pd\n",
    "import numpy as np\n",
    "import matplotlib.pyplot as plt\n",
    "\n",
    "import re\n",
    "\n",
    "from string import punctuation\n",
    "\n",
    "from nltk.corpus import stopwords\n",
    "from nltk.tokenize import word_tokenize\n",
    "from nltk.sentiment.vader import SentimentIntensityAnalyzer\n",
    "\n",
    "from sklearn.linear_model import LinearRegression\n",
    "\n",
    "reg = LinearRegression()\n",
    "\n",
    "sid = SentimentIntensityAnalyzer()\n",
    "stop_words = stopwords.words('English')\n",
    "\n",
    "pd.set_option('display.max_colwidth', -1)"
   ]
  },
  {
   "cell_type": "code",
   "execution_count": 3,
   "metadata": {},
   "outputs": [],
   "source": [
    "def clean_text(s):\n",
    "    if s[-1] == '.': \n",
    "        s = s[:-1]\n",
    "    return s.lower().replace('\\n', ' ')"
   ]
  },
  {
   "cell_type": "code",
   "execution_count": 4,
   "metadata": {},
   "outputs": [
    {
     "name": "stderr",
     "output_type": "stream",
     "text": [
      "/Users/HarG/opt/anaconda3/lib/python3.7/site-packages/ipykernel_launcher.py:13: SettingWithCopyWarning: \n",
      "A value is trying to be set on a copy of a slice from a DataFrame.\n",
      "Try using .loc[row_indexer,col_indexer] = value instead\n",
      "\n",
      "See the caveats in the documentation: https://pandas.pydata.org/pandas-docs/stable/user_guide/indexing.html#returning-a-view-versus-a-copy\n",
      "  del sys.path[0]\n"
     ]
    }
   ],
   "source": [
    "headers = [\"Allegation ID\", \"Section Name\", \"Column Name\", \"Text Content\", \"Area Name\", \"Median Income\", \"Complainant Gender\", \"Complainant Race\", \"Complainant Birth Year\"]\n",
    "\n",
    "raw_data = pd.read_csv('./data/community_allegation_narratives.csv', \n",
    "    names=headers\n",
    ")\n",
    "\n",
    "# Removing lines without meaningful summaries\n",
    "data = raw_data[~raw_data['Text Content'].isin([\n",
    "    '(None Entered)',\n",
    "    'NOMISCONDUCT\\n(NOTIF)',\n",
    "    'NOT SUSTAINED'\n",
    "])]\n",
    "data['Text Content'] = data['Text Content'].apply(lambda x: clean_text(x))\n",
    "data = data.drop_duplicates(subset=['Text Content'])"
   ]
  },
  {
   "cell_type": "code",
   "execution_count": 5,
   "metadata": {
    "scrolled": false
   },
   "outputs": [
    {
     "data": {
      "text/plain": [
       "Index(['Allegation ID', 'Section Name', 'Column Name', 'Text Content',\n",
       "       'Area Name', 'Median Income', 'Complainant Gender', 'Complainant Race',\n",
       "       'Complainant Birth Year'],\n",
       "      dtype='object')"
      ]
     },
     "execution_count": 5,
     "metadata": {},
     "output_type": "execute_result"
    }
   ],
   "source": [
    "data.columns"
   ]
  },
  {
   "cell_type": "code",
   "execution_count": 6,
   "metadata": {},
   "outputs": [],
   "source": [
    "summaries = data['Text Content']"
   ]
  },
  {
   "cell_type": "code",
   "execution_count": 7,
   "metadata": {},
   "outputs": [
    {
     "data": {
      "text/html": [
       "<div>\n",
       "<style scoped>\n",
       "    .dataframe tbody tr th:only-of-type {\n",
       "        vertical-align: middle;\n",
       "    }\n",
       "\n",
       "    .dataframe tbody tr th {\n",
       "        vertical-align: top;\n",
       "    }\n",
       "\n",
       "    .dataframe thead th {\n",
       "        text-align: right;\n",
       "    }\n",
       "</style>\n",
       "<table border=\"1\" class=\"dataframe\">\n",
       "  <thead>\n",
       "    <tr style=\"text-align: right;\">\n",
       "      <th></th>\n",
       "      <th>Allegation ID</th>\n",
       "      <th>Section Name</th>\n",
       "      <th>Column Name</th>\n",
       "      <th>Text Content</th>\n",
       "      <th>Area Name</th>\n",
       "      <th>Median Income</th>\n",
       "      <th>Complainant Gender</th>\n",
       "      <th>Complainant Race</th>\n",
       "      <th>Complainant Birth Year</th>\n",
       "    </tr>\n",
       "  </thead>\n",
       "  <tbody>\n",
       "    <tr>\n",
       "      <th>0</th>\n",
       "      <td>1062924</td>\n",
       "      <td>Accused Members</td>\n",
       "      <td>Initial / Intake Allegation</td>\n",
       "      <td>the complainant stated that she was involved in traffic accident with another ewvillan the complainant alleged that the accused officer incorrectly and inacurrately completed the traffic crash accident report the complainant did not have her case report number</td>\n",
       "      <td>Hermosa</td>\n",
       "      <td>$39,057</td>\n",
       "      <td>F</td>\n",
       "      <td>Hispanic</td>\n",
       "      <td>1971.0</td>\n",
       "    </tr>\n",
       "    <tr>\n",
       "      <th>1</th>\n",
       "      <td>1050875</td>\n",
       "      <td>Accused Members</td>\n",
       "      <td>Initial / Intake Allegation</td>\n",
       "      <td>the complainant alleges that the accused failed to arrest a female offender who threw a bottle at her and refused to leave the premises, the complainant alleges that the accused failed to arrest a female offender who threw a bottle at her and refused to leave the premises</td>\n",
       "      <td>Chicago Lawn</td>\n",
       "      <td>$32,944</td>\n",
       "      <td>F</td>\n",
       "      <td>Black</td>\n",
       "      <td>1977.0</td>\n",
       "    </tr>\n",
       "    <tr>\n",
       "      <th>3</th>\n",
       "      <td>1060347</td>\n",
       "      <td>Accused Members</td>\n",
       "      <td>Initial / Intake Allegation</td>\n",
       "      <td>and that she was afraid that the might come back. the reporting alleges that the accused was rude and and stated in an aggressive \"maybe we can look at the tape. if so scared, change your locks. i'm not to do anything for you.”</td>\n",
       "      <td>North Park</td>\n",
       "      <td>$51,589</td>\n",
       "      <td>F</td>\n",
       "      <td>White</td>\n",
       "      <td>1970.0</td>\n",
       "    </tr>\n",
       "    <tr>\n",
       "      <th>4</th>\n",
       "      <td>1060347</td>\n",
       "      <td>Accused Members</td>\n",
       "      <td>Initial / Intake Allegation</td>\n",
       "      <td>the reporting party alleges that she called to speak to the accused, who is assigned to investigate her case. the reporting party alleges that she stated to the accused that the offender had all of her information and keys to her place of residence and that she was afraid that the offender might come back. the reporting party alleges that the accused was rude and unprofessional and stated in an aggressive manner, \"maybe we can look at the tape. if you're so scared, change your locks. i'm not going to do anything for you.”</td>\n",
       "      <td>North Park</td>\n",
       "      <td>$51,589</td>\n",
       "      <td>F</td>\n",
       "      <td>White</td>\n",
       "      <td>1970.0</td>\n",
       "    </tr>\n",
       "    <tr>\n",
       "      <th>5</th>\n",
       "      <td>1049777</td>\n",
       "      <td>Accused Members</td>\n",
       "      <td>Initial / Intake Allegation</td>\n",
       "      <td>the reporting party alleges that the accused officer had his vehicle illegally towed due to loud music. the reporting party alleges that the speakers in his vehicle are not operating therefore; the impounding of his vehicle was just harassment from the accused officer</td>\n",
       "      <td>Chicago Lawn</td>\n",
       "      <td>$32,944</td>\n",
       "      <td>M</td>\n",
       "      <td>Black</td>\n",
       "      <td>1989.0</td>\n",
       "    </tr>\n",
       "    <tr>\n",
       "      <th>...</th>\n",
       "      <td>...</td>\n",
       "      <td>...</td>\n",
       "      <td>...</td>\n",
       "      <td>...</td>\n",
       "      <td>...</td>\n",
       "      <td>...</td>\n",
       "      <td>...</td>\n",
       "      <td>...</td>\n",
       "      <td>...</td>\n",
       "    </tr>\n",
       "    <tr>\n",
       "      <th>47699</th>\n",
       "      <td>1063984</td>\n",
       "      <td>Accused Members</td>\n",
       "      <td>Initial / Intake Allegation</td>\n",
       "      <td>the complainant alleged that the accused officer refused to properly investigate the victim's report of a “road rage\" altercation with another driver</td>\n",
       "      <td>North Park</td>\n",
       "      <td>$51,589</td>\n",
       "      <td>M</td>\n",
       "      <td>Hispanic</td>\n",
       "      <td>1988.0</td>\n",
       "    </tr>\n",
       "    <tr>\n",
       "      <th>47704</th>\n",
       "      <td>1049236</td>\n",
       "      <td>Accused Members</td>\n",
       "      <td>Initial / Intake Allegation</td>\n",
       "      <td>the reporting party, who is representing himself, alleges that the accused struck him with a squad car, which caused serveral bruises on his face, legs, knees and back. the reporting party further alleges that while he was on the ground, the accused stepped on his back, handcuffed him and then threw him in the backseat of the squad car</td>\n",
       "      <td>Greater Grand Crossing</td>\n",
       "      <td>$26,354</td>\n",
       "      <td>M</td>\n",
       "      <td>Black</td>\n",
       "      <td>1980.0</td>\n",
       "    </tr>\n",
       "    <tr>\n",
       "      <th>47708</th>\n",
       "      <td>1051081</td>\n",
       "      <td>Accused Members</td>\n",
       "      <td>Initial / Intake Allegation</td>\n",
       "      <td>the reporting party alleges that the accused officer was rude and unprofessional in that the accused officer called the victim to clear a missing person and the victim stated that he would have to wait until he was available to serve him. the accused officer responded, \"l don't want to hear that shit you fucking jag off.\"</td>\n",
       "      <td>Douglas</td>\n",
       "      <td>$29,099</td>\n",
       "      <td>M</td>\n",
       "      <td>Black</td>\n",
       "      <td>1964.0</td>\n",
       "    </tr>\n",
       "    <tr>\n",
       "      <th>47710</th>\n",
       "      <td>1051081</td>\n",
       "      <td>Current Allegations</td>\n",
       "      <td>Allegation</td>\n",
       "      <td>the complainant, police officer gregory rudolph #16639, unit 184 alleges that on 03 january 2012 at 2255 hours, via the telephone detective joseph mc guire #20016, unit 620 was rude and unprofessional the complainant, police officer gregory rudolph #16639, unit 184 further alleegs that on 04 january 2012 at 1745 hours, via the telephone detective joseph mc guire #20016, unit 620 threatened him and denied his request to speak to a supervisor</td>\n",
       "      <td>Douglas</td>\n",
       "      <td>$29,099</td>\n",
       "      <td>M</td>\n",
       "      <td>Black</td>\n",
       "      <td>1964.0</td>\n",
       "    </tr>\n",
       "    <tr>\n",
       "      <th>47711</th>\n",
       "      <td>1051081</td>\n",
       "      <td>Accused Members</td>\n",
       "      <td>Initial / Intake Allegation</td>\n",
       "      <td>the reporting party alleges that the accused officer was rude and unprofessional in that the accused officer called the victim to clear a missing person and the victim stated that he would have to wait until he was available to serve him. the accused officer responded, \"l don't want to hear that shit you fucking jag off.\"</td>\n",
       "      <td>Douglas</td>\n",
       "      <td>$29,099</td>\n",
       "      <td>M</td>\n",
       "      <td>Black</td>\n",
       "      <td>1964.0</td>\n",
       "    </tr>\n",
       "  </tbody>\n",
       "</table>\n",
       "<p>21368 rows × 9 columns</p>\n",
       "</div>"
      ],
      "text/plain": [
       "       Allegation ID         Section Name                  Column Name  \\\n",
       "0      1062924        Accused Members      Initial / Intake Allegation   \n",
       "1      1050875        Accused Members      Initial / Intake Allegation   \n",
       "3      1060347        Accused Members      Initial / Intake Allegation   \n",
       "4      1060347        Accused Members      Initial / Intake Allegation   \n",
       "5      1049777        Accused Members      Initial / Intake Allegation   \n",
       "...        ...                    ...                              ...   \n",
       "47699  1063984        Accused Members      Initial / Intake Allegation   \n",
       "47704  1049236        Accused Members      Initial / Intake Allegation   \n",
       "47708  1051081        Accused Members      Initial / Intake Allegation   \n",
       "47710  1051081        Current Allegations  Allegation                    \n",
       "47711  1051081        Accused Members      Initial / Intake Allegation   \n",
       "\n",
       "                                                                                                                                                                                                                                                                                                                                                                                                                                                                                                                                          Text Content  \\\n",
       "0      the complainant stated that she was involved in traffic accident with another ewvillan the complainant alleged that the accused officer incorrectly and inacurrately completed the traffic crash accident report the complainant did not have her case report number                                                                                                                                                                                                                                                                              \n",
       "1      the complainant alleges that the accused failed to arrest a female offender who threw a bottle at her and refused to leave the premises, the complainant alleges that the accused failed to arrest a female offender who threw a bottle at her and refused to leave the premises                                                                                                                                                                                                                                                                  \n",
       "3      and that she was afraid that the might come back. the reporting alleges that the accused was rude and and stated in an aggressive \"maybe we can look at the tape. if so scared, change your locks. i'm not to do anything for you.”                                                                                                                                                                                                                                                                                                               \n",
       "4      the reporting party alleges that she called to speak to the accused, who is assigned to investigate her case. the reporting party alleges that she stated to the accused that the offender had all of her information and keys to her place of residence and that she was afraid that the offender might come back. the reporting party alleges that the accused was rude and unprofessional and stated in an aggressive manner, \"maybe we can look at the tape. if you're so scared, change your locks. i'm not going to do anything for you.”   \n",
       "5      the reporting party alleges that the accused officer had his vehicle illegally towed due to loud music. the reporting party alleges that the speakers in his vehicle are not operating therefore; the impounding of his vehicle was just harassment from the accused officer                                                                                                                                                                                                                                                                      \n",
       "...                                                                                                                                                                                                                                                                             ...                                                                                                                                                                                                                                                                      \n",
       "47699  the complainant alleged that the accused officer refused to properly investigate the victim's report of a “road rage\" altercation with another driver                                                                                                                                                                                                                                                                                                                                                                                             \n",
       "47704  the reporting party, who is representing himself, alleges that the accused struck him with a squad car, which caused serveral bruises on his face, legs, knees and back. the reporting party further alleges that while he was on the ground, the accused stepped on his back, handcuffed him and then threw him in the backseat of the squad car                                                                                                                                                                                                 \n",
       "47708   the reporting party alleges that the accused officer was rude and unprofessional in that the accused officer called the victim to clear a missing person and the victim stated that he would have to wait until he was available to serve him. the accused officer responded, \"l don't want to hear that shit you fucking jag off.\"                                                                                                                                                                                                              \n",
       "47710  the complainant, police officer gregory rudolph #16639, unit 184 alleges that on 03 january 2012 at 2255 hours, via the telephone detective joseph mc guire #20016, unit 620 was rude and unprofessional the complainant, police officer gregory rudolph #16639, unit 184 further alleegs that on 04 january 2012 at 1745 hours, via the telephone detective joseph mc guire #20016, unit 620 threatened him and denied his request to speak to a supervisor                                                                                      \n",
       "47711  the reporting party alleges that the accused officer was rude and unprofessional in that the accused officer called the victim to clear a missing person and the victim stated that he would have to wait until he was available to serve him. the accused officer responded, \"l don't want to hear that shit you fucking jag off.\"                                                                                                                                                                                                               \n",
       "\n",
       "                    Area Name Median Income Complainant Gender  \\\n",
       "0      Hermosa                 $39,057       F                   \n",
       "1      Chicago Lawn            $32,944       F                   \n",
       "3      North Park              $51,589       F                   \n",
       "4      North Park              $51,589       F                   \n",
       "5      Chicago Lawn            $32,944       M                   \n",
       "...             ...                ...      ..                   \n",
       "47699  North Park              $51,589       M                   \n",
       "47704  Greater Grand Crossing  $26,354       M                   \n",
       "47708  Douglas                 $29,099       M                   \n",
       "47710  Douglas                 $29,099       M                   \n",
       "47711  Douglas                 $29,099       M                   \n",
       "\n",
       "      Complainant Race  Complainant Birth Year  \n",
       "0      Hispanic         1971.0                  \n",
       "1      Black            1977.0                  \n",
       "3      White            1970.0                  \n",
       "4      White            1970.0                  \n",
       "5      Black            1989.0                  \n",
       "...      ...               ...                  \n",
       "47699  Hispanic         1988.0                  \n",
       "47704  Black            1980.0                  \n",
       "47708  Black            1964.0                  \n",
       "47710  Black            1964.0                  \n",
       "47711  Black            1964.0                  \n",
       "\n",
       "[21368 rows x 9 columns]"
      ]
     },
     "execution_count": 7,
     "metadata": {},
     "output_type": "execute_result"
    }
   ],
   "source": [
    "data"
   ]
  },
  {
   "cell_type": "markdown",
   "metadata": {},
   "source": [
    "# Area vs Income"
   ]
  },
  {
   "cell_type": "code",
   "execution_count": 8,
   "metadata": {},
   "outputs": [],
   "source": [
    "# Find all compound sentiment scores, divided by area\n",
    "area_scores = {}\n",
    "for n, (area, text, income) in enumerate(zip(data['Area Name'], data['Text Content'], data['Median Income'])):\n",
    "    clean = clean_text(text)\n",
    "    \n",
    "    if area not in area_scores:\n",
    "        area_scores[area] = {\n",
    "            'total_score': 0,\n",
    "            'count': 0,\n",
    "            'income': income\n",
    "        }\n",
    "    \n",
    "    scores = sid.polarity_scores(clean)\n",
    "    \n",
    "    area_scores[area]['count'] += 1\n",
    "    area_scores[area]['total_score'] += scores['compound']"
   ]
  },
  {
   "cell_type": "code",
   "execution_count": 9,
   "metadata": {},
   "outputs": [],
   "source": [
    "sorted_scores = sorted([\n",
    "    (\n",
    "        area, \n",
    "        area_scores[area]['total_score'] / area_scores[area]['count'],\n",
    "        area_scores[area]['income']\n",
    "    )\n",
    "    for area in area_scores\n",
    "], key=lambda line: line[1])"
   ]
  },
  {
   "cell_type": "code",
   "execution_count": 10,
   "metadata": {
    "scrolled": true
   },
   "outputs": [
    {
     "data": {
      "text/html": [
       "<div>\n",
       "<style scoped>\n",
       "    .dataframe tbody tr th:only-of-type {\n",
       "        vertical-align: middle;\n",
       "    }\n",
       "\n",
       "    .dataframe tbody tr th {\n",
       "        vertical-align: top;\n",
       "    }\n",
       "\n",
       "    .dataframe thead th {\n",
       "        text-align: right;\n",
       "    }\n",
       "</style>\n",
       "<table border=\"1\" class=\"dataframe\">\n",
       "  <thead>\n",
       "    <tr style=\"text-align: right;\">\n",
       "      <th></th>\n",
       "      <th>Area</th>\n",
       "      <th>Score</th>\n",
       "      <th>Income</th>\n",
       "    </tr>\n",
       "  </thead>\n",
       "  <tbody>\n",
       "    <tr>\n",
       "      <th>0</th>\n",
       "      <td>Edison Park</td>\n",
       "      <td>-0.599305</td>\n",
       "      <td>$84,331</td>\n",
       "    </tr>\n",
       "    <tr>\n",
       "      <th>1</th>\n",
       "      <td>Jefferson Park</td>\n",
       "      <td>-0.597945</td>\n",
       "      <td>$60,384</td>\n",
       "    </tr>\n",
       "    <tr>\n",
       "      <th>2</th>\n",
       "      <td>Lincoln Square</td>\n",
       "      <td>-0.589593</td>\n",
       "      <td>$62,427</td>\n",
       "    </tr>\n",
       "    <tr>\n",
       "      <th>3</th>\n",
       "      <td>South Lawndale</td>\n",
       "      <td>-0.573953</td>\n",
       "      <td>$30,603</td>\n",
       "    </tr>\n",
       "    <tr>\n",
       "      <th>4</th>\n",
       "      <td>Hegewisch</td>\n",
       "      <td>-0.565878</td>\n",
       "      <td>$50,252</td>\n",
       "    </tr>\n",
       "    <tr>\n",
       "      <th>...</th>\n",
       "      <td>...</td>\n",
       "      <td>...</td>\n",
       "      <td>...</td>\n",
       "    </tr>\n",
       "    <tr>\n",
       "      <th>72</th>\n",
       "      <td>O'Hare</td>\n",
       "      <td>-0.420273</td>\n",
       "      <td>$46,065</td>\n",
       "    </tr>\n",
       "    <tr>\n",
       "      <th>73</th>\n",
       "      <td>Oakland</td>\n",
       "      <td>-0.407486</td>\n",
       "      <td>$28,269</td>\n",
       "    </tr>\n",
       "    <tr>\n",
       "      <th>74</th>\n",
       "      <td>Portage Park</td>\n",
       "      <td>-0.395742</td>\n",
       "      <td>$56,649</td>\n",
       "    </tr>\n",
       "    <tr>\n",
       "      <th>75</th>\n",
       "      <td>Edgewater</td>\n",
       "      <td>-0.394468</td>\n",
       "      <td>$46,103</td>\n",
       "    </tr>\n",
       "    <tr>\n",
       "      <th>76</th>\n",
       "      <td>North Park</td>\n",
       "      <td>-0.328843</td>\n",
       "      <td>$51,589</td>\n",
       "    </tr>\n",
       "  </tbody>\n",
       "</table>\n",
       "<p>77 rows × 3 columns</p>\n",
       "</div>"
      ],
      "text/plain": [
       "              Area     Score   Income\n",
       "0   Edison Park    -0.599305  $84,331\n",
       "1   Jefferson Park -0.597945  $60,384\n",
       "2   Lincoln Square -0.589593  $62,427\n",
       "3   South Lawndale -0.573953  $30,603\n",
       "4   Hegewisch      -0.565878  $50,252\n",
       "..        ...            ...      ...\n",
       "72  O'Hare         -0.420273  $46,065\n",
       "73  Oakland        -0.407486  $28,269\n",
       "74  Portage Park   -0.395742  $56,649\n",
       "75  Edgewater      -0.394468  $46,103\n",
       "76  North Park     -0.328843  $51,589\n",
       "\n",
       "[77 rows x 3 columns]"
      ]
     },
     "execution_count": 10,
     "metadata": {},
     "output_type": "execute_result"
    }
   ],
   "source": [
    "pd.DataFrame(sorted_scores, columns=['Area', 'Score', 'Income'], )"
   ]
  },
  {
   "cell_type": "code",
   "execution_count": 11,
   "metadata": {},
   "outputs": [
    {
     "data": {
      "text/plain": [
       "<matplotlib.collections.PathCollection at 0x11184d5d0>"
      ]
     },
     "execution_count": 11,
     "metadata": {},
     "output_type": "execute_result"
    },
    {
     "data": {
      "image/png": "[encoded data removed]",
      "text/plain": [
       "<Figure size 432x288 with 1 Axes>"
      ]
     },
     "metadata": {
      "needs_background": "light"
     },
     "output_type": "display_data"
    }
   ],
   "source": [
    "plot_x = [int(x[2][1:].replace(',', '')) for x in sorted_scores]\n",
    "plot_y = [y[1] for y in sorted_scores]\n",
    "\n",
    "plt.suptitle('Accusation Sentiment by City Area')\n",
    "plt.xlabel('Median Income')\n",
    "plt.ylabel('Sentiment')\n",
    "plt.scatter(plot_x, plot_y)"
   ]
  },
  {
   "cell_type": "markdown",
   "metadata": {},
   "source": [
    "# Race"
   ]
  },
  {
   "cell_type": "code",
   "execution_count": 67,
   "metadata": {},
   "outputs": [],
   "source": [
    "race_scores = {}\n",
    "for race, text in zip(data['Complainant Race'], data['Text Content']):\n",
    "    clean = clean_text(text)\n",
    "    if race == 'Native American/Alaskan Native':\n",
    "        # Not enough examples to confidently include\n",
    "        continue\n",
    "    elif race == 'Asian/Pacific Islander':\n",
    "        race = 'Asian'\n",
    "    \n",
    "    if race not in race_scores:\n",
    "        race_scores[race] = {\n",
    "            'total_score': 0,\n",
    "            'count': 0\n",
    "        }\n",
    "    \n",
    "    scores = sid.polarity_scores(clean)\n",
    "    \n",
    "    race_scores[race]['count'] += 1\n",
    "    race_scores[race]['total_score'] += scores['compound']"
   ]
  },
  {
   "cell_type": "code",
   "execution_count": 13,
   "metadata": {},
   "outputs": [],
   "source": [
    "race_data = dict(sorted([\n",
    "    (race, -1 * race_scores[race]['total_score'] / race_scores[race]['count'])\n",
    "    for race in race_scores if type(race) == str\n",
    "], key=lambda item: item[1]))"
   ]
  },
  {
   "cell_type": "code",
   "execution_count": 14,
   "metadata": {},
   "outputs": [
    {
     "data": {
      "text/plain": [
       "<BarContainer object of 4 artists>"
      ]
     },
     "execution_count": 14,
     "metadata": {},
     "output_type": "execute_result"
    },
    {
     "data": {
      "image/png": "[encoded data removed]",
      "text/plain": [
       "<Figure size 432x288 with 1 Axes>"
      ]
     },
     "metadata": {
      "needs_background": "light"
     },
     "output_type": "display_data"
    }
   ],
   "source": [
    "plt.suptitle('Negative Sentiment of Complaints by Complainant Race')\n",
    "plt.ylim([0.4, 0.52])\n",
    "plt.bar(race_data.keys(), [race_data[race] for race in race_data])"
   ]
  },
  {
   "cell_type": "code",
   "execution_count": 15,
   "metadata": {
    "scrolled": true
   },
   "outputs": [
    {
     "data": {
      "text/html": [
       "<div>\n",
       "<style scoped>\n",
       "    .dataframe tbody tr th:only-of-type {\n",
       "        vertical-align: middle;\n",
       "    }\n",
       "\n",
       "    .dataframe tbody tr th {\n",
       "        vertical-align: top;\n",
       "    }\n",
       "\n",
       "    .dataframe thead th {\n",
       "        text-align: right;\n",
       "    }\n",
       "</style>\n",
       "<table border=\"1\" class=\"dataframe\">\n",
       "  <thead>\n",
       "    <tr style=\"text-align: right;\">\n",
       "      <th></th>\n",
       "      <th>Race</th>\n",
       "      <th>Avg Score</th>\n",
       "    </tr>\n",
       "  </thead>\n",
       "  <tbody>\n",
       "    <tr>\n",
       "      <th>0</th>\n",
       "      <td>Asian</td>\n",
       "      <td>0.467126</td>\n",
       "    </tr>\n",
       "    <tr>\n",
       "      <th>1</th>\n",
       "      <td>White</td>\n",
       "      <td>0.478442</td>\n",
       "    </tr>\n",
       "    <tr>\n",
       "      <th>2</th>\n",
       "      <td>Black</td>\n",
       "      <td>0.489578</td>\n",
       "    </tr>\n",
       "    <tr>\n",
       "      <th>3</th>\n",
       "      <td>Hispanic</td>\n",
       "      <td>0.503951</td>\n",
       "    </tr>\n",
       "  </tbody>\n",
       "</table>\n",
       "</div>"
      ],
      "text/plain": [
       "       Race  Avg Score\n",
       "0  Asian     0.467126 \n",
       "1  White     0.478442 \n",
       "2  Black     0.489578 \n",
       "3  Hispanic  0.503951 "
      ]
     },
     "execution_count": 15,
     "metadata": {},
     "output_type": "execute_result"
    }
   ],
   "source": [
    "pd.DataFrame(race_data.items(), columns=['Race', 'Avg Score'])"
   ]
  },
  {
   "cell_type": "markdown",
   "metadata": {},
   "source": [
    "# Race and Gender"
   ]
  },
  {
   "cell_type": "code",
   "execution_count": 16,
   "metadata": {},
   "outputs": [],
   "source": [
    "race_gender_scores = {}\n",
    "for race, gender, text in zip(data['Complainant Race'], data['Complainant Gender'], data['Text Content']):\n",
    "    clean = clean_text(text)\n",
    "    if race == 'Native American/Alaskan Native':\n",
    "        # Not enough examples to confidently include\n",
    "        continue\n",
    "    elif race == 'Asian/Pacific Islander':\n",
    "        race = 'Asian'\n",
    "    elif float in [type(race), type(gender)]:\n",
    "        continue\n",
    "        \n",
    "    key = race + '_' + gender\n",
    "    \n",
    "    if key not in race_gender_scores:\n",
    "        race_gender_scores[key] = {\n",
    "            'total_score': 0,\n",
    "            'count': 0\n",
    "        }\n",
    "    \n",
    "    scores = sid.polarity_scores(clean)\n",
    "    \n",
    "    race_gender_scores[key]['count'] += 1\n",
    "    race_gender_scores[key]['total_score'] += scores['compound']"
   ]
  },
  {
   "cell_type": "code",
   "execution_count": 17,
   "metadata": {},
   "outputs": [],
   "source": [
    "race_gender_data = dict(sorted([\n",
    "    (key, -1 * race_gender_scores[key]['total_score'] / race_gender_scores[key]['count'])\n",
    "    for key in race_gender_scores if type(key) == str\n",
    "], key=lambda item: item[1]))"
   ]
  },
  {
   "cell_type": "code",
   "execution_count": 18,
   "metadata": {},
   "outputs": [
    {
     "data": {
      "text/plain": [
       "<BarContainer object of 8 artists>"
      ]
     },
     "execution_count": 18,
     "metadata": {},
     "output_type": "execute_result"
    },
    {
     "data": {
      "image/png": "[encoded data removed]",
      "text/plain": [
       "<Figure size 720x288 with 1 Axes>"
      ]
     },
     "metadata": {
      "needs_background": "light"
     },
     "output_type": "display_data"
    }
   ],
   "source": [
    "plt.figure(figsize=(10, 4))\n",
    "plt.suptitle('Negative Sentiment of Complaints by Race and Gender of Complainant')\n",
    "plt.ylim([0.42, 0.53])\n",
    "plt.bar(race_gender_data.keys(), [race_gender_data[key] for key in race_gender_data])"
   ]
  },
  {
   "cell_type": "code",
   "execution_count": 19,
   "metadata": {},
   "outputs": [
    {
     "data": {
      "text/html": [
       "<div>\n",
       "<style scoped>\n",
       "    .dataframe tbody tr th:only-of-type {\n",
       "        vertical-align: middle;\n",
       "    }\n",
       "\n",
       "    .dataframe tbody tr th {\n",
       "        vertical-align: top;\n",
       "    }\n",
       "\n",
       "    .dataframe thead th {\n",
       "        text-align: right;\n",
       "    }\n",
       "</style>\n",
       "<table border=\"1\" class=\"dataframe\">\n",
       "  <thead>\n",
       "    <tr style=\"text-align: right;\">\n",
       "      <th></th>\n",
       "      <th>Race</th>\n",
       "      <th>Avg Score</th>\n",
       "    </tr>\n",
       "  </thead>\n",
       "  <tbody>\n",
       "    <tr>\n",
       "      <th>0</th>\n",
       "      <td>Asian_F</td>\n",
       "      <td>0.453001</td>\n",
       "    </tr>\n",
       "    <tr>\n",
       "      <th>1</th>\n",
       "      <td>White_F</td>\n",
       "      <td>0.472198</td>\n",
       "    </tr>\n",
       "    <tr>\n",
       "      <th>2</th>\n",
       "      <td>Asian_M</td>\n",
       "      <td>0.472570</td>\n",
       "    </tr>\n",
       "    <tr>\n",
       "      <th>3</th>\n",
       "      <td>White_M</td>\n",
       "      <td>0.481604</td>\n",
       "    </tr>\n",
       "    <tr>\n",
       "      <th>4</th>\n",
       "      <td>Black_M</td>\n",
       "      <td>0.482587</td>\n",
       "    </tr>\n",
       "    <tr>\n",
       "      <th>5</th>\n",
       "      <td>Hispanic_M</td>\n",
       "      <td>0.490032</td>\n",
       "    </tr>\n",
       "    <tr>\n",
       "      <th>6</th>\n",
       "      <td>Black_F</td>\n",
       "      <td>0.496370</td>\n",
       "    </tr>\n",
       "    <tr>\n",
       "      <th>7</th>\n",
       "      <td>Hispanic_F</td>\n",
       "      <td>0.524962</td>\n",
       "    </tr>\n",
       "  </tbody>\n",
       "</table>\n",
       "</div>"
      ],
      "text/plain": [
       "         Race  Avg Score\n",
       "0  Asian_F     0.453001 \n",
       "1  White_F     0.472198 \n",
       "2  Asian_M     0.472570 \n",
       "3  White_M     0.481604 \n",
       "4  Black_M     0.482587 \n",
       "5  Hispanic_M  0.490032 \n",
       "6  Black_F     0.496370 \n",
       "7  Hispanic_F  0.524962 "
      ]
     },
     "execution_count": 19,
     "metadata": {},
     "output_type": "execute_result"
    }
   ],
   "source": [
    "pd.DataFrame(race_gender_data.items(), columns=['Race', 'Avg Score'])"
   ]
  },
  {
   "cell_type": "code",
   "execution_count": 20,
   "metadata": {},
   "outputs": [
    {
     "data": {
      "text/plain": [
       "['Austin',\n",
       " 'Auburn Gresham',\n",
       " 'Loop',\n",
       " 'Near North Side',\n",
       " 'North Lawndale',\n",
       " 'West Englewood',\n",
       " 'South Shore',\n",
       " 'Near West Side',\n",
       " 'Woodlawn',\n",
       " 'Humboldt Park']"
      ]
     },
     "execution_count": 20,
     "metadata": {},
     "output_type": "execute_result"
    }
   ],
   "source": [
    "frequent_areas = data['Area Name'].value_counts()[:10].index.tolist()\n",
    "\n",
    "frequent_areas"
   ]
  },
  {
   "cell_type": "code",
   "execution_count": 21,
   "metadata": {},
   "outputs": [
    {
     "name": "stderr",
     "output_type": "stream",
     "text": [
      "/Users/HarG/opt/anaconda3/lib/python3.7/site-packages/ipykernel_launcher.py:5: SettingWithCopyWarning: \n",
      "A value is trying to be set on a copy of a slice from a DataFrame.\n",
      "Try using .loc[row_indexer,col_indexer] = value instead\n",
      "\n",
      "See the caveats in the documentation: https://pandas.pydata.org/pandas-docs/stable/user_guide/indexing.html#returning-a-view-versus-a-copy\n",
      "  \"\"\"\n"
     ]
    },
    {
     "data": {
      "text/html": [
       "<div>\n",
       "<style scoped>\n",
       "    .dataframe tbody tr th:only-of-type {\n",
       "        vertical-align: middle;\n",
       "    }\n",
       "\n",
       "    .dataframe tbody tr th {\n",
       "        vertical-align: top;\n",
       "    }\n",
       "\n",
       "    .dataframe thead th {\n",
       "        text-align: right;\n",
       "    }\n",
       "</style>\n",
       "<table border=\"1\" class=\"dataframe\">\n",
       "  <thead>\n",
       "    <tr style=\"text-align: right;\">\n",
       "      <th></th>\n",
       "      <th>Allegation ID</th>\n",
       "      <th>Section Name</th>\n",
       "      <th>Column Name</th>\n",
       "      <th>Text Content</th>\n",
       "      <th>Area Name</th>\n",
       "      <th>Median Income</th>\n",
       "      <th>Complainant Gender</th>\n",
       "      <th>Complainant Race</th>\n",
       "      <th>Complainant Birth Year</th>\n",
       "    </tr>\n",
       "  </thead>\n",
       "  <tbody>\n",
       "    <tr>\n",
       "      <th>6</th>\n",
       "      <td>1075895</td>\n",
       "      <td>Accused Members</td>\n",
       "      <td>Initial / Intake Allegation</td>\n",
       "      <td>the complainant alleged that the accused officer falsely issued parking tickets to her and her friend, the complainant stated that they were issued tickets for not having parking permits when both vehicles had the permits displayed</td>\n",
       "      <td>Near West Side</td>\n",
       "      <td>71663.0</td>\n",
       "      <td>F</td>\n",
       "      <td>Asian/Pacific Islander</td>\n",
       "      <td>1993.0</td>\n",
       "    </tr>\n",
       "    <tr>\n",
       "      <th>21</th>\n",
       "      <td>1067568</td>\n",
       "      <td>Accused Members</td>\n",
       "      <td>Initial / Intake Allegation</td>\n",
       "      <td>the reporting party alleged that the accused officers falsely arrested him for three bags of heroin. it is further alleged that the accused officers searched and impounded his vehicle without justification</td>\n",
       "      <td>Austin</td>\n",
       "      <td>31478.0</td>\n",
       "      <td>M</td>\n",
       "      <td>Black</td>\n",
       "      <td>1988.0</td>\n",
       "    </tr>\n",
       "    <tr>\n",
       "      <th>23</th>\n",
       "      <td>1067568</td>\n",
       "      <td>Current Allegations</td>\n",
       "      <td>Allegation</td>\n",
       "      <td>the reporting party alleged that on 11 february 2014, at 1100 hours, at 5 unknown officers in civilian attire, in unmarked squad cars falsely arrested him and searched and impounded his vehicle without justification. the reporting party alleged that on 11 february 2014, at 1100 hours, at 5 unknown officers in civilian attire, in unmarked squad cars falsely arrested him and searched and impounded his vehicle without justification. the reporting party alleged that on 11 february 2014, at 1100 hours, at ___ 5 unknown officers in civilian attire, in unmarked squad cars falsely arrested him and searched and impounded his vehicle without justification. the reporting party alleged that on 11 february 2014, at 1100 hours, at 5 unknown officers in civilian attire, in unmarked squad cars falsely arrested him and searched and impounded his vehicle without justification the reporting party alleged that on 11 february 2014, at 1100 hours, at 5 unknown officers in civilian attire, in unmarked squad cars falsely arrested him and searched and impounded his vehicle without justification</td>\n",
       "      <td>Austin</td>\n",
       "      <td>31478.0</td>\n",
       "      <td>M</td>\n",
       "      <td>Black</td>\n",
       "      <td>1988.0</td>\n",
       "    </tr>\n",
       "    <tr>\n",
       "      <th>32</th>\n",
       "      <td>1069205</td>\n",
       "      <td>Accused Members</td>\n",
       "      <td>Initial / Intake Allegation</td>\n",
       "      <td>the reporting party alleged that the accused officers are following her and allowing crime to occur</td>\n",
       "      <td>Loop</td>\n",
       "      <td>91851.0</td>\n",
       "      <td>NaN</td>\n",
       "      <td>NaN</td>\n",
       "      <td>NaN</td>\n",
       "    </tr>\n",
       "    <tr>\n",
       "      <th>44</th>\n",
       "      <td>1067675</td>\n",
       "      <td>Accused Members</td>\n",
       "      <td>Initial / Intake Allegation</td>\n",
       "      <td>threatened to shoot people without justification</td>\n",
       "      <td>Loop</td>\n",
       "      <td>91851.0</td>\n",
       "      <td>NaN</td>\n",
       "      <td>NaN</td>\n",
       "      <td>NaN</td>\n",
       "    </tr>\n",
       "    <tr>\n",
       "      <th>...</th>\n",
       "      <td>...</td>\n",
       "      <td>...</td>\n",
       "      <td>...</td>\n",
       "      <td>...</td>\n",
       "      <td>...</td>\n",
       "      <td>...</td>\n",
       "      <td>...</td>\n",
       "      <td>...</td>\n",
       "      <td>...</td>\n",
       "    </tr>\n",
       "    <tr>\n",
       "      <th>47675</th>\n",
       "      <td>1063398</td>\n",
       "      <td>Accused Members</td>\n",
       "      <td>Initial / Intake Allegation</td>\n",
       "      <td>the complainant alleges that the accused officer searched him inappropriately</td>\n",
       "      <td>North Lawndale</td>\n",
       "      <td>22132.0</td>\n",
       "      <td>M</td>\n",
       "      <td>Black</td>\n",
       "      <td>1977.0</td>\n",
       "    </tr>\n",
       "    <tr>\n",
       "      <th>47677</th>\n",
       "      <td>1063398</td>\n",
       "      <td>Current Allegations</td>\n",
       "      <td>Allegation</td>\n",
       "      <td>reynaldo sei documented u time as inmate alleges that on 30 january 2013, 1050 hours, at rrat! hed him inappropriately. note, this is is now serving chicago police department officer</td>\n",
       "      <td>North Lawndale</td>\n",
       "      <td>22132.0</td>\n",
       "      <td>M</td>\n",
       "      <td>Black</td>\n",
       "      <td>1977.0</td>\n",
       "    </tr>\n",
       "    <tr>\n",
       "      <th>47693</th>\n",
       "      <td>1057069</td>\n",
       "      <td>Accused Members</td>\n",
       "      <td>Initial / Intake Allegation</td>\n",
       "      <td>the complainant alleges that the accused officer issued him six citations without justification. the complainant alleges that the accused officer searched his establishment without justification. the complainant alleges that the accused officers searched his establishment without justification.  the complainant alleges that the accused officer informed him that he was responding to a call of patrons in the street which the victim stated was incorrect. the complainant alleges that the accused officer threatened to lock the victim and his patrons up. the complainant alleges that the accused threatened to beat their \"ass\" and shut his establishment down</td>\n",
       "      <td>Austin</td>\n",
       "      <td>31478.0</td>\n",
       "      <td>M</td>\n",
       "      <td>Black</td>\n",
       "      <td>1958.0</td>\n",
       "    </tr>\n",
       "    <tr>\n",
       "      <th>47695</th>\n",
       "      <td>1057069</td>\n",
       "      <td>Current Allegations</td>\n",
       "      <td>Allegation</td>\n",
       "      <td>ails) victim/offender situation armed? weapon types</td>\n",
       "      <td>Austin</td>\n",
       "      <td>31478.0</td>\n",
       "      <td>M</td>\n",
       "      <td>Black</td>\n",
       "      <td>1958.0</td>\n",
       "    </tr>\n",
       "    <tr>\n",
       "      <th>47696</th>\n",
       "      <td>1057069</td>\n",
       "      <td>Accused Members</td>\n",
       "      <td>Initial / Intake Allegation</td>\n",
       "      <td>the complainant alleges that the accused officer issued him six citations without justification. the complainant alleges that the accused officer searched his establishment without justification.  the complainant alleges that the accused officers searched his establishment without justification. the complainant alleges that the accused officer informed him that he was responding to a call of patrons in the street which the victim stated was incorrect. the complainant alleges that the accused officer threatened to lock the victim and his patrons up. the complainant alleges that the accused threatened to beat their \"ass\" and shut his establishment down</td>\n",
       "      <td>Austin</td>\n",
       "      <td>31478.0</td>\n",
       "      <td>M</td>\n",
       "      <td>Black</td>\n",
       "      <td>1958.0</td>\n",
       "    </tr>\n",
       "  </tbody>\n",
       "</table>\n",
       "<p>7477 rows × 9 columns</p>\n",
       "</div>"
      ],
      "text/plain": [
       "       Allegation ID         Section Name                  Column Name  \\\n",
       "6      1075895        Accused Members      Initial / Intake Allegation   \n",
       "21     1067568        Accused Members      Initial / Intake Allegation   \n",
       "23     1067568        Current Allegations  Allegation                    \n",
       "32     1069205        Accused Members      Initial / Intake Allegation   \n",
       "44     1067675        Accused Members      Initial / Intake Allegation   \n",
       "...        ...                    ...                              ...   \n",
       "47675  1063398        Accused Members      Initial / Intake Allegation   \n",
       "47677  1063398        Current Allegations  Allegation                    \n",
       "47693  1057069        Accused Members      Initial / Intake Allegation   \n",
       "47695  1057069        Current Allegations  Allegation                    \n",
       "47696  1057069        Accused Members      Initial / Intake Allegation   \n",
       "\n",
       "                                                                                                                                                                                                                                                                                                                                                                                                                                                                                                                                                                                                                                                                                                                                                                                                                                                                                                                                                                                                                                                                                                                           Text Content  \\\n",
       "6      the complainant alleged that the accused officer falsely issued parking tickets to her and her friend, the complainant stated that they were issued tickets for not having parking permits when both vehicles had the permits displayed                                                                                                                                                                                                                                                                                                                                                                                                                                                                                                                                                                                                                                                                                                                                                                                                                                                                                            \n",
       "21     the reporting party alleged that the accused officers falsely arrested him for three bags of heroin. it is further alleged that the accused officers searched and impounded his vehicle without justification                                                                                                                                                                                                                                                                                                                                                                                                                                                                                                                                                                                                                                                                                                                                                                                                                                                                                                                      \n",
       "23       the reporting party alleged that on 11 february 2014, at 1100 hours, at 5 unknown officers in civilian attire, in unmarked squad cars falsely arrested him and searched and impounded his vehicle without justification. the reporting party alleged that on 11 february 2014, at 1100 hours, at 5 unknown officers in civilian attire, in unmarked squad cars falsely arrested him and searched and impounded his vehicle without justification. the reporting party alleged that on 11 february 2014, at 1100 hours, at ___ 5 unknown officers in civilian attire, in unmarked squad cars falsely arrested him and searched and impounded his vehicle without justification. the reporting party alleged that on 11 february 2014, at 1100 hours, at 5 unknown officers in civilian attire, in unmarked squad cars falsely arrested him and searched and impounded his vehicle without justification the reporting party alleged that on 11 february 2014, at 1100 hours, at 5 unknown officers in civilian attire, in unmarked squad cars falsely arrested him and searched and impounded his vehicle without justification   \n",
       "32     the reporting party alleged that the accused officers are following her and allowing crime to occur                                                                                                                                                                                                                                                                                                                                                                                                                                                                                                                                                                                                                                                                                                                                                                                                                                                                                                                                                                                                                                \n",
       "44     threatened to shoot people without justification                                                                                                                                                                                                                                                                                                                                                                                                                                                                                                                                                                                                                                                                                                                                                                                                                                                                                                                                                                                                                                                                                   \n",
       "...                                                 ...                                                                                                                                                                                                                                                                                                                                                                                                                                                                                                                                                                                                                                                                                                                                                                                                                                                                                                                                                                                                                                                                                   \n",
       "47675  the complainant alleges that the accused officer searched him inappropriately                                                                                                                                                                                                                                                                                                                                                                                                                                                                                                                                                                                                                                                                                                                                                                                                                                                                                                                                                                                                                                                      \n",
       "47677  reynaldo sei documented u time as inmate alleges that on 30 january 2013, 1050 hours, at rrat! hed him inappropriately. note, this is is now serving chicago police department officer                                                                                                                                                                                                                                                                                                                                                                                                                                                                                                                                                                                                                                                                                                                                                                                                                                                                                                                                             \n",
       "47693  the complainant alleges that the accused officer issued him six citations without justification. the complainant alleges that the accused officer searched his establishment without justification. the complainant alleges that the accused officers searched his establishment without justification.  the complainant alleges that the accused officer informed him that he was responding to a call of patrons in the street which the victim stated was incorrect. the complainant alleges that the accused officer threatened to lock the victim and his patrons up. the complainant alleges that the accused threatened to beat their \"ass\" and shut his establishment down                                                                                                                                                                                                                                                                                                                                                                                                                                                 \n",
       "47695  ails) victim/offender situation armed? weapon types                                                                                                                                                                                                                                                                                                                                                                                                                                                                                                                                                                                                                                                                                                                                                                                                                                                                                                                                                                                                                                                                                \n",
       "47696  the complainant alleges that the accused officer issued him six citations without justification. the complainant alleges that the accused officer searched his establishment without justification.  the complainant alleges that the accused officers searched his establishment without justification. the complainant alleges that the accused officer informed him that he was responding to a call of patrons in the street which the victim stated was incorrect. the complainant alleges that the accused officer threatened to lock the victim and his patrons up. the complainant alleges that the accused threatened to beat their \"ass\" and shut his establishment down                                                                                                                                                                                                                                                                                                                                                                                                                                                 \n",
       "\n",
       "            Area Name  Median Income Complainant Gender  \\\n",
       "6      Near West Side  71663.0        F                   \n",
       "21     Austin          31478.0        M                   \n",
       "23     Austin          31478.0        M                   \n",
       "32     Loop            91851.0        NaN                 \n",
       "44     Loop            91851.0        NaN                 \n",
       "...     ...                ...        ...                 \n",
       "47675  North Lawndale  22132.0        M                   \n",
       "47677  North Lawndale  22132.0        M                   \n",
       "47693  Austin          31478.0        M                   \n",
       "47695  Austin          31478.0        M                   \n",
       "47696  Austin          31478.0        M                   \n",
       "\n",
       "             Complainant Race  Complainant Birth Year  \n",
       "6      Asian/Pacific Islander  1993.0                  \n",
       "21     Black                   1988.0                  \n",
       "23     Black                   1988.0                  \n",
       "32     NaN                    NaN                      \n",
       "44     NaN                    NaN                      \n",
       "...    ...                     ..                      \n",
       "47675  Black                   1977.0                  \n",
       "47677  Black                   1977.0                  \n",
       "47693  Black                   1958.0                  \n",
       "47695  Black                   1958.0                  \n",
       "47696  Black                   1958.0                  \n",
       "\n",
       "[7477 rows x 9 columns]"
      ]
     },
     "execution_count": 21,
     "metadata": {},
     "output_type": "execute_result"
    }
   ],
   "source": [
    "out = data['Area Name'].isin(frequent_areas)\n",
    "\n",
    "filtered_df = data[out]\n",
    "\n",
    "filtered_df['Median Income'] = filtered_df['Median Income'].map(lambda x: float(re.sub(\"[^0-9]\", \"\", x)))\n",
    "\n",
    "filtered_df"
   ]
  },
  {
   "cell_type": "code",
   "execution_count": 81,
   "metadata": {},
   "outputs": [
    {
     "name": "stdout",
     "output_type": "stream",
     "text": [
      "[[7.1663e+04 1.9930e+03 0.0000e+00 0.0000e+00 0.0000e+00 0.0000e+00\n",
      "  0.0000e+00 1.0000e+00 0.0000e+00 0.0000e+00 0.0000e+00 0.0000e+00\n",
      "  1.0000e+00 0.0000e+00 1.0000e+00 0.0000e+00 0.0000e+00 0.0000e+00\n",
      "  0.0000e+00]\n",
      " [3.1478e+04 1.9880e+03 0.0000e+00 1.0000e+00 0.0000e+00 0.0000e+00\n",
      "  0.0000e+00 0.0000e+00 0.0000e+00 0.0000e+00 0.0000e+00 0.0000e+00\n",
      "  0.0000e+00 1.0000e+00 0.0000e+00 1.0000e+00 0.0000e+00 0.0000e+00\n",
      "  0.0000e+00]\n",
      " [3.1478e+04 1.9880e+03 0.0000e+00 1.0000e+00 0.0000e+00 0.0000e+00\n",
      "  0.0000e+00 0.0000e+00 0.0000e+00 0.0000e+00 0.0000e+00 0.0000e+00\n",
      "  0.0000e+00 1.0000e+00 0.0000e+00 1.0000e+00 0.0000e+00 0.0000e+00\n",
      "  0.0000e+00]\n",
      " [9.1851e+04 0.0000e+00 0.0000e+00 0.0000e+00 0.0000e+00 1.0000e+00\n",
      "  0.0000e+00 0.0000e+00 0.0000e+00 0.0000e+00 0.0000e+00 0.0000e+00\n",
      "  0.0000e+00 0.0000e+00 0.0000e+00 0.0000e+00 0.0000e+00 0.0000e+00\n",
      "  0.0000e+00]\n",
      " [9.1851e+04 0.0000e+00 0.0000e+00 0.0000e+00 0.0000e+00 1.0000e+00\n",
      "  0.0000e+00 0.0000e+00 0.0000e+00 0.0000e+00 0.0000e+00 0.0000e+00\n",
      "  0.0000e+00 0.0000e+00 0.0000e+00 0.0000e+00 0.0000e+00 0.0000e+00\n",
      "  0.0000e+00]\n",
      " [9.1851e+04 0.0000e+00 0.0000e+00 0.0000e+00 0.0000e+00 1.0000e+00\n",
      "  0.0000e+00 0.0000e+00 0.0000e+00 0.0000e+00 0.0000e+00 0.0000e+00\n",
      "  0.0000e+00 0.0000e+00 0.0000e+00 0.0000e+00 0.0000e+00 0.0000e+00\n",
      "  0.0000e+00]\n",
      " [3.1478e+04 1.9910e+03 0.0000e+00 1.0000e+00 0.0000e+00 0.0000e+00\n",
      "  0.0000e+00 0.0000e+00 0.0000e+00 0.0000e+00 0.0000e+00 0.0000e+00\n",
      "  1.0000e+00 0.0000e+00 0.0000e+00 1.0000e+00 0.0000e+00 0.0000e+00\n",
      "  0.0000e+00]\n",
      " [3.1478e+04 1.9910e+03 0.0000e+00 1.0000e+00 0.0000e+00 0.0000e+00\n",
      "  0.0000e+00 0.0000e+00 0.0000e+00 0.0000e+00 0.0000e+00 0.0000e+00\n",
      "  1.0000e+00 0.0000e+00 0.0000e+00 1.0000e+00 0.0000e+00 0.0000e+00\n",
      "  0.0000e+00]\n",
      " [9.1851e+04 0.0000e+00 0.0000e+00 0.0000e+00 0.0000e+00 1.0000e+00\n",
      "  0.0000e+00 0.0000e+00 0.0000e+00 0.0000e+00 0.0000e+00 0.0000e+00\n",
      "  1.0000e+00 0.0000e+00 0.0000e+00 0.0000e+00 0.0000e+00 0.0000e+00\n",
      "  1.0000e+00]\n",
      " [2.5845e+04 1.9770e+03 0.0000e+00 0.0000e+00 0.0000e+00 0.0000e+00\n",
      "  0.0000e+00 0.0000e+00 0.0000e+00 1.0000e+00 0.0000e+00 0.0000e+00\n",
      "  1.0000e+00 0.0000e+00 0.0000e+00 1.0000e+00 0.0000e+00 0.0000e+00\n",
      "  0.0000e+00]]\n",
      "Index(['Median Income', 'Complainant Birth Year', 'Area Name_Auburn Gresham',\n",
      "       'Area Name_Austin', 'Area Name_Humboldt Park', 'Area Name_Loop',\n",
      "       'Area Name_Near North Side', 'Area Name_Near West Side',\n",
      "       'Area Name_North Lawndale', 'Area Name_South Shore',\n",
      "       'Area Name_West Englewood', 'Area Name_Woodlawn',\n",
      "       'Complainant Gender_F', 'Complainant Gender_M',\n",
      "       'Complainant Race_Asian/Pacific Islander', 'Complainant Race_Black',\n",
      "       'Complainant Race_Hispanic',\n",
      "       'Complainant Race_Native American/Alaskan Native',\n",
      "       'Complainant Race_White'],\n",
      "      dtype='object')\n"
     ]
    }
   ],
   "source": [
    "# headers = [\"Allegation ID\", \"Section Name\", \"Column Name\", \"Text Content\", \"Area Name\", \"Median Income\", \"Complainant Gender\", \"Complainant Race\", \"Complainant Birth Year\"]\n",
    "\n",
    "X = filtered_df.drop(columns=[\"Allegation ID\", \"Section Name\", \"Column Name\", \"Text Content\"]) # These don't tell us much about the nature of the complaint, but are mostly used to organize data\n",
    "\n",
    "X = pd.get_dummies(X, columns=[\"Area Name\", \"Complainant Gender\", \"Complainant Race\"]) # These are the categorical variables that we need to one-hot encode for regression. Change this if you have a better implementation\n",
    "\n",
    "features = X.columns\n",
    "\n",
    "X = np.nan_to_num(X.to_numpy())\n",
    "\n",
    "print(X[:10])\n",
    "\n",
    "print(features)"
   ]
  },
  {
   "cell_type": "code",
   "execution_count": 76,
   "metadata": {},
   "outputs": [],
   "source": [
    "y = list(filtered_df['Text Content'])\n",
    "y = np.asarray([sid.polarity_scores(txt)['compound'] for txt in y])"
   ]
  },
  {
   "cell_type": "code",
   "execution_count": 77,
   "metadata": {},
   "outputs": [
    {
     "data": {
      "text/plain": [
       "array([-0.1027, -0.7906, -0.4588, -0.4588, -0.6597, -0.765 ,  0.    ,\n",
       "        0.34  , -0.875 , -0.6597])"
      ]
     },
     "execution_count": 77,
     "metadata": {},
     "output_type": "execute_result"
    }
   ],
   "source": [
    "y[:10] # sample of negative sentiments."
   ]
  },
  {
   "cell_type": "code",
   "execution_count": 83,
   "metadata": {
    "scrolled": true
   },
   "outputs": [
    {
     "name": "stdout",
     "output_type": "stream",
     "text": [
      "(7477,)\n",
      "(7477, 19)\n"
     ]
    }
   ],
   "source": [
    "print(y.shape)\n",
    "print(X.shape)"
   ]
  },
  {
   "cell_type": "code",
   "execution_count": 82,
   "metadata": {},
   "outputs": [],
   "source": [
    "y_train = y[:5600]\n",
    "y_test = y[5600:]\n",
    "\n",
    "X_train = X[:5600]\n",
    "X_test = X[5600:]"
   ]
  },
  {
   "cell_type": "code",
   "execution_count": 84,
   "metadata": {
    "scrolled": true
   },
   "outputs": [
    {
     "data": {
      "text/plain": [
       "LinearRegression(copy_X=True, fit_intercept=True, n_jobs=None, normalize=False)"
      ]
     },
     "execution_count": 84,
     "metadata": {},
     "output_type": "execute_result"
    }
   ],
   "source": [
    "reg.fit(X_train,y_train)"
   ]
  },
  {
   "cell_type": "markdown",
   "metadata": {},
   "source": [
    "These were the final coefficients we achieved for each feature."
   ]
  },
  {
   "cell_type": "code",
   "execution_count": 85,
   "metadata": {},
   "outputs": [
    {
     "data": {
      "text/html": [
       "<div>\n",
       "<style scoped>\n",
       "    .dataframe tbody tr th:only-of-type {\n",
       "        vertical-align: middle;\n",
       "    }\n",
       "\n",
       "    .dataframe tbody tr th {\n",
       "        vertical-align: top;\n",
       "    }\n",
       "\n",
       "    .dataframe thead th {\n",
       "        text-align: right;\n",
       "    }\n",
       "</style>\n",
       "<table border=\"1\" class=\"dataframe\">\n",
       "  <thead>\n",
       "    <tr style=\"text-align: right;\">\n",
       "      <th></th>\n",
       "      <th>0</th>\n",
       "    </tr>\n",
       "  </thead>\n",
       "  <tbody>\n",
       "    <tr>\n",
       "      <th>Median Income</th>\n",
       "      <td>0.0000</td>\n",
       "    </tr>\n",
       "    <tr>\n",
       "      <th>Complainant Birth Year</th>\n",
       "      <td>0.0000</td>\n",
       "    </tr>\n",
       "    <tr>\n",
       "      <th>Area Name_Auburn Gresham</th>\n",
       "      <td>-0.0052</td>\n",
       "    </tr>\n",
       "    <tr>\n",
       "      <th>Area Name_Austin</th>\n",
       "      <td>-0.0015</td>\n",
       "    </tr>\n",
       "    <tr>\n",
       "      <th>Area Name_Humboldt Park</th>\n",
       "      <td>0.0008</td>\n",
       "    </tr>\n",
       "    <tr>\n",
       "      <th>Area Name_Loop</th>\n",
       "      <td>-0.0027</td>\n",
       "    </tr>\n",
       "    <tr>\n",
       "      <th>Area Name_Near North Side</th>\n",
       "      <td>-0.0139</td>\n",
       "    </tr>\n",
       "    <tr>\n",
       "      <th>Area Name_Near West Side</th>\n",
       "      <td>0.0249</td>\n",
       "    </tr>\n",
       "    <tr>\n",
       "      <th>Area Name_North Lawndale</th>\n",
       "      <td>0.0357</td>\n",
       "    </tr>\n",
       "    <tr>\n",
       "      <th>Area Name_South Shore</th>\n",
       "      <td>-0.0510</td>\n",
       "    </tr>\n",
       "    <tr>\n",
       "      <th>Area Name_West Englewood</th>\n",
       "      <td>0.0001</td>\n",
       "    </tr>\n",
       "    <tr>\n",
       "      <th>Area Name_Woodlawn</th>\n",
       "      <td>0.0128</td>\n",
       "    </tr>\n",
       "    <tr>\n",
       "      <th>Complainant Gender_F</th>\n",
       "      <td>-0.0409</td>\n",
       "    </tr>\n",
       "    <tr>\n",
       "      <th>Complainant Gender_M</th>\n",
       "      <td>-0.0271</td>\n",
       "    </tr>\n",
       "    <tr>\n",
       "      <th>Complainant Race_Asian/Pacific Islander</th>\n",
       "      <td>0.1087</td>\n",
       "    </tr>\n",
       "    <tr>\n",
       "      <th>Complainant Race_Black</th>\n",
       "      <td>0.0261</td>\n",
       "    </tr>\n",
       "    <tr>\n",
       "      <th>Complainant Race_Hispanic</th>\n",
       "      <td>-0.0235</td>\n",
       "    </tr>\n",
       "    <tr>\n",
       "      <th>Complainant Race_Native American/Alaskan Native</th>\n",
       "      <td>-0.3174</td>\n",
       "    </tr>\n",
       "    <tr>\n",
       "      <th>Complainant Race_White</th>\n",
       "      <td>0.0289</td>\n",
       "    </tr>\n",
       "  </tbody>\n",
       "</table>\n",
       "</div>"
      ],
      "text/plain": [
       "                                                      0\n",
       "Median Income                                    0.0000\n",
       "Complainant Birth Year                           0.0000\n",
       "Area Name_Auburn Gresham                        -0.0052\n",
       "Area Name_Austin                                -0.0015\n",
       "Area Name_Humboldt Park                          0.0008\n",
       "Area Name_Loop                                  -0.0027\n",
       "Area Name_Near North Side                       -0.0139\n",
       "Area Name_Near West Side                         0.0249\n",
       "Area Name_North Lawndale                         0.0357\n",
       "Area Name_South Shore                           -0.0510\n",
       "Area Name_West Englewood                         0.0001\n",
       "Area Name_Woodlawn                               0.0128\n",
       "Complainant Gender_F                            -0.0409\n",
       "Complainant Gender_M                            -0.0271\n",
       "Complainant Race_Asian/Pacific Islander          0.1087\n",
       "Complainant Race_Black                           0.0261\n",
       "Complainant Race_Hispanic                       -0.0235\n",
       "Complainant Race_Native American/Alaskan Native -0.3174\n",
       "Complainant Race_White                           0.0289"
      ]
     },
     "execution_count": 85,
     "metadata": {},
     "output_type": "execute_result"
    }
   ],
   "source": [
    "pd.DataFrame([round(c, 4) for c in reg.coef_], index = features)"
   ]
  },
  {
   "cell_type": "code",
   "execution_count": null,
   "metadata": {},
   "outputs": [],
   "source": []
  },
  {
   "cell_type": "markdown",
   "metadata": {},
   "source": [
    "Comparing Categorical Variables"
   ]
  },
  {
   "cell_type": "code",
   "execution_count": 96,
   "metadata": {},
   "outputs": [],
   "source": [
    "from scipy.stats import ttest_ind"
   ]
  },
  {
   "cell_type": "code",
   "execution_count": 90,
   "metadata": {
    "scrolled": true
   },
   "outputs": [],
   "source": [
    "cat = filtered_df.drop(columns=[\"Allegation ID\", \"Section Name\", \"Column Name\", \"Text Content\"])\n",
    "cat = np.nan_to_num(cat.to_numpy())\n",
    "\n",
    "y = list(filtered_df['Text Content'])\n",
    "y = np.asarray([sid.polarity_scores(txt)['compound'] for txt in y])"
   ]
  },
  {
   "cell_type": "code",
   "execution_count": 91,
   "metadata": {},
   "outputs": [],
   "source": [
    "sent_F = y[np.where(cat[:,2]=='F')]\n",
    "sent_M = y[np.where(cat[:,2]=='M')]"
   ]
  },
  {
   "cell_type": "code",
   "execution_count": 95,
   "metadata": {
    "scrolled": true
   },
   "outputs": [
    {
     "data": {
      "image/png": "[encoded data removed]",
      "text/plain": [
       "<Figure size 432x288 with 1 Axes>"
      ]
     },
     "metadata": {
      "needs_background": "light"
     },
     "output_type": "display_data"
    }
   ],
   "source": [
    "plt.boxplot([sent_F, sent_M], labels=['Female', 'Male'])\n",
    "plt.show()"
   ]
  },
  {
   "cell_type": "code",
   "execution_count": 97,
   "metadata": {},
   "outputs": [
    {
     "data": {
      "text/plain": [
       "Ttest_indResult(statistic=-0.7373886557814943, pvalue=0.4609098035963891)"
      ]
     },
     "execution_count": 97,
     "metadata": {},
     "output_type": "execute_result"
    }
   ],
   "source": [
    "# P value between male and female complaint sentiments\n",
    "ttest_ind(sent_F, sent_M)"
   ]
  },
  {
   "cell_type": "code",
   "execution_count": 92,
   "metadata": {},
   "outputs": [],
   "source": [
    "sent_black = y[np.where(cat[:,3]=='Black')]\n",
    "sent_white = y[np.where(cat[:,3]=='White')]\n",
    "sent_hispanic = y[np.where(cat[:,3]=='Hispanic')]\n",
    "sent_asian = y[np.where(cat[:,3]=='Asian/Pacific Islander')]"
   ]
  },
  {
   "cell_type": "code",
   "execution_count": 94,
   "metadata": {},
   "outputs": [
    {
     "data": {
      "image/png": "[encoded data removed]",
      "text/plain": [
       "<Figure size 432x288 with 1 Axes>"
      ]
     },
     "metadata": {
      "needs_background": "light"
     },
     "output_type": "display_data"
    }
   ],
   "source": [
    "plt.boxplot([sent_black, sent_white, sent_hispanic, sent_asian], labels=['Black', 'White', 'Hispanic', 'Asian/Pacific Islander'])\n",
    "plt.show()"
   ]
  },
  {
   "cell_type": "code",
   "execution_count": 99,
   "metadata": {},
   "outputs": [
    {
     "name": "stdout",
     "output_type": "stream",
     "text": [
      "[[1.         0.06829741 0.18195407 0.05356938]\n",
      " [0.06829741 1.         0.02275279 0.16218192]\n",
      " [0.18195407 0.02275279 1.         0.01958343]\n",
      " [0.05356938 0.16218192 0.01958343 1.        ]]\n"
     ]
    }
   ],
   "source": [
    "# P value between male and female complaint sentiments\n",
    "p_vals = np.zeros((4,4))\n",
    "sents = [sent_black, sent_white, sent_hispanic, sent_asian]\n",
    "for i in range(4):\n",
    "    for j in range(4):\n",
    "        p_vals[i][j] = ttest_ind(sents[i], sents[j])[1]\n",
    "\n",
    "print(p_vals)"
   ]
  },
  {
   "cell_type": "code",
   "execution_count": 74,
   "metadata": {},
   "outputs": [
    {
     "name": "stdout",
     "output_type": "stream",
     "text": [
      "{'Hispanic': [-0.9169, -0.5267, -0.4939, -0.8934, -0.9524, -0.9545, -0.8874, -0.8074, -0.8074, -0.9501, -0.9501, -0.9169, 0.128, -0.9062, 0.6597, -0.4215, -0.9169, -0.7506, -0.0772, 0.6808, 0.7351, -0.9403, -0.5742, -0.5742, -0.1027, -0.6908, -0.8934, -0.6908, -0.5106, -0.5106, -0.7096, -0.7096, 0.0, -0.8481, -0.8176, -0.8176, -0.5106, -0.8442, -0.7351, -0.7506, -0.6369, -0.6369, -0.8658, 0.0, 0.0, -0.7184, -0.9246, -0.296, -0.875, -0.9545, -0.9545, -0.6249, -0.296, -0.34, -0.9564, -0.9564, 0.3612, -0.4404, -0.1779, -0.9552, -0.9552, -0.8957, -0.8957, -0.5859, -0.971, -0.3818, -0.8807, -0.8807, -0.3049, -0.3049, -0.8519, -0.3818, -0.3818, -0.1027, -0.6124, -0.296, -0.296, -0.25, -0.4404, -0.4404, -0.6908, -0.296, -0.7003, -0.09, -0.8555, -0.8555, -0.4404, 0.8981, -0.9032, -0.9032, -0.5574, 0.3612, -0.9913, -0.9913, -0.9413, -0.9413, 0.5927, -0.3818, -0.4019, -0.5574, -0.5994, -0.7783, -0.5574, -0.7096, -0.7096, -0.6679, -0.6571, -0.7964, -0.7964, -0.1531, -0.6765, -0.6765, -0.5423, -0.9337, -0.5106, -0.7096, -0.9538, -0.872, 0.4019, -0.8979, 0.802, -0.9716, -0.9716, -0.7184, -0.9371, -0.5859, -0.5859, -0.9485, -0.4019, -0.8979, -0.7337, -0.0, -0.9186, 0.6808, -0.2023, -0.3612, -0.4404, -0.4215, -0.6369, -0.6808, -0.6808, -0.4767, -0.6943, -0.802, 0.0, -0.7424, -0.296, -0.8074, -0.5423, -0.128, -0.9721, -0.8885, -0.8885, -0.8176, -0.6705, -0.6486, -0.9041, -0.9325, -0.971, 0.0, -0.128, -0.4019, -0.4939, -0.4939, -0.6486, -0.3818, 0.7717, 0.1531, 0.9042, 0.1531, 0.2732, -0.4767, -0.886, -0.2023, -0.3182, 0.0258, 0.0258, -0.7203, -0.8271, 0.0, -0.5106, 0.8402, -0.765, -0.765, -0.9806, -0.3182, -0.7717, -0.8316, -0.9825, -0.9136, -0.9814, -0.9531, -0.296, -0.7351, -0.7899, 0.25, -0.8591, -0.8591, -0.1779, -0.6369, -0.5267, -0.9117, -0.5574, -0.875, 0.3612, -0.5994, -0.9022, -0.1531, -0.1531, -0.9834, -0.9801, 0.0, -0.7003, -0.9636, -0.9636, -0.5574, -0.7783, -0.7783, 0.296, -0.6249, -0.296, 0.0, 0.6908, 0.25, 0.0, -0.8402, -0.8225, -0.8225, -0.9618, -0.9618, 0.128, 0.128, -0.6369, -0.6369, 0.0, -0.296, 0.128, 0.5679, 0.5679, -0.6369, -0.8807, -0.296, -0.6908, -0.4215, 0.7506, 0.7506, 0.0, 0.0, -0.93, -0.8979, 0.8981, -0.7351, -0.7351, -0.296, -0.296, -0.5267, -0.9217, -0.91, -0.91, -0.9041, 0.0, -0.1779, -0.886, -0.4118, 0.0, -0.4215, 0.0, -0.4215, 0.4019, -0.9753, -0.91, -0.6239, -0.6239, -0.8402, -0.8402, 0.0, -0.7351, -0.7964, -0.7964, -0.6124, -0.6124, 0.128, -0.4215, 0.1027, -0.3939, -0.4404, -0.9967, -0.9965, -0.9042, -0.743, -0.743, 0.0, -0.9042, -0.9796, 0.0, -0.9081, -0.8411, -0.836, -0.8176, -0.8779, -0.5267, -0.4215, -0.9042, -0.7003, -0.93, 0.5859, 0.5859, -0.7003, -0.1779, -0.9442, -0.9648, -0.7783, -0.9136, -0.7003, -0.7003, 0.128, -0.5106, 0.2263, 0.6597, -0.4404, 0.1857, 0.1857, -0.9501, -0.6705, -0.7845, -0.4215, -0.1779, -0.9022, -0.9442, -0.8934, -0.9081, -0.2023, -0.6908, -0.6728, -0.5719, -0.6124, 0.4019, 0.4019, -0.4588, -0.5423, -0.5574, -0.7269, -0.6249, 0.0, -0.7906, -0.8271, -0.8271, -0.0, 0.8625, 0.8689, -0.6369, -0.9217, -0.9726, -0.7845, -0.4939, -0.9274, 0.0, 0.0, -0.8074, -0.8074, -0.296, -0.9062, -0.9764, -0.5093, -0.6249, -0.5267, -0.6908, -0.6808, -0.5423, -0.8402, -0.296, -0.1779, -0.9325, -0.0772, -0.575, -0.6124, -0.9194, -0.6705, -0.6705, -0.296, -0.296, -0.7351, -0.7351, 0.1027, 0.0258, -0.9001, -0.7184, -0.7003, -0.872, 0.0, 0.0, -0.2023, -0.3818, -0.7003, -0.2263, -0.1027, -0.9287, -0.6486, -0.8934, 0.5859, 0.5859, -0.5789, -0.9144, 0.9643, 0.9565, -0.5859, -0.9371, -0.9001, -0.765, -0.4404, -0.8658, 0.6249, 0.128, 0.128, -0.7003, -0.4939, -0.8519, -0.4215, -0.743, -0.872, -0.4215, -0.5574, -0.5574, -0.8074, -0.9151, -0.872, 0.9042, -0.1531, -0.8442, -0.6808, -0.6808, -0.9887, -0.9887, -0.9042, -0.7899, -0.9584, -0.1531, -0.3612, -0.6486, -0.4404, -0.8658, -0.6705, -0.8225, -0.8225, 0.0, -0.836, -0.936, -0.5859, -0.5859, -0.7003, -0.7003, -0.9274, -0.9274, -0.4404, -0.4404, -0.6808, -0.6808, -0.1779, -0.1779, 0.0772, 0.5859, -0.8074, -0.9169, 0.6124, -0.9022, 0.0, -0.4404, -0.8957, -0.1027, -0.872, -0.1027, -0.4404, -0.3612, -0.8313, 0.128, 0.0, -0.296, -0.9501, -0.9501, -0.296, -0.7184, -0.4767, -0.1779, -0.5106, -0.7783, -0.4767, -0.0516, 0.4019, 0.6249, -0.5859, -0.7964, -0.4118, -0.6597, -0.886, -0.9325, -0.9041, -0.6808, -0.5267, -0.6808, -0.5574, -0.5574, 0.128, 0.0, -0.9743, -0.8481, -0.8481, 0.8402, -0.7506, -0.7506, -0.34, -0.34, -0.8442, 0.0, -0.7351, -0.9403, -0.3612, -0.5994, 0.8934, 0.8934, -0.5859, -0.5574, 0.7717, -0.8074, -0.9498, -0.9821, -0.7351, -0.6486, -0.8957, -0.8957, -0.296, -0.1531, -0.7906, -0.743, -0.936, -0.6919, -0.6919, 0.25, -0.8225, -0.8225, -0.7096, -0.91, -0.9313, -0.9313, -0.6486, -0.6486, -0.9231, -0.6369, -0.8591, -0.9153, -0.9153, -0.9823, -0.9846, -0.296, -0.5267, -0.7717, -0.2263, -0.2263, -0.6369, -0.9062, -0.4404, -0.9062, 0.0, 0.7096, -0.9806, -0.9835, 0.0258, 0.0258, -0.9835, -0.6705, -0.8074, 0.7717, 0.9022, -0.3818, -0.7003, -0.9217, -0.8555, -0.9274, -0.4767, -0.4767, -0.296, -0.8689, 0.0, -0.743, 0.8442, 0.8442, -0.8807, -0.8807, -0.872, -0.872, -0.34, -0.9501, -0.4767, -0.4404, -0.4767, -0.5106, -0.5106, -0.91, -0.9349, -0.872, -0.4404, -0.8126, -0.6705, -0.9428, -0.9428, -0.9796, -0.9042, -0.6486, 0.7379, -0.4404, -0.9217, -0.6369, 0.3506, 0.3506, 0.6705, 0.6705, -0.9489, -0.9489, 0.0, 0.128, -0.4767, -0.1779, -0.5574, -0.836, -0.4939, -0.4939, -0.8759, -0.9764, -0.8455, -0.8402, -0.8402, -0.4215, -0.743, -0.743, -0.6486, -0.5106, -0.872, -0.9274, -0.7269, -0.7269, -0.7096, -0.7096, -0.875, -0.4404, -0.936, -0.9169, -0.9169, -0.6808, -0.8427, -0.9388, 0.5106, 0.5106, -0.9062, -0.9062, -0.8748, -0.296, -0.6249, -0.7463, -0.7463, -0.5493, -0.5493, -0.7964, -0.7964, -0.9856, -0.9856, -0.4215, -0.4215, 0.4939, -0.8519, -0.786, -0.9607, -0.786, 0.1406, 0.128, -0.8224, -0.9118, -0.4404, -0.25, -0.0516, -0.8481, 0.0, -0.8934, -0.5106, -0.7351, 0.128, -0.7717, -0.7717, -0.6372, -0.6372, -0.7717, -0.7717, -0.9303, -0.9303, -0.8754, -0.8307, -0.8176, -0.6597, 0.3182, 0.3182, -0.7096, -0.9794, -0.7096, 0.25, -0.6124, -0.9468, 0.2263, 0.2263, -0.7783, -0.6808, -0.8167, -0.8167, -0.7269, 0.0, 0.5574, -0.6374, -0.128, -0.6374, -0.25, 0.0772, -0.323, 0.0, 0.0772, 0.296, 0.0, -0.7003, -0.9153, -0.991, -0.991, 0.296, -0.2263, -0.1027, -0.8017, -0.8017, -0.9744, -0.9744, 0.1027, -0.7506, 0.4939, -0.8225, 0.3182, -0.296, 0.6124, -0.5725, -0.9723, -0.9638, 0.0, -0.4215, 0.1611, -0.9571, -0.5994, -0.8074, 0.0, -0.1779, -0.8807, -0.8807, -0.8898, -0.9876, -0.7184, -0.9169, -0.836, -0.5274, -0.8957, -0.743, -0.6705, 0.0, 0.0, 0.25, -0.3818, -0.4019, -0.1779, -0.1779, -0.9578, -0.7351, -0.9578, -0.886, -0.886, -0.946, -0.8176, -0.5267, 0.5267, 0.5267, -0.9118, -0.3612, -0.8225, -0.9723, -0.2023, -0.2023, -0.9169, -0.2263, -0.4767, -0.9648, -0.5719, -0.7351, -0.4767, -0.7783, 0.25, -0.9413, -0.9413, -0.8979, -0.9731, 0.6369, -0.7906, 0.2446, -0.9062, -0.9201, -0.9201, 0.3818, -0.0534, -0.0534, -0.4588, 0.0, -0.802, -0.9883, -0.5267, 0.3182, 0.3182, -0.8807, -0.7506, -0.128, -0.128, 0.128, 0.128, -0.4215, -0.4215, -0.2023, -0.7579, -0.7269, -0.4404, -0.7003, -0.9501, -0.296, -0.296, -0.34, 0.0, -0.6808, 0.0258, 0.3182, 0.0, -0.7351, -0.6486, -0.8625, -0.743, 0.2023, 0.2023, -0.2091, -0.8481, -0.6597, -0.9661, -0.9764, 0.0, -0.7351, -0.1779, -0.8619, -0.8074, -0.1779, -0.1779, -0.6369, -0.2732, 0.1027, -0.9118, 0.4767, -0.97, -0.836, -0.97, -0.1779, -0.1779, -0.8797, -0.9196, -0.2732, 0.5719, -0.9274, -0.2023, -0.7501, -0.5267, 0.7231, 0.7231, -0.6124, -0.9823, -0.7003, 0.0, -0.5106, -0.25, -0.875, 0.0, -0.7096, 0.0258, -0.8383, -0.9753, -0.7717, -0.4019, -0.743, -0.7003, -0.5267, -0.5267, -0.886, 0.0516, -0.25, -0.25, -0.4404, -0.3818, -0.4404, -0.6249, 0.0, -0.4215, -0.9136, -0.7351, -0.7351, -0.743, -0.1027, -0.8692, -0.8692, -0.9636, 0.6597, -0.8176, -0.8481, -0.4404, 0.5423, -0.0772, -0.765, -0.8316, -0.8316, 0.0, -0.2263, -0.946, -0.6249, -0.5574, -0.9612, -0.765, -0.765, -0.8979, -0.8074, -0.8316, -0.8316, 0.3724, -0.089, 0.2144, -0.3182, -0.7351, -0.9042, -0.9042, 0.0772, -0.802, 0.0772, -0.1779, -0.7003, 0.128, 0.4939, -0.8807, -0.3182, 0.1027, -0.9022, -0.9022, -0.8934, -0.7096, -0.8934, -0.8271, -0.6705, -0.2732, -0.2732, -0.8979, -0.8979, -0.8834, -0.6249, -0.4404, -0.8555, -0.7964, -0.743, -0.7906, -0.8902, -0.6124, -0.34, -0.34, -0.7783, 0.0, -0.5994, -0.7311, -0.8316, -0.8316, -0.7269, -0.4588, -0.9486, -0.4404, -0.4404, -0.7184, -0.6249, -0.743, -0.743, -0.4939, -0.4404, 0.128, -0.8658, -0.8658, -0.3818, 0.0015, -0.9274, -0.7579, 0.25, -0.836, -0.765, -0.891, -0.891, -0.6597, -0.5106, -0.891, 0.4019, 0.4019, -0.802, -0.7845, -0.7845, -0.9788, 0.0, -0.8402, -0.3818, -0.5106, 0.0, -0.4215, -0.802, 0.0, -0.9674, -0.9674, -0.7935, -0.4939, -0.128, 0.0, -0.6369, -0.1779, -0.1779, -0.9618, -0.8126, 0.128, -0.3089, -0.3182, -0.9753, -0.8689, -0.8689, -0.296, -0.8481, -0.4404, -0.9382, -0.4404, -0.4939, -0.7184, 0.0, -0.431, -0.431, -0.93, -0.765, -0.93, -0.9944, -0.9944, 0.4019, 0.25, -0.34, -0.8126, -0.802, -0.765, -0.9349, 0.0, -0.8934, -0.9153, -0.7003, 0.0772, 0.5864, -0.5994, -0.2263, -0.9247, -0.9452, -0.296, -0.891, -0.7506, -0.743, -0.7506, -0.9509, -0.9723, 0.8126, 0.8658, 0.3818, -0.1779, -0.8389, -0.6808, 0.5106, -0.6808, 0.7003, 0.7003, 0.0, -0.6369, -0.8613, -0.7241, -0.9081, -0.9081, -0.7506, -0.296, -0.5457, -0.4721, -0.5994, -0.891, -0.0258, -0.0258, -0.3089, -0.7203, -0.9692, -0.9692, -0.9538, -0.9538, -0.9823, 0.0, -0.296, -0.9423, -0.9517, -0.7717, -0.4215, -0.8126, -0.8389, -0.6124, -0.5106, -0.4404, -0.9039, -0.9039, -0.4767, -0.8118, -0.4767, -0.5574, -0.9501, -0.8979, -0.8979, -0.8807, -0.9643, -0.9643, -0.9274, -0.9274, -0.7184, -0.743, -0.5574, -0.8619, -0.9153, -0.1027, -0.8429, -0.8429, -0.296, 0.0, -0.9803, -0.9859, -0.9815, 0.503, -0.9815, 0.34, 0.34, -0.8118, -0.9393, -0.4767, 0.0258, 0.0258, 0.0, 0.0422, -0.7964, -0.7964, 0.0, -0.2732, -0.8481, -0.5574, -0.8519, -0.8519, 0.25, -0.7351, -0.7184, -0.3919, -0.3919, 0.8689, 0.8689, -0.9042, -0.7351, -0.8625, -0.872, -0.8271, -0.886, -0.296, -0.296, -0.8979, -0.8225, -0.8555, -0.4215, -0.6249, -0.9501, -0.9062, -0.9922, -0.9911, -0.4404, -0.4404, -0.6249, -0.1779, -0.8934, -0.8591, -0.6369, -0.6369, -0.6996, -0.6996, -0.8824, -0.8824, -0.9217, -0.9217, -0.8074, -0.296, -0.8979, -0.9451, -0.8316, -0.3182, -0.9501, -0.7351, 0.128, -0.891, -0.891, -0.6369, -0.4939, -0.936, 0.128, 0.0, -0.9538, -0.5106, -0.1779, -0.8658, 0.296, -0.6848, -0.6848, -0.802, -0.4215, -0.765, -0.5719, -0.8316, -0.9382, -0.7717, -0.886, -0.886, -0.4404, -0.4215, -0.9517, -0.9517, -0.6705, -0.4767, -0.5423, -0.5423, -0.8957, -0.8316, -0.7184, -0.872, -0.296, 0.34, 0.8225, -0.8176, -0.9983, -0.8553, -0.6597, 0.4939, 0.6597, 0.6597, -0.5423, -0.5423, -0.7003, -0.7003, -0.8225, -0.6124, -0.7184, -0.9325, -0.7351, -0.7096, -0.4404, -0.8945, 0.0, -0.1779, 0.4588, -0.0926, 0.4939, -0.8074, -0.5574, -0.296, 0.1531, -0.0516, -0.9231, -0.4767, -0.9231, 0.128, -0.8074, -0.959, -0.9882, -0.9876, -0.4019, -0.6808, -0.7096, -0.2263, 0.0, -0.6249, -0.7964, -0.8625, -0.7717, -0.4215, -0.743, -0.9325, -0.0926, -0.9151, -0.9545, -0.9217, -0.6327, -0.6327, -0.9776, -0.9776, -0.6705, -0.8126, 0.4215, -0.9935, -0.9062, -0.9062, -0.9022, -0.6478, -0.6478, -0.6486, -0.4019, -0.4019, -0.8176, -0.967, -0.8316, -0.836, -0.6808, -0.8957, 0.4019, -0.5859, 0.0516, -0.981, -0.1531, -0.9081, -0.8779, -0.8779, -0.9217, 0.4215, -0.9744, -0.7003, -0.979, -0.2991, -0.5093, -0.4215, -0.296, -0.296, -0.5267, -0.8442, -0.9468, -0.9468, 0.128, -0.296, -0.7096, -0.296, -0.875, 0.0382, -0.8626, -0.765, -0.4767, -0.7184, -0.9201, -0.9211, -0.9201, 0.7964, 0.7964, -0.8126, 0.6597, -0.126, -0.4939, -0.4939, -0.7906, -0.9517, -0.3612, -0.4215, -0.4215, -0.8481, -0.9042, -0.9042, -0.4588, -0.9413, -0.9085, 0.4767, 0.5719, 0.5719, -0.0772, 0.0, -0.9118, 0.296, -0.8834, -0.7506, -0.7024, -0.7024, -0.1531, -0.1531, -0.8442, -0.4404, -0.9515, 0.8271, 0.8271, -0.9524, -0.9524, -0.7096, 0.1531, -0.875, -0.2023, -0.4215, -0.4215, -0.5267, -0.8481, -0.4215, -0.34, 0.3339, -0.9062, -0.9638, -0.0772, -0.7351, -0.7351, -0.7096, -0.7906, -0.7096, 0.0, 0.0, -0.0772, -0.5994, -0.8779, -0.296, -0.5267, -0.296, 0.128, 0.128, 0.128, 0.128, -0.3102, -0.3612, -0.2263, 0.0, -0.6705, -0.5267, -0.8945, -0.1779, -0.1779, -0.9337, -0.2732, -0.2732, 0.25, -0.2732, -0.6369, -0.6369, -0.9332, 0.8834, -0.93, 0.0516, -0.8957, -0.3612, 0.0, -0.5994, -0.9423, -0.5267, -0.9423, -0.4019, -0.6808, 0.7835, 0.893, -0.9595, -0.0772, -0.9595, -0.2263, -0.3612, -0.3612, 0.25, -0.7906, -0.7906, -0.2263, -0.296, -0.1779, -0.4588, -0.8271, -0.6412, -0.4653, -0.9022, -0.4404, -0.4404, 0.7269, -0.886, -0.8271, 0.0, -0.9081, -0.5106, -0.3182, -0.3182, -0.296, 0.1027, 0.4019, 0.128, -0.7096, -0.1779, -0.5574, -0.5574, 0.0, -0.9349, -0.5106, -0.5106, -0.2263, -0.2263, 0.128, -0.3182, -0.8316, -0.836, -0.9143, -0.9143, -0.8519, -0.8519, -0.7184, -0.7239, -0.7239, -0.9041, -0.3818, -0.3818, -0.802, -0.802, -0.6908, -0.3818, 0.0258, -0.6486, -0.9698, -0.4939, -0.9698, -0.9371, -0.9371, -0.4404, -0.6369, 0.128, -0.7964, -0.8979, -0.8979, 0.0129, -0.8591, 0.0, -0.5423, -0.6486, 0.0, 0.34, -0.1779, -0.4939, -0.6597, -0.875, -0.875, -0.7003, -0.7184, 0.0, 0.1406, -0.2732, -0.836, -0.836, -0.765, -0.6808, -0.5267, -0.5267, -0.128, -0.5859, -0.6369, -0.6249, -0.7096, -0.2263, -0.7096, -0.8316, -0.9538, -0.7184, -0.7184, -0.9558, -0.9337, -0.743, -0.743, -0.9618, -0.2023, -0.3612, -0.2023, -0.6369, -0.9848, 0.3182, -0.434, -0.2732, -0.8885, -0.8316, 0.0, -0.9022, -0.8481, -0.9337, -0.9217, -0.6597, -0.6597, -0.7184, -0.8885, -0.9944, -0.8885, -0.9001, 0.4404, -0.128, 0.7506, 0.7269, -0.9601, 0.0, -0.8176, -0.8176, -0.7506, -0.4215, -0.7351, -0.9913, -0.9906, -0.4404, -0.4404, -0.2287, -0.2287, -0.4404, -0.4404, -0.296, -0.9571, -0.9325, -0.6124, -0.6124, -0.9153, -0.8519, -0.7783, 0.7964, 0.7964, 0.8179, 0.8179, -0.743, -0.9136, 0.6369, 0.6369, 0.34, 0.6597, -0.6808, -0.743, -0.7906, -0.7906, -0.3102, -0.8151, -0.8151, -0.7351, -0.128, -0.128, 0.0, -0.765, -0.9081, -0.8807, -0.8807, -0.4215, -0.296, -0.4767, -0.8225, -0.0516, -0.9756, -0.7269, -0.9735, -0.1779, -0.2732, -0.8225, -0.8225, -0.5106, 0.5181, -0.1779, -0.9062, -0.9117, 0.0, -0.4215, -0.6249, -0.5994, -0.5574, -0.4215, -0.4404, -0.9081, 0.0485, 0.2023, -0.4588, -0.0772, -0.4404, 0.0772, -0.4767, -0.7845, -0.7845, 0.5859, 0.6808, -0.969, -0.9769, 0.4019, 0.9001, -0.4215, -0.891, -0.4215, -0.9085, -0.7184, -0.0772, -0.93, 0.0129, -0.9332, 0.25, -0.7351, -0.8176, -0.7096, -0.6808, -0.2023, 0.6808, 0.6808, 0.0, -0.6705, 0.461, 0.461, -0.1531, -0.4588, -0.9674, -0.9702, 0.0772, -0.6771, -0.6771, -0.5267, -0.5267, 0.25, -0.7184, -0.8689, -0.8689, -0.9042, -0.8591, -0.4404, -0.7845, -0.9237, -0.9413, -0.9866, -0.4253, -0.5994, -0.9865, -0.7391, -0.8905, -0.9451, -0.9451, -0.1531, -0.6597, -0.7717, -0.7717, -0.891, -0.891, -0.4939, -0.1027, -0.4939, -0.8934, 0.0, -0.6486, 0.2732, -0.836, -0.9074, -0.9743, -0.296, -0.5267, -0.296, -0.1779, -0.8625, -0.7845, -0.4215, -0.1531, -0.9678, -0.1531, -0.2732, -0.2732, -0.9382, 0.2933, 0.6808, -0.7096, -0.7096, -0.7096, -0.9575, -0.9575, 0.4019, -0.7096, -0.4588, -0.7003, -0.8481, -0.8957, -0.7969, -0.6705, -0.6705, -0.9337, 0.128, 0.4019, -0.4767, -0.5574, 0.0, 0.0, -0.743, -0.7269, -0.7969, -0.9509, -0.6597, -0.4404, -0.8934, -0.4404, -0.9136, -0.5267, -0.7184, -0.6124, -0.9337, -0.6597, 0.0258, -0.7845, -0.7845, -0.802, -0.25, -0.25, -0.6249, -0.886, -0.6874, 0.4019, 0.6808, -0.2732, -0.8271, -0.91, -0.9231, -0.802, -0.802, 0.1027, -0.4019, -0.9371, -0.9371, -0.9287, -0.9287, 0.4939, 0.4939, -0.9201, -0.9186, -0.8225, -0.4939, 0.25, -0.1779, 0.25, -0.6369, -0.5859, -0.9342, -0.9561, -0.7096, -0.7935, -0.5574, -0.3612, -0.3612, -0.6996, -0.6996, -0.8815, -0.8815, 0.6705, 0.6705, -0.9451, -0.9278, -0.9732, -0.9732, -0.8591, -0.6908, -0.6908, -0.6486, -0.6486, -0.6124, -0.8225, -0.6757, -0.6757, -0.8885, -0.8885, -0.7269, -0.7845, -0.7845, 0.351, 0.351, 0.0, -0.3818, -0.8225, -0.8225, -0.8481, -0.2263, -0.1779, 0.0, -0.4404, -0.2732, -0.802, -0.9282, -0.5719, -0.9825, -0.5994, -0.2263, -0.34, -0.5106, -0.8442, -0.8779, -0.6908, -0.3818, -0.4767, -0.7845, -0.7184, -0.7351, -0.6124, -0.7184, -0.7184, 0.0, -0.7351, -0.6369, -0.4404, -0.4404, -0.296, -0.6808, -0.6249, -0.8658, -0.8658, -0.6369, -0.8555, -0.6369, -0.9666, -0.9666, -0.9164, -0.9164, -0.8658, -0.8658, -0.5267, -0.7717, -0.296, -0.93, -0.2263, -0.8689, -0.5994, -0.4767, -0.4767, -0.9382, -0.9812, -0.9844, -0.296, -0.34, 0.6808, 0.34, -0.8748, -0.8016, -0.9136, 0.4588, -0.7096, -0.3818, 0.0, -0.7845, 0.128, -0.765, -0.5994, -0.5719, -0.8807, -0.8591, -0.836, -0.8074, -0.8074, -0.872, -0.3818, -0.872, -0.9686, -0.9686, -0.2263, -0.4404, -0.6908, -0.2263, 0.4019, -0.128, 0.128, -0.6072, -0.8481, -0.8481, 0.2732, 0.2732, -0.8447, -0.8176, -0.8176, -0.5789, 0.0, -0.1779, -0.8151, -0.7579, -0.296, -0.3818, -0.872, -0.8807, -0.296, -0.4767, -0.8519, -0.4986, -0.8519, -0.7003, 0.8658, 0.8658, -0.9081, -0.5423, -0.9081, 0.0, -0.8481, -0.9118, -0.7184, -0.7964, -0.7096, -0.5423, -0.6072, -0.4404, 0.0, -0.5106, -0.5859, -0.9042, -0.9042, -0.5994, 0.25, 0.5719, 0.6369, -0.6705, -0.9151, -0.9451, -0.8625, -0.8555, -0.6705, -0.6705, -0.5574, -0.93, -0.93, -0.6705, -0.8779, 0.1779, -0.836, -0.8885, -0.2263, -0.6705, -0.8779, -0.3134, -0.9287, -0.9493, -0.4434, -0.9853, 0.3182, 0.0, 0.0, -0.4215, -0.6858, -0.6858, -0.6597, -0.6369, -0.6249, -0.1531, -0.6369, 0.0772, -0.8442, 0.0, -0.1779, -0.9735, -0.8629, -0.9377, -0.836, -0.836, -0.8316, -0.296, -0.9237, -0.7579, -0.7579, 0.6808, -0.1779, 0.6808, -0.4215, -0.6249, 0.25, -0.93, -0.9555, -0.743, -0.8555, -0.93, -0.7845, -0.7506, -0.7506, -0.6705, -0.7391, 0.0, -0.4404, -0.9604, -0.9604, -0.9403, -0.8225, 0.128, 0.128, -0.6908, 0.5106, -0.5267, 0.128, 0.7424, 0.7424, -0.9647, -0.9694, -0.5719, -0.4404, -0.4767, -0.34, -0.6597, -0.7845, -0.8442, -0.8442, -0.1531, -0.5423, -0.7184, -0.9178, -0.7096, -0.7096, -0.34, -0.1779, 0.4019, 0.4019, -0.5106, -0.5106, -0.886, -0.8481, -0.8385, -0.6124, -0.7543, -0.8834, -0.8834, -0.6369, -0.6249, -0.9246, -0.6874, -0.6369, -0.3182, -0.8481, -0.8481, -0.6908, -0.6908, 0.128, 0.4019, 0.4019, -0.4824, -0.5994, -0.9735, -0.9325, -0.9325, 0.0, 0.128, -0.9159, -0.5859, -0.8481, -0.8591, -0.8591, -0.8885, -0.6249, -0.802, -0.5106, -0.5106, -0.3612, -0.3612, -0.9282, -0.5106, 0.2268, 0.5577, -0.4986, -0.5574, 0.0, -0.5574, -0.4824, -0.5859, -0.1779, 0.5106, -0.8271], 'Black': [-0.975, -0.3612, -0.7783, -0.9974, -0.9975, -0.7906, -0.4588, -0.0516, -0.8271, 0.0, 0.34, -0.5574, -0.5574, -0.6249, -0.8689, 0.0772, -0.5859, -0.7351, -0.9371, -0.9371, -0.6597, -0.8519, -0.1027, -0.743, 0.1531, 0.0, -0.1531, -0.3952, -0.5267, -0.4404, -0.875, -0.296, 0.0, -0.9393, 0.0, -0.1779, 0.0, -0.6207, -0.4129, -0.9783, 0.128, -0.5423, -0.7579, -0.8481, -0.5719, -0.5719, -0.872, -0.743, -0.4215, 0.5423, -0.128, -0.128, -0.9246, -0.9246, -0.8225, -0.5106, 0.128, -0.3612, -0.552, -0.8316, -0.6705, -0.7901, -0.1027, -0.8271, -0.8271, -0.5859, -0.8658, -0.5393, -0.8924, -0.9631, 0.0, -0.296, -0.743, -0.3612, -0.872, -0.91, -0.91, -0.6808, 0.1531, -0.946, -0.7717, -0.296, -0.2023, -0.8625, -0.296, -0.8573, -0.6124, -0.93, -0.93, 0.25, -0.5859, -0.5859, -0.7351, 0.101, -0.6597, 0.25, 0.0, 0.5859, 0.5859, 0.0, -0.6124, -0.743, -0.9623, -0.8176, 0.6597, -0.8555, -0.9477, -0.3612, -0.1779, -0.7184, 0.4019, 0.4019, -0.7096, 0.0, -0.8689, -0.7003, -0.6705, -0.6705, -0.4306, -0.8176, -0.7783, -0.8555, -0.8555, -0.9022, -0.9022, -0.1779, -0.8519, -0.5994, -0.6705, -0.6808, -0.7783, -0.7783, -0.6597, -0.9565, -0.296, -0.1779, -0.7351, -0.7351, -0.9666, -0.3818, -0.4767, -0.4767, 0.128, 0.128, -0.9669, -0.9583, -0.9669, 0.0516, 0.0, -0.4215, 0.6597, -0.8176, -0.7003, -0.9477, -0.9477, 0.128, 0.9117, 0.9117, -0.9001, 0.101, -0.926, -0.7003, -0.9538, -0.6369, -0.296, -0.7579, -0.296, -0.296, 0.128, -0.6369, -0.6369, -0.946, -0.5106, -0.8555, 0.0, -0.6824, 0.128, 0.4019, -0.1921, -0.1921, 0.2263, 0.2263, -0.6486, -0.6486, -0.9274, -0.5679, -0.1027, -0.1027, 0.128, 0.2263, -0.2263, -0.2263, -0.5994, -0.3818, -0.4404, -0.4404, -0.4215, -0.4215, -0.4404, -0.8316, -0.9153, 0.4019, 0.296, -0.0258, 0.3818, -0.5574, -0.2263, -0.959, 0.126, -0.5859, 0.1027, -0.1531, -0.5106, -0.9648, -0.9735, -0.9042, 0.0, -0.1779, -0.3595, -0.9665, -0.4404, -0.8519, -0.5994, 0.7579, 0.0, -0.8402, -0.743, -0.9803, -0.9953, -0.4588, -0.8979, -0.8126, 0.0, -0.6908, -0.8481, -0.5267, -0.1779, -0.5267, -0.6808, 0.3964, 0.3964, -0.4445, -0.75, -0.9618, -0.296, -0.9618, -0.4588, 0.0, 0.0, -0.4749, -0.8442, -0.886, -0.0772, -0.431, 0.4939, 0.25, 0.5574, -0.875, 0.1027, -0.5859, -0.0772, -0.6239, -0.6239, -0.2023, -0.2023, -0.4215, -0.5423, -0.5423, -0.5245, -0.93, -0.9314, -0.8862, -0.0516, -0.4404, -0.34, 0.8779, 0.9638, -0.128, 0.0, -0.8126, -0.4939, 0.128, -0.25, -0.5267, -0.25, -0.765, -0.9509, -0.9509, -0.5325, -0.8402, -0.9867, -0.9867, -0.6249, -0.6249, 0.25, -0.6369, -0.4404, -0.6369, -0.743, -0.8834, 0.25, -0.296, -0.7964, -0.7096, 0.7906, 0.4019, -0.5719, -0.6808, 0.1695, 0.1695, 0.4019, -0.6249, -0.4767, -0.7184, -0.6808, -0.8573, -0.8016, -0.296, -0.4404, -0.4767, 0.0, -0.8957, -0.7184, -0.4327, -0.9274, -0.8934, -0.3818, -0.7845, -0.4404, -0.3818, -0.1531, -0.1531, -0.5859, 0.0, -0.7351, 0.0, -0.8555, -0.8591, -0.9963, -0.7845, -0.4404, -0.4404, -0.3818, 0.765, -0.5719, 0.7096, 0.128, 0.0772, 0.0263, 0.0263, -0.875, -0.1531, -0.969, -0.8481, -0.3612, -0.969, 0.128, 0.128, 0.0, -0.5859, -0.7506, -0.4404, -0.5106, -0.4404, 0.0, -0.6124, 0.2023, -0.9747, 0.1027, -0.9719, -0.4215, 0.25, 0.25, -0.8126, -0.8126, -0.9118, 0.128, -0.836, -0.7184, -0.8779, -0.9287, -0.9287, -0.296, -0.5267, -0.296, 0.0731, -0.8989, 0.0731, -0.9153, -0.802, -0.0772, -0.7845, -0.8807, -0.5267, -0.7717, -0.7717, -0.34, -0.9022, -0.34, -0.1531, 0.7342, -0.6597, -0.5267, -0.802, -0.8718, -0.8625, -0.9451, 0.5719, 0.4588, 0.0258, 0.4416, -0.9652, -0.9817, -0.9524, -0.1027, -0.9657, 0.2206, 0.0516, -0.4767, -0.5859, -0.891, -0.2023, -0.2023, -0.6486, -0.6486, -0.9657, -0.9186, -0.765, -0.765, 0.6705, 0.0, -0.296, 0.4184, 0.4184, -0.5106, 0.4019, 0.25, 0.0, -0.4404, -0.7184, -0.4767, -0.6908, -0.4404, 0.128, -0.9652, 0.0, -0.9652, -0.9274, -0.8834, -0.6908, -0.6908, -0.8934, -0.4588, -0.8885, -0.9818, -0.954, -0.4767, -0.9875, -0.9022, -0.9875, -0.3595, -0.4767, -0.296, -0.8807, -0.9201, -0.7906, -0.9201, -0.8481, 0.128, -0.7506, -0.8481, 0.0, -0.296, -0.296, -0.3658, -0.3658, 0.3182, 0.3182, 0.0, -0.0516, -0.8481, -0.3612, -0.3612, -0.1531, 0.0, -0.8316, -0.9022, -0.9022, -0.1027, -0.0534, -0.4767, -0.5267, -0.6486, 0.91, 0.4019, 0.4019, -0.802, -0.9153, -0.6124, -0.0772, -0.9081, -0.5719, -0.4767, 0.6808, -0.5106, 0.4943, -0.4404, 0.0, -0.872, -0.5994, -0.5994, 0.0772, -0.2732, -0.7906, 0.4588, 0.4588, -0.4767, -0.8689, -0.9313, -0.7003, -0.7003, -0.0772, -0.8442, -0.4019, -0.8519, -0.4404, -0.3612, -0.5574, -0.0387, -0.1779, -0.5423, -0.8715, -0.9698, -0.9349, -0.836, -0.9477, -0.9477, 0.0, 0.0258, -0.765, -0.9451, 0.128, -0.6369, -0.7096, 0.128, -0.5267, -0.9793, 0.1531, -0.9538, -0.9638, -0.9118, -0.9118, 0.25, 0.128, -0.946, -0.836, -0.9022, -0.5859, -0.2732, -0.2732, -0.1531, -0.4767, -0.9825, -0.4939, -0.946, -0.946, -0.9797, -0.985, -0.5106, -0.9837, -0.9847, -0.7351, -0.6249, -0.886, -0.6249, 0.9371, -0.8271, 0.9168, -0.6124, -0.975, -0.3818, 0.1027, 0.1027, -0.9819, -0.9819, -0.7351, 0.4416, -0.5562, -0.5562, -0.969, 0.7346, -0.6605, 0.7346, 0.7845, 0.3612, 0.34, -0.6705, -0.8442, 0.0, -0.7964, -0.9022, -0.9337, 0.2584, -0.744, -0.5859, -0.5859, 0.9001, 0.9001, -0.5423, 0.0, -0.4404, -0.5859, -0.4404, -0.1779, -0.6705, -0.6705, -0.9643, -0.7184, -0.7351, -0.7351, -0.4215, -0.5267, -0.6249, -0.7717, -0.743, -0.25, -0.8442, -0.8442, -0.9404, -0.9404, -0.7269, -0.765, -0.5393, -0.7644, -0.7644, -0.9136, -0.4939, -0.9804, -0.9838, -0.296, -0.5994, -0.7845, -0.7845, -0.25, -0.6369, -0.8126, -0.7003, -0.7003, -0.9682, -0.9682, -0.8481, -0.2846, -0.9665, -0.5106, -0.9628, -0.9129, -0.5267, -0.8591, -0.8316, -0.25, -0.5106, -0.5106, -0.8807, 0.9325, 0.9325, -0.9136, -0.8442, -0.8442, -0.7506, -0.7506, -0.8516, -0.8516, -0.7783, -0.8807, -0.7783, 0.25, -0.296, -0.3612, -0.8519, -0.7845, -0.5267, -0.296, -0.8074, -0.3818, -0.5859, -0.8442, -0.6981, -0.9274, -0.9274, -0.4939, -0.9696, 0.7506, -0.1027, -0.6705, -0.875, -0.875, -0.8807, -0.2668, -0.765, -0.7684, -0.7579, -0.4588, 0.0, -0.3818, -0.9062, -0.7003, -0.6124, -0.6124, -0.6369, -0.7845, -0.765, -0.3612, -0.9231, -0.9231, -0.875, -0.9638, -0.128, 0.0, 0.4416, -0.5719, 0.3612, -0.9169, -0.4404, -0.4404, -0.808, -0.5267, -0.808, -0.8591, -0.9485, 0.4019, -0.4881, -0.25, -0.25, -0.6808, -0.5574, -0.5574, -0.4019, -0.7906, -0.5859, 0.0, -0.8316, -0.8834, 0.2023, -0.9928, 0.0, -0.8979, -0.3182, 0.0, -0.1779, -0.1027, -0.7506, -0.9062, -0.9062, 0.0, -0.2023, 0.8975, -0.7269, -0.802, -0.7569, -0.2023, -0.8481, -0.7906, -0.9428, 0.8975, -0.9451, -0.296, -0.7184, -0.8555, -0.8555, -0.6908, -0.4588, -0.1779, -0.1779, -0.6486, -0.9767, -0.2263, -0.2263, -0.3818, -0.5574, -0.8176, -0.8555, -0.8555, 0.1531, 0.128, -0.9186, -0.6705, -0.7717, -0.7644, -0.743, -0.969, -0.8387, -0.6249, 0.4019, -0.9657, -0.9657, -0.8402, -0.8402, -0.0516, -0.8608, -0.9118, -0.7964, -0.4404, -0.8608, -0.6369, 0.6258, 0.6915, -0.0516, -0.0516, 0.6134, -0.8748, -0.7717, -0.872, -0.5588, -0.886, -0.9587, -0.9905, -0.3818, -0.3818, -0.8779, -0.9713, -0.264, -0.264, -0.9732, -0.3612, -0.1027, -0.6249, -0.5106, -0.4588, 0.91, -0.9287, -0.9231, -0.2023, -0.9628, 0.1406, -0.1779, -0.5574, -0.9042, -0.7269, 0.128, -0.7351, 0.4019, 0.4019, -0.9509, -0.8625, -0.8625, -0.1027, -0.9867, -0.8807, -0.4588, -0.8625, -0.8625, -0.6249, -0.7351, -0.7351, -0.4404, -0.8126, -0.765, -0.875, -0.8689, -0.8689, 0.1536, -0.7003, -0.296, -0.296, 0.128, 0.128, -0.3818, -0.6808, -0.8176, -0.8176, -0.8402, -0.8402, 0.3374, -0.6249, -0.9753, -0.9648, -0.128, -0.8126, -0.9501, -0.743, -0.7964, -0.7964, 0.0754, 0.0754, -0.1779, 0.34, 0.126, -0.9022, -0.296, -0.25, -0.1531, -0.1531, -0.9442, 0.128, -0.128, -0.802, -0.9169, -0.9169, -0.6486, -0.6486, -0.7184, -0.7351, 0.128, -0.7096, -0.7096, -0.9136, -0.8225, -0.8779, -0.8885, -0.9881, -0.9758, -0.9758, 0.0, -0.25, -0.3612, -0.9081, 0.6355, 0.5994, -0.296, -0.8316, -0.8175, -0.9666, -0.9628, -0.765, -0.5859, -0.9001, 0.0, -0.1779, -0.3818, -0.9939, -0.3818, -0.91, -0.91, -0.7096, -0.6808, -0.872, -0.8442, -0.7587, -0.7587, -0.5106, -0.891, -0.891, 0.9244, 0.9244, 0.25, -0.6486, -0.8979, -0.802, -0.7184, -0.954, -0.7506, -0.7506, -0.4215, -0.8553, -0.8553, -0.743, -0.6705, 0.0, -0.7003, -0.9643, -0.6369, -0.1779, 0.8271, 0.8271, -0.7351, -0.7096, -0.6124, -0.8402, -0.6124, -0.8625, -0.9349, -0.9349, 0.7033, -0.6486, 0.0258, -0.4404, -0.7351, -0.1531, -0.8658, -0.7351, -0.9367, -0.6908, -0.5994, -0.8196, -0.8625, -0.8625, -0.9563, -0.7594, -0.6486, -0.5875, 0.6705, -0.9246, -0.743, -0.7717, 0.296, -0.802, -0.1779, -0.5574, 0.128, 0.0, -0.296, -0.9509, 0.0, -0.296, -0.6588, -0.6588, -0.5994, 0.3182, 0.3182, -0.9652, 0.5423, 0.5423, -0.9771, -0.25, -0.7184, -0.7184, -0.4404, -0.8481, -0.6908, -0.7184, -0.7717, -0.4588, -0.7717, -0.7118, -0.5754, 0.25, -0.7351, 0.0, -0.6369, -0.3612, -0.3612, 0.4404, -0.6116, -0.6124, -0.8402, -0.1027, -0.8807, -0.7269, -0.7845, 0.0, -0.7184, -0.9022, -0.9022, -0.7096, -0.8316, -0.8316, 0.7096, -0.7717, 0.6705, 0.6705, -0.4767, -0.7351, -0.3612, -0.25, -0.5859, -0.886, -0.886, -0.7845, -0.5574, 0.3818, -0.128, -0.1027, -0.875, -0.9686, -0.2732, 0.1027, -0.6124, -0.6808, -0.7184, -0.5106, -0.1779, -0.6486, -0.6486, -0.8442, -0.8442, -0.1531, 0.3612, -0.7845, -0.7845, -0.4588, -0.9607, 0.0, -0.7944, -0.4588, -0.4019, 0.0, -0.9371, -0.8762, -0.1779, -0.3818, -0.3818, -0.6124, 0.8176, -0.872, -0.9468, -0.7184, -0.9042, -0.6517, 0.1779, -0.7096, -0.2263, -0.1406, -0.1406, -0.802, -0.9432, -0.6298, -0.9606, -0.6486, 0.0, -0.9274, -0.7717, -0.2081, -0.7269, -0.8225, -0.8344, -0.9403, -0.872, 0.4019, -0.886, -0.5267, -0.3818, -0.3818, -0.1531, -0.8658, -0.8957, -0.9866, -0.9866, -0.7845, 0.7783, -0.836, -0.836, 0.7096, 0.8225, 0.8225, -0.0516, -0.6124, -0.2695, -0.8316, -0.8316, -0.5106, -0.765, -0.765, -0.4215, -0.1779, -0.8625, -0.8934, 0.128, -0.9766, -0.9766, -0.7783, -0.4588, -0.8807, -0.1531, -0.0772, 0.0, -0.9359, -0.7845, 0.2732, -0.5994, -0.1779, 0.0516, 0.0516, -0.8016, -0.1027, -0.8805, 0.2023, 0.4019, -0.5859, 0.1779, 0.3818, 0.0, -0.1027, -0.7964, 0.25, -0.1779, -0.5859, -0.7687, -0.836, 0.5023, -0.296, -0.9274, -0.9295, 0.7964, -0.9042, -0.1027, -0.6249, -0.7351, -0.4215, 0.6597, -0.9657, -0.9064, -0.9064, -0.9062, -0.4767, -0.836, -0.3612, -0.3612, -0.4939, -0.6124, -0.9136, 0.0, -0.4939, -0.8481, -0.6597, -0.4215, -0.068, -0.4215, -0.296, -0.501, -0.4215, -0.4215, -0.7506, -0.7506, -0.6705, -0.7351, -0.7351, -0.25, -0.5994, -0.8316, 0.0, 0.128, -0.3818, -0.872, -0.886, -0.872, -0.7003, -0.1027, -0.8316, 0.6908, 0.8126, -0.296, -0.7906, 0.4404, 0.128, 0.4404, -0.1027, -0.6369, -0.3818, -0.7717, -0.3818, -0.743, -0.2023, -0.7906, -0.8834, -0.8834, -0.9559, -0.3182, -0.7269, 0.0, 0.6458, 0.128, -0.3182, 0.0, -0.9274, 0.128, -0.4767, -0.5859, -0.9186, -0.7506, -0.8777, -0.4215, -0.6249, -0.6249, 0.6369, -0.9115, 0.8779, 0.8779, -0.7579, -0.7777, -0.9153, -0.8883, -0.7506, 0.2481, -0.7964, -0.4767, -0.9169, -0.9606, -0.8225, -0.8126, -0.93, -0.3125, -0.7964, -0.93, -0.8316, -0.891, -0.4939, -0.4939, -0.6808, -0.7114, -0.6486, 0.0, -0.1531, -0.9287, -0.9287, -0.7717, -0.7184, -0.6808, -0.6808, -0.3818, -0.8176, -0.5106, -0.7351, -0.546, -0.8934, -0.8834, -0.8022, -0.7273, -0.8625, -0.4129, -0.8519, -0.6124, -0.5574, -0.5574, -0.2263, 0.0, -0.8316, -0.5719, -0.9535, -0.9535, -0.4019, -0.25, -0.8481, -0.5859, 0.6124, 0.0, -0.9022, -0.2023, -0.8834, -0.6249, -0.8519, -0.8807, -0.9607, -0.8807, -0.8442, -0.8582, -0.8176, -0.8779, -0.8807, -0.8176, -0.4019, -0.6124, 0.0, -0.5365, -0.4767, -0.8074, 0.128, -0.6705, -0.8402, -0.3612, 0.6597, -0.981, -0.9595, -0.7717, -0.7096, -0.2023, -0.9199, -0.9199, -0.9413, 0.0258, -0.4404, -0.4404, -0.6808, -0.6705, -0.4215, 0.0, -0.6369, -0.7003, -0.3818, 0.128, -0.5106, -0.7351, -0.886, -0.8126, -0.128, -0.9169, -0.6705, -0.5267, -0.4404, -0.4404, -0.8689, -0.8689, -0.7906, -0.7906, 0.128, -0.7964, -0.7964, 0.0, -0.7717, -0.7684, -0.6597, -0.9657, 0.6908, -0.7184, -0.8078, -0.8078, -0.4404, -0.967, 0.2023, -0.8074, -0.743, -0.7096, -0.9153, -0.7885, -0.9828, 0.2263, -0.9828, -0.3911, -0.9702, -0.8591, -0.8591, -0.4019, -0.8481, -0.8481, 0.0, -0.7269, -0.9783, -0.9451, 0.128, -0.9723, -0.7845, -0.8591, -0.6808, -0.2023, 0.2263, -0.872, 0.4588, -0.765, -0.8316, -0.3818, 0.0, 0.128, -0.5859, -0.8625, -0.8625, 0.6249, 0.6249, -0.8807, -0.3612, -0.8979, -0.1551, -0.9366, -0.8591, -0.9136, -0.8807, -0.8225, -0.9136, -0.6249, -0.5719, 0.8807, 0.8807, -0.6808, -0.4019, -0.5267, -0.6486, -0.8756, -0.9607, -0.8718, -0.9607, -0.8519, -0.6908, 0.0, -0.608, -0.8957, -0.91, -0.9184, -0.1779, -0.872, -0.296, -0.5859, -0.7351, 0.4215, -0.5267, 0.128, 0.128, -0.1779, -0.0258, -0.4404, -0.7184, -0.8716, -0.7184, 0.0, -0.8519, -0.8591, -0.8591, -0.8074, -0.8074, 0.2579, 0.3887, -0.6249, 0.5106, 0.9747, 0.891, 0.9892, -0.0, -0.0, -0.6908, -0.7906, 0.8155, 0.8155, 0.128, -0.4939, -0.5994, -0.6597, -0.5859, -0.4404, -0.0516, -0.9682, -0.9682, -0.8271, 0.0, -0.6369, -0.9559, -0.9559, 0.4019, -0.6666, -0.6666, -0.6249, -0.5574, -0.5574, 0.0, -0.7003, -0.8934, -0.8934, -0.6369, -0.6369, -0.926, -0.9484, -0.4404, 0.0, -0.4404, -0.872, -0.1779, -0.4404, -0.0516, -0.4767, -0.5859, 0.0, -0.3182, -0.8885, -0.9136, -0.9136, -0.296, -0.8481, 0.0, 0.4382, -0.25, -0.5106, -0.8807, -0.4404, -0.9217, -0.9628, -0.9628, -0.4404, -0.4404, 0.4926, 0.0, -0.7096, 0.128, -0.872, -0.9442, -0.8715, -0.7964, -0.5106, -0.5106, 0.0997, -0.1027, -0.296, -0.296, -0.1027, -0.8591, -0.5859, -0.296, -0.802, -0.7351, -0.7351, -0.1027, 0.8224, 0.6483, -0.4404, -0.1779, -0.1779, 0.4939, -0.8591, -0.91, -0.9493, -0.9201, -0.8885, -0.5267, 0.25, -0.2023, 0.0, -0.743, -0.5106, -0.9118, 0.3182, 0.3182, -0.9081, -0.2263, -0.5423, -0.7783, -0.9274, -0.9274, -0.9705, -0.9716, -0.7184, -0.7184, -0.296, -0.7351, -0.7184, -0.1531, -0.1531, 0.8176, 0.2481, 0.2481, -0.296, -0.5719, -0.9201, -0.9468, -0.6124, -0.6124, -0.4427, -0.1779, -0.4497, -0.4497, -0.9867, -0.1779, -0.2023, -0.2023, 0.5994, 0.5994, -0.7579, -0.7579, -0.5423, -0.8882, 0.128, -0.967, -0.9623, -0.802, -0.9694, -0.9694, -0.6808, -0.3182, -0.3182, -0.3612, 0.3374, 0.3374, -0.9201, -0.9201, -0.8774, 0.128, 0.4019, -0.3182, -0.6369, -0.7506, -0.3612, -0.7184, -0.8934, -0.9118, -0.6808, -0.4215, -0.8765, -0.6124, -0.6124, -0.5267, -0.7935, -0.1779, -0.9617, -0.9806, -0.8225, -0.9501, -0.9509, -0.9934, -0.9509, -0.8779, 0.0, -0.4404, -0.0772, -0.8934, -0.9246, -0.9246, -0.8591, 0.0, 0.0, -0.93, -0.9022, -0.7845, -0.93, -0.6249, -0.4404, -0.9393, -0.9393, -0.9571, -0.9022, -0.1027, -0.0772, -0.9399, -0.7964, -0.9313, -0.9313, -0.6124, -0.6908, -0.765, -0.765, -0.4404, -0.8126, -0.9501, -0.6369, 0.128, 0.128, -0.7906, -0.6369, -0.9313, -0.9313, -0.4939, -0.7096, -0.9001, -0.9274, -0.9906, 0.5927, -0.9578, -0.6908, -0.0772, -0.4404, -0.6908, -0.7096, -0.6384, -0.6269, 0.4019, -0.4404, -0.4404, -0.8807, -0.9796, -0.9796, -0.6597, -0.9118, -0.9118, -0.8481, -0.9244, -0.3818, 0.0, -0.4404, -0.1027, -0.8313, -0.4404, -0.4939, -0.4939, -0.8126, -0.5994, -0.5994, -0.5994, -0.4939, -0.7351, -0.4588, -0.5994, -0.872, 0.0, 0.4588, -0.8074, -0.936, -0.8074, -0.886, -0.9413, -0.8779, -0.8779, -0.6808, -0.7615, -0.409, -0.8361, -0.6812, -0.296, -0.296, -0.0865, -0.0526, -0.296, 0.0772, 0.0772, -0.9818, -0.6327, -0.7884, -0.9138, -0.9138, 0.4939, 0.4939, -0.8126, -0.8689, -0.3612, -0.0834, -0.926, -0.7351, -0.4215, -0.4215, 0.2732, 0.2732, -0.9274, -0.2023, 0.4019, -0.5994, -0.9402, -0.891, 0.4019, -0.4019, -0.5423, -0.5423, 0.0, 0.128, 0.0, -0.7269, -0.872, -0.936, 0.0772, -0.4588, -0.4588, -0.25, 0.7891, -0.2023, 0.4753, -0.8442, -0.7906, 0.0, -0.5132, -0.7351, -0.7351, 0.765, 0.0772, -0.6597, -0.25, -0.4215, -0.3182, -0.9607, -0.4118, -0.4118, 0.0, -0.7579, -0.8022, -0.0516, -0.1531, -0.9022, -0.1366, -0.7269, -0.9477, -0.8126, -0.9864, 0.2732, 0.2732, 0.4588, -0.4404, -0.4404, -0.8957, -0.8749, -0.967, -0.9601, -0.7783, -0.4404, -0.3182, -0.981, 0.8553, -0.8074, -0.875, -0.9393, -0.8625, -0.9081, -0.7845, -0.7845, -0.4805, -0.2316, 0.5423, 0.0, 0.0, 0.6124, -0.8658, -0.9022, -0.9915, -0.9915, -0.9274, -0.9313, -0.4939, 0.0, -0.7506, -0.4939, -0.2732, -0.5106, -0.765, -0.765, -0.296, -0.9062, -0.7783, -0.1779, 0.25, -0.9663, -0.9663, -0.7906, -0.5423, -0.7906, -0.3818, -0.969, -0.6129, -0.8957, -0.6634, -0.9464, -0.8126, -0.6124, -0.9186, -0.8161, -0.9186, 0.128, 0.128, -0.9393, -0.1779, 0.3612, 0.3612, -0.1779, -0.7288, -0.0516, -0.9081, 0.2472, 0.2472, -0.9595, 0.0516, -0.7003, -0.2023, -0.1779, -0.1779, -0.6249, -0.4404, -0.4588, -0.6597, 0.2714, -0.3818, -0.9337, -0.8271, -0.431, 0.128, -0.7906, -0.9413, -0.1027, 0.2023, -0.9323, -0.6808, 0.0, -0.6369, -0.6249, -0.9848, -0.9844, 0.128, -0.1531, -0.4215, -0.7717, -0.7906, -0.7906, -0.296, -0.762, -0.8074, -0.8074, -0.946, 0.2263, -0.2023, -0.8402, -0.8934, -0.8999, -0.9217, -0.8271, -0.5574, -0.5574, -0.802, -0.3818, -0.9648, -0.8519, 0.8481, -0.5562, -0.5106, 0.0, -0.6124, -0.5859, -0.6597, -0.7269, 0.4939, 0.1779, -0.9638, -0.9638, -0.9517, -0.9403, -0.9517, -0.0, -0.0, -0.743, 0.2263, -0.9118, -0.9118, -0.5106, -0.8519, -0.6124, -0.8658, -0.5574, -0.584, -0.7351, -0.8885, -0.8885, -0.1531, -0.8162, -0.1027, -0.9451, -0.9812, -0.8807, -0.9648, -0.936, -0.936, -0.3612, -0.1027, -0.9623, -0.6705, -0.7351, -0.7506, -0.7506, -0.6597, -0.6597, 0.0, -0.7351, -0.8582, -0.3612, -0.9118, -0.891, -0.9118, -0.8834, -0.8834, -0.8105, -0.8105, 0.4019, -0.9771, 0.0, -0.4404, 0.5267, 0.6597, 0.6597, -0.7351, -0.8294, -0.5859, -0.8225, 0.128, -0.6124, -0.4215, 0.128, -0.3612, -0.5106, -0.6705, 0.128, 0.128, -0.5994, -0.5859, -0.4939, -0.9366, -0.9022, -0.9022, 0.5994, -0.8779, -0.9042, -0.9352, -0.9453, 0.7356, 0.7356, -0.8591, -0.9081, -0.296, -0.8126, -0.3818, -0.5472, -0.7717, -0.9773, -0.9773, 0.0, -0.4404, 0.128, -0.743, -0.743, -0.765, -0.765, -0.7003, -0.9607, 0.0, -0.1779, -0.9371, -0.8481, -0.8519, -0.8481, -0.4767, -0.5859, 0.1531, 0.0, -0.8934, -0.8934, -0.6124, -0.5093, -0.4215, 0.1639, 0.1511, -0.4767, -0.5423, -0.7717, -0.7717, 0.0772, -0.7959, -0.802, -0.2263, -0.5719, -0.0516, 0.0, -0.2023, -0.9584, -0.9623, -0.7579, -0.5562, -0.4215, -0.2382, -0.643, -0.8736, -0.3818, -0.5267, -0.5267, -0.3818, -0.8625, -0.802, -0.2382, -0.5187, -0.5423, -0.1027, -0.8555, -0.765, -0.7351, 0.0, -0.9892, -0.7351, -0.6124, -0.6133, 0.128, 0.128, -0.6124, 0.128, -0.6808, -0.5574, -0.5719, -0.4404, -0.6808, -0.0516, -0.9299, -0.8225, -0.8225, -0.9524, -0.8658, -0.5122, -0.5122, -0.892, -0.892, 0.0, -0.9153, -0.5106, -0.6124, -0.4327, 0.128, 0.128, -0.9217, 0.4588, -0.9756, -0.9756, -0.6808, -0.9382, -0.8779, -0.4404, 0.0, 0.4019, -0.5106, -0.8779, -0.9485, -0.9042, -0.1779, 0.0, -0.1779, -0.9571, -0.4303, -0.4303, -0.8126, -0.9698, -0.6558, -0.7239, -0.5574, -0.9825, -0.9825, -0.4939, -0.128, -0.3182, -0.886, -0.7351, -0.7003, -0.7351, -0.7351, -0.0516, -0.1779, -0.4404, -0.25, -0.764, -0.4445, -0.4404, -0.3818, -0.8957, -0.9136, -0.5859, 0.7351, 0.7351, -0.1027, -0.9231, -0.8555, -0.8555, -0.8442, -0.875, -0.5719, -0.5574, -0.5574, -0.8126, -0.5106, -0.6124, -0.8442, -0.8145, -0.8145, -0.875, -0.8074, -0.9922, -0.4588, -0.8176, -0.7574, -0.8478, -0.0258, -0.0258, -0.8979, -0.3716, -0.7506, -0.8555, -0.9382, -0.8074, -0.3261, -0.7184, -0.8126, -0.9617, -0.1779, -0.9834, -0.8807, -0.8807, -0.5106, -0.8519, -0.8442, -0.8442, -0.3818, -0.3818, 0.6808, 0.6808, 0.0, -0.8622, -0.8622, -0.6808, -0.6808, -0.965, -0.7351, -0.6597, -0.9371, 0.0, -0.7003, -0.8979, -0.9493, 0.6249, -0.4767, -0.4767, -0.743, -0.9678, -0.7906, -0.0516, -0.7184, -0.7184, -0.91, -0.91, -0.1027, -0.9686, 0.1027, -0.296, -0.7845, -0.0516, -0.6486, -0.6486, 0.128, -0.4404, -0.4404, -0.7434, 0.128, -0.9723, -0.1027, -0.7269, -0.7269, -0.9767, -0.1779, -0.1779, -0.9601, -0.7351, -0.5859, 0.4019, -0.836, 0.128, -0.8591, -0.6133, -0.4767, -0.4404, -0.7845, -0.7845, -0.0516, -0.1796, 0.296, -0.743, -0.743, 0.4019, 0.0, 0.802, -0.8316, -0.7506, -0.7717, -0.6908, -0.8402, -0.8126, -0.7351, -0.9948, -0.9948, -0.8779, -0.8779, -0.836, -0.9565, -0.9565, -0.9371, -0.9371, -0.9217, -0.5106, -0.5106, -0.6486, -0.6486, -0.8989, -0.4215, -0.966, -0.7096, -0.7845, -0.7579, -0.4019, -0.0, -0.6124, -0.6369, -0.4767, -0.3498, -0.9349, -0.9349, -0.4215, -0.3818, -0.6369, -0.9136, -0.9136, 0.128, -0.8271, 0.128, 0.8519, 0.8519, 0.8153, -0.9753, 0.2964, -0.7506, 0.0, -0.8074, 0.1531, 0.8591, 0.0, -0.6369, -0.7748, -0.7748, -0.0258, -0.5719, -0.1531, -0.9382, -0.1531, -0.7351, -0.9081, -0.5562, -0.7906, -0.9001, -0.5574, -0.8793, -0.886, 0.0, -0.4939, 0.128, -0.9477, -0.7184, -0.7184, -0.7003, -0.4215, -0.4215, 0.4019, 0.4939, 0.0, -0.7579, 0.0, -0.6705, -0.6486, -0.9851, -0.8442, -0.8176, -0.875, -0.7717, -0.875, -0.9851, -0.128, 0.2732, 0.2732, -0.3182, -0.3182, 0.0, -0.4939, -0.9657, -0.8957, -0.296, -0.34, -0.296, -0.25, -0.25, 0.0263, -0.4404, -0.7579, 0.0, -0.7717, -0.7717, -0.9423, -0.9423, 0.4019, -0.3818, -0.7506, 0.0, -0.6705, -0.6705, -0.765, -0.5574, -0.8858, 0.0, -0.296, -0.967, -0.967, -0.4215, 0.0, 0.3187, -0.8885, -0.8322, -0.6384, -0.7003, -0.8074, -0.8225, 0.0, -0.8519, -0.959, -0.3818, -0.5859, -0.9287, -0.7906, -0.7906, -0.7184, -0.5574, -0.8271, 0.0, -0.1531, 0.5106, -0.7717, -0.7717, -0.7184, -0.7964, -0.1779, -0.0772, -0.6269, -0.2023, -0.1027, -0.1027, 0.7033, -0.9231, -0.9231, -0.8316, -0.9287, -0.91, -0.91, 0.8553, 0.8553, -0.7184, -0.1027, -0.6597, -0.8126, 0.0, -0.8481, -0.34, 0.0, -0.7096, -0.8934, -0.8519, -0.6597, -0.5994, -0.8442, -0.4404, -0.296, -0.886, -0.1779, -0.8829, -0.9134, -0.1531, -0.9169, -0.9169, -0.3818, -0.8834, -0.8834, -0.6597, -0.296, -0.296, -0.5994, -0.8216, -0.4404, -0.8402, 0.8635, 0.8635, -0.3818, -0.4215, 0.0, -0.296, -0.7269, -0.9393, -0.6908, -0.296, -0.6124, -0.891, -0.4404, -0.4404, 0.2481, 0.0, -0.8126, 0.6134, -0.9493, -0.8271, -0.4215, -0.6705, -0.9246, -0.6705, -0.872, -0.8225, -0.743, 0.128, -0.9349, -0.9349, -0.7269, -0.3818, -0.296, -0.8822, 0.25, -0.1531, -0.4215, -0.4019, -0.4215, -0.9217, -0.7269, -0.7269, -0.296, -0.4404, -0.5423, -0.1531, -0.6808, -0.9062, -0.34, -0.6597, -0.9081, -0.9001, -0.6808, -0.1531, 0.128, 0.128, 0.0258, 0.0258, -0.743, 0.128, -0.52, -0.52, -0.4404, -0.4404, 0.128, 0.0, -0.7351, -0.743, -0.8519, -0.4215, -0.0258, -0.0258, -0.5106, 0.0, -0.25, 0.4019, -0.6486, -0.7964, -0.8481, -0.6486, -0.9442, -0.4404, -0.9442, -0.9186, -0.836, -0.9186, -0.8126, 0.128, -0.9217, -0.9786, -0.6369, -0.8957, -0.6369, -0.9186, -0.8271, -0.9186, -0.0516, -0.0516, -0.1779, -0.8625, -0.8658, -0.6858, -0.431, -0.6808, -0.6808, -0.8805, -0.7269, -0.7269, 0.0, 0.0, -0.8721, -0.7719, -0.9493, -0.8779, -0.8779, -0.6249, -0.9661, -0.9661, 0.1531, -0.6808, -0.7964, -0.7964, 0.25, -0.783, -0.0772, -0.9531, -0.9531, -0.9538, -0.7003, -0.25, -0.25, -0.6808, -0.6808, 0.8126, 0.8126, -0.1779, -0.9825, -0.8074, -0.8074, -0.9741, -0.9774, 0.2023, -0.1027, -0.9169, 0.2695, 0.2695, 0.0772, 0.0772, -0.6705, -0.6705, -0.1779, -0.5286, -0.836, -0.3612, -0.4404, -0.0258, 0.4767, 0.25, -0.5472, -0.2263, -0.2263, -0.9014, -0.9587, -0.7351, -0.9032, -0.608, -0.908, -0.9732, -0.7184, -0.7184, -0.9509, -0.802, -0.6517, -0.1779, -0.1779, -0.3818, 0.3187, -0.6808, -0.1027, -0.4019, -0.7269, -0.5563, -0.5563, 0.0, -0.7351, -0.91, -0.9136, -0.5574, 0.0, -0.4404, -0.6486, -0.91, -0.836, -0.7351, -0.9738, -0.3818, 0.0, 0.128, -0.9313, -0.9274, -0.4404, -0.5994, -0.8555, -0.4215, -0.8807, -0.7184, 0.4753, -0.7184, -0.5423, 0.8934, 0.8934, -0.5574, -0.1027, -0.9062, -0.5267, 0.296, 0.296, -0.5423, -0.7906, 0.0997, -0.9022, 0.0258, -0.891, -0.891, -0.8481, -0.8316, -0.8074, -0.9081, -0.7906, -0.9011, -0.9011, -0.8658, -0.6908, -0.34, -0.875, -0.296, -0.4404, -0.4404, -0.8402, 0.1531, 0.1531, -0.7184, -0.7184, -0.7574, -0.7717, -0.7717, 0.0, -0.4404, -0.7351, -0.126, 0.0387, 0.0, -0.1779, -0.9538, -0.891, -0.6249, -0.1531, -0.7269, 0.0, 0.0, -0.969, -0.802, -0.802, -0.5859, -0.5859, -0.967, -0.4404, -0.296, -0.0772, -0.802, -0.296, 0.128, -0.8519, -0.9538, -0.8293, -0.8293, -0.9042, -0.4404, 0.839, 0.839, 0.8627, 0.8627, -0.8176, -0.743, -0.4417, -0.4417, -0.6369, -0.3612, -0.9242, -0.9242, -0.8481, -0.7506, -0.765, -0.765, 0.4019, 0.4019, -0.9186, 0.128, 0.7579, 0.0, -0.4215, -0.8735, -0.8735, -0.3612, -0.296, 0.4019, 0.3182, -0.34, -0.34, -0.9231, -0.379, -0.379, 0.6597, -0.0258, -0.8979, 0.3612, -0.0918, -0.5927, -0.6369, -0.2732, -0.2263, -0.9274, -0.9413, 0.8074, -0.7269, -0.8591, -0.7434, -0.8955, -0.8195, 0.7269, 0.128, -0.3818, -0.886, -0.5588, -0.6808, -0.9062, -0.8658, -0.7269, -0.7184, -0.9231, -0.4404, 0.2023, 0.0, 0.4404, -0.743, -0.8126, -0.5994, 0.4374, -0.705, 0.4374, 0.296, 0.296, -0.7096, 0.6486, 0.6486, -0.6705, -0.6249, -0.8519, -0.7845, -0.6808, -0.802, -0.802, -0.1779, -0.765, -0.9812, -0.765, 0.128, -0.9274, -0.9274, -0.9432, -0.6705, -0.9432, 0.0, 0.25, -0.9274, -0.8834, -0.9732, 0.0, -0.875, -0.875, 0.1027, -0.8555, -0.9623, -0.4215, 0.4966, -0.8225, 0.128, 0.0772, -0.765, -0.7351, -0.8126, 0.0772, -0.9652, -0.9652, -0.7506, 0.128, -0.8074, -0.0516, -0.0516, -0.4404, -0.4404, -0.8689, -0.296, -0.5994, -0.8689, -0.9738, -0.7717, -0.6705, -0.5859, -0.9246, -0.9605, -0.9246, -0.1027, -0.8885, 0.128, -0.7184, -0.7184, -0.5859, 0.0, -0.296, -0.2033, -0.5574, -0.8519, -0.8834, 0.128, 0.128, -0.7783, -0.7783, -0.7351, -0.9062, -0.5859, -0.5859, -0.7184, -0.7184, -0.8481, -0.6388, 0.0, 0.128, 0.8481, -0.8689, -0.8689, 0.0, -0.296, 0.34, -0.4767, 0.2263, -0.7269, 0.7543, 0.7543, 0.4939, 0.4939, -0.7003, -0.7003, 0.0258, 0.0, 0.0, -0.3182, -0.8658, -0.8658, -0.5267, 0.1531, 0.5411, -0.4767, -0.4767, -0.1531, -0.1531, 0.0, -0.4417, -0.7102, -0.8765, -0.2732, -0.2732, -0.5106, -0.4404, 0.4019, 0.4939, -0.8126, -0.1027, -0.1027, -0.9001, -0.9849, -0.9849, -0.6705, -0.6705, -0.8313, -0.6249, -0.969, -0.969, -0.5994, -0.5994, -0.1027, -0.2263, -0.7964, -0.5859, -0.5859, -0.8979, -0.8979, -0.2263, -0.296, -0.7906, -0.8442, 0.0263, -0.8797, -0.9295, -0.9726, -0.9365, -0.9365, -0.0772, -0.8979, -0.957, -0.9358, 0.128, -0.1027, -0.8126, -0.6486, -0.6249, -0.296, -0.4767, -0.7184, -0.7506, -0.7506, -0.93, 0.128, 0.128, 0.7717, 0.7717, -0.8885, -0.4404, -0.7783, -0.7269, -0.7506, -0.7351, -0.7351, 0.6597, -0.9022, -0.8979, -0.9382, -0.7351, -0.7351, -0.7269, -0.4199, -0.3612, 0.0, -0.5994, -0.9081, 0.0, -0.6808, -0.7845, -0.7845, 0.0108, 0.0, -0.9595, -0.9595, 0.0, -0.1531, 0.128, -0.7351, -0.7351, 0.6124, 0.6124, -0.9345, -0.8442, -0.8442, -0.6486, -0.6486, -0.3089, 0.0258, -0.6369, -0.8225, 0.3187, -0.9153, -0.7506, -0.7594, -0.6124, -0.3818, -0.5859, -0.4019, 0.4939, -0.5106, -0.7351, -0.0772, -0.8402, -0.8439, -0.875, -0.4588, -0.8481, -0.7783, -0.93, 0.128, -0.9501, -0.891, -0.765, -0.7579, 0.0, -0.8176, -0.9118, -0.9274, 0.0, -0.8957, 0.0, -0.8689, -0.8689, -0.8126, 0.4019, 0.4019, -0.9064, -0.967, -0.9064, -0.8519, -0.0258, -0.3818, -0.8074, -0.8074, 0.296, 0.4019, -0.584, -0.4767, -0.8555, -0.7964, -0.8555, -0.5994, 0.8224, -0.8957, -0.5859, -0.765, -0.9169, -0.9169, -0.9393, -0.8885, -0.6249, -0.8519, 0.128, -0.8316, -0.7579, -0.4767, -0.886, -0.1027, 0.128, -0.6369, -0.9423, -0.9423, -0.8323, -0.8323, 0.0, -0.2263, 0.2023, -0.9633, -0.9633, -0.6486, -0.4404, -0.5106, 0.6377, -0.5096, -0.9552, -0.9517, -0.0516, -0.0516, -0.836, -0.9905, 0.6597, -0.992, 0.6597, -0.8689, -0.8689, -0.6808, -0.6808, 0.0258, -0.5859, -0.1531, 0.0, 0.0772, -0.1531, -0.7184, 0.7579, -0.7184, -0.9022, -0.2695, 0.7184, 0.7184, -0.3818, -0.3612, -0.4215, -0.836, -0.7964, -0.7964, -0.9545, -0.7184, -0.7184, 0.2023, 0.34, -0.0772, -0.1779, -0.875, -0.8316, -0.5574, -0.4939, -0.9336, -0.9336, 0.0, -0.1027, -0.7783, -0.6476, -0.6486, 0.2732, -0.891, -0.7717, -0.6705, 0.0, -0.6249, 0.128, 0.128, 0.5106, 0.5106, -0.9477, -0.9612, -0.7351, -0.296, -0.6597, -0.4678, -0.4678, -0.9732, -0.9186, -0.93, -0.5106, -0.4763, -0.9786, -0.8481, -0.8481, -0.9357, -0.965, -0.296, -0.5267, -0.9403, 0.0772, 0.7783, 0.0, 0.128, -0.9418, -0.802, -0.802, -0.836, -0.6908, -0.836, -0.296, 0.0, -0.4404, -0.91, -0.9287, -0.4767, -0.5574, -0.6808, -0.4404, 0.6597, 0.6597, -0.1779, -0.1531, -0.9595, -0.3182, -0.7184, -0.7184, -0.7717, -0.9468, -0.8176, -0.891, -0.4019, -0.128, 0.0, -0.0516, 0.2263, 0.2263, -0.926, -0.926, -0.3595, -0.8519, -0.8519, 0.6124, -0.891, -0.5994, -0.5994, -0.9501, -0.9501, -0.3818, -0.7184, -0.4404, -0.4404, -0.9153, -0.9607, -0.5423, 0.0997, 0.128, -0.8271, -0.802, -0.8172, -0.9403, -0.886, -0.836, -0.5574, -0.8126, -0.8126, -0.5574, -0.9081, -0.0624, -0.6908, -0.5267, -0.8162, -0.7845, -0.9136, -0.9337, -0.802, -0.0516, -0.9337, -0.2008, -0.8442, -0.9143, 0.5994, -0.3182, -0.3818, -0.3818, -0.9118, -0.9118, -0.7096, 0.6908, 0.7184, 0.0, -0.296, 0.4966, -0.5187, -0.91, -0.91, -0.743, -0.743, -0.9726, -0.9864, -0.8885, -0.743, -0.4404, -0.4404, -0.1531, -0.8807, -0.4215, 0.25, -0.6705, -0.4215, 0.6369, 0.3919, -0.9649, -0.3818, -0.3818, -0.8893, 0.2023, -0.9246, -0.9773, -0.9773, -0.6369, 0.0258, -0.8625, 0.5927, -0.8519, -0.608, -0.9652, -0.8519, -0.802, 0.0772, -0.1027, -0.6249, -0.875, -0.802, -0.802, -0.9169, 0.1531, 0.1531, -0.3612, -0.3818, 0.0, -0.7227, -0.296, -0.7491, -0.7506, -0.6486, -0.8555, -0.2951, -0.296, -0.743, -0.978, -0.978, 0.4019, -0.4215, -0.8779, 0.128, 0.1536, -0.754, -0.5848, -0.754, 0.4019, 0.0, -0.7096, -0.9217, 0.0, -0.296, -0.8442, -0.8442, -0.5574, -0.0772, -0.5994, -0.4404, -0.4404, 0.4019, -0.0772, -0.4404, -0.7506, 0.4939, 0.4939, -0.5574, -0.4939, -0.8442, -0.9501, -0.9153, -0.7717, -0.4404, -0.0511, -0.875, -0.0516, 0.0516, -0.8126, -0.6249, -0.5423, -0.7506, -0.7964, -0.7964, -0.8442, -0.8779, -0.8481, -0.6597, -0.8316, -0.8519, -0.7003, -0.91, -0.9403, -0.6486, -0.7351, -0.8126, -0.6705, -0.6369, -0.8934, -0.8934, -0.3818, -0.3818, -0.967, -0.967, -0.8555, 0.0387, -0.6369, -0.3182, -0.8402, -0.6705, -0.5719, -0.765, 0.0, -0.6249, -0.5423, -0.5423, -0.5574, -0.5574, -0.9382, -0.9349, -0.8481, -0.34, -0.9741, -0.9652, -0.4215, -0.8658, 0.0, -0.8834, -0.93, -0.9925, -0.9136, -0.5994, -0.8957, -0.93, -0.3818, -0.9538, 0.0, -0.7579, -0.8126, -0.8442, -0.9552, -0.9552, -0.6124, -0.6124, -0.936, -0.8625, -0.9538, 0.25, -0.1779, 0.2942, 0.2942, -0.9766, -0.9723, -0.0772, -0.6124, -0.8074, -0.8957, 0.0, -0.0644, 0.3612, -0.5106, 0.7783, -0.3182, -0.6705, -0.6705, -0.3818, -0.1027, -0.1027, -0.4939, -0.6369, -0.4939, -0.6124, -0.6124, -0.9136, -0.9595, -0.4926, -0.743, -0.8573, -0.891, -0.891, -0.9618, -0.9618, -0.872, -0.8555, -0.7276, -0.8573, -0.8402, -0.8402, -0.9136, -0.5267, -0.296, -0.5267, -0.4767, -0.8519, -0.9001, -0.8689, -0.7906, -0.5719, -0.4404, -0.6705, -0.9022, -0.8271, -0.0624, -0.0258, 0.0, -0.5574, -0.8271, -0.9477, -0.9531, -0.8402, -0.9435, -0.9435, -0.4019, -0.6124, -0.8979, -0.6249, -0.6705, -0.8225, 0.0, -0.4215, -0.7003, -0.7003, -0.2263, -0.5859, -0.4215, -0.3612, -0.3612, 0.0, -0.9434, -0.9434, -0.0516, -0.7579, -0.9001, -0.7003, -0.8934, -0.8934, 0.25, 0.25, -0.9493, -0.8834, -0.9382, -0.8481, -0.9118, -0.8545, -0.9547, -0.4215, 0.0, -0.5267, 0.6981, -0.6808, 0.0129, -0.5267, -0.7812, -0.7812, -0.7828, -0.7828, 0.6597, 0.4588, -0.4215, -0.9814, -0.9814, -0.5719, -0.8934, -0.9928, -0.9747, -0.9931, -0.7269, -0.9062, -0.9451, -0.8979, -0.8979, -0.6808, -0.5719, -0.5719, -0.3612, 0.8553, 0.128, -0.8316, -0.8316, -0.9628, -0.9682, -0.9153, -0.8658, 0.4019, 0.3818, -0.128, 0.0139, 0.0139, -0.5859, -0.5859, -0.7003, -0.9062, -0.9062, -0.9517, -0.9517, -0.765, 0.5996, -0.2263, 0.4404, -0.743, -0.743, -0.8481, -0.8658, -0.7184, -0.7184, -0.9886, -0.9687, -0.8779, -0.4215, -0.8779, -0.8126, -0.8074, -0.8074, -0.6249, -0.7096, -0.9538, 0.128, -0.0534, -0.9451, -0.5719, -0.3612, -0.7845, -0.6808, -0.4993, 0.4019, 0.0258, 0.0, -0.6908, -0.8176, -0.0258, -0.296, -0.6808, -0.7184, -0.7964, -0.9552, -0.34, 0.2732, -0.7845, -0.7845, 0.128, 0.128, -0.5719, 0.1531, -0.4019, -0.836, -0.7584, -0.7363, 0.8516, -0.7351, -0.7269, -0.296, -0.8911, -0.3063, -0.296, -0.8779, -0.296, -0.9753, -0.7717, -0.7717, 0.8176, -0.7003, -0.1027, 0.1416, 0.1416, -0.8442, 0.4019, -0.0377, -0.8779, -0.34, -0.4404, -0.8834, -0.891, -0.25, -0.25, -0.0258, -0.8784, -0.8784, -0.0511, -0.6908, -0.6908, -0.1531, -0.1531, 0.824, -0.9371, 0.34, -0.6486, -0.8591, 0.7184, 0.7184, -0.743, -0.8316, 0.0964, 0.0964, 0.0, -0.4404, -0.8316, 0.5848, -0.8957, -0.8957, -0.8316, -0.6124, -0.8316, -0.8779, -0.8779, -0.5719, -0.7096, 0.3187, 0.25, -0.7845, 0.1027, -0.9559, 0.1027, 0.0, -0.1027, 0.1779, -0.7096, -0.8316, -0.5859, -0.8957, -0.8957, -0.6136, 0.128, -0.4767, -0.5719, -0.6486, -0.5267, -0.5574, -0.7351, 0.0, -0.1531, -0.9287, -0.9287, -0.9274, -0.6597, -0.8979, -0.0258, 0.5927, -0.8225, -0.8225, -0.8515, -0.5086, -0.8515, -0.967, -0.3818, -0.2033, 0.34, 0.34, -0.34, -0.7003, -0.8481, -0.7003, -0.296, -0.891, 0.128, -0.802, -0.9764, -0.9764, 0.3612, -0.8779, -0.6249, -0.4215, -0.4215, -0.9042, -0.9042, -0.743, -0.8481, -0.8762, 0.5968, -0.7964, -0.7964, -0.7114, -0.8885, -0.8885, -0.9062, -0.7964, -0.7964, 0.5859, 0.5859, -0.3818, -0.765, -0.765, -0.9924, -0.8591, -0.7717, -0.7845, -0.9393, -0.9393, 0.4019, -0.2732, 0.128, -0.9828, -0.7003, -0.7184, -0.9761, 0.128, -0.7269, -0.7269, -0.296, 0.1027, -0.5267, -0.5574, -0.128, 0.2003, -0.9153, -0.8555, -0.4215, 0.4416, -0.9081, -0.5994, -0.9633, 0.0, -0.4404, -0.5259, -0.5106, 0.7096, -0.9377, 0.128, -0.924, -0.4019, -0.4019, -0.9186, 0.8094, 0.8094, 0.4215, -0.7717, -0.7717, -0.4404, -0.4404, -0.9393, -0.7269, -0.9201, 0.0, 0.8271, -0.7833, 0.128, 0.128, -0.5736, -0.5736, -0.9393, 0.25, -0.4404, 0.1779, 0.1779, 0.0, -0.2263, -0.7845, -0.8693, -0.296, -0.8074, -0.7269, -0.7269, -0.7184, -0.34, -0.34, -0.5994, -0.5994, -0.5859, -0.7717, -0.5106, -0.8934, -0.9246, 0.25, -0.9136, 0.128, 0.9062, 0.0644, -0.7096, -0.9325, 0.0, -0.296, -0.3818, 0.8516, -0.0516, -0.1027, -0.1027, -0.4215, -0.4767, -0.5859, -0.3818, -0.0, -0.7783, -0.3818, -0.5267, -0.8779, -0.9843, -0.9843, -0.9081, -0.7579, 0.2732, 0.128, -0.0516, 0.0, -0.6705, -0.0516, 0.128, 0.4019, -0.8625, -0.9961, -0.9775, -0.6808, -0.6808, -0.3182, 0.0, 0.0, -0.5574, -0.296, -0.7506, -0.1779, -0.4767, -0.9447, -0.836, -0.6249, -0.6124, -0.836, -0.4404, -0.5859, -0.9001, -0.8271, 0.0, -0.7579, -0.7184, -0.7184, -0.5859, -0.5106, -0.6705, -0.7579, -0.7351, -0.743, -0.7351, -0.6249, -0.6249, -0.25, -0.5719, -0.7964, -0.9022, -0.4939, -0.4939, -0.7783, -0.995, -0.7783, -0.2037, -0.7783, -0.3612, -0.6249, -0.2516, -0.8692, -0.7717, -0.7096, -0.4588, 0.0, -0.6369, 0.0, -0.6124, -0.1749, -0.1749, -0.9287, -0.9287, 0.0, 0.1793, -0.3818, -0.8625, -0.3818, -0.7003, 0.124, 0.3987, -0.8481, -0.765, -0.8834, -0.8834, 0.1779, -0.8591, -0.8591, -0.5267, -0.9287, -0.3612, -0.8402, -0.34, -0.8658, 0.0772, -0.5423, 0.3612, 0.128, -0.9081, -0.5859, 0.0, -0.7783, -0.8885, -0.1779, -0.4215, -0.1779, -0.9382, -0.9382, -0.3612, -0.3612, -0.8591, -0.9286, -0.3612, -0.8225, -0.9571, -0.5106, -0.4404, -0.6705, -0.6486, -0.6486, 0.1027, -0.891, -0.5719, -0.784, -0.784, -0.505, -0.4215, 0.128, -0.9403, -0.7096, -0.9432, -0.9432, -0.1779, 0.0, -0.5267, -0.0258, -0.7163, -0.5538, 0.0, -0.6124, -0.7184, -0.6705, -0.743, 0.1531, 0.1531, -0.6369, -0.7845, 0.7147, 0.8252, -0.9042, -0.7184, -0.7184, -0.0772, -0.0772, -0.8338, -0.872, -0.5267, -0.7884, -0.2263, -0.2263, -0.2263, -0.7515, -0.2263, -0.3818, -0.7717, -0.7717, 0.25, -0.5994, -0.875, -0.7964, -0.4597, -0.9337, -0.8663, -0.8663, -0.8442, -0.4215, -0.4215, -0.5994, -0.1779, -0.836, 0.128, 0.128, 0.2732, -0.296, -0.5423, -0.9531, -0.9153, -0.7269, -0.7269, -0.9423, -0.9325, 0.0, -0.6249, -0.2023, -0.9517, -0.7351, -0.4215, -0.0516, -0.765, -0.7096, -0.7096, -0.8934, 0.4019, 0.128, -0.128, -0.128, -0.5106, -0.5106, 0.128, -0.8126, -0.8126, 0.0, -0.8271, -0.6908, -0.7506, 0.0, -0.8481, -0.5259, -0.2732, -0.5719, 0.0, -0.296, -0.2263, -0.2263, -0.7717, -0.7717, -0.128, 0.0, -0.6124, -0.6124, -0.9001, -0.2732, 0.34, 0.128, 0.6124, -0.9153, -0.4404, -0.3822, -0.3822, -0.6705, -0.9042, -0.975, -0.4404, -0.8885, -0.4404, -0.6705, -0.4588, -0.9493, -0.128, -0.128, -0.7579, -0.7579, -0.4404, -0.7003, -0.9485, -0.8834, -0.4404, -0.0516, 0.4404, -0.8689, -0.8689, -0.2263, -0.5574, -0.1779, -0.4215, -0.743, -0.8807, -0.8807, -0.5574, -0.6369, -0.8074, -0.8074, 0.9612, 0.9612, -0.9201, -0.9747, -0.9834, -0.6808, 0.128, 0.128, -0.296, -0.744, -0.744, 0.7783, 0.4019, -0.0772, 0.0, -0.1779, -0.296, -0.743, -0.8481, -0.1027, 0.25, -0.8555, -0.7351, -0.9371, 0.4019, -0.9413, -0.8074, -0.743, -0.1027, 0.4215, -0.9531, -0.1027, -0.9774, -0.9774, 0.0258, -0.8481, 0.3067, -0.5994, -0.9081, 0.128, -0.4767, -0.6808, -0.4404, 0.128, 0.128, -0.9246, -0.8834, -0.2023, 0.0, -0.1779, -0.6369, -0.7351, -0.3182, -0.2263, -0.3818, -0.7906, -0.9678, -0.7184, -0.4215, -0.7964, -0.8316, -0.926, -0.8591, -0.8591, 0.6476, -0.4597, -0.6486, -0.296, 0.128, -0.9169, -0.9169, -0.946, -0.9403, 0.0, -0.8658, -0.9201, -0.9313, -0.1531, -0.6969, -0.7269, -0.7269, -0.4404, -0.4404, 0.0, -0.7351, -0.5994, -0.7906, -0.8689, 0.7506, 0.68, -0.9571, 0.8176, 0.8176, -0.6486, -0.7506, -0.7506, -0.5106, -0.7717, -0.1027, 0.1531, 0.2023, -0.1779, -0.1779, 0.25, 0.25, 0.25, -0.7906, -0.8834, 0.5499, 0.5499, -0.4404, -0.4404, -0.8555, -0.7845, -0.5423, -0.3182, -0.6327, 0.0864, -0.6124, 0.6486, 0.6486, 0.128, -0.7096, -0.4215, -0.6369, 0.3182, -0.8405, -0.2732, -0.6808, 0.34, -0.765, -0.8126, 0.0, -0.1027, -0.7259, -0.7259, -0.8807, -0.8807, -0.296, -0.296, -0.9371, -0.4215, -0.0534, -0.0534, -0.2263, -0.7845, -0.7003, -0.8481, -0.9001, -0.946, -0.8807, -0.9432, -0.9432, -0.9169, 0.0, 0.128, -0.3818, -0.5574, -0.7717, -0.4215, -0.5574, -0.4404, -0.7269, -0.977, -0.9413, -0.9337, -0.886, -0.9628, -0.886, -0.5994, -0.5719, -0.9442, -0.8402, -0.8402, -0.9153, -0.8225, -0.9555, -0.1779, -0.7003, -0.0516, -0.2023, 0.0772, -0.4404, -0.9389, -0.8176, -0.6908, -0.6808, -0.6808, -0.6705, -0.6705, -0.9674, -0.7717, 0.7436, -0.296, -0.8957, -0.9366, 0.6378, 0.6486, 0.3818, -0.5106, -0.7096, -0.8155, -0.9442, -0.836, 0.4019, 0.6486, -0.875, -0.2263, -0.8519, 0.0, -0.6369, -0.1027, -0.9423, -0.891, -0.9638, -0.9638, -0.8689, -0.891, -0.3612, -0.7184, -0.4767, 0.2732, -0.967, -0.9732, -0.9062, -0.7787, -0.1531, -0.6908, 0.2023, 0.2023, -0.7184, -0.5859, -0.5574, -0.4404, -0.4404, 0.4019, -0.886, 0.2263, 0.2263, -0.4404, -0.6486, -0.6486, -0.891, -0.9532, -0.5106, -0.926, -0.1779, -0.926, -0.4404, -0.9509, -0.4404, -0.4404, 0.0, -0.2732, -0.7506, -0.7506, -0.9217, -0.8555, -0.886, -0.5267, -0.8442, -0.5423, -0.296, 0.3164, -0.765, -0.9442, -0.9442, -0.25, -0.8343, -0.8271, -0.8271, -0.7351, -0.7351, -0.891, -0.8555, -0.8655, -0.981, -0.6249, -0.2023, -0.2023, -0.7096, -0.2263, -0.7351, -0.4404, -0.9442, -0.9442, -0.9118, -0.9118, 0.5574, 0.6369, -0.7351, 0.4939, -0.6705, -0.8074, -0.9578, -0.9578, 0.6908, -0.3612, -0.8625, -0.8625, -0.8316, -0.8442, -0.7096, -0.9887, -0.8481, -0.9666, -0.1779, -0.8481, -0.8481, -0.296, -0.5859, -0.4019, -0.3818, -0.802, -0.9638, 0.1154, -0.9062, -0.9349, -0.4404, 0.0, -0.1779, -0.9337, -0.9648, -0.8519, -0.3612, 0.2732, 0.2732, -0.9217, -0.836, -0.836, -0.7351, -0.9595, 0.0258, 0.0, -0.6705, -0.5773, -0.7906, -0.9886, -0.8519, -0.8519, -0.8979, -0.2714, -0.2023, -0.7311, -0.6757, -0.5574, -0.5574, 0.125, 0.128, 0.128, -0.8225, -0.8481, -0.8481, -0.8316, -0.886, -0.886, -0.9607, -0.9607, -0.8625, -0.7506, -0.4588, -0.9951, -0.7351, -0.9951, 0.128, -0.2732, -0.296, -0.7184, -0.7964, 0.0, -0.7096, 0.2023, 0.4215, -0.9524, -0.8957, -0.9001, -0.9001, -0.4019, 0.4404, 0.0516, -0.9413, -0.7269, 0.5719, -0.6808, -0.7906, -0.7906, -0.7288, 0.4019, -0.8074, -0.1027, -0.7184, -0.6705, -0.9186, -0.8957, -0.8957, -0.875, -0.3612, -0.9136, -0.7003, -0.4404, -0.6249, -0.4404, -0.1531, -0.8225, -0.9578, -0.9578, -0.8578, 0.0, -0.3818, -0.3612, -0.2023, -0.969, -0.969, -0.9846, -0.7579, -0.7579, -0.5994, -0.5994, -0.8625, 0.128, -0.8555, -0.4404, -0.8442, -0.4215, -0.5859, 0.4939, -0.4767, -0.926, 0.2732, 0.2732, -0.7579, -0.9169, 0.2235, 0.3374, -0.9712, -0.2263, -0.9118, -0.9231, 0.34, -0.4215, -0.959, -0.9622, -0.9595, -0.959, -0.9393, 0.2732, -0.296, 0.2263, 0.2732, 0.3612, -0.4404, -0.9413, -0.765, 0.4939, -0.6597, 0.0, -0.8074, -0.4939, -0.3818, 0.25, -0.6378, 0.0258, -0.6378, -0.8381, -0.8381, -0.9712, 0.128, -0.296, 0.128, 0.2732, -0.5267, -0.5267, -0.6486, -0.3182, -0.4404, -0.7906, -0.4261, -0.5305, -0.7506, -0.7506, -0.4588, 0.5423, 0.5423, -0.9694, -0.9325, -0.9587, 0.6908, -0.4019, -0.6234, -0.6234, -0.8625, -0.8625, -0.9186, -0.8689, -0.9062, 0.2686, -0.0258, -0.8888, -0.8316, -0.872, -0.4404, -0.066, -0.9441, 0.2023, 0.2023, -0.6249, -0.6249, -0.5267, -0.9303, -0.7717, -0.8625, -0.1779, -0.7717, -0.9022, -0.8519, -0.1027, -0.802, -0.8228, -0.9201, 0.0, -0.0258, -0.2023, -0.296, -0.6705, -0.872, -0.4019, -0.4404, -0.4404, -0.9538, -0.9584, 0.25, -0.9744, -0.9744, -0.9708, -0.0803, -0.3818, -0.3818, 0.128, 0.128, -0.6486, -0.6808, -0.9313, -0.7096, -0.9313, -0.8885, -0.8885, -0.3818, -0.5574, -0.2732, -0.2732, -0.8313, -0.8748, -0.4939, -0.7906, -0.4939, -0.296, -0.4215, -0.5106, -0.6124, 0.0, -0.8126, -0.8979, 0.1027, 0.0, -0.4215, -0.9201, -0.5267, -0.5562, -0.5574, -0.9136, -0.7845, -0.8658, -0.8834, 0.5574, -0.9565, 0.1027, -0.981, -0.9139, -0.9139, 0.0, 0.4019, 0.4939, 0.4215, 0.4215, -0.9062, 0.0, -0.3818, -0.7003, -0.0772, -0.9382, -0.25, -0.9241, -0.9552, -0.1027, -0.2263, -0.8591, -0.6124, -0.9524, -0.9859, -0.802, -0.8126, -0.8126, -0.7935, -0.2263, -0.3612, -0.8708, -0.8779, -0.9109, 0.0, -0.3818, -0.743, -0.4993, -0.3612, 0.34, 0.5859, 0.34, -0.743, -0.9371, -0.0717, -0.7351, -0.5719, 0.0, -0.4404, -0.7351, 0.2732, 0.128, -0.1779, -0.1779, -0.8126, 0.0, -0.4767, -0.9451, -0.6369, 0.128, -0.7506, -0.9784, -0.3612, -0.5859, -0.1911, -0.1911, -0.5994, -0.8481, -0.7269, -0.6249, -0.6369, -0.9118, -0.8625, -0.9644, -0.1779, -0.1779, -0.7184, -0.5994, -0.5994, -0.8176, -0.9761, -0.8176, -0.9565, -0.9607, 0.128, -0.8176, -0.296, -0.8225, -0.5267, -0.8481, -0.7964, -0.9287, -0.8625, -0.2023, -0.6597, -0.9897, -0.5859, -0.9928, 0.296, -0.93, -0.8591, -0.0258, -0.8481, 0.128, -0.7906, -0.1027, -0.3818, -0.6369, -0.7906, -0.7184, -0.8834, -0.8225, -0.0772, -0.25, -0.296, -0.2023, -0.9818, 0.128, 0.2732, -0.4284, -0.4284, -0.6652, -0.4767, -0.8442, 0.4939, 0.2023, -0.6808, -0.836, -0.552, -0.9349, -0.4767, -0.4767, -0.5994, -0.5994, -0.4215, 0.126, -0.9786, -0.9786, 0.34, 0.0516, 0.0516, -0.1027, -0.2263, -0.8625, -0.2263, 0.4168, -0.5859, -0.4404, 0.25, 0.25, -0.2732, -0.9643, -0.9643, -0.4404, -0.6486, -0.2654, 0.5562, 0.5562, -0.5106, -0.5106, -0.9545, -0.7873, -0.7783, -0.9846, -0.9569, -0.5719, -0.3612, 0.0, -0.4215, -0.4215, -0.9231, -0.9349, -0.2023, 0.2677, -0.9769, 0.4019, -0.9517, -0.836, -0.836, -0.6513, -0.7596, -0.1531, -0.9448, -0.9655, -0.8271, -0.9831, -0.7003, -0.9493, -0.9493, -0.7579, 0.1779, -0.6124, -0.6124, -0.3612, -0.4997, -0.4997, -0.8225, -0.4763, -0.4763, -0.7906, -0.7906, 0.7506, 0.2023, 0.6249, 0.8658, 0.8658, -0.4404, -0.9153, -0.7096, -0.296, -0.4215, -0.7964, -0.8176, 0.0, -0.7003, -0.9623, -0.2732, -0.7269, -0.3612, -0.3612, -0.9062, -0.8481, -0.6124, -0.6124, 0.128, 0.128, -0.9353, -0.9353, 0.765, 0.0, -0.4043, -0.7003, -0.8555, 0.0, -0.1779, 0.1531, 0.0, -0.6124, 0.0, -0.8402, -0.875, -0.8979, 0.4588, 0.4588, -0.9118, -0.9042, -0.9042, 0.0258, -0.9705, -0.7096, -0.6369, -0.8442, -0.8442, -0.9905, -0.4731, -0.5267, -0.3818, 0.802, 0.875, -0.9576, -0.1808, -0.6486, 0.34, -0.6808, -0.8481, -0.7003, -0.6249, -0.296, -0.1779, 0.296, 0.1779, 0.0, -0.1531, -0.34, -0.6486, -0.4404, 0.0516, 0.0516, -0.6808, 0.0966, -0.8126, -0.296, -0.296, -0.4404, -0.296, -0.296, -0.8225, -0.9693, -0.9693, -0.296, -0.5267, -0.8481, 0.0, -0.836, -0.7096, -0.7096, -0.4939, -0.5859, -0.8402, -0.9485, -0.34, -0.7964, -0.7964, -0.4215, -0.875, 0.7783, -0.6597, -0.296, -0.9545, -0.8402, -0.765, -0.6597, -0.1531, 0.4019, -0.2023, -0.9578, -0.9578, -0.9661, -0.9661, -0.891, -0.2263, -0.9371, -0.7003, -0.2023, -0.4215, -0.872, -0.8074, -0.7184, -0.6486, -0.8402, -0.8402, -0.946, 0.128, 0.128, 0.9313, 0.9313, -0.91, -0.91, -0.7351, -0.8126, -0.8689, 0.3612, -0.8271, -0.3612, -0.9485, -0.8807, -0.8729, -0.8885, -0.7717, -0.4588, -0.8957, -0.7184, -0.8625, -0.9643, -0.6124, -0.9432, -0.7351, -0.9955, -0.9951, -0.9962, -0.5267, -0.886, -0.886, 0.0, -0.7351, -0.9325, -0.9325, -0.1027, -0.1027, -0.296, -0.1779, -0.6705, -0.9325, -0.9325, -0.8225, -0.8225, -0.9001, -0.8225, -0.9001, -0.9042, -0.7269, -0.34, -0.9741, -0.9741, -0.9026, -0.9201, -0.9062, 0.0, -0.3818, -0.7351, -0.7351, -0.4404, 0.0, -0.1027, 0.4019, -0.802, -0.9081, -0.9081, -0.7351, -0.7351, -0.4215, -0.4215, -0.8625, 0.4215, 0.7096, -0.9661, 0.1779, 0.1779, -0.5717, -0.2732, 0.0, -0.6369, -0.9578, -0.8402, -0.8402, -0.8779, -0.8779, -0.6652, -0.4588, -0.9313, -0.8934, 0.6808, 0.6808, 0.0, 0.0263, -0.1531, 0.2686, -0.5859, -0.5859, -0.872, 0.0, -0.5106, 0.0, -0.09, -0.6705, -0.4767, -0.5023, -0.5106, -0.6124, 0.0, -0.6908, -0.8271, -0.9128, -0.8126, -0.4215, 0.0, -0.4404, -0.4404, 0.0, 0.128, -0.6486, -0.1531, -0.9022, -0.946, -0.1779, -0.3832, -0.9485, -0.9485, -0.5719, -0.3832, -0.0, -0.0, -0.9652, -0.959, -0.7373, 0.96, -0.93, 0.25, -0.9136, -0.8625, -0.9136, -0.9442, -0.296, -0.3818, -0.9442, 0.0516, 0.0516, -0.8555, -0.8779, 0.5423, 0.5423, -0.6908, -0.9136, 0.5719, -0.6124, -0.4404, -0.4939, -0.5927, -0.9194, -0.4404, -0.6597, -0.8074, 0.128, -0.9612, -0.9612, -0.802, 0.9429, -0.4215, -0.4215, -0.296, -0.8271, -0.8126, -0.9378, -0.9378, -0.6705, -0.3818, -0.4404, -0.1027, -0.8555, -0.5719, -0.9325, 0.1779, -0.2732, -0.8979, -0.4767, 0.5574, -0.4215, -0.1531, -0.9719, -0.7096, -0.4404, -0.3818, -0.7269, 0.0, 0.0, -0.6808, -0.6808, -0.0772, 0.128, -0.8591, 0.128, 0.2942, 0.2942, -0.3071, -0.3071, -0.7184, -0.7964, -0.7153, -0.7269, -0.8555, -0.8591, -0.9246, -0.9669, -0.9669, -0.5574, -0.4404, -0.5106, -0.8555, -0.9898, -0.6369, -0.8625, -0.7717, -0.6124, -0.4767, 0.128, 0.128, -0.8591, -0.7783, -0.4588, -0.3182, -0.6124, -0.9712, -0.9712, -0.8445, -0.5994, -0.5994, -0.5859, -0.9638, -0.4404, -0.8176, -0.6705, -0.4215, -0.4215, 0.3612, -0.7003, -0.8316, -0.8126, -0.8126, -0.4404, 0.128, -0.9136, -0.9559, -0.4939, -0.9393, -0.8797, -0.6249, -0.836, -0.7096, -0.872, -0.1027, -0.9501, -0.0, 0.0, -0.0, 0.5574, 0.5574, 0.6705, 0.6705, 0.0, -0.1779, 0.25, -0.9753, -0.7783, -0.936, -0.7579, -0.7579, -0.8225, -0.34, -0.5994, -0.25, -0.6369, -0.6369, -0.7964, -0.296, -0.0516, -0.5267, -0.743, -0.5574, -0.5574, 0.3818, -0.9313, -0.3818, -0.4404, -0.9274, -0.9217, 0.3182, -0.9081, -0.8442, -0.5994, -0.3818, -0.3818, -0.9336, -0.9313, -0.6705, -0.6705, -0.9267, -0.1531, -0.1531, 0.5271, -0.9313, -0.9695, -0.4404, 0.1531, 0.25, 0.8225, -0.4939, 0.3612, -0.836, -0.836, 0.1531, 0.1779, -0.9423, -0.6369, -0.296, 0.5574, -0.296, -0.743, -0.7534, -0.6124, 0.5719, -0.9609, -0.0808, -0.9609, 0.4588, 0.4588, -0.9559, -0.988, 0.128, -0.7845, 0.128, -0.8402, -0.8555, -0.872, 0.2732, 0.2617, -0.68, -0.6486, -0.8658, 0.2023, -0.9287, -0.8658, -0.3536, -0.8885, 0.0, -0.8316, -0.6369, -0.4215, -0.3612, -0.8074, 0.2846, 0.5106, 0.631, -0.4215, -0.3818, -0.0772, -0.0258, -0.0258, -0.5859, 0.126, -0.9109, -0.9345, -0.25, -0.9382, -0.9382, -0.25, -0.9652, 0.0, -0.9093, -0.1406, -0.3903, -0.886, -0.9468, 0.2263, -0.4939, -0.9022, 0.2228, 0.2228, -0.1027, -0.1027, -0.1779, -0.836, -0.6369, -0.5994, -0.7351, -0.7351, -0.802, -0.3818, -0.3818, -0.8316, -0.8979, -0.8578, -0.9403, -0.9403, -0.6369, -0.34, -0.0772, -0.3612, -0.7579, -0.3326, -0.8519, 0.0516, -0.4767, -0.7003, -0.7003, -0.6124, -0.6124, -0.7783, -0.296, 0.362, 0.0, 0.4164, -0.5824, -0.6908, -0.4588, -0.4588, -0.968, -0.6486, -0.3612, -0.3612, -0.4588, -0.4588, -0.765, -0.9371, -0.9371, -0.9915, -0.9915, -0.3612, -0.8176, -0.7906, -0.7906, -0.936, -0.936, 0.5719, -0.9519, -0.3595, -0.9352, -0.5719, -0.5719, -0.7717, -0.8957, -0.5106, -0.4404, -0.4404, -0.8885, -0.8885, -0.6808, -0.7506, -0.9615, 0.5574, -0.9371, -0.9349, -0.8888, 0.0, -0.6369, 0.5859, 0.8519, 0.296, -0.8807, -0.8625, -0.8481, 0.0644, -0.1779, -0.1779, -0.0772, -0.296, -0.296, -0.5994, -0.891, -0.891, -0.9872, 0.0, -0.9732, -0.9732, -0.6597, -0.4019, -0.1779, 0.128, 0.3182, 0.3182, -0.8225, -0.7506, -0.4404, -0.8595, -0.8595, 0.0, -0.9153, -0.9432, -0.9651, 0.0966, 0.0, -0.6486, -0.1779, -0.9042, 0.6234, 0.0, -0.4404, -0.9661, 0.34, -0.7184, -0.7003, -0.7906, -0.7096, 0.296, 0.0, -0.8225, -0.7096, -0.2263, -0.9859, -0.9719, -0.8957, -0.25, -0.25, -0.8271, -0.7351, 0.4588, -0.4404, -0.7506, 0.0, -0.6705, -0.4404, -0.0258, 0.959, 0.959, -0.7964, 0.128, 0.128, 0.4019, 0.4019, -0.6124, -0.8442, 0.1027, 0.836, -0.7845, -0.34, -0.1531, -0.25, -0.1027, -0.6369, -0.8519, -0.9371, -0.6369, 0.3995, -0.8126, -0.7506, -0.969, -0.7506, -0.7096, -0.6369, -0.5106, 0.2023, 0.2023, -0.7096, -0.8271, -0.1531, -0.5859, -0.8716, 0.0, -0.8658, 0.9001, -0.8792, -0.5719, -0.3818, 0.5574, -0.3182, -0.5719, -0.9062, -0.9062, -0.872, -0.9571, -0.8505, -0.9875, -0.9798, -0.9875, -0.1779, 0.128, 0.128, -0.3182, -0.9712, -0.967, 0.3067, -0.5423, -0.9383, -0.296, -0.9314, -0.6597, -0.6486, -0.4939, 0.0, -0.1779, -0.6908, 0.2263, -0.1027, -0.7096, -0.7717, -0.7506, -0.5719, -0.8622, -0.5719, -0.6808, -0.9393, -0.6808, -0.765, -0.802, -0.3182, -0.802, -0.8442, -0.9267, -0.5147, -0.5147, -0.926, -0.891, -0.8689, -0.8402, -0.9299, -0.9984, -0.9413, -0.9568, -0.9568, -0.2263, 0.0, -0.4215, -0.941, 0.1779, -0.8934, 0.4019, 0.714, 0.714, -0.978, -0.872, 0.0, -0.6908, -0.711, -0.711, -0.6964, -0.7922, -0.9765, -0.9451, -0.8271, -0.93, -0.7269, 0.128, -0.8834, -0.9726, -0.9726, -0.4404, -0.7096, -0.7096, -0.4215, -0.3818, -0.4215, -0.0, -0.5423, -0.9231, -0.6369, 0.4599, 0.4599, 0.0772, 0.128, -0.1027, -0.936, -0.936, -0.5267, 0.0, -0.5423, -0.8316, -0.802, 0.128, -0.8591, -0.8591, -0.5859, -0.7964, 0.8126, -0.6249, -0.5719, -0.4404, -0.9656, -0.9656, -0.5994, -0.6808, -0.6249, -0.7783, -0.7783, -0.743, -0.743, -0.4939, -0.2732, 0.4449, -0.3971, -0.2091, -0.8126, -0.5676, -0.5994, -0.5994, -0.6808, -0.7506, -0.7506, -0.6582, -0.8957, 0.0, -0.5106, -0.8126, 0.128, -0.3191, -0.1134, 0.0, 0.34, 0.2462, 0.2462, -0.6369, -0.9246, -0.9246, -0.6705, -0.2023, -0.7351, -0.7351, -0.6124, 0.0, -0.5267, 0.128, -0.9908, -0.4939, 0.0, -0.4939, -0.9303, -0.0772, -0.3818, -0.7184, -0.296, -0.296, 0.3182, 0.3182, -0.6908, -0.4588, -0.2732, -0.4404, -0.8126, -0.872, 0.4404, 0.4404, -0.9716, 0.2235, 0.0742, -0.9584, -0.9584, -0.6705, -0.6705, -0.7964, -0.7964, -0.8555, -0.5267, 0.128, -0.9666, -0.128, -0.743, -0.891, -0.891, -0.7906, -0.9823, 0.0258, 0.0258, -0.743, -0.9337, -0.6124, -0.9223, -0.1027, -0.1027, -0.4404, -0.5859, -0.9688, -0.9688, 0.7717, 0.1531, 0.1531, -0.2023, -0.9432, -0.3818, -0.9595, -0.7506, -0.7506, -0.3818, -0.6808, -0.6486, -0.891, -0.9062, -0.9694, 0.128, -0.5106, 0.0, -0.1779, -0.8689, -0.8689, -0.3182, -0.3182, -0.9687, -0.836, 0.7964, 0.91, 0.0, -0.8625, -0.9313, -0.8834, -0.891, 0.0, 0.3818, -0.4404, -0.6249, -0.1027, -0.5859, 0.5842, 0.5842, 0.0, -0.2528, -0.6808, -0.7783, 0.0, -0.4404, -0.6486, -0.6486, 0.891, 0.9186, -0.743, -0.8809, -0.8271, -0.8271, -0.7003, -0.8807, -0.8807, -0.9633, -0.9153, -0.8934, -0.6077, -0.8934, 0.1506, -0.1556, -0.5719, -0.9571, -0.9571, -0.5267, -0.8402, -0.4763, -0.4763, -0.9393, -0.9393, -0.9485, -0.9485, -0.7579, -0.8052, -0.7881, 0.7579, 0.7579, -0.6582, -0.8, 0.0227, 0.0227, -0.5368, -0.4404, -0.8689, -0.875, -0.296, -0.8225, -0.8, -0.5106, -0.9313, -0.9081, -0.8074, -0.7003, 0.0864, -0.6558, -0.8625, -0.8625, -0.5574, -0.5574, -0.9794, -0.8481, -0.8481, -0.743, -0.5267, -0.8225, -0.1027, -0.1027, -0.9545, 0.128, -0.4404, 0.128, -0.1027, -0.6597, -0.765, 0.0, -0.8216, 0.0, -0.1779, -0.1027, -0.6597, -0.296, -0.6705, -0.7003, -0.7003, -0.8525, -0.8885, -0.296, -0.4404, -0.9766, 0.4215, -0.3818, -0.8555, -0.7579, -0.8442, -0.9313, -0.5994, -0.5994, -0.7269, 0.4019, 0.3612, 0.4588, -0.7579, -0.7579, -0.6734, 0.2023, -0.9022, -0.9371, 0.0258, 0.128, 0.128, -0.7506, -0.7096, -0.6124, -0.1779, 0.0, 0.0, 0.1531, -0.7906, -0.7351, -0.7351, -0.9612, -0.9612, -0.8271, 0.1027, 0.2732, 0.2732, -0.2023, -0.0772, -0.7783, -0.6486, -0.5719, -0.3818, -0.6597, -0.3818, -0.5267, -0.0516, -0.4939, -0.8519, -0.34, -0.4215, 0.0, -0.2732, -0.7269, -0.9451, -0.91, -0.91, -0.6249, -0.7717, -0.7003, -0.8834, -0.7003, -0.6597, 0.4404, 0.4404, -0.9205, -0.8316, -0.7941, -0.7941, -0.0772, -0.8225, 0.5719, -0.975, -0.296, -0.3818, -0.9849, -0.9732, 0.3612, 0.3612, -0.6705, -0.9595, -0.9732, -0.9246, -0.6908, -0.5574, -0.498, 0.3182, -0.802, 0.2144, 0.128, -0.8225, -0.9708, -0.3919, 0.7506, 0.0, -0.7003, 0.0258, -0.9062, -0.9205, -0.7579, -0.9694, -0.1779, -0.872, -0.872, -0.7269, 0.2732, 0.2732, 0.3182, -0.8658, -0.6597, -0.8445, -0.7184, -0.0516, -0.7184, -0.5994, -0.7184, -0.4404, -0.4404, -0.4404, -0.296, -0.128, -0.296, -0.7184, -0.6597, -0.5859, -0.5719, -0.5719, 0.4939, -0.6249, -0.9665, 0.0772, 0.0772, 0.0, -0.296, -0.8126, -0.9601, -0.9468, -0.8225, -0.8225, -0.8519, -0.8519, -0.4215, -0.802, -0.7184, -0.3326, 0.0, -0.6908, -0.6369, -0.886, -0.886, -0.7096, -0.6249, -0.8934, -0.8074, -0.7096, -0.3818, 0.5905, 0.5905, -0.6597, 0.3182, -0.5719, -0.8481, -0.1779, -0.1779, -0.6705, 0.4416, 0.4416, -0.9904, -0.6369, -0.9081, -0.9081, -0.6249, -0.6249, 0.2732, -0.4767, 0.128, -0.7003, -0.9724, -0.1779, -0.8126, -0.936, -0.8155, 0.4019, 0.7579, -0.6908, -0.6597, -0.6808, -0.8402, -0.7845, -0.9371, -0.9686, -0.872, -0.872, -0.9201, -0.9686, -0.8807, -0.7787, -0.8807, -0.7184, -0.1027, -0.8113, -0.296, -0.8113, -0.6369, -0.6249, -0.891, -0.9231, -0.891, -0.9735, -0.9735, 0.0, -0.8176, 0.2263, -0.7579, -0.7579, -0.5994, -0.5994, -0.6249, -0.1779, -0.296, -0.5106, -0.7506, -0.9918, 0.0516, 0.0, -0.886, -0.7003, -0.7184, -0.7184, -0.9638, -0.0717, -0.1431, -0.8481, -0.1431, -0.2987, -0.8126, -0.8126, -0.9432, -0.5859, -0.8074, -0.7351, -0.1027, -0.4767, -0.1531, -0.9001, -0.9001, -0.5994, -0.6808, -0.5859, -0.9325, -0.9325, -0.0258, 0.0, -0.0258, -0.9501, -0.9501, -0.6808, -0.4215, -0.4404, 0.3732, -0.5859, -0.4939, 0.0, 0.0, -0.8481, -0.8126, -0.5859, -0.9231, -0.9231, -0.8316, -0.9368, -0.6808, -0.6808, 0.2846, 0.2846, -0.4404, -0.5717, -0.2263, -0.9887, -0.7579, -0.4404, 0.0, -0.886, -0.3595, 0.4809, 0.4809, -0.8885, -0.8885, 0.2732, 0.2732, -0.8225, -0.9651, -0.9081, -0.9016, -0.9016, -0.6597, -0.4588, -0.1027, -0.8402, -0.9601, -0.9601, -0.7579, -0.7579, -0.7845, -0.8689, -0.9915, -0.9915, 0.0, 0.505, 0.0258, 0.4588, -0.0803, -0.5267, -0.296, 0.3818, -0.6597, -0.6597, -0.3182, -0.3182, -0.4939, -0.7262, -0.7262, -0.8885, -0.8885, 0.6369, 0.6369, -0.5719, -0.9152, -0.941, -0.5106, -0.8225, -0.9281, -0.9366, -0.765, -0.8302, -0.1027, -0.6908, -0.7003, -0.6908, -0.3818, -0.3818, -0.296, -0.7096, -0.9485, -0.9371, -0.7906, -0.6808, -0.6808, -0.1027, -0.1027, 0.0772, 0.0772, -0.9349, -0.872, -0.8737, -0.7089, 0.3687, 0.5187, 0.2023, -0.5719, -0.9468, -0.8225, -0.8225, -0.1027, -0.1027, 0.1027, 0.4588, -0.5719, -0.7579, -0.7579, 0.0, -0.0772, -0.6705, -0.6705, -0.9274, -0.9274, -0.8481, -0.9347, -0.9769, -0.9347, -0.6705, 0.0, -0.6705, -0.7003, -0.7003, -0.5423, -0.8271, -0.8074, -0.8074, -0.6908, -0.9403, -0.9403, 0.4939, -0.9451, -0.7906, -0.8979, -0.5423, -0.8225, -0.7269, 0.6124, -0.765, -0.765, -0.8105, -0.7351, -0.3612, -0.8625, 0.128, 0.128, -0.9274, -0.1779, -0.1779, -0.34, -0.4878, -0.2023, -0.6486, 0.079, -0.5423, -0.2732, -0.7906, 0.0, -0.7579, -0.9705, -0.9944, -0.8689, -0.9118, -0.0516, 0.0, -0.9678, -0.9678, 0.0, 0.1027, -0.4215, -0.4215, -0.705, -0.1531, -0.3818, -0.9709, 0.4588, -0.296, 0.128, -0.8658, -0.8658, -0.5423, -0.7783, 0.9062, -0.8126, -0.8126, 0.0516, 0.0, -0.875, -0.875, -0.9246, -0.7003, 0.4019, 0.4019, -0.9607, -0.9607, -0.8176, -0.8176, -0.9758, -0.4401, -0.4401, -0.7096, 0.128, -0.7906, 0.2732, -0.5574, 0.25, 0.5574, -0.6369, -0.7003, -0.9451, -0.7964, -0.7964, -0.7964, -0.3612, -0.8625, -0.9565, -0.8481, -0.9403, -0.8658, -0.8658, -0.6705, -0.6705, -0.9371, -0.9042, 0.3612, 0.3612, 0.0, -0.5574, -0.7906, 0.0772, -0.1027, -0.743, -0.743, 0.8885, 0.6597, 0.128, 0.128, 0.128, 0.128, -0.1779, -0.1779, -0.802, -0.7184, 0.4939, 0.4939, -0.8126, -0.802, -0.802, -0.6908, -0.296, -0.875, -0.9153, -0.9509, -0.9509, -0.6124, 0.6597, 0.6597, -0.9366, -0.8625, -0.7964, -0.891, -0.9231, -0.7845, -0.7845, -0.9572, -0.9691, 0.296, -0.7096, -0.5574, -0.8807, -0.8807, 0.1531, 0.0, -0.3711, -0.8979, -0.4767, -0.4767, 0.7717, -0.7964, -0.7964, -0.3818, -0.6597, -0.6597, -0.2268, -0.9629, -0.9775, 0.7906, 0.7906, -0.7184, -0.8126, -0.296, -0.8984, -0.6652, -0.4215, -0.7906, -0.4215, -0.8555, -0.959, -0.9062, -0.4767, -0.8074, -0.6124, -0.802, -0.9136, -0.9136, -0.765, -0.765, -0.6369, -0.2263, -0.2263, 0.25, 0.079, -0.743, -0.9022, -0.7003, -0.7873, -0.6249, -0.7269, -0.6249, -0.8481, -0.34, -0.2732, 0.0, -0.9098, -0.9801, -0.9801, -0.6808, -0.7717, -0.9899, -0.9501, -0.9899, -0.765, -0.8402, -0.6705, -0.6705, 0.4019, 0.128, -0.3182, -0.3182, -0.9169, -0.9169, -0.6428, -0.9487, -0.8866, 0.6124, -0.5994, -0.983, 0.0, -0.8807, -0.1027, -0.1027, -0.6369, -0.6369, -0.5423, -0.5423, 0.128, 0.128, -0.8934, -0.6124, -0.9325, -0.9201, -0.9201, 0.128, -0.4767, -0.2023, -0.2732, -0.6852, -0.8176, -0.4753, 0.2677, 0.128, -0.5413, -0.8016, 0.3182, -0.7964, 0.2023, -0.296, -0.765, -0.8442, -0.8807, -0.6705, 0.0516, -0.6705, -0.9729, -0.6705, -0.8271, -0.8271, -0.5106, -0.8519, -0.296, -0.4767, -0.5574, -0.6808, -0.926, -0.959, -0.6249, -0.93, 0.8442, -0.8779, -0.8779, -0.8519, -0.8519, -0.7184, 0.1326, -0.9337, -0.2263, -0.4215, -0.5106, 0.0, 0.8316, -0.1531, -0.872, -0.872, -0.9545, 0.3818, -0.7906, -0.2732, -0.9293, -0.9293, 0.4019, -0.7003, -0.296, -0.9538, -0.802, -0.802, -0.296, -0.9393, -0.9393, -0.9325, -0.6908, -0.8271, -0.6369, -0.891, 0.25, -0.1027, -0.1027, 0.0, -0.9418, 0.0, -0.4404, -0.9666, -0.5423, -0.5423, 0.0, -0.1027, -0.8979, -0.8979, 0.128, 0.128, -0.8885, -0.296, -0.8979, -0.8442, -0.8442, -0.5719, -0.5719, -0.5994, -0.836, 0.2263, 0.2263, -0.8885, -0.4867, 0.1154, 0.5719, 0.6114, 0.2732, -0.7351, 0.25, 0.7717, -0.926, -0.926, -0.8316, -0.2732, 0.4019, -0.8405, -0.9643, -0.891, -0.3612, 0.5702, 0.5702, -0.8591, -0.8705, -0.2263, -0.7964, -0.4939, -0.8316, -0.4939, 0.7096, 0.0, -0.1779, -0.9407, -0.9629, -0.75, 0.3818, -0.3595, -0.9287, -0.9287, -0.7906, -0.8834, -0.9287, -0.8807, -0.5267, -0.5267, -0.296, -0.296, -0.4878, -0.4767, -0.8442, 0.0, 0.0, -0.8957, -0.4767, -0.882, -0.8176, 0.7351, 0.7351, -0.5719, -0.5719, -0.296, -0.296, -0.9814, -0.9928, -0.9853, -0.4019, -0.4019, -0.6597, -0.874, -0.8225, 0.5423, 0.5423, -0.802, 0.2263, -0.7717, -0.8689, 0.0859, 0.4404, -0.9545, -0.9545, 0.9666, 0.9678, -0.5305, -0.7351, -0.7351, -0.1027, -0.1027, -0.946, -0.4939, -0.8126, -0.4939, -0.8442, -0.5267, -0.8979, 0.128, 0.128, -0.5267, -0.8779, -0.802, -0.9153, 0.3283, -0.8357, -0.8779, -0.9764, -0.1779, -0.8126, -0.7717, -0.7717, -0.8834, -0.2023, -0.743, 0.7096, -0.7906, -0.7269, -0.7184, 0.0516, -0.7845, -0.4215, -0.6249, -0.6124, -0.5859, -0.6124, -0.6249, 0.0, -0.6369, 0.3071, -0.8984, -0.9118, -0.7717, -0.7717, -0.3818, -0.3818, -0.1779, -0.8519, -0.6808, -0.296, -0.6486, -0.9337, -0.9337, -0.5859, -0.3612, -0.926, -0.5994, 0.0, 0.128, -0.9732, -0.875, -0.8553, -0.886, -0.9607, -0.886, -0.9231, -0.9403, -0.9231, -0.8481, -0.9042, -0.8338, -0.875, -0.9403, -0.9403, -0.0772, -0.4939, -0.6964, -0.6486, -0.875, -0.875, -0.296, -0.1779, 0.5574, -0.3612, -0.8316, -0.3612, 0.5574, -0.3365, 0.4374, -0.5574, -0.5574, -0.6908, -0.5267, -0.7615, -0.8979, -0.5106, -0.7351, -0.7184, -0.7184, 0.9349, 0.9349, -0.9584, -0.8481, -0.91, -0.91, -0.8555, -0.9275, -0.9393, -0.9201, 0.2144, 0.128, -0.7506, -0.6369, -0.6369, 0.5106, -0.7506, -0.7506, -0.4404, -0.8357, -0.9569, -0.8588, -0.7845, -0.9403, 0.25, -0.7964, 0.2023, -0.926, -0.5574, -0.5574, -0.8807, -0.296, -0.296, 0.0258, -0.875, 0.2732, -0.8126, 0.128, 0.128, -0.8553, -0.75, -0.91, -0.891, -0.891, -0.0258, -0.7184, -0.8555, 0.4416, -0.7506, 0.9751, 0.9751, -0.2654, -0.296, -0.5859, 0.128, -0.6249, -0.1531, -0.1531, -0.5859, -0.9349, -0.6852, -0.0534, -0.6249, -0.872, 0.0, 0.4939, -0.1779, -0.8074, -0.6486, -0.9393, -0.9615, 0.0, -0.7351, 0.7096, -0.4215, -0.4215, -0.9393, -0.6705, -0.6705, -0.9601, -0.9601, -0.5859, -0.802, -0.5859, -0.5859, -0.7351, -0.9818, -0.9657, 0.0, 0.6908, 0.6486, 0.2023, -0.6369, -0.8176, 0.0, -0.4404, -0.7579, -0.7579, -0.4404, -0.0772, -0.0772, -0.6124, -0.2732, -0.9042, -0.9042, -0.8216, 0.296, -0.7964, -0.7964, -0.9872, -0.9201, -0.9468, -0.4404, -0.4404, -0.8126, -0.9001, -0.5983, -0.4588, -0.4588, -0.831, -0.831, -0.7096, -0.7096, -0.9806, -0.5423, -0.5423, -0.4936, -0.2732, -0.3612, -0.8718, -0.8718, 0.4019, 0.0, -0.9201, 0.4019, 0.7184, 0.7184, -0.8478, -0.4404, 0.96, -0.6705, -0.25, 0.0, -0.7351, 0.4404, 0.4404, 0.2263, 0.2263, -0.7579, -0.25, -0.5859, -0.7579, -0.6249, -0.9855, 0.4939, 0.4939, -0.9001, -0.4404, -0.8074, -0.8074, -0.7003, 0.0, -0.6908, -0.8957, -0.8074, -0.9442, -0.4215, -0.7964, 0.8779, 0.8779, -0.7184, -0.6808, -0.6808, -0.1027, -0.7351, -0.7351, 0.0, -0.9565, -0.6159, 0.4019, 0.4588, -0.7003, -0.1779, 0.128, 0.0258, -0.1027, -0.7003, 0.4215, -0.9666, -0.7351, 0.128, -0.7845, -0.6369, -0.296, -0.6486, -0.6486, -0.4019, 0.9001, 0.6476, -0.4215, -0.9169, -0.9382, -0.6908, -0.6249, -0.7269, -0.9633, -0.2263, -0.0516, -0.6705, 0.128, -0.1134, -0.7787, -0.9169, -0.8957, -0.8481, -0.8588, -0.802, 0.2732, 0.5106, -0.8957, -0.7269, -0.7269, -0.9765, -0.7096, -0.743, -0.9601, -0.4215, -0.7351, -0.7351, 0.128, -0.4404, 0.0, -0.8625, -0.8919, -0.8625, -0.296, 0.2732, -0.7269, -0.7269, 0.296, -0.9454, 0.128, -0.3818, -0.7003, -0.9661, -0.4588, -0.9612, 0.7902, -0.6808, -0.7906, -0.7906, 0.5267, 0.4215, -0.3612, -0.3612, 0.6572, -0.8159, 0.8316, 0.8316, -0.9846, -0.932, -0.9816, -0.6808, -0.4404, -0.8519, -0.4404, -0.4404, -0.743, 0.1779, -0.7964, -0.9884, 0.2732, -0.9231, -0.9612, -0.9485, -0.7506, -0.4588, 0.4567, 0.4567, -0.4404, -0.7595, -0.7595, -0.91, -0.7269, -0.7269, -0.9643, -0.9081, -0.296, 0.4019, -0.7003, -0.7003, -0.8074, -0.9777, -0.9819, -0.9926, -0.9169, -0.1531, 0.9136, 0.9136, -0.8271, -0.7351, -0.7351, -0.5423, -0.8591, -0.8591, 0.4939, 0.8069, -0.2392, -0.2392, -0.891, -0.891, -0.891, -0.891, -0.6369, -0.4215, -0.8442, -0.9001, -0.3818, -0.9001, -0.1779, -0.296, -0.8402, -0.7579, -0.9325, -0.9325, -0.9246, -0.9382, 0.2732, 0.3732, -0.4019, -0.2732, -0.0772, 0.0, -0.6249, -0.34, -0.296, 0.4767, 0.4767, -0.4215, -0.4215, -0.7351, -0.8519, -0.8519, -0.6249, -0.2579, -0.5994, -0.4939, -0.7003, -0.4215, -0.5994, -0.891, -0.891, -0.8625, -0.8625, -0.891, -0.5994, -0.8074, -0.8074, -0.802, -0.34, -0.34, -0.4588, -0.3818, -0.5106, -0.91, -0.7717, -0.25, -0.128, -0.9413, -0.8519, -0.9716, -0.2263, -0.4767, -0.3612, -0.9821, -0.7964, -0.4417, -0.875, -0.5859, -0.5859, -0.6808, -0.7184, -0.9401, -0.6369, -0.0701, -0.7717, -0.3425, -0.9856, -0.8484, -0.8484, -0.9596, -0.9596, -0.8979, 0.0, -0.3818, -0.7964, -0.5574, -0.5574, -0.9153, 0.4545, 0.0516, -0.926, -0.926, -0.8159, 0.0, -0.4404, -0.7783, -0.8316, -0.9978, -0.7783, -0.8271, -0.8572, -0.1027, -0.7351, -0.7351, -0.9433, -0.9433, -0.7184, -0.7906, -0.5574, -0.5574, -0.9231, -0.8176, 0.7566, -0.7906, 0.25, 0.1779, -0.7964, -0.7964, 0.0, -0.1818, -0.9628, -0.34, -0.886, -0.25, -0.1027, -0.7351, -0.296, -0.2023, 0.1027, -0.8271, -0.8271, -0.2796, -0.743, -0.7859, -0.1531, -0.1531, -0.128, -0.9118, -0.1779, -0.4019, -0.7845, -0.7845, 0.5719, 0.0, -0.875, -0.6597, -0.9153, -0.9489, -0.5719, 0.4019, -0.5719, -0.7845, -0.6705, -0.7351, -0.6124, -0.6124, 0.0, -0.4215, -0.4767, -0.2023, -0.6908, -0.6908, -0.296, 0.9042, 0.0, -0.4215, -0.4404, -0.836, -0.9287, -0.8481, -0.8591, -0.8834, -0.1779, 0.0, 0.2023, -0.4404, -0.3956, 0.0258, -0.5106, -0.6124, 0.296, -0.5574, 0.4939, -0.6486, -0.9422, -0.9422, -0.953, -0.9632, -0.953, 0.4926, -0.6808, 0.1027, 0.1027, 0.0, -0.2023, -0.9432, -0.9771, -0.296, -0.4019, -0.802, -0.8442, -0.802, -0.8519, -0.5106, -0.6249, -0.6908, -0.5719, -0.4215, -0.7269, -0.7269, -0.1779, -0.4939, 0.4019, -0.9136, -0.9136, 0.5994, -0.6486, -0.7402, 0.743, -0.1779, -0.9565, -0.9565, -0.0258, -0.0258, -0.8225, -0.296, -0.8271, -0.4588, 0.6754, -0.7906, -0.7906, 0.0, -0.9313, -0.8316, -0.8316, 0.5162, 0.4019, -0.6369, -0.9682, -0.9682, 0.4019, 0.6597, -0.9485, -0.9508, -0.5994, -0.5574, -0.8481, -0.8481, 0.4588, -0.6908, -0.3182, 0.0, -0.4404, -0.0258, 0.0, -0.8176, -0.7269, -0.296, -0.5994, 0.0, -0.8442, -0.8957, -0.8957, -0.836, 0.0258, -0.4404, -0.6369, -0.8779, -0.5574, -0.5574, -0.1779, -0.9538, -0.5859, -0.9468, -0.9468, -0.4404, -0.7579, -0.4404, -0.9597, -0.296, -0.9597, -0.6249, -0.6249, 0.128, -0.975, -0.7717, -0.4404, -0.8779, -0.8779, 0.0, -0.6124, -0.4767, 0.25, 0.0227, 0.0, -0.8074, 0.0, 0.3382, -0.7184, -0.9718, -0.9674, 0.128, -0.8655, -0.836, 0.4939, -0.4588, -0.8271, -0.9186, -0.5859, -0.8519, -0.8519, -0.0772, -0.0772, -0.8834, -0.9001, 0.25, -0.128, -0.5859, -0.8658, -0.8658, -0.8885, -0.4767, -0.9524, -0.9787, -0.9728, -0.9425, -0.3658, -0.9425, 0.7133, 0.3818, 0.3818, 0.128, 0.0, -0.6124, 0.0, 0.128, -0.4588, -0.7506, 0.7964, 0.6597, -0.6124, -0.9729, -0.296, -0.6705, -0.8481, -0.8442, 0.2732, 0.5423, -0.4215, -0.8481, -0.7964, -0.4215, -0.4215, -0.4215, 0.128, -0.296, 0.4019, -0.0516, -0.1779, -0.5994, -0.5083, -0.296, -0.8176, 0.0, -0.734, -0.8074, -0.8074, 0.7133, -0.4767, -0.1027, -0.2732, 0.0, -0.6808, -0.7351, -0.1531, -0.4939, -0.7351, -0.6808, -0.872, -0.5994, -0.4939, -0.7184, -0.3818, -0.8625, 0.4632, -0.8957, -0.8625, -0.9186, -0.8591, -0.3612, -0.8225, -0.7906, -0.6369, -0.6369, -0.3182, -0.3182, -0.6757, -0.1531, -0.8255, -0.6705, -0.6705, 0.9168, -0.7506, 0.128, -0.2263, -0.5851, -0.902, 0.0, -0.6124, 0.0, -0.0772, -0.6249, 0.0, -0.4404, -0.9313, 0.4215, -0.4019, -0.0289, -0.7717, -0.3818, -0.9059, 0.2914, -0.2071, -0.872, -0.872, -0.5656, -0.521, -0.1779, -0.9451, -0.4019, -0.6705, -0.5719, -0.9414, -0.6778, 0.4019, -0.3818, -0.7003, -0.6369, -0.6696, -0.7184, -0.4767, -0.5574, -0.5574, -0.9666, -0.7269, -0.1531, -0.1531, -0.9371, 0.4404, -0.91, -0.9382, 0.1531, 0.1531, 0.128, 0.128, -0.1779, 0.8555, 0.8555, -0.5574, -0.5423, 0.6597, -0.7096, 0.1531, -0.7269, 0.4019, 0.6597, -0.9153, -0.9153, -0.1779, -0.1779, 0.6908, 0.6908, 0.7964, -0.8779, -0.8779, -0.9325, -0.7269, -0.8442, -0.8176, -0.8442, 0.5574, 0.807, -0.7003, 0.0, -0.8271, -0.8979, -0.9371, -0.2263, 0.0772, -0.7964, -0.7964, 0.0, -0.8885, -0.7783, -0.8689, -0.8689, -0.8689, -0.8074, -0.6486, -0.6486, -0.6379, -0.6379, -0.296, -0.743, -0.8689, -0.3818, -0.4215, -0.836, -0.9684, -0.9684, 0.2732, -0.296, -0.296, 0.1779, 0.128, -0.765, 0.128, -0.0516, -0.9682, 0.5574, -0.8807, 0.5106, 0.6908, -0.802, -0.802, -0.5574, -0.4767, -0.34, -0.7184, -0.1027, 0.7351, -0.9723, -0.9723, -0.8402, -0.9349, 0.4019, -0.2732, -0.9393, -0.9001, -0.9001, -0.8074, -0.296, -0.296, 0.3374, -0.5423, -0.7506, -0.1027, -0.5859, -0.5859, -0.4215, -0.4215, -0.1779, 0.128, 0.6615, -0.891, -0.9668, -0.8442, -0.7096, -0.9413, -0.7184, 0.0, -0.1351, -0.7153, -0.1351, -0.128, -0.4404, -0.5859, -0.5859, -0.0511, -0.9042, -0.4404, -0.926, -0.1531, -0.8519, -0.975, -0.7506, -0.3818, -0.8689, -0.7351, -0.9217, 0.128, -0.4404, -0.1027, -0.765, -0.765, 0.0516, 0.0516, -0.8573, -0.5859, -0.8442, -0.5859, -0.7851, -0.5859, -0.5859, -0.3818, -0.6854, -0.2695, -0.7351, -0.926, -0.7003, -0.7003, -0.926, -0.872, -0.8689, -0.8689, 0.0, -0.5574, -0.8442, -0.5106, -0.0258, -0.8271, -0.7783, -0.8301, 0.2363, -0.9167, 0.0, -0.6249, -0.0772, -0.0772, -0.9313, -0.9313, -0.3612, -0.8625, -0.1779, -0.5037, -0.8481, 0.4201, -0.128, 0.8715, -0.0534, -0.7845, -0.7845, -0.9493, -0.891, -0.891, -0.875, -0.7424, -0.7424, -0.9288, -0.4404, -0.6486, -0.8074, -0.9756, -0.296, -0.296, 0.0, -0.6249, -0.836, -0.4588, -0.8316, -0.8611, -0.1531, -0.8555, -0.7003, -0.8074, 0.4019, -0.9081, 0.6597, -0.4767, -0.7712, -0.9274, 0.0772, -0.9274, -0.128, -0.4215, -0.8519, -0.1027, 0.2263, -0.5859, -0.9643, -0.7184, -0.7184, -0.4404, -0.802, -0.2023, -0.9735, -0.4404, -0.4404, -0.8074, -0.9678, -0.9638, -0.9001, -0.4588, -0.296, -0.9022, -0.7964, -0.0516, -0.4404, -0.5106, -0.8176, -0.9001, 0.0, -0.4404, -0.4404, -0.4404, -0.8442, -0.8481, -0.1531, -0.1531, -0.0603, -0.0603, -0.5423, -0.9425, -0.0258, -0.3182, -0.9666, -0.0258, -0.0258, -0.765, 0.128, 0.128, -0.986, -0.986, -0.6597, -0.4404, 0.3182, -0.1779, -0.3612, -0.9349, -0.9349, -0.1779, -0.7096, -0.9246, 0.128, -0.8834, -0.7845, -0.4767, -0.9883, 0.1027, 0.0, -0.875, -0.4404, -0.6808, -0.8442, -0.7596, -0.7783, -0.743, -0.743, -0.6369, -0.6369, 0.9404, 0.9404, -0.7506, 0.128, 0.5719, 0.5719, 0.0, -0.4404, -0.743, -0.9403, -0.9403, -0.8882, 0.0, -0.7964, -0.7351, 0.3182, 0.3182, -0.296, -0.8625, -0.5994, -0.5574, 0.0, -0.6249, 0.4939, -0.9666, -0.989, -0.9666, -0.9201, -0.9201, -0.93, -0.936, -0.93, -0.3818, -0.4404, -0.9337, 0.8484, 0.8484, -0.9287, 0.4019, -0.8779, -0.959, -0.9186, -0.7906, -0.7906, -0.7003, -0.714, -0.9493, -0.3818, -0.9638, -0.9638, 0.0, -0.3612, 0.0, -0.128, -0.9446, -0.9446, -0.9741, -0.7351, -0.6705, -0.9681, -0.6705, -0.9022, -0.5719, -0.8625, -0.9001, -0.8625, -0.7506, 0.0, -0.7845, -0.1779, -0.1779, 0.128, -0.8074, -0.9493, -0.7003, 0.4939, -0.2728, 0.296, 0.5994, -0.3612, -0.9686, -0.2263, 0.0, -0.6124, 0.6369, -0.6124, -0.3612, 0.0, 0.4019, -0.969, -0.8126, -0.969, 0.5719, -0.4215, -0.5106, -0.5106, 0.5719, 0.7845, -0.4404, -0.4404, -0.8807, -0.9451, -0.0516, -0.0516, -0.6369, -0.6369, 0.0258, -0.8519, -0.9531, -0.9531, -0.743, 0.5556, -0.8074, -0.2023, -0.8555, -0.8271, -0.6705, -0.8608, -0.8608, -0.5719, -0.5719, -0.8687, 0.4019, -0.4215, -0.4215, 0.5423, 0.5423, -0.9432, -0.8316, 0.128, -0.9349, -0.9349, -0.5994, -0.5994, -0.2732, -0.1531, -0.6597, -0.9274, -0.91, -0.9349, -0.9612, -0.9612, -0.4215, -0.4019, 0.7783, -0.8126, -0.8126, -0.296, 0.296, -0.8689, -0.6249, -0.34, -0.5994, -0.9136, -0.8934, -0.9337, 0.3612, -0.3818, -0.6705, -0.6369, -0.6369, -0.296, -0.1779, -0.8126, -0.8126, -0.5859, -0.5859, -0.802, -0.6369, 0.34, -0.6249, -0.5574, -0.8555, -0.802, -0.91, -0.8689, -0.9355, -0.296, -0.6908, -0.1531, -0.4404, -0.3612, -0.8288, -0.8176, -0.6908, -0.8176, 0.4939, 0.4939, -0.897, -0.897, -0.8519, -0.9761, -0.4939, -0.8481, -0.7906, 0.0, -0.891, -0.2732, 0.128, 0.4939, -0.4215, -0.4215, -0.7096, -0.296, -0.6124, 0.128, -0.4767, -0.34, -0.8074, -0.7717, -0.5106, -0.5106, 0.1531, -0.5859, -0.5859, 0.8439, 0.6996, -0.5859, -0.5859, -0.7906, -0.7579, -0.7579, -0.3182, -0.8979, -0.8979, -0.932, -0.4939, 0.0, -0.128, -0.7003, -0.128, -0.8436, 0.7444, 0.7444, 0.7444, 0.4019, 0.4019, 0.0, -0.4588, -0.4404, 0.128, 0.688, 0.688, -0.7351, -0.8779, -0.1027, -0.9729, -0.9042, 0.3612, -0.9612, -0.7269, -0.8316, 0.0772, -0.886, -0.886, -0.9578, 0.0, 0.4019, -0.4404, 0.128, 0.128, 0.128, 0.128, -0.296, -0.7003, -0.9042, -0.9042, -0.2732, -0.8519, -0.8519, 0.752, 0.068, -0.7783, -0.8271, -0.8271, -0.836, -0.3612, -0.6369, -0.6369, -0.9578, -0.8481, -0.8481, -0.9578, -0.34, -0.34, -0.8316, -0.8316, -0.8271, -0.8271, -0.1779, -0.8316, -0.1779, -0.5859, -0.1779, 0.5267, 0.1027, -0.8934, 0.25, -0.8016, -0.1779, -0.1779, -0.1779, -0.1779, -0.6705, -0.9062, 0.0, 0.3182, 0.3182, -0.4939, -0.7579, -0.8934, -0.7717, 0.5574, 0.3919, -0.4019, -0.8519, -0.6486, -0.9231, -0.8402, -0.4404, -0.4404, -0.9231, -0.7555, 0.128, -0.9705, -0.9705, -0.3818, -0.4404, -0.4404, -0.9831, -0.296, -0.875, -0.8832, 0.6572, -0.9452, -0.7351, -0.7351, -0.2263, -0.2263, -0.7506, -0.8658, -0.8658, -0.9595, -0.9595, 0.871, 0.4303, -0.5574, -0.7845, -0.9552, 0.25, 0.25, -0.6249, -0.1779, -0.9001, 0.0, -0.4404, -0.7003, -0.9451, -0.9451, -0.689, -0.8225, -0.961, -0.9245, -0.6486, 0.2023, -0.8313, -0.34, 0.4019, 0.0, -0.7906, -0.8957, -0.7269, -0.1531, 0.2732, -0.4588, -0.9393, 0.0, -0.6696, -0.4404, -0.8402, -0.836, -0.836, 0.4184, -0.9286, 0.4184, -0.6249, -0.296, 0.0, -0.717, 0.25, 0.25, -0.7269, -0.5267, -0.891, -0.4939, 0.0258, -0.7964, -0.8779, -0.9022, 0.0, 0.128, -0.9633, -0.9633, -0.8807, -0.8807, -0.8834, -0.4215, -0.8225, -0.8591, -0.8591, 0.4939, 0.4939, -0.7906, -0.9319, -0.9118, -0.9118, -0.2996, -0.7717, -0.7717, 0.0, -0.296, -0.7003, -0.7003, -0.3612, -0.5719, -0.7269, -0.5859, 0.872, 0.5667, 0.128, 0.25, -0.8625, -0.9001, -0.7096, -0.34, -0.9153, -0.9781, -0.9517, -0.6249, -0.7717, -0.7717, -0.4939, -0.5423, -0.872, -0.9153, -0.8271, -0.8689, -0.2732, -0.296, -0.891, -0.1531, -0.9337, -0.296, -0.9337, -0.8519, -0.8402, -0.8402, -0.931, 0.1027, 0.0, -0.2732, 0.3182, 0.3612, -0.4588, -0.9042, -0.2023, -0.8223, -0.7269, -0.9531, -0.7579, -0.7579, -0.296, -0.9706, -0.9657, 0.0, -0.9618, -0.9081, -0.9618, -0.8591, -0.9001, -0.9001, -0.1027, -0.8519, -0.9074, -0.9074, -0.8555, -0.9153, -0.9153, -0.9201, -0.9853, -0.9853, -0.802, -0.4215, -0.276, -0.8369, -0.25, -0.8074, -0.6808, -0.4215, -0.7096, -0.7096, -0.4404, -0.2263, -0.1561, -0.1561, -0.4215, -0.4215, -0.7579, -0.8225, 0.128, -0.6124, -0.4404, -0.8834, -0.3818, 0.128, -0.6597, -0.1027, -0.1027, -0.9592, -0.9592, -0.9337, -0.9337, -0.7184, -0.7351, 0.5719, 0.0752, -0.9081, -0.9081, -0.7717, -0.7184, -0.9186, 0.5106, -0.9628, -0.5106, -0.5106, -0.3612, -0.3612, -0.6369, -0.6369, -0.296, -0.8176, 0.0, -0.2263, -0.9118, -0.9884, 0.4019, -0.1027, -0.2023, -0.7351, -0.9451, -0.8885, -0.8402, -0.7783, -0.8402, -0.8442, -0.7783, -0.8807, 0.0, -0.4968, -0.7351, -0.9349, -0.8689, -0.9888, -0.9974, -0.875, -0.9913, -0.5423, -0.0516, -0.4404, -0.946, -0.9081, -0.946, -0.296, -0.8126, -0.8074, -0.4767, -0.7845, -0.8481, -0.8834, -0.6738, -0.1027, -0.0516, -0.8979, 0.128, -0.4019, -0.93, -0.6249, -0.6249, -0.8779, -0.8779, -0.784, -0.6486, -0.6486, -0.7184, -0.296, 0.0, -0.5574, -0.9136, -0.8555, -0.8555, -0.6124, -0.6124, -0.3818, -0.93, -0.8402, -0.9001, -0.872, -0.2263, -0.2263, -0.3612, 0.5574, 0.5574, -0.9001, -0.3612, 0.128, 0.128, -0.7845, -0.9371, -0.9371, 0.128, -0.9118, -0.9786, -0.9118, 0.7902, 0.8176, -0.9153, 0.8784, 0.8784, -0.7783, -0.7783, -0.9062, -0.9413, -0.9062, 0.4019, -0.7783, -0.8389, -0.4767, -0.4767, -0.8689, -0.2263, -0.1027, -0.8834, -0.8271, -0.8271, -0.4404, -0.296, -0.4404, 0.0, -0.6808, -0.9118, -0.6597, -0.9118, 0.0, -0.6124, -0.5574, -0.5574, 0.6908, 0.6908, -0.567, -0.567, -0.8519, -0.6124, -0.296, -0.6808, -0.7936, -0.8611, -0.4767, -0.3612, -0.2023, -0.2023, -0.9081, -0.7297, -0.7297, -0.8074, -0.8074, -0.872, -0.296, 0.0772, -0.6369, -0.7096, -0.765, -0.6369, -0.4215, -0.9001, -0.2732, -0.3612, -0.4404, -0.5859, -0.5267, -0.9022, -0.1779, -0.1779, -0.9452, -0.5267, -0.128, 0.4588, -0.875, -0.8074, -0.9231, -0.9231, -0.9201, -0.875, -0.7814, -0.8555, -0.8555, -0.9468, -0.7717, -0.7184, -0.6124, -0.6486, -0.6486, -0.7506, -0.8787, -0.8787, -0.7003, -0.3818, 0.4939, -0.5106, -0.5106, -0.7184, -0.34, -0.9694, 0.4019, 0.128, -0.7351, -0.7351, 0.0, -0.4968, 0.0, -0.0772, -0.4215, -0.7906, -0.7906, -0.7351, -0.7717, -0.7717, -0.2748, -0.6494, 0.25, -0.9062, -0.7783, -0.5308, -0.4826, 0.0, -0.6369, -0.802, -0.2263, -0.3182, -0.765, -0.3182, -0.3182, -0.1027, -0.7845, -0.836, -0.0767, -0.0767, -0.7964, 0.25, 0.25, -0.9808, -0.6249, -0.34, -0.6486, -0.8271, -0.7579, -0.872, -0.9217, -0.4215, -0.6597, -0.5719, -0.8176, 0.0, -0.9325, -0.4215, -0.5719, -0.7003, -0.6575, -0.4404, -0.872, -0.4215, -0.3818, -0.8519, -0.8519, 0.3818, -0.7096, -0.4404, -0.9186, -0.9186, -0.9756, -0.5106, -0.8555, -0.8807, -0.8779, -0.8779, -0.765, -0.9153, -0.296, -0.7269, 0.0, 0.4943, -0.4404, -0.4404, -0.9118, -0.8625, -0.9118, -0.7579, -0.9732, -0.3612, -0.6808, -0.802, -0.802, -0.7184, -0.7184, 0.0, -0.4019, -0.4019, 0.6597, -0.9393, -0.991, -0.6808, 0.2023, -0.4767, 0.4019, -0.0516, 0.4019, -0.3612, 0.128, -0.4215, -0.9451, -0.7845, -0.7559, -0.8519, 0.128, 0.128, -0.4215, 0.2023, -0.2263, -0.743, -0.7003, 0.6597, -0.9956, -0.9578, -0.1779, 0.1245, -0.7964, -0.9666, -0.9571, -0.1779, -0.7907, -0.5267, -0.5267, -0.8074, -0.8074, -0.2263, -0.8225, -0.9442, -0.9442, -0.5719, -0.7003, -0.8176, -0.8176, 0.0, -0.7968, -0.1531, -0.1531, -0.9422, -0.3612, -0.92, -0.92, 0.0, -0.926, -0.926, -0.8658, -0.9118, -0.802, 0.4404, -0.8316, -0.8316, -0.9231, -0.7907, -0.9648, -0.2023, -0.9657, -0.8271, 0.128, 0.128, -0.886, -0.5873, 0.34, 0.34, 0.5423, -0.5267, -0.5859, -0.717, 0.0, -0.6124, 0.3182, -0.9735, -0.802, -0.6808, -0.7184, -0.7845, -0.9678, -0.9678, -0.7845, -0.5574, -0.836, -0.836, -0.1779, -0.1779, -0.9607, -0.8625, -0.4588, -0.4588, -0.477, -0.477, 0.128, 0.4019, -0.4404, -0.296, 0.1027, -0.9099, -0.9633, -0.926, -0.875, -0.875, -0.5286, -0.1808, -0.4404, -0.9246, -0.8555, -0.8555, 0.5106, -0.7351, -0.7964, -0.7964, -0.4767, -0.5106, -0.6808, 0.3612, -0.9325, -0.8834, -0.8834, -0.3182, -0.8979, -0.8402, -0.8402, -0.5106, -0.9565, -0.9633, -0.8271, -0.9393, -0.9538, -0.9538, -0.4215, -0.8797, -0.9274, -0.4019, -0.4019, -0.6369, -0.6369, -0.8524, -0.7845, -0.7845, 0.3591, -0.6249, -0.743, 0.0263, -0.5574, -0.765, -0.765, -0.5267, -0.5267, 0.0258, -0.7184, -0.6808, -0.9001, -0.4019, 0.0, -0.4215, -0.7269, 0.0, -0.8176, -0.8573, -0.1779, 0.0, -0.1779, -0.34, -0.2732, -0.5994, -0.5994, -0.886, -0.886, -0.7003, -0.3544, -0.886, -0.0772, -0.6908, -0.6124, -0.6124, -0.7783, -0.7783, -0.872, 0.4939, -0.9652, -0.9432, -0.9652, 0.7096, -0.875, -0.875, -0.4215, -0.872, -0.7579, -0.4215, -0.875, -0.4215, -0.1779, -0.8176, -0.8834, -0.8834, -0.9287, -0.9287, -0.7506, -0.7506, -0.5994, 0.0, -0.836, -0.7506, 0.6602, 0.6129, -0.9432, -0.8176, -0.8176, -0.0258, 0.5719, 0.0, -0.4215, -0.9355, -0.7351, -0.7351, 0.0, -0.4215, -0.891, -0.7662, -0.969, -0.8779, -0.296, -0.8779, -0.9628, -0.6419, -0.6419, -0.4588, -0.9694, -0.4019, -0.7783, -0.7783, -0.8225, -0.8074, -0.3818, -0.6369, -0.6696, -0.7964, -0.7096, 0.6855, 0.6855, -0.7783, -0.3818, -0.9795, 0.0, -0.3612, -0.6124, 0.3612, 0.3612, -0.7184, -0.9509, -0.9726, -0.7351, -0.7351, 0.4215, -0.9201, -0.9201, 0.0, 0.128, -0.8455, -0.8455, -0.8885, -0.8271, -0.8271, -0.7964, -0.5142, 0.4215, 0.6124, -0.8481, 0.2537, -0.5142, -0.3769, -0.8074, -0.9944, -0.8074, -0.8126, -0.8591, -0.8074, -0.7351, -0.7351, -0.9287, -0.9287, -0.7351, -0.4019, -0.4019, 0.2732, 0.0, -0.9287, -0.8622, -0.8345, -0.9136, -0.8176, -0.4215, -0.9288, -0.8316, -0.9428, -0.1779, 0.128, -0.6486, -0.1027, 0.4215, 0.743, 0.743, -0.9186, -0.9851, -0.9349, -0.872, -0.967, -0.4939, -0.1779, -0.1531, -0.9001, -0.8316, -0.8316, -0.3818, -0.9432, -0.3818, 0.1531, 0.4215, -0.9738, -0.9738, -0.8316, -0.9081, 0.7964, -0.3612, 0.3612, -0.4939, -0.4939, -0.802, -0.8109, -0.7906, -0.9601, -0.9601, -0.9829, -0.5325, -0.5325, 0.0, 0.0516, -0.5719, -0.296, 0.128, -0.2996, -0.8608, -0.8608, -0.4939, -0.9601, -0.8591, -0.8591, -0.6249, -0.8126, 0.0, -0.9042, -0.7096, -0.7096, -0.4939, -0.7184, -0.7096, -0.7096, -0.9477, -0.7351, -0.8074, -0.8074, -0.7184, 0.6249, 0.2732, 0.1531, 0.1531, -0.9612, -0.9612, -0.8316, -0.5574, -0.5574, -0.7717, -0.5591, -0.5591, -0.9062, -0.9062, -0.0258, -0.6705, -0.6705, -0.5267, -0.8126, -0.8126, 0.8705, 0.8705, 0.0, -0.8481, 0.0, -0.5574, -0.4767, -0.6808, -0.6808, -0.5994, -0.8885, -0.9337, -0.2263, -0.8074, -0.6249, -0.6249, -0.8689, -0.7555, -0.5574, -0.09, -0.7506, -0.7506, 0.0, -0.4404, -0.9485, -0.9612, -0.872, 0.2023, -0.3612, 0.0, -0.5719, -0.8481, -0.4404, -0.8481, -0.296, -0.6705, 0.2263, -0.5948, -0.6597, -0.6597, 0.128, -0.9313, -0.9313, 0.0, 0.0, -0.7003, -0.7003, -0.7845, -0.7845, -0.5859, 0.5106, -0.2964, -0.9517, -0.8271, -0.3769, -0.7003, -0.802, -0.802, 0.8402, 0.8402, -0.6369, -0.975, -0.0258, -0.7096, -0.4767, -0.6705, 0.4019, 0.4019, 0.5413, 0.4201, -0.8225, -0.9217, -0.7351, -0.8316, 0.4588, -0.8834, -0.959, -0.959, -0.891, -0.891, -0.9468, -0.2728, -0.8588, -0.8221, 0.0, 0.128, 0.7184, -0.7845, -0.7845, -0.8934, -0.25, -0.7106, -0.7096, -0.5423, 0.3987, 0.0, 0.5187, -0.5106, -0.296, -0.5859, -0.9001, -0.5423, -0.7927, -0.7927, -0.296, 0.0, 0.128, -0.7906, 0.7096, -0.1779, 0.4118, -0.1531, -0.7096, -0.872, -0.872, 0.128, 0.128, -0.0772, -0.0772, -0.8885, -0.8885, -0.1531, -0.5106, -0.8225, -0.4019, -0.5719, -0.4767, -0.9485, -0.4767, -0.128, -0.5859, 0.296, -0.9744, -0.8885, 0.9201, 0.9201, 0.296, -0.7772, -0.5027, 0.577, -0.9899, -0.1779, 0.577, -0.4215, -0.34, -0.9509, -0.9019, -0.9761, -0.9169, -0.8625, -0.9022, 0.5106, -0.3071, -0.6705, -0.4215, -0.5423, -0.1027, -0.7003, 0.4019, -0.8807, -0.8807, -0.946, -0.946, -0.1531, -0.8934, -0.8442, -0.8442, 0.4019, 0.34, 0.0, -0.8271, 0.0, -0.3612, -0.9719, -0.9719, -0.6124, -0.6124, 0.2714, -0.8126, -0.8126, -0.8126, -0.7351, -0.1027, 0.6914, -0.9442, -0.8271, -0.9545, -0.9545, -0.1531, -0.9001, -0.9001, 0.7717, 0.7717, -0.9432, 0.128, -0.9808, -0.3291, 0.0, -0.4215, -0.886, -0.6369, -0.9217, -0.9217, -0.8779, -0.4404, -0.4404, -0.7506, -0.7506, 0.836, 0.2023, 0.2023, -0.2263, -0.7579, 0.4019, 0.6369, -0.6705, -0.6705, -0.6858, 0.0, -0.4215, -0.8436, -0.1779, -0.5574, 0.1779, 0.0772, 0.0772, -0.4767, -0.8779, -0.8779, 0.0, -0.4767, -0.9477, -0.7964, -0.3956, -0.91, -0.8979, -0.7717, -0.961, -0.8934, -0.2166, -0.2166, -0.3544, -0.5122, 0.0, 0.0, 0.0, 0.128, -0.3818, -0.9545, -0.967, 0.4019, 0.8689, -0.9423, -0.9423, -0.4767, -0.8807, 0.34, -0.1027, -0.6908, -0.8641, -0.7814, -0.8074, -0.8074, -0.3818, -0.9246, -0.9246, -0.743, 0.4939, -0.7003, -0.9524, -0.8555, -0.8551, 0.128, 0.0, -0.296, -0.7615, -0.7615, -0.6686, -0.7241, -0.5994, -0.7906, -0.7906, 0.6124, -0.9186, 0.0, -0.3818, -0.4404, -0.9477, -0.936, -0.7717, 0.5216, -0.2887, -0.9538, -0.7964, -0.7964, -0.946, -0.946, -0.4939, -0.4215, -0.9623, -0.9623, -0.4168, 0.0, -0.5423, -0.3182, -0.7964, -0.797, 0.4019, -0.765, -0.765, -0.9231, 0.8689, 0.0603, 0.7906, -0.2013, -0.9607, -0.3612, -0.3612, -0.3262, -0.3262, -0.8779, -0.969, -0.9186, -0.969, -0.5859, -0.5859, -0.8126, -0.4404, -0.7579, -0.7579, -0.4215, -0.4215, 0.4019, -0.3818, -0.967, -0.9451, -0.9753, -0.9476, -0.9451, -0.6249, -0.8402, -0.8658, -0.9517, -0.296, 0.0, -0.7184, -0.8442, -0.6808, -0.5267, -0.296, -0.7096, -0.7959, -0.7506, -0.7906, -0.4215, -0.8126, -0.7351, -0.7096, -0.7096, -0.5994, 0.0, -0.7351, -0.5083, -0.2919, -0.1818, -0.7351, -0.7506, -0.9274, -0.296, -0.9274, -0.2263, -0.891, -0.836, -0.836, -0.6597, 0.0, -0.7717, -0.2441, -0.4723, -0.34, -0.9001, 0.0, -0.6369, 0.5228, 0.5228, 0.0, -0.1779, 0.128, 0.0, -0.9509, -0.8225, 0.4019, 0.2732, 0.128, -0.2732, -0.4019, 0.128, -0.1779, -0.7359, -0.3291, -0.8858, -0.8402, 0.2023, 0.2023, -0.7717, -0.7717, -0.765, -0.784, -0.5994, -0.4404, -0.1531, -0.8779, -0.5994, -0.7783, -0.9387, -0.8689, 0.8779, -0.4215, -0.4215, -0.0772, 0.128, 0.7096, -0.8271, -0.6249, -0.6249, 0.0, -0.1779, 0.2363, -0.5859, -0.9538, -0.9638, -0.6705, -0.6705, -0.7845, 0.4939, 0.4939, 0.4215, 0.4215, -0.6369, -0.9451, -0.6369, 0.7717, 0.7717, -0.9477, -0.9477, -0.7096, -0.9118, -0.9118, -0.34, 0.0, 0.128, -0.8835, -0.5106, 0.2263, -0.4404, -0.2748, 0.0, -0.4854, -0.9705, -0.9834, -0.1027, -0.9403, 0.5106, -0.4767, -0.25, -0.2263, -0.25, -0.0516, -0.6597, 0.7717, -0.296, -0.9517, 0.0, -0.7003, -0.872, -0.9153, -0.7906, -0.6369, -0.3182, -0.8176, -0.9081, -0.9081, -0.9661, -0.4019, -0.3612, -0.4019, -0.5106, -0.8519, 0.0, -0.6705, -0.8519, -0.4767, -0.7506, -0.7845, -0.8481, -0.9414, -0.9324, -0.9324, -0.8979, -0.4588, 0.4588, -0.9382, -0.8316, 0.5423, -0.5994, -0.5994, 0.6908, -0.7096, -0.2732, -0.2732, -0.8625, -0.296, -0.6369, -0.296, -0.25, -0.765, -0.3612, -0.7351, -0.7351, -0.2023, -0.8957, -0.93, -0.6705, -0.875, -0.6124, -0.4767, -0.5106, -0.5106, -0.296, 0.4019, -0.2263, 0.3682, 0.4019, 0.4019, -0.4767, 0.25, -0.7184, -0.34, -0.34, 0.4019, 0.0, -0.128, -0.8481, 0.4019, 0.4019, 0.3724, -0.9783, -0.0516, -0.7351, -0.2732, -0.7845, -0.8481, -0.6908, -0.0258, -0.0258, -0.9245, 0.0, -0.8519, -0.8316, -0.7351, -0.7783, -0.128, -0.802, -0.7351, 0.8689, 0.6597, 0.6597, 0.128, -0.6249, -0.6249, -0.5267, -0.5267, -0.0516, -0.5106, -0.5106, -0.0516, -0.9349, -0.7096, -0.9001, -0.7555, -0.2732, 0.34, -0.8934, -0.7717, 0.128, -0.5859, -0.4215, -0.959, 0.0, -0.7351, -0.6808, -0.8126, -0.8225, 0.0516, 0.0516, 0.128, -0.872, -0.7351, -0.9952, -0.9442, -0.9628, -0.4019, -0.6542, -0.9062, -0.9756, -0.7783, -0.5719, 0.3682, -0.8748, 0.6124, 0.25, -0.326, -0.5719, 0.0, 0.0258, -0.2023, -0.8402, -0.8402, -0.4253, -0.2919, -0.296, -0.8442, -0.3111, -0.5574, -0.9371, -0.9371, -0.1531, -0.7003, 0.3818, -0.0258, -0.4215, -0.9022, -0.8779, -0.4588, -0.1611, 0.128, -0.6124, 0.0, -0.7003, -0.7003, -0.8126, 0.0, -0.8519, -0.8316, -0.5859, -0.7964, 0.1531, 0.3975, 0.3975, 0.128, -0.9231, -0.8934, 0.128, -0.8176, -0.3753, -0.8625, -0.8625, -0.4404, -0.9349, -0.9601, -0.4019, -0.4019, -0.852, -0.852, -0.7351, -0.5106, -0.7506, -0.8555, 0.34, -0.1027, 0.0, -0.296, 0.8715, 0.3374, 0.3374, -0.7096, -0.0621, -0.0621, -0.8074, 0.0, -0.946, 0.6369, -0.3818, -0.3818, 0.0, -0.7825, -0.7003, -0.6486, -0.9844, -0.7003, -0.9246, 0.128, 0.2003, -0.4767, -0.7003, -0.9246, -0.4404, -0.4404, -0.3425, -0.765, -0.7717, -0.4019, -0.1779, 0.128, 0.128, -0.296, -0.6249, -0.7579, -0.8807, -0.9413, 0.0, -0.296, -0.9023, -0.9023, -0.4019, -0.2732, 0.4019, -0.8225, -0.7351, -0.8555, -0.8369, -0.7351, 0.7184, -0.5859, -0.9623, -0.9623, -0.5859, -0.886, -0.5859, 0.0, -0.8402, -0.5267, -0.5267, -0.9718, -0.5849, -0.8502, -0.8807, -0.7506, -0.4404, -0.4404, 0.128, -0.7717, -0.959, -0.959, 0.34, 0.34, -0.4404, -0.4404, -0.8834, 0.2263, 0.128, 0.6486, -0.6808, -0.5719, -0.1531, -0.899, -0.4456, -0.3612, -0.9217, -0.9217, -0.6597, -0.7964, -0.8555, -0.743, -0.6908, -0.9118, -0.9118, -0.7003, -0.7906, -0.2023, -0.7351, 0.0, -0.8519, -0.9062, -0.899, -0.9517, 0.0, -0.6486, -0.765, 0.128, -0.3612, -0.9442, -0.9062, -0.7579, -0.1027, -0.7728, -0.6705, -0.2732, -0.9134, -0.2732, -0.296, -0.296, -0.4019, -0.4019, -0.8122, -0.8122, -0.3818, -0.8519, -0.5267, -0.8519, 0.4019, -0.0258, -0.891, -0.8316, -0.0516, -0.296, -0.296, -0.2023, -0.9884, -0.9217, -0.2023, -0.7269, -0.7269, -0.6249, 0.6615, 0.0, -0.6908, 0.0772, -0.9217, -0.8316, -0.9313, 0.0, 0.4019, -0.7096, 0.128, -0.296, 0.4939, 0.0263, 0.4215, -0.1779, -0.1779, -0.743, -0.5859, -0.4767, -0.9501, -0.7717, -0.7717, -0.2732, -0.7003, -0.969, 0.128, 0.128, 0.0, -0.4404, 0.4019, 0.5106, -0.1779, -0.1779, 0.0, 0.128, 0.3987, -0.7717, -0.9201, -0.8807, -0.7106, 0.0, -0.4404, -0.875, 0.0, -0.7351, -0.9231, -0.296, -0.9349, -0.9349, -0.5267, 0.0, 0.128, -0.1531, -0.1531, -0.4215, -0.4215, -0.1531, -0.6614, -0.8047, -0.8047, -0.2617, -0.7269, 0.7096, 0.7096, -0.4019, -0.636, 0.8176, -0.7783, -0.7717, -0.5719, 0.8176, -0.0772, -0.8402, -0.4019, -0.6652, -0.7717, -0.6705, 0.128, -0.8555, 0.4939, 0.4939, -0.8555, 0.128, -0.8271, -0.6476, -0.884, 0.0, -0.5994, -0.6808, -0.8442, -0.7559, -0.3142, -0.4404, -0.7906, 0.2942, -0.0772, -0.0772, -0.765, 0.2942, -0.6908, -0.986, -0.986, 0.4215, -0.5106, -0.9682, -0.9682, -0.1796, -0.5434, -0.8555, -0.7351, 0.128, 0.34, -0.4215, -0.7096, -0.6955, -0.1531, 0.6486, 0.9423, -0.9001, -0.886, -0.5574, -0.8689, -0.946, 0.128, 0.0, -0.836, -0.836, -0.9481, -0.872, 0.7845, 0.7845, -0.7351, -0.8225, -0.0772, -0.4404, -0.6124, -0.8689, 0.4019, -0.9819, -0.9819, -0.6249, -0.743, -0.3182, -0.9136, -0.7351, -0.9186, -0.3612, -0.7351, -0.9769, -0.7506, -0.7096, -0.2263, -0.7003, -0.8176, -0.8176, -0.9769, -0.7845, -0.8524, -0.8658, 0.128, -0.967, -0.4767, -0.4854, -0.8225, -0.8271, -0.8271, -0.886, -0.886, -0.6808, -0.3818, 0.0, -0.7096, -0.4019, -0.8481, -0.4939, -0.6124, -0.8402, -0.8176, -0.9231, -0.9231, -0.0516, -0.0258, -0.2263, -0.7184, -0.1779, -0.5267, -0.6486, -0.8807, -0.6369, -0.9062, -0.9217, 0.0, 0.802, -0.3612, -0.8779, -0.2732, 0.2023, -0.5994, -0.8555, -0.8555, -0.7906, -0.9477, -0.8074, -0.4215, -0.4215, -0.7717, -0.4588, -0.8555, 0.8176, -0.9477, -0.9313, -0.9313, -0.8176, -0.9161, -0.7003, -0.6486, -0.6486, -0.9161, -0.6249, -0.9136, 0.0, -0.8402, 0.128, -0.296, 0.128, 0.2714, -0.2263, -0.9744, -0.765, -0.9674, -0.7964, -0.8779, -0.296, -0.296, -0.3818, -0.4404, 0.4019, -0.34, 0.124, -0.891, -0.93, -0.7845, -0.7845, -0.802, -0.9442, -0.1984, -0.7707, -0.8934, -0.7184, -0.7184, -0.1027, 0.9186, 0.9186, -0.9595, -0.7596, 0.0, -0.7783, -0.296, -0.9186, -0.7906, -0.7906, -0.3612, -0.9186, 0.4791, 0.0, 0.4767, -0.5859, -0.891, -0.8658, -0.8658, -0.9001, -0.9001, -0.8807, -0.9961, -0.6597, -0.296, 0.128, -0.5106, -0.5106, 0.0, -0.1027, -0.9842, -0.802, -0.1779, -0.1779, -0.9169, -0.9825, -0.9825, -0.9509, -0.7964, -0.8889, -0.9287, -0.9287, -0.4215, -0.4588, -0.4588, -0.296, -0.8934, -0.9736, -0.34, -0.4767, -0.7184, -0.8779, -0.8779, 0.34, 0.0516, -0.9786, -0.981, -0.7506, -0.7506, 0.1531, -0.6369, -0.9001, -0.6369, -0.8625, -0.831, -0.831, -0.4215, 0.0, -0.8074, -0.7096, -0.4019, 0.0, 0.0, -0.0516, -0.7579, -0.7964, -0.7506, -0.9153, -0.9153, -0.9628, -0.7906, -0.7906, -0.9231, -0.9231, -0.8442, -0.3612, -0.7783, -0.6486, 0.3182, -0.296, -0.6369, 0.128, -0.6486, -0.34, -0.1779, -0.765, -0.3818, -0.9062, -0.9062, 0.2732, -0.5994, -0.7783, -0.802, 0.0, -0.743, -0.9674, -0.8834, -0.9186, 0.128, -0.9287, -0.9287, -0.1406, -0.836, -0.2732, -0.802, 0.5868, -0.5859, -0.7964, -0.7964, -0.4404, -0.9752, -0.9752, -0.296, -0.8271, 0.0, 0.34, 0.0, -0.25, -0.9136, -0.9001, -0.936, 0.4401, 0.4401, -0.8225, -0.7351, -0.8225, -0.7783, -0.926, -0.34, -0.1531, -0.6369, -0.775, -0.9413, 0.4404, 0.0772, -0.7184, -0.2023, -0.7906, -0.9335, -0.9335, -0.743, 0.0, -0.296, -0.5423, -0.5423, 0.558, 0.0, -0.296, -0.296, -0.0258, -0.0258, -0.5994, -0.836, -0.3182, -0.1531, -0.5346, -0.8316, -0.9442, -0.1027, 0.5994, 0.0, -0.8957, -0.9413, -0.9413, -0.8591, -0.8869, 0.128, -0.0516, -0.4588, -0.4588, -0.9612, -0.7346, -0.7346, -0.9952, -0.2263, 0.0258, 0.0258, -0.5994, -0.9001, -0.765, -0.2263, -0.34, -0.8625, 0.0, -0.8625, -0.8316, -0.765, -0.9403, 0.7506, -0.926, -0.9393, -0.9413, -0.9618, -0.9618, -0.0772, -0.5423, -0.7906, -0.4019, -0.802, -0.802, -0.7712, 0.4019, -0.4019, -0.1796, 0.0, -0.6597, -0.9509, -0.836, -0.1796, -0.9042, 0.3818, -0.0258, -0.7269, -0.9047, -0.9395, -0.5574, -0.5574, -0.7184, -0.8957, -0.9781, -0.8519, -0.9781, -0.9674, -0.5859, 0.0, 0.128, -0.8225, -0.3818, -0.5267, -0.5267, -0.0793, -0.0793, -0.8658, -0.8658, 0.0, -0.7845, 0.8591, -0.93, 0.6808, -0.6124, -0.8934, -0.6486, -0.6486, -0.886, -0.8779, -0.4215, -0.7269, 0.9118, -0.7351, -0.7351, -0.8381, -0.5106, -0.9246, 0.7506, -0.2263, -0.2263, -0.7003, -0.7003, -0.6808, -0.6808, -0.4588, -0.836, 0.4588, 0.2023, 0.3612, -0.6597, 0.3612, -0.3612, -0.8591, -0.7906, -0.8967, -0.8126, -0.7351, 0.6597, 0.6597, -0.4019, -0.8442, -0.802, 0.6597, 0.6597, -0.5423, -0.34, -0.2023, -0.5994, 0.0, -0.1779, -0.5994, -0.5994, -0.1027, 0.0772, -0.8834, -0.967, 0.3612, -0.5423, -0.9468, -0.8658, -0.8519, 0.0808, 0.0808, -0.875, -0.9349, -0.8689, -0.9136, -0.8625, -0.6808, -0.6808, 0.0, -0.9142, -0.8555, -0.2263, -0.2263, -0.7003, -0.7906, -0.9293, -0.9535, -0.6908, -0.9313, -0.6597, -0.6597, -0.636, -0.9481, 0.296, -0.9842, -0.836, -0.9756, 0.0752, -0.7906, 0.6369, -0.8689, -0.926, -0.3612, 0.128, -0.3818, -0.4215, -0.5106, -0.5106, -0.9712, -0.9712, 0.7574, -0.0772, -0.0772, -0.3818, -0.7579, -0.1779, -0.9803, -0.7579, -0.7579, -0.1779, -0.4215, -0.91, -0.91, -0.7815, -0.7815, -0.7003, -0.5423, -0.7003, -0.7906, -0.946, -0.9234, -0.9234, -0.8858, -0.967, -0.9246, -0.1779, -0.4404, -0.8519, -0.7351, 0.3612, -0.8625, -0.1027, -0.9584, -0.9584, -0.9201, -0.6705, 0.128, 0.0, -0.967, -0.868, -0.7003, -0.7906, -0.0, 0.0, 0.0, -0.9022, -0.9633, -0.9633, 0.0, -0.1531, -0.836, 0.4019, -0.3818, 0.0, -0.743, -0.6369, -0.9883, -0.9414, -0.8979, -0.8316, -0.8658, -0.296, -0.5383, 0.3455, -0.3818, -0.296, 0.0772, -0.6369, -0.4215, -0.7184, -0.6124, 0.5106, -0.8481, -0.7579, 0.0, -0.6757, -0.9652, -0.6808, -0.1027, 0.0, -0.4588, 0.5106, -0.9382, -0.34, -0.1531, 0.1779, 0.0, 0.296, -0.875, -0.875, -0.9136, -0.9231, -0.9231, 0.25, -0.7845, -0.7845, 0.25, 0.25, -0.7936, 0.0, -0.8689, -0.8316, -0.8316, 0.0, -0.8591, -0.1779, -0.8439, -0.9957, -0.6486, -0.6486, -0.9153, -0.4767, -0.4767, -0.7964, -0.7717, -0.7717, -0.6124, -0.5106, -0.4215, 0.4019, 0.6908, -0.7964, -0.9932, -0.7184, -0.7184, -0.9042, -0.4003, -0.8999, 0.0, -0.7845, -0.3818, -0.3818, -0.7351, 0.0772, 0.0772, -0.3818, -0.9957, -0.9952, -0.6801, -0.6801, -0.6705, -0.7003, -0.4404, -0.5719, -0.9558, -0.9892, -0.9336, -0.0772, 0.4019, -0.2206, -0.1779, -0.1779, -0.9186, -0.6705, -0.9719, -0.985, -0.9719, -0.8316, -0.6808, -0.5106, -0.6249, 0.0, -0.4404, -0.9153, -0.8591, -0.4767, -0.7184, -0.7351, -0.6369, -0.7033, -0.6465, -0.8658, -0.7184, -0.7184, -0.7351, -0.9053, -0.9194, -0.7003, -0.7096, -0.7096, 0.0, -0.3818, -0.9666, -0.9738, -0.9118, -0.967, -0.1027, -0.1027, 0.128, -0.4767, -0.6908, -0.7506, -0.8504, -0.7184, -0.7184, -0.886, -0.886, -0.3876, -0.0845, -0.1027, -0.2732, -0.296, -0.6369, -0.6369, -0.7798, -0.1779, -0.34, -0.5267, -0.5267, -0.7003, -0.6369, -0.0258, -0.2964, -0.8957, -0.8957, -0.9136, -0.9393, -0.4215, -0.9022, -0.1027, -0.7783, -0.9241, -0.9674, -0.7579, -0.7579, 0.4588, 0.0, -0.8316, -0.9337, -0.9337, -0.3182, -0.6705, -0.7845, -0.7845, -0.4588, -0.8481, -0.8555, -0.8555, -0.765, -0.4404, -0.4404, -0.7351, -0.7351, -0.9136, -0.6249, -0.8957, -0.5106, -0.9883, -0.9869, -0.6486, -0.6369, 0.0772, 0.0772, -0.6486, -0.8126, -0.7906, -0.9118, -0.6369, 0.0, -0.6124, -0.5859, -0.4404, -0.4404, -0.4574, 0.8153, -0.8481, -0.8481, 0.0, -0.3612, -0.5994, -0.9042, -0.802, -0.9022, -0.9022, -0.9022, -0.3182, 0.0772, 0.0772, -0.7906, -0.9022, -0.8074, -0.7845, -0.7845, 0.128, -0.9022, 0.128, -0.4767, 0.0, -0.5267, -0.5584, -0.9793, 0.0, -0.4404, 0.4019, -0.7351, 0.4019, -0.7184, -0.9665, 0.0, -0.8834, -0.9001, -0.9001, -0.0772, -0.3612, -0.9643, -0.9643, -0.296, -0.5574, -0.8422, -0.34, -0.9442, -0.6908, -0.9712, -0.872, -0.9694, -0.9618, 0.1531, -0.2732, -0.6705, -0.6705, -0.1027, -0.2987, -0.886, -0.8126, 0.0, -0.25, -0.765, -0.9855, -0.0772, -0.8834, -0.8957, -0.3612, -0.8957, 0.3167, 0.3167, -0.4215, -0.7003, -0.8074, 0.9371, 0.0, -0.7351, -0.296, 0.128, -0.2263, -0.2263, 0.0, -0.743, -0.6486, -0.1027, -0.4497, -0.1027, 0.0772, -0.8555, -0.802, -0.802, -0.34, -0.9217, -0.8479, -0.8658, -0.8658, -0.1779, 0.25, -0.7351, -0.8689, -0.7351, -0.7579, -0.7579, -0.1779, -0.9584, -0.9412, -0.9584, -0.296, -0.0258, -0.7506, -0.8979, -0.886, -0.5859, -0.8519, -0.8519, 0.128, -0.3818, 0.7351, 0.5994, 0.743, 0.2023, -0.836, -0.4767, 0.4019, 0.128, 0.0, -0.6369, -0.8176, -0.8481, -0.8176, -0.9854, -0.9136, -0.9652, -0.9652, -0.4215, -0.4215, -0.9477, -0.9477, 0.5106, 0.296, -0.8834, 0.128, -0.926, 0.128, -0.8519, -0.8519, -0.2732, -0.0516, -0.3447, -0.5606, -0.5859, -0.5859, -0.9169, -0.8225, -0.6808, -0.5859, -0.7096, -0.4939, -0.7906, -0.9153, -0.7351, -0.7096, -0.6124, -0.2732, -0.9741, -0.9393, -0.2728, -0.9741, -0.128, -0.7579, 0.4939, -0.6249, -0.6249, -0.296, -0.296, -0.296, -0.9217, 0.0, -0.2263, -0.7351, 0.5859, -0.5478, -0.6369, 0.7469, -0.1027, -0.875, -0.7988, -0.5958, -0.6369, -0.5958, -0.8271, -0.8271, -0.34, -0.9623, -0.1779, -0.7845, -0.6369, -0.2023, -0.9623, -0.5994, -0.5994, 0.0, -0.296, -0.6369, 0.0, -0.5719, -0.6808, -0.8225, -0.9169, -0.9618, -0.9732, -0.3182, -0.0258, 0.3612, -0.7184, -0.7184, -0.6251, 0.5644, -0.5106, -0.7269, -0.9578, -0.959, -0.9153, -0.765, -0.3818, -0.3818, -0.9217, -0.836, -0.836, -0.7003, 0.8627, -0.0544, 0.4568, -0.1779, -0.1779, -0.6808, -0.6808, -0.2023, -0.8828, -0.7845, -0.9217, -0.3182, -0.1779, -0.7906, -0.7351, -0.2728, -0.891, -0.8555, -0.8316, -0.3716, -0.3716, -0.1779, -0.7717, -0.1531, -0.4019, -0.4019, 0.128, -0.765, -0.5994, -0.1779, -0.1779, 0.0, -0.7579, -0.5574, -0.5574, 0.128, -0.9201, -0.8402, -0.8402, 0.1225, -0.8885, -0.959, -0.5423, -0.8625, -0.743, -0.7184, -0.9716, -0.9716, -0.9735, -0.9735, -0.2732, -0.9413, -0.9552, -0.6705, -0.8792, 0.4019, -0.9001, -0.2263, -0.2263, -0.4404, -0.8074, -0.8074, 0.4019, -0.4404, -0.6124, -0.296, -0.5859, -0.1779, -0.1779, -0.9953, -0.9571, -0.9953, -0.7506, 0.0, -0.7184, 0.5267, 0.5267, -0.4404, -0.1759, 0.0, -0.128, -0.1779, -0.1779, -0.2023, -0.296, -0.8807, -0.9764, -0.9764, -0.6808, -0.6808, -0.9349, -0.5106, -0.6483, -0.6483, -0.7717, -0.7717, -0.9473, -0.9473, -0.836, -0.6705, -0.836, -0.7936, 0.6126, -0.25, -0.4404, -0.7003, -0.0516, -0.9233, -0.8555, -0.9233, -0.9705, -0.9423, -0.6369, -0.8834, -0.6369, -0.9001, -0.8543, -0.4404, -0.6486, -0.9408, 0.0, 0.128, -0.8779, -0.1027, -0.9468, -0.2263, 0.0, -0.9571, -0.7003, 0.8481, -0.9414, 0.0, -0.6369, -0.8885, -0.8442, 0.4019, -0.1531, -0.7184, -0.7184, -0.6369, -0.7351, -0.5106, -0.5267, -0.9818, -0.9595, -0.4215, -0.9595, 0.0, -0.8591, -0.8591, -0.5859, -0.8807, -0.8807, -0.765, -0.765, -0.8885, 0.7717, -0.8519, 0.4019, -0.1531, -0.8126, -0.5994, -0.9531, -0.9531, -0.886, -0.8322, -0.802, -0.9153, -0.5994, -0.5994, -0.9337, -0.836, 0.79, -0.7845, -0.7845, 0.8402, 0.8402, -0.797, 0.0, -0.9584, -0.926, -0.9324, -0.9441, -0.6124, -0.2732, 0.0451, 0.0451, -0.1531, -0.9771, -0.9705, -0.9705, -0.9442, -0.296, -0.8481, -0.9771, 0.0222, -0.8074, -0.8074, -0.8807, -0.8807, -0.3226, -0.7717, 0.0, -0.296, -0.9661, -0.7579, -0.7579, 0.1531, -0.7579, -0.1779, -0.6369, -0.9777, -0.9231, -0.9377, -0.9042, -0.3182, -0.9042, -0.7269, -0.7269, -0.6249, -0.6249, -0.926, 0.0516, 0.0516, -0.9042, -0.9042, -0.128, -0.8225, -0.4019, -0.5994, -0.4019, -0.4019, 0.128, -0.9833, 0.296, -0.5423, -0.1779, -0.5767, -0.6369, -0.8481, -0.7351, -0.7845, -0.9552, -0.296, -0.7873, -0.9016, -0.802, -0.9858, 0.0, 0.7845, -0.7579, -0.7579, 0.6597, 0.6597, -0.34, 0.2732, -0.8126, -0.7906, -0.7906, -0.872, -0.296, -0.9559, -0.9559, -0.9136, -0.9136, 0.0, -0.4404, -0.8402, -0.8658, 0.0772, -0.6369, -0.34, -0.743, -0.4588, -0.4588, -0.9081, -0.9789, -0.9747, -0.7579, 0.0, -0.8126, 0.34, 0.25, -0.1779, -0.9001, -0.8442, -0.8442, -0.946, 0.0, -0.3818, -0.6124, 0.362, 0.2741, 0.0, -0.5859, -0.7184, -0.4019, -0.8481, 0.0, -0.8807, 0.3182, -0.9153, -0.9814, 0.0, -0.1779, -0.8797, -0.8797, -0.5719, -0.296, -0.4019, -0.6369, -0.9393, -0.9879, -0.9723, -0.4215, 0.7964, 0.7096, 0.128, -0.9001, -0.9217, -0.9217, -0.8779, -0.8779, -0.5574, -0.4404, -0.7003, 0.0, 0.0, -0.9601, -0.8984, -0.836, -0.8481, -0.8834, 0.128, -0.6369, -0.6369, -0.4404, -0.8381, -0.4497, -0.4497, -0.7003, 0.128, -0.4019, 0.0, 0.128, -0.9382, -0.9382, -0.9001, -0.875, -0.7964, -0.3612, -0.9217, -0.1779, -0.7506, 0.0, -0.7096, -0.9072, -0.936, 0.8689, 0.8689, 0.0, -0.1779, 0.6124, -0.9595, -0.9595, -0.886, 0.128, -0.8411, -0.836, -0.4939, -0.8442, -0.6369, -0.6369, -0.4939, -0.872, -0.872, 0.1531, -0.7319, -0.7319, 0.296, -0.4215, -0.4215, -0.6486, -0.8074, -0.128, -0.296, -0.296, -0.5859, -0.5267, -0.5267, -0.6486, -0.4019, -0.8402, -0.8658, -0.9842, 0.0772, -0.7184, 0.0258, -0.4404, -0.6486, -0.6486, -0.9705, -0.25, -0.7184, 0.128, 0.0485, -0.926, -0.946, -0.946, -0.4404, -0.6124, -0.8625, -0.8625, -0.7184, -0.9531, -0.5574, -0.8885, -0.91, -0.6369, -0.6854, -0.7964, 0.4019, -0.5859, -0.8658, -0.8658, -0.91, -0.2732, -0.8625, -0.9764, -0.7003, -0.9022, -0.8658, -0.34, 0.6369, -0.6249, -0.8893, -0.7906, -0.6801, 0.5423, -0.7851, 0.0, 0.0, -0.9413, -0.5994, -0.3818, -0.872, -0.8422, -0.7534, -0.6124, -0.6486, -0.9705, -0.8555, -0.0516, -0.3818, -0.8792, 0.4939, 0.4939, -0.1027, -0.7096, -0.3182, -0.0258, -0.8271, -0.8271, -0.4019, -0.9779, -0.9738, 0.0485, -0.5106, -0.1655, -0.4215, -0.7254, -0.8442, -0.8442, -0.765, -0.5106, -0.5106, -0.9423, -0.902, -0.296, -0.3818, 0.0258, -0.5267, -0.4588, -0.5719, 0.128, -0.8481, -0.8481, -0.875, -0.8934, 0.2023, 0.2023, -0.3818, -0.9186, -0.5994, -0.6908, -0.9657, -0.9643, -0.3818, 0.0, -0.5267, -0.4588, -0.4404, -0.4404, -0.875, -0.802, -0.6124, -0.8555, -0.5719, -0.4939, -0.7717, -0.7717, -0.9081, -0.3395, -0.3395, -0.1531, -0.1531, -0.8807, -0.5859, -0.9552, -0.9337, -0.7717, -0.7717, 0.128, -0.1779, -0.7717, 0.0, 0.1779, 0.1779, 0.128, 0.6249, -0.4215, 0.0, 0.128, 0.0258, -0.4215, -0.8555, -0.5267, 0.0, -0.8885, -0.6369, -0.6369, 0.128, -0.9299, -0.836, -0.7964, -0.8828, 0.0, -0.8625, 0.0, -0.7506, -0.4939, -0.6597, -0.6597, 0.9298, -0.4404, -0.8869, -0.8316, -0.8481, -0.6369, -0.6369, -0.2263, -0.7184, -0.2263, -0.25, -0.9201, -0.9201, 0.0, -0.1779, -0.1531, -0.9081, -0.9081, -0.2732, -0.7783, -0.2263, -0.7845, -0.9572, 0.4019, -0.6597, -0.8779, -0.6808, -0.7351, 0.128, -0.1027, -0.5994, -0.7717, -0.7717, -0.9623, -0.9638, -0.9623, -0.4019, 0.5994, 0.128, 0.128, 0.5994, -0.5859, -0.3182, -0.9246, -0.9022, -0.5541, -0.5541, -0.5106, -0.7351, -0.4574, -0.7269, -0.9825, -0.985, -0.8271, -0.8271, -0.9388, -0.25, -0.4588, -0.8126, -0.6705, -0.8807, -0.296, -0.4215, 0.0258, -0.2023, 0.128, 0.128, -0.886, -0.296, -0.296, -0.5859, -0.5423, 0.0, -0.8271, -0.1027, -0.2815, -0.8692, -0.6808, 0.0, -0.6908, -0.4696, -0.4696, 0.7964, 0.5859, -0.4404, -0.961, -0.9221, -0.9442, 0.0, -0.8074, 0.9118, 0.4943, -0.7227, -0.8442, 0.0, -0.7506, 0.0, -0.3818, -0.7964, -0.9805, -0.946, -0.9741, -0.4427, -0.9042, -0.9042, -0.802, -0.802, -0.936, -0.936, -0.9325, -0.9325, -0.8807, -0.8807, 0.5719, -0.8591, -0.6249, -0.296, -0.7351, -0.9531, -0.9531, -0.5106, -0.9062, 0.1027, 0.4767, -0.6249, -0.4767, -0.4767, -0.5719, 0.0, -0.3818, 0.3182, 0.0, 0.1531, -0.4404, -0.296, -0.6249, -0.6249, -0.9062, -0.9062, -0.9337, 0.126, 0.0, -0.9246, -0.9246, -0.7783, -0.9702, -0.9702, -0.91, -0.7096, -0.8591, -0.8591, -0.8126, -0.872, -0.7248, 0.296, -0.4215, -0.946, -0.6369, -0.6369, -0.8225, -0.8225, -0.1779, -0.5267, -0.1779, -0.9891, -0.9953, -0.9891, -0.7579, -0.714, -0.6597, -0.9565, -0.9628, -0.1531, -0.296, -0.875, -0.7579, -0.7579, -0.9638, -0.9638, -0.34, -0.9413, -0.8271, -0.8957, -0.8805, -0.8957, -0.7845, -0.7184, -0.7184, 0.0, -0.6369, -0.3182, -0.7269, -0.7269, -0.1027, -0.7351, -0.8625, -0.9451, -0.8625, -0.128, -0.7096, 0.5106, 0.5106, -0.8402, 0.6124, -0.8555, -0.8555, 0.9298, -0.926, -0.4404, 0.1779, -0.5267, 0.3164, 0.3164, 0.1779, -0.2023, -0.9886, -0.5267, -0.872, -0.296, -0.8074, -0.5859, -0.3818, -0.3818, 0.0, -0.4404, 0.4019, -0.8126, -0.8126, -0.4939, -0.2023, -0.8176, 0.4215, -0.8225, -0.9796, -0.9796, 0.8689, 0.8689, -0.4767, -0.8271, -0.6124, -0.1027, -0.5106, -0.5106, -0.959, -0.959, 0.743, -0.4404, -0.9169, -0.9169, -0.9517, -0.4767, -0.9349, -0.2263, 0.3612, -0.6369, -0.6369, -0.6249, -0.8272, 0.0, -0.2481, -0.8693, -0.8272, -0.8957, -0.7269, 0.25, -0.1027, -0.9716, -0.967, 0.2373, -0.5719, -0.9846, -0.9042, -0.4574, -0.25, -0.25, 0.128, -0.7351, 0.4019, -0.9809, -0.9393, 0.0, -0.8271, -0.7003, -0.9136, 0.0, -0.7351, -0.891, -0.9803, -0.8633, 0.9506, -0.6486, -0.9201, -0.8776, -0.8776, -0.4404, -0.6908, -0.5767, -0.8779, 0.7003, -0.9916, 0.7003, -0.5719, -0.4215, -0.34, -0.4767, -0.4767, -0.8074, -0.1027, -0.9081, -0.8689, 0.0258, -0.4215, -0.8885, -0.9423, -0.34, -0.5859, -0.0387, 0.128, -0.7717, -0.9779, 0.2023, 0.3187, -0.8957, -0.8807, -0.93, -0.93, 0.6124, 0.6124, -0.765, -0.8481, -0.4215, -0.6369, -0.1779, -0.4404, -0.9661, -0.9485, -0.3818, 0.25, -0.4588, -0.4588, -0.7351, -0.8934, -0.3103, -0.9325, -0.2732, -0.2732, -0.5325, -0.9814, -0.9738, -0.946, -0.6908, -0.6908, -0.2579, -0.5267, -0.9501, -0.9758, -0.3182, -0.8442, 0.128, 0.128, -0.296, -0.3818, -0.7639, -0.9277, -0.8126, -0.8126, -0.6808, 0.8515, 0.743, -0.765, -0.8271, -0.0258, 0.4019, 0.0, 0.0, -0.9217, -0.8519, 0.0, -0.9694, -0.7964, -0.1027, -0.8481, -0.8885, -0.3612, 0.34, -0.7717, 0.25, -0.5574, -0.5574, 0.6126, 0.4019, 0.6249, -0.6597, -0.8722, -0.8722, -0.9652, -0.743, -0.4019, -0.7845, -0.5994, -0.9758, -0.967, -0.8519, -0.7003, -0.8834, -0.9821, -0.9821, -0.9118, -0.9199, -0.9042, -0.4939, -0.2263, -0.9169, -0.8555, -0.34, -0.4215, -0.8402, 0.7096, -0.9201, -0.9201, -0.4404, 0.4939, 0.4939, -0.8689, -0.8689, 0.0, -0.1531, -0.6597, -0.7845, -0.5267, -0.4588, -0.9382, 0.886, -0.6597, -0.9524, -0.296, 0.0, -0.296, -0.264, 0.6597, 0.6597, -0.6249, -0.6249, -0.9022, -0.9022, 0.6956, -0.7096, -0.9524, -0.4567, -0.7717, 0.128, -0.7506, 0.0, 0.128, 0.0, 0.5859, -0.8442, -0.8442, -0.7003, -0.5106, 0.4939, 0.4939, -0.7906, -0.7351, -0.7351, -0.8481, -0.296, -0.5267, -0.8481, 0.6249, 0.0, -0.7964, -0.1027, -0.1779, -0.5859, -0.93, -0.8934, -0.8934, 0.0, -0.8248, -0.9501, -0.9652, -0.8555, -0.0, -0.6249, -0.6369, -0.9287, 0.9541, 0.9471, -0.8422, 0.0, -0.5719, 0.8627, -0.8225, -0.9571, -0.0772, 0.0, -0.2263, -0.9403, -0.9403, -0.1531, -0.2023, 0.7485, -0.2023, -0.93, -0.93, -0.2263, -0.6249, -0.6249, -0.9744, -0.9744, -0.5267, -0.7003, -0.8402, 0.3612, -0.6486, -0.7964, -0.5719, -0.9744, -0.9595, -0.296, -0.5859, -0.8934, 0.3612, -0.5267, -0.5267, -0.9287, 0.4404, 0.1779, -0.9517, -0.9517, -0.6908, -0.6908, -0.7351, -0.8984, -0.9489, 0.25, -0.8074, -0.9442, -0.2263, 0.5719, -0.3182, -0.8442, 0.0, 0.128, -0.3182, -0.5859, -0.9468, -0.3612, 0.0, -0.6124, -0.9217, -0.9657, -0.7269, -0.5994, -0.9432, -0.8504, -0.9833, 0.128, -0.1779, 0.128, -0.7717, -0.9274, -0.8074, -0.8316, -0.34, -0.1531, -0.5719, -0.5719, -0.802, -0.4588, -0.4588, -0.4588, -0.4588, -0.7096, -0.9432, -0.0772, -0.0772, -0.8271, 0.0, -0.4149, -0.9186, -0.9169, -0.9169, 0.886, -0.5267, -0.7906, -0.6536, -0.6536, -0.0516, -0.7096, -0.7096, -0.8516, -0.6705, -0.8225, -0.8316, -0.9081, -0.9081, -0.8225, 0.5719, -0.9432, -0.9042, 0.128, 0.1779, 0.25, -0.9571, -0.9571, -0.2815, 0.128, -0.4767, -0.8519, 0.2263, 0.2263, 0.2732, 0.2732, -0.7906, -0.9728, -0.7003, 0.4588, -0.4767, 0.2732, 0.2732, -0.3628, -0.8807, -0.4767, 0.128, -0.8137, 0.0, -0.9081, -0.8402, -0.9001, -0.8402, -0.7003, -0.5267, -0.2732, -0.2732, -0.1027, 0.8481, -0.1027, -0.7096, -0.6369, -0.7506, 0.0, -0.2263, -0.5423, -0.296, -0.296, 0.4767, 0.4767, -0.1779, -0.1779, -0.9795, -0.9795, -0.7351, -0.7351, -0.6486, -0.91, -0.891, -0.91, 0.1511, 0.0772, -0.7851, -0.5859, -0.4404, -0.4404, -0.5994, -0.8834, -0.296, -0.296, 0.0, 0.128, 0.7485, 0.0516, -0.836, -0.836, 0.6249, 0.6249, -0.8225, -0.9559, -0.5267, -0.7351, -0.9194, -0.6808, -0.9144, -0.9144, -0.4215, -0.4215, -0.9485, 0.9062, -0.9313, -0.6652, -0.7469, 0.2023, 0.2023, -0.6124, 0.0, -0.4404, -0.7096, -0.7096, -0.296, -0.4215, -0.0772, -0.5106, -0.9468, -0.946, -0.4588, -0.4588, -0.7964, -0.7964, -0.8769, -0.8769, -0.1531, -0.8934, 0.0, 0.0, -0.6808, 0.5093, -0.7103, -0.9423, -0.93, -0.8301, -0.8301, -0.9786, -0.9786, -0.9786, -0.9493, -0.9493, 0.7579, 0.7579, -0.9538, -0.9313, -0.8957, -0.8957, -0.8481, -0.891, -0.9153, -0.1779, -0.9951, -0.9062, -0.8805, -0.9062, -0.8658, -0.5574, -0.5574, -0.8885, -0.8885, -0.8225, -0.8225, -0.7096, -0.7096, -0.4404, -0.9042, -0.9169, -0.9169, -0.128, -0.872, -0.9081, -0.4939, -0.5574, -0.9643, -0.8807, -0.8625, -0.128, -0.93, -0.6486, -0.6486, -0.8934, -0.9169, -0.9169, -0.34, -0.9042, -0.9186, -0.7783, -0.7783, 0.5994, 0.5994, -0.9001, -0.9287, -0.7851, -0.7717, -0.4939, -0.4588, -0.9769, -0.9719, -0.9732, -0.9732, -0.7096, -0.7096, -0.7184, -0.9862, -0.9862, -0.4215, -0.7184, -0.9422, -0.9206, -0.9206, -0.9422, -0.9698, -0.9698, -0.8481, 0.3235, -0.8506, -0.9944, -0.9382, -0.9942, -0.9413, -0.9413, 0.8555, -0.3818, -0.3818, -0.8268, -0.4926, 0.128, -0.836, -0.9612, 0.0, -0.4588, -0.0516, -0.5423, -0.1027, -0.7579, -0.8074, -0.9349, -0.6369, 0.0, -0.5267, -0.5267, 0.9062, -0.872, 0.0772, -0.6369, 0.0, -0.7579, -0.8176, -0.8176, -0.7906, -0.836, -0.836, -0.8591, -0.9413, -0.9118, -0.6808, -0.09, -0.09, -0.8126, -0.765, -0.765, -0.5267, -0.9657, -0.9325, -0.8885, -0.296, 0.128, -0.7506, -0.7964, -0.5994, -0.8555, -0.9559, -0.4404, -0.6249, -0.891, -0.7579, -0.7579, -0.5859, -0.8519, -0.8074, -0.6124, -0.6369, -0.6369, -0.8807, 0.5106, 0.5106, -0.9442, -0.8885, -0.5859, -0.8625, -0.8625, -0.891, 0.0, -0.7269, -0.886, -0.886, 0.0, -0.9053, -0.5927, -0.9042, -0.0997, -0.6249, -0.8126, -0.9477, -0.2263, -0.8316, -0.8316, -0.3818, -0.6486, -0.3818, -0.2263, -0.3818, -0.4404, 0.25, -0.5927, -0.7684, -0.34, -0.7713, -0.2964, -0.7096, -0.7783, -0.7783, -0.5106, -0.5994, 0.0, -0.9022, 0.0, -0.4588, -0.4588, -0.7579, -0.17, -0.7717, -0.4588, -0.8519, -0.7717, -0.7717, -0.8074, -0.34, -0.7906, -0.7906, -0.1779, 0.2023, -0.9753, 0.2023, -0.9643, -0.8295, -0.9509, -0.534, -0.6808, -0.6808, -0.8074, -0.9872, -0.9872, -0.8934, -0.6124, -0.7717, -0.9231, -0.9231, -0.6808, 0.128, 0.5868, 0.4939, 0.7906, 0.0, -0.4215, 0.128, 0.128, -0.4404, -0.4404, -0.7269, -0.7269, -0.7845, -0.7845, -0.8779, -0.7351, -0.8591, -0.7351, -0.9705, 0.128, 0.128, -0.296, -0.8316, -0.7096, -0.7096, -0.9313, -0.765, -0.9393, -0.296, -0.4404, 0.6124, -0.7705, -0.8422, -0.4215, -0.7705, -0.3818, -0.8126, -0.8126, -0.3182, -0.9595, 0.6124, 0.4019, -0.6239, -0.7418, 0.34, -0.9951, -0.7906, -0.7579, -0.8658, -0.8658, -0.4404, -0.6597, -0.8957, -0.8957, -0.5423, 0.4019, -0.7263, -0.6908, -0.8316, 0.128, -0.9777, -0.6124, -0.3182, -0.3182, -0.5106, -0.9485, -0.6597, -0.9246, 0.126, 0.34, -0.6486, 0.6824, 0.6824, -0.4567, -0.0, -0.0, -0.5994, -0.5994, -0.6124, 0.1225, -0.8402, -0.4939, -0.8807, -0.34, -0.9666, -0.9337, -0.9337, 0.4588, -0.5267, -0.8442, 0.4215, 0.4215, 0.9506, -0.836, -0.1779, -0.4404, 0.0, 0.0, 0.0, -0.8243, -0.9766, -0.296, -0.9766, 0.0, -0.9415, -0.9274, -0.9415], 'White': [-0.8605, -0.9208, -0.6249, -0.296, 0.0, -0.5719, -0.875, 0.743, -0.296, 0.743, -0.2023, -0.7506, -0.8271, 0.0, -0.7783, -0.765, -0.8481, -0.8176, -0.9186, -0.9186, -0.296, -0.1779, -0.8316, -0.8294, -0.296, 0.0, -0.5267, 0.0, -0.4215, -0.7351, -0.9201, -0.9201, -0.9217, -0.9217, -0.9716, -0.9716, -0.7695, -0.1027, -0.5267, -0.5423, -0.2528, -0.5478, -0.5478, -0.9941, -0.875, -0.4939, -0.872, 0.7783, -0.6705, -0.296, -0.296, 0.0, -0.1551, -0.1551, 0.0, -0.802, -0.7003, -0.7783, -0.6705, -0.6597, 0.0, 0.0, -0.1779, 0.128, -0.7269, -0.7269, -0.9851, -0.8126, -0.5423, -0.5423, -0.9246, -0.9151, -0.7906, -0.3906, -0.8779, -0.6369, -0.6369, -0.4588, 0.2023, -0.9403, -0.6705, -0.5994, -0.6808, 0.4019, 0.0, -0.6705, -0.6486, -0.9081, 0.4939, -0.0772, -0.8893, -0.6615, -0.7783, -0.7783, -0.4404, -0.3612, -0.3612, -0.3818, -0.765, -0.0772, -0.4019, -0.2263, -0.8555, 0.1027, -0.4588, -0.9118, 0.2263, -0.128, 0.128, -0.3612, -0.6486, -0.4404, 0.9287, -0.6808, 0.9001, 0.9001, -0.8381, -0.8591, -0.4939, -0.6705, -0.8591, -0.8591, -0.8398, -0.9001, -0.9001, -0.5719, -0.1779, -0.1779, -0.296, -0.296, -0.7717, 0.0, -0.4404, 0.0, -0.9451, -0.9451, -0.7845, -0.431, -0.8442, -0.8555, -0.8442, -0.8602, -0.4404, -0.802, -0.4404, -0.4404, -0.9081, -0.7906, -0.296, -0.7906, -0.4215, -0.6705, 0.0, -0.296, 0.128, 0.4019, -0.2263, -0.7096, -0.7906, -0.9868, -0.5106, -0.5106, 0.25, -0.2263, -0.5859, -0.5859, -0.4434, -0.4939, -0.8176, -0.5719, -0.3262, -0.4215, -0.4215, 0.7351, -0.5267, -0.836, -0.5719, -0.5106, -0.7351, -0.7901, -0.5267, -0.5267, -0.9935, -0.9935, -0.5859, 0.0, -0.6249, -0.5574, -0.9761, -0.9776, 0.25, -0.2263, 0.0, 0.0, 0.0, -0.7783, -0.4767, -0.4767, -0.8176, -0.4588, -0.8125, -0.8125, -0.6312, -0.5859, 0.069, -0.0772, -0.0772, -0.2732, 0.2942, -0.0772, -0.9403, -0.9403, -0.5106, -0.5106, -0.4767, -0.8402, -0.9552, -0.296, -0.7964, -0.6486, 0.0772, -0.8225, -0.7695, 0.0, -0.3506, -0.802, -0.2732, 0.3182, -0.9022, -0.9022, -0.0428, -0.9485, -0.9485, -0.7184, -0.4019, -0.9578, -0.9578, -0.8957, 0.0, -0.765, -0.765, -0.5719, -0.5719, -0.7003, -0.3054, -0.5423, 0.5267, 0.5267, 0.5023, -0.4019, -0.7003, -0.7003, -0.0276, -0.7436, -0.4389, -0.7096, -0.7964, -0.4912, -0.8689, -0.8126, -0.8126, -0.8126, -0.9915, -0.9915, -0.6369, -0.5423, -0.7783, -0.1779, -0.947, -0.4574, -0.4019, -0.926, 0.4019, -0.6705, 0.8068, 0.8068, -0.6486, -0.9022, -0.6486, -0.5106, -0.5106, -0.296, 0.0, 0.0, 0.0, 0.2598, 0.2598, -0.5106, -0.5106, -0.7783, -0.7717, -0.8316, 0.1511, 0.0516, 0.0516, -0.8271, -0.7003, -0.7003, 0.128, -0.6369, -0.6369, -0.8481, -0.7717, -0.2964, -0.2964, -0.2023, -0.9473, -0.9473, 0.0, -0.296, -0.4434, -0.1818, -0.8658, -0.8658, -0.2023, -0.946, -0.5719, -0.0516, -0.296, -0.7548, -0.7901, -0.7548, 0.0, -0.875, -0.8739, -0.4215, -0.5719, -0.9584, -0.2263, -0.9584, -0.8176, -0.1779, -0.9201, 0.4912, -0.5859, -0.128, -0.8581, 0.0258, -0.7269, 0.0258, -0.9682, -0.8834, -0.9864, -0.8834, -0.8381, -0.8225, -0.8591, -0.765, -0.8316, -0.8316, -0.8402, 0.4019, 0.3462, -0.4404, 0.0, 0.2263, -0.34, -0.9524, -0.34, -0.9201, -0.91, -0.91, -0.9851, -0.9851, -0.6249, -0.4404, -0.6369, -0.6369, -0.886, -0.296, -0.4404, -0.7351, -0.4767, -0.4497, -0.4497, -0.5423, -0.7351, 0.5267, -0.2263, 0.5267, -0.1027, -0.4215, -0.9442, -0.8225, -0.3612, -0.8858, -0.8858, 0.0, -0.3182, -0.8074, 0.0, -0.7351, -0.7906, -0.7906, -0.8271, -0.8658, -0.2732, -0.7717, 0.0, -0.1027, -0.8739, -0.9653, -0.7901, -0.296, -0.296, -0.4019, -0.4019, -0.4588, -0.886, 0.0, 0.0, -0.9493, 0.8225, -0.7845, -0.7845, -0.5859, -0.296, 0.0, -0.296, 0.4404, -0.5267, -0.7184, 0.128, 0.0, -0.8519, 0.1531, 0.0, -0.7906, 0.0, 0.4019, -0.2764, 0.0, -0.9501, -0.5574, 0.7266, -0.8074, -0.4767, -0.5859, -0.6808, -0.9246, -0.3182, -0.3182, -0.5859, 0.128, 0.128, 0.5411, -0.6124, -0.7964, -0.7964, 0.2023, -0.5693, -0.9287, -0.1779, -0.836, -0.7351, -0.836, -0.6369, -0.6486, -0.4939, -0.1531, -0.4019, -0.4404, 0.4019, -0.8126, -0.296, -0.296, -0.9107, -0.9107, -0.3818, -0.765, -0.765, -0.7579, -0.7579, -0.4404, -0.7096, -0.8481, 0.128, -0.3612, -0.7184, -0.8271, 0.128, 0.0, -0.6705, -0.296, -0.5719, 0.0, 0.4019, -0.296, -0.8591, -0.5106, -0.7351, -0.6908, -0.6908, -0.9648, -0.9648, -0.886, -0.296, -0.7783, -0.5267, 0.7717, -0.0772, -0.8442, -0.0772, -0.6908, -0.9864, -0.9864, -0.5267, -0.8519, 0.128, -0.2732, -0.9186, -0.2732, -0.9789, -0.886, -0.8519, -0.875, -0.5423, 0.0, -0.4404, -0.7003, -0.7003, -0.7351, -0.875, -0.8316, -0.875, -0.8074, -0.4404, -0.886, -0.765, -0.4753, -0.9493, -0.9217, -0.9217, -0.6808, -0.9217, -0.81, -0.9337, 0.128, 0.128, -0.5719, -0.431, -0.9136, -0.9184, -0.8442, -0.8442, 0.0, -0.4404, -0.296, -0.296, -0.4404, -0.3818, -0.5106, -0.7845, 0.3182, -0.2023, 0.0, -0.296, -0.5994, -0.296, -0.9313, -0.9776, -0.9776, -0.9719, -0.4767, -0.8779, -0.9705, -0.9136, -0.2732, -0.9382, -0.7506, 0.0, -0.7096, -0.6705, -0.6705, -0.5267, 0.0, -0.4939, -0.5106, -0.4019, -0.4019, -0.6705, 0.0, -0.6908, -0.1027, 0.1531, -0.7351, -0.7351, -0.6124, -0.6124, -0.1779, -0.1779, 0.128, 0.128, -0.4404, -0.8074, -0.6124, 0.4019, -0.8555, -0.8555, -0.7432, -0.9201, -0.9201, -0.875, -0.872, -0.935, -0.9469, -0.8934, -0.5106, 0.0772, 0.0772, -0.8696, 0.4019, 0.0, -0.296, -0.8271, -0.8271, -0.4404, 0.0, -0.4588, -0.4215, 0.4019, 0.25, -0.6369, -0.7351, -0.296, -0.7506, -0.0258, 0.128, 0.0, -0.296, -0.7579, 0.128, -0.4404, -0.6486, -0.2732, 0.2023, 0.2023, -0.9559, -0.7906, -0.8876, -0.2732, -0.2732, -0.7351, -0.7351, -0.34, -0.34, -0.4215, 0.0, -0.25, -0.6597, -0.34, -0.9638, -0.9638, -0.9726, -0.296, -0.296, 0.4019, -0.7906, -0.4215, -0.296, -0.5994, -0.3826, -0.3826, -0.4228, -0.4228, -0.926, -0.1027, -0.7269, -0.8777, -0.8777, 0.0772, -0.9559, -0.8316, -0.8316, -0.6597, 0.0, -0.296, 0.2023, 0.2023, 0.128, -0.1779, -0.1779, -0.6124, -0.6124, 0.128, 0.2263, -0.5423, -0.2023, -0.8997, -0.9186, 0.7717, -0.9409, 0.0, -0.296, -0.9601, 0.0, -0.5574, -0.7351, -0.2732, -0.4767, -0.4767, -0.7351, -0.9638, 0.8723, -0.765, -0.8126, -0.6369, -0.9022, -0.6908, -0.6808, -0.9231, -0.25, -0.1406, -0.25, -0.1531, -0.6872, -0.9628, -0.0516, -0.6757, -0.7845, -0.9442, -0.7039, -0.7783, -0.9454, -0.0772, -0.7351, -0.8821, -0.8821, -0.5719, 0.6117, -0.5106, -0.6808, -0.8481, -0.7096, 0.0772, -0.296, 0.0, -0.4588, -0.7096, -0.9423, -0.8481, -0.6808, -0.6808, -0.296, -0.6705, 0.0, -0.4215, -0.7184, -0.7579, -0.7579, -0.802, -0.8176, -0.0258, -0.0258, -0.7845, -0.8519, 0.6808, 0.6808, -0.4404, -0.743, -0.7845, -0.7845, -0.7717, -0.296, -0.6705, -0.1531, -0.1531, 0.5106, 0.6705, 0.4019, -0.5106, 0.128, -0.4767, -0.5106, -0.8834, -0.4215, -0.4215, -0.7351, -0.6369, -0.6908, 0.2401, -0.6369, -0.986, -0.296, -0.6705, -0.7506, -0.765, -0.765, -0.7845, -0.4767, -0.743, -0.743, -0.7717, -0.9274, -0.4215, -0.6808, -0.8807, 0.0, 0.3612, -0.5859, 0.5927, -0.5187, 0.5927, -0.3182, -0.9403, -0.9403, 0.0, -0.4404, -0.296, -0.8625, 0.128, 0.128, -0.6597, 0.128, 0.128, -0.3839, -0.3839, -0.5859, -0.4767, -0.4767, -0.6486, 0.0772, -0.1531, -0.1531, -0.9393, -0.8779, -0.9062, -0.9735, -0.9661, -0.8382, -0.8382, -0.9833, -0.8074, -0.5267, 0.0, -0.8442, -0.8658, -0.4404, 0.91, 0.91, -0.1779, -0.936, 0.128, -0.9565, -0.802, -0.9927, -0.4023, -0.5271, -0.4404, -0.9001, -0.9653, -0.9217, 0.4168, -0.8807, -0.7351, -0.8316, -0.296, -0.7717, -0.9909, -0.4404, -0.0258, -0.946, 0.4019, -0.34, -0.7184, -0.4404, -0.34, 0.0, -0.1027, -0.9081, -0.5267, -0.2668, -0.0772, 0.2732, 0.0, -0.4404, -0.886, 0.0, -0.743, -0.7351, -0.7269, -0.6597, 0.0, -0.7096, -0.5574, -0.5574, -0.296, 0.3182, 0.6546, 0.6546, -0.9893, -0.296, -0.296, -0.9072, 0.128, -0.7717, -0.7717, 0.7506, -0.93, -0.93, -0.9682, 0.4943, 0.4943, -0.4404, -0.8793, -0.8225, -0.9432, -0.8779, -0.9432, -0.836, 0.7003, 0.7579, -0.3612, -0.985, -0.5267, -0.5267, -0.6124, -0.6124, -0.8225, -0.9345, -0.9509, -0.4588, -0.202, -0.7003, -0.7003, -0.9682, -0.6597, 0.0516, -0.2263, 0.0, -0.9607, 0.2023, -0.743, -0.4019, -0.743, 0.0387, 0.4019, -0.4215, -0.6486, -0.8074, -0.6486, -0.886, -0.9001, -0.9001, 0.9287, -0.4404, -0.6597, -0.9754, -0.926, -0.926, -0.1818, -0.7717, -0.7717, -0.9818, 0.0, -0.5106, 0.0, -0.743, -0.0258, 0.3612, 0.3818, 0.128, 0.128, -0.7845, -0.4019, -0.9118, -0.9517, -0.8316, -0.6705, -0.8225, -0.969, 0.4019, 0.0, -0.7964, -0.802, -0.6705, -0.6249, -0.886, -0.886, 0.25, -0.9614, -0.5267, -0.5267, 0.2263, 0.2263, -0.4404, -0.6124, -0.7717, -0.8126, -0.7506, -0.7506, -0.7351, -0.8126, -0.6249, 0.4019, -0.4404, -0.5994, -0.2263, -0.5994, -0.946, -0.4215, -0.7096, -0.7506, -0.8074, -0.5423, -0.8074, -0.6369, -0.6369, -0.7096, -0.2732, -0.6124, -0.296, -0.1779, -0.4019, -0.128, -0.128, 0.0, -0.5423, 0.0, -0.1779, 0.2732, -0.1779, -0.1779, -0.952, -0.952, -0.9246, -0.9517, -0.9712, -0.7184, -0.7184, -0.4404, -0.5448, -0.6218, -0.1779, -0.3182, -0.4588, -0.6124, -0.4023, -0.2964, -0.296, 0.4019, -0.1779, -0.836, -0.9081, -0.9081, 0.128, 0.3818, -0.6908, -0.9517, 0.0, -0.6597, -0.875, -0.6705, -0.6705, -0.9201, -0.296, -0.296, 0.0, -0.7003, -0.8316, 0.8397, -0.1027, -0.5719, -0.3182, 0.0, -0.296, -0.4404, -0.6124, -0.9217, -0.9313, -0.6705, -0.5106, -0.7964, -0.7964, -0.7096, -0.7003, -0.4404, 0.7579, 0.3682, 0.3682, -0.4215, -0.4215, 0.128, 0.128, -0.1027, -0.1027, -0.2668, 0.128, -0.7906, 0.0, -0.9231, -0.4588, -0.5267, -0.5267, -0.4588, -0.6908, -0.8225, -0.296, -0.9381, -0.947, -0.8442, -0.8181, -0.5859, -0.5859, -0.1779, -0.8074, -0.7003, -0.34, -0.6249, -0.765, -0.5859, 0.3462, -0.8807, -0.1531, -0.1531, -0.6369, -0.9153, -0.9153, -0.296, -0.886, -0.6705, -0.1531, 0.4019, -0.7351, -0.7935, -0.4404, -0.7351, 0.4019, 0.4019, -0.4404, 0.5719, 0.25, 0.5719, -0.91, -0.8555, -0.6705, -0.6705, -0.9833, -0.8176, -0.128, -0.6856, -0.8625, 0.3182, -0.5574, -0.875, 0.128, -0.128, -0.4019, 0.6117, -0.8225, -0.5423, -0.7579, -0.91, -0.969, -0.7096, -0.7096, -0.296, -0.1779, -0.8294, -0.4588, -0.4939, 0.128, 0.0, -0.6249, -0.5423, -0.6249, -0.6705, -0.9726, -0.2263, -0.765, -0.5106, -0.765, 0.2023, -0.7906, 0.3818, 0.0, -0.5267, 0.3818, -0.872, -0.8519, -0.875, -0.875, -0.802, -0.8442, -0.802, -0.6369, -0.6249, -0.6249, -0.946, 0.0, -0.5574, -0.8225, -0.8225, -0.6124, -0.5423, -0.765, -0.5423, -0.8176, -0.8979, -0.4019, -0.5859, -0.5859, -0.0516, 0.0, -0.6705, 0.0, -0.4404, -0.1779, -0.5106, -0.9186, -0.0258, -0.0258, -0.5106, -0.8442, -0.8442, -0.296, 0.0, -0.8442, -0.296, 0.128, 0.5707, -0.8318, -0.8318, -0.9042, -0.9042, -0.8979, -0.8979, -0.3612, 0.4588, 0.4588, -0.9595, 0.128, -0.7845, 0.6808, -0.0516, -0.2263, -0.5859, -0.7351, -0.9217, -0.9217, -0.4019, -0.1779, -0.9393, -0.296, -0.296, -0.7096, -0.9118, -0.9118, -0.4215, 0.128, 0.128, 0.9081, 0.9081, -0.7537, -0.875, 0.0, -0.7537, 0.8875, 0.8875, -0.743, -0.93, -0.8807, -0.4767, -0.8807, -0.6249, -0.8591, -0.8074, -0.886, -0.4767, -0.0031, -0.0031, 0.0, -0.4767, -0.1779, -0.875, 0.3612, -0.7717, -0.7717, -0.4404, -0.7003, -0.9118, -0.8519, -0.9593, -0.9423, -0.6705, -0.8658, 0.8481, -0.5994, -0.9878, -0.9713, -0.4588, -0.9169, -0.7096, -0.7096, 0.0, -0.4215, -0.8271, -0.1531, -0.296, -0.7717, -0.7717, -0.975, -0.975, -0.3818, 0.0, -0.4404, -0.5574, -0.891, -0.9153, 0.0, -0.7351, -0.8834, -0.8834, -0.3947, -0.4062, -0.7853, -0.9545, -0.9747, -0.967, 0.4588, 0.0, -0.3699, -0.9062, -0.9062, -0.5267, -0.975, -0.8402, -0.1779, -0.3182, -0.4404, -0.765, -0.765, 0.0, -0.296, -0.8661, 0.0, -0.9929, -0.4404, -0.4404, 0.5715, 0.5715, -0.6597, -0.5719, 0.0, -0.5574, -0.743, -0.7906, -0.5106, -0.5106, -0.7096, 0.4019, -0.1531, -0.7269, -0.7269, -0.296, -0.4019, -0.4019, -0.1027, -0.6486, -0.6486, -0.296, -0.4404, -0.7003, -0.6249, -0.5574, -0.9451, -0.5859, -0.8834, -0.9403, -0.9595, -0.9595, -0.9928, -0.6369, -0.9246, -0.296, -0.9118, 0.0, -0.8555, 0.0, -0.296, -0.5106, -0.2023, -0.3182, -0.1818, -0.1818, 0.0, -0.8555, -0.7506, -0.2263, -0.9705, -0.7906, -0.1779, -0.7351, 0.4588, -0.5859, -0.9618, -0.9618, -0.296, -0.8074, -0.6808, -0.296, -0.926, -0.8934, -0.8999, -0.5423, 0.296, 0.296, 0.6386, -0.2263, -0.6808, -0.6808, -0.7003, -0.886, -0.6249, 0.128, -0.7269, -0.7351, -0.3612, -0.6705, -0.6705, -0.836, -0.9719, -0.836, -0.7096, 0.0, 0.0, -0.4019, -0.4019, -0.7351, 0.85, 0.85, -0.9201, -0.9201, -0.5574, -0.5574, 0.25, -0.9758, -0.7096, -0.3612, -0.8807, -0.3612, -0.8402, -0.6124, -0.8625, -0.296, -0.8555, -0.5106, -0.8555, -0.4215, 0.0258, -0.1027, 0.0772, -0.6597, -0.8807, -0.8807, -0.4215, -0.7351, -0.8689, -0.7506, -0.2263, -0.8957, -0.8957, -0.8591, -0.0516, -0.0516, -0.6249, -0.6249, -0.9342, -0.5994, -0.5994, -0.946, -0.9705, -0.9041, -0.9493, -0.296, -0.9493, 0.128, 0.128, -0.8126, -0.296, -0.7845, -0.5994, -0.884, -0.5994, -0.8885, -0.7845, 0.0, -0.296, -0.7003, -0.4215, -0.5994, -0.6249, -0.8555, -0.8885, -0.8442, -0.8442, 0.6197, 0.6197, -0.3182, -0.6908, -0.6988, -0.6988, -0.1779, -0.1779, 0.0, -0.296, -0.8625, -0.7845, -0.8625, -0.9943, -0.1803, -0.7783, -0.5736, -0.9217, -0.296, -0.296, -0.3818, -0.3818, 0.0, -0.6705, -0.872, -0.296, -0.296, 0.128, -0.5719, -0.5719, -0.9314, -0.7717, -0.2453, -0.7717, -0.5106, -0.836, 0.0, -0.8689, -0.7866, -0.2023, -0.296, -0.296, -0.9169, -0.9042, 0.0, 0.0, 0.4215, -0.6705, -0.4767, -0.6369, 0.3451, -0.9022, -0.9022, 0.0, -0.296, -0.775, 0.25, 0.25, 0.6808, -0.8834, -0.6486, -0.8481, -0.2732, -0.3182, 0.4404, -0.296, -0.296, -0.1531, -0.1531, -0.8957, -0.9217, -0.9217, -0.5106, -0.8658, -0.7549, -0.2023, -0.7003, -0.6705, -0.296, -0.5719, -0.7906, -0.6369, -0.9313, -0.8176, -0.8176, -0.8991, -0.9051, 0.0, -0.296, -0.1531, -0.5267, -0.296, -0.5267, -0.2263, -0.9571, -0.2263, -0.9595, -0.9517, 0.25, 0.0258, -0.9423, -0.9231, -0.891, -0.7964, -0.9485, -0.9485, -0.5736, 0.4215, -0.3818, -0.2732, -0.875, -0.5719, -0.1068, -0.8225, -0.8225, -0.7717, -0.8316, -0.296, 0.6597, -0.0772, -0.0772, -0.7806, -0.9337, -0.0258, -0.875, -0.6705, -0.875, 0.128, -0.936, -0.936, -0.9552, -0.0, 0.7506, -0.886, -0.5423, -0.128, -0.802, -0.8271, -0.8271, -0.6369, -0.9376, -0.9376, -0.296, -0.7003, -0.2732, -0.5994, -0.9903, -0.7626, -0.7626, -0.6486, -0.8225, -0.9186, 0.0258, 0.1759, 0.1759, -0.7717, 0.0, -0.7506, 0.296, 0.296, -0.4404, -0.8442, -0.5095, 0.1531, -0.1531, -0.296, -0.5106, -0.9907, -0.9907, -0.8779, -0.8779, -0.942, -0.9287, -0.7783, -0.8625, -0.8625, 0.0, -0.2263, -0.8225, -0.296, 0.4019, -0.7096, 0.2263, 0.2263, 0.4404, -0.1027, -0.8658, -0.7717, -0.6705, 0.0, -0.9136, -0.743, -0.743, -0.4019, -0.4019, -0.8176, -0.8176, -0.5574, -0.7351, -0.4404, -0.4404, -0.296, -0.296, -0.3063, -0.9868, -0.9868, -0.9726, -0.9382, -0.6705, 0.4588, -0.9343, -0.9343, 0.128, 0.0, -0.296, -0.91, -0.91, -0.1779, -0.9118, 0.0772, -0.5574, -0.7866, -0.7351, -0.875, -0.5716, -0.5716, -0.0056, -0.0258, 0.4588, -0.4767, -0.4767, -0.194, -0.9652, -0.7783, -0.296, -0.7579, -0.7579, -0.7579, -0.296, -0.296, 0.4939, 0.0772, 0.128, 0.0258, 0.5994, 0.5994, -0.6232, 0.6386, -0.9217, -0.9349, -0.875, -0.875, -0.7351, 0.34, 0.34, -0.93, -0.9393, -0.8689, -0.7003, 0.0, -0.6369, -0.9682, -0.9674, 0.0258, 0.0, -0.6124, 0.128, -0.8519, -0.6486, -0.6486, 0.128, -0.9163, -0.9163, -0.8478, -0.7177, 0.0772, -0.9022, -0.8834, -0.8834, -0.9538, -0.8126, -0.8126, -0.5423, -0.1027, -0.9552, 0.4019, 0.875, -0.4215, 0.0, 0.0, 0.1027, -0.2732, -0.8225, -0.8427, -0.9146, 0.0772, -0.296, -0.1779, -0.4588, -0.7717, -0.9246, -0.9246, -0.7003, -0.7003, -0.7616, -0.8048, -0.8176, -0.8176, -0.6597, -0.6597, -0.5574, -0.875, -0.8885, -0.7845, -0.7845, 0.128, -0.886, -0.9698, -0.9698, -0.7007, -0.558, -0.6124, 0.5859, -0.7506, -0.4588, 0.1779, 0.7301, 0.7606, 0.128, 0.0, -0.8074, -0.4588, -0.6705, -0.6705, -0.194, -0.8074, -0.8074, -0.3612, -0.3612, -0.9595, -0.743, -0.743, -0.8519, -0.9595, -0.9601, -0.5423, -0.296, -0.875, -0.8637, -0.6705, -0.8637, 0.4019, 0.4019, 0.0, -0.9081, -0.5423, -0.5423, -0.9153, -0.296, -0.802, -0.4019, -0.4019, -0.6808, -0.6808, -0.1779, 0.1531, 0.0, -0.7351, -0.1027, -0.6705, -0.2732, -0.2732, -0.8074, -0.8074, 0.0, -0.3182, -0.8834, -0.1935, 0.7964, -0.8442, -0.8442, -0.7717, -0.5423, -0.7906, -0.8555, -0.5267, -0.8047, -0.7876, -0.09, -0.8885, 0.128, 0.128, -0.7906, -0.6705, -0.8689, -0.8126, -0.8126, -0.7993, -0.7993, -0.9915, -0.9908, -0.3818, -0.8555, -0.9096, -0.8176, -0.8176, -0.1027, 0.936, 0.936, -0.9022, -0.6705, 0.0, -0.6597, -0.7269, -0.0516, 0.4767, -0.8481, -0.6828, 0.0258, 0.1531, -0.9287, -0.872, -0.8402, -0.926, -0.7506, 0.3182, -0.0258, -0.6249, -0.9337, -0.8689, -0.9403, -0.9524, -0.9854, -0.9865, -0.836, -0.7003, -0.7003, 0.0, -0.4404, 0.0, -0.9117, -0.9117, -0.4404, -0.8807, -0.1779, -0.1779, -0.296, -0.296, -0.7184, -0.5106, -0.6124, -0.6124, -0.6249, -0.0, -0.7003, -0.7003, 0.0772, -0.6447, -0.2023, 0.0, -0.0772, -0.4404, -0.9274, -0.9274, 0.0, -0.7096, -0.5267, -0.2732, -0.9468, -0.6249, -0.1027, -0.975, -0.5719, -0.9118, -0.9186, -0.5106, -0.6705, 0.3612, -0.9231, -0.6126, -0.7003, 0.5657, 0.0, -0.5994, -0.7003, -0.7003, -0.7096, -0.7096, -0.3736, -0.0516, -0.2263, 0.8826, 0.8826, -0.7906, -0.9153, -0.3395, -0.7268, -0.7268, 0.4019, -0.296, 0.4019, -0.9062, -0.5423, -0.5574, -0.7351, -0.5859, -0.7506, 0.2846, -0.7906, -0.6486, -0.8807, -0.4939, -0.91, -0.91, -0.7269, -0.1779, -0.1779, -0.1779, -0.296, 0.0, -0.6486, -0.9382, 0.0, -0.5106, -0.1779, -0.1779, -0.8271, -0.9062, -0.9169, 0.5574, -0.8519, -0.8658, -0.6486, -0.8658, -0.4404, 0.4019, 0.4019, -0.3182, -0.6705, -0.6705, 0.128, 0.5719, -0.6597, -0.775, -0.34, -0.5574, -0.5574, 0.0, 0.128, 0.0, -0.8225, -0.9136, -0.9136, -0.9186, 0.0, 0.0, 0.0, -0.9501, 0.0, -0.4215, -0.7351, 0.0, -0.765, -0.7579, -0.1779, 0.0, -0.5267, -0.34, -0.34, -0.3612, -0.34, -0.5736, -0.4019, -0.25, -0.25, -0.7964, -0.7574, -0.7964, -0.6249, -0.6249, 0.3612, -0.8748, -0.6597, -0.0772, -0.8402, 0.2263, 0.2263, -0.9545, -0.6369, -0.6369, -0.8074, -0.5106, -0.5106, -0.7003, -0.836, -0.836, -0.0, -0.886, -0.942, -0.6654, -0.7783, -0.9062, -0.296, -0.09, -0.886, -0.7003, -0.1027, -0.4588, 0.296, -0.2942, -0.8689, -0.7003, -0.7717, -0.2023, 0.5033, 0.5033, -0.9657, -0.7506, -0.9686, -0.9493, -0.9493, -0.296, -0.4019, -0.4019, -0.8244, 0.0, -0.6249, -0.9042, -0.7783, 0.5101, -0.3449, 0.3818, -0.9153, 0.0, -0.9545, -0.8176, -0.9771, -0.7096, -0.296, -0.8442, -0.6124, -0.6808, -0.296, -0.1779, -0.5106, -0.6597, -0.2858, -0.6705, -0.8658, -0.9022, -0.8957, -0.7184, 0.0, -0.4404, -0.7579, -0.6705, -0.6249, -0.802, -0.6705, -0.4019, -0.1779, 0.4215, -0.6486, -0.6486, 0.128, 0.0, -0.8176, -0.6763, -0.8154, 0.128, -0.6705, 0.0747, -0.9559, -0.6908, -0.891, -0.5859, -0.3818, -0.7351, -0.9211, -0.9211, -0.6249, -0.6705, -0.6908, -0.6908, -0.3612, -0.6249, -0.0644, -0.2023, -0.7003, -0.8414, -0.7003, -0.5574, -0.5574, -0.6249, -0.8442, -0.9169, 0.0, -0.7506, -0.2023, -0.5719, -0.836, -0.836, -0.8591, -0.886, -0.296, 0.0, -0.1779, 0.0, -0.4019, -0.9468, -0.9468, -0.8271, -0.8271, -0.7783, -0.8957, -0.8957, -0.7783, -0.946, -0.946, -0.8807, -0.8807, -0.8957, -0.7845, -0.7964, -0.7096, -0.2732, 0.0772, 0.0, -0.5423, -0.4754, -0.128, -0.4404, -0.1027, -0.1027, -0.5106, -0.5106, -0.8591, -0.9153, -0.9726, -0.296, -0.7351, -0.8402, -0.7717, -0.7717, -0.4404, 0.0, -0.296, -0.743, -0.6124, -0.9201, 0.9723, 0.8834, -0.9081, -0.9081, -0.875, -0.34, -0.8519, -0.5423, -0.7351, -0.7351, 0.0, -0.1779, 0.25, -0.7184, -0.743, 0.0, 0.5101, -0.4019, -0.802, -0.9595, -0.5948, -0.7154, -0.936, -0.9118, -0.296, -0.2732, -0.4767, -0.6369, -0.8555, -0.3818, -0.9001, -0.6908, -0.4215, -0.4215, 0.128, 0.128, -0.4574, -0.8353, -0.296, -0.5346, -0.6124, -0.6124, 0.0, 0.2263, -0.9153, -0.3818, -0.1531, -0.4019, -0.4019, -0.5106, -0.6486, -0.4404, -0.765, 0.1615, -0.4019, -0.8225, -0.8225, -0.987, 0.0, -0.987, -0.9612, -0.93, -0.9612, -0.7777, -0.296, -0.7906, -0.5719, -0.6249, -0.296, -0.6705, -0.9313, -0.9403, -0.9403, -0.7351, -0.3449, 0.0, -0.296, -0.296, -0.296, 0.0, -0.9878, 0.0, 0.0, 0.128, -0.886, -0.886, 0.1027, -0.4019, -0.4019, 0.0, -0.8658, -0.8555, -0.8555, 0.3987, -0.8793, -0.2263, -0.4215, -0.6249, -0.7351, -0.9583, -0.2263, -0.946, 0.4019, -0.4939, -0.6705, -0.7579, -0.9382, 0.0, -0.9231, -0.9313, 0.0, -0.296, -0.4019, -0.296, -0.5574, -0.7003, -0.7003, -0.6249, -0.7003, 0.4588, -0.0258, -0.296, -0.8873, -0.296, -0.9413, -0.743, -0.2732, -0.9837, -0.6369, -0.6369, -0.8176, -0.8658, 0.1796, 0.5279, -0.5565, -0.6705, -0.7351, -0.7351, -0.8519, -0.7096, -0.296, -0.4404, -0.8126, -0.9875, -0.296, -0.296, 0.0, -0.296, -0.1935, 0.2023, 0.6369, -0.4215, -0.6369, 0.0, -0.34, -0.6908, -0.7845, -0.9217, -0.7906, -0.5267, -0.7906, -0.802, -0.9118, -0.9118, -0.8658, -0.886, -0.8402, -0.7959, -0.7717, 0.3182, 0.0, -0.296, -0.296, -0.8748, -0.5095, -0.7845, -0.296, -0.0644, -0.5106, -0.9538, -0.886, -0.7579, -0.8957, -0.8225, -0.969, -0.7777, 0.1027, -0.0056, 0.128, 0.128, -0.5106, -0.9712, -0.8316, -0.8316, -0.5423, -0.8591, -0.9432, -0.7506, -0.7964, -0.9217, -0.5994, -0.3612, -0.4939, -0.5106, -0.5106, -0.7184, -0.7184, -0.7845, 0.128, -0.9744, -0.5267, -0.9493, -0.9781, -0.9781, -0.4404, -0.8834, -0.9217, -0.4019, -0.1779, -0.8402, -0.8402, -0.6124, -0.5719, -0.6249, -0.6249, -0.7506, -0.4404, 0.4404, -0.6249, -0.1078, -0.765, 0.1027, -0.765, -0.7096, -0.7003, -0.1531, -0.8779, -0.8779, -0.9022, -0.9022, -0.2263, -0.7506, -0.5106, -0.5106, -0.9423, -0.9393, -0.9442, 0.0, -0.6705, -0.8577, 0.5423, 0.0, 0.0, -0.3612, -0.3612, -0.9022, -0.1531, 0.0, -0.6705, -0.9169, -0.6808, 0.0, -0.296, -0.7096, -0.296, -0.8481, -0.6705, 0.1027, -0.7906, -0.6705, -0.6705, -0.5574, -0.8442, -0.8834, -0.296, -0.6908, -0.8625, -0.1779, -0.3415, -0.9442, -0.9442, -0.743, -0.2732, -0.743, -0.296, -0.5106, -0.9432, -0.9432, 0.0, -0.6808, -0.8704, -0.8481, -0.4588, -0.9876, -0.6908, 0.0, -0.6705, -0.7351, -0.9799, -0.9799, -0.6908, -0.9393, -0.934, 0.6814, -0.7717, -0.7717, 0.0, -0.6249, -0.4404, -0.91, -0.91, -0.6705, -0.7003, -0.5574, -0.7184, -0.8957, -0.8957, -0.9749, -0.872, -0.872, -0.6369, -0.3818, -0.6369, -0.8442, -0.8442, -0.8402, -0.8402, -0.2263, -0.1027, -0.9524, -0.5106, -0.8658, -0.7003, -0.4404, -0.8319, 0.6369, -0.6705, -0.6705, 0.0, -0.6369, -0.296, -0.3182, -0.8442, -0.9153, -0.7351, -0.765, -0.4215, -0.6249, -0.4404, -0.8442, 0.25, 0.0, -0.4939, -0.5267, 0.4939, 0.4939, -0.6486, -0.6486, 0.3182, -0.1326, -0.6705, -0.5267, -0.743, -0.7964, -0.7964, -0.1779, 0.8991, -0.6247, -0.1779, -0.802, -0.9451, -0.891, -0.891, -0.9022, -0.7269, -0.8316, -0.1027, -0.296, -0.4404, -0.8555, 0.0, -0.4939, -0.9393, -0.6369, 0.0, 0.0, -0.296, -0.7003, -0.5106, -0.9331, -0.9157, -0.9595, -0.3612, 0.2023, -0.296, -0.296, -0.9432, 0.0, -0.1027, -0.891, -0.891, -0.7096, -0.6808, -0.5267, -0.8402, -0.91, -0.91, -0.7783, -0.4588, -0.4588, -0.9081, -0.3818, 0.7351, 0.7351, -0.5423, 0.128, -0.7269, -0.296, 0.0, -0.5267, -0.3818, -0.6808, -0.6808, 0.0, -0.0534, -0.8271, -0.9063, -0.9509, -0.6705, 0.0, -0.8625, -0.891, -0.6597, 0.8225, 0.8225, -0.6705, -0.9432, -0.7351, -0.7351, 0.0772, -0.1027, -0.25, -0.7003, 0.5423, -0.6908, 0.3374, 0.3374, -0.2023, -0.765, -0.1531, 0.128, -0.9742, 0.3822, -0.4588, -0.4588, 0.4019, 0.0, -0.4226, -0.25, -0.765, -0.9601, -0.9803, -0.5719, -0.6808, -0.6808, -0.7845, -0.7269, 0.5529, -0.6705, -0.6705, -0.5423, 0.5529, -0.9425, -0.9648, -0.25, -0.7506, 0.128, -0.4215, -0.4215, -0.7717, -0.9571, -0.7717, -0.7184, -0.6597, 0.0, -0.3182, -0.4939, -0.9819, -0.1779, -0.6249, -0.6249, -0.296, -0.296, 0.9774, -0.296, 0.0, -0.8442, -0.5106, -0.5106, -0.836, -0.836, -0.7096, -0.7096, -0.7906, -0.296, -0.743, -0.9485, -0.6705, -0.8689, 0.5574, -0.9705, -0.9705, 0.5574, -0.4767, -0.5719, -0.7845, -0.8767, -0.8767, 0.6351, -0.7269, -0.7717, 0.0, -0.7351, 0.7351, -0.8442, -0.9501, -0.9501, 0.0516, -0.8176, 0.1759, 0.1759, -0.7783, -0.6369, 0.34, 0.34, -0.4215, -0.9081, -0.9432, -0.9432, -0.7783, -0.7506, -0.8271, -0.836, -0.6486, -0.7506, -0.8442, -0.8591, -0.743, -0.5574, -0.5574, 0.6696, 0.0, -0.8481, 0.5267, -0.7351, -0.7351, -0.8271, -0.765, -0.4019, 0.5719, -0.5106, -0.8779, -0.8201, -0.8519, -0.8519, 0.128, -0.8271, -0.8271, 0.128, -0.9924, -0.9001, -0.7717, -0.9001, -0.5106, -0.3612, -0.7003, 0.0258, -0.9643, -0.836, -0.836, -0.4939, -0.8934, -0.4215, 0.4019, -0.0516, 0.0, -0.8481, -0.9274, 0.8622, -0.5423, -0.6916, -0.8807, 0.1027, -0.4404, -0.9246, -0.8519, -0.8519, 0.0, -0.7717, -0.9371, -0.9371, -0.3182, -0.6705, -0.886, -0.8316, -0.7906, -0.9278, 0.4019, 0.6597, -0.6808, 0.4588, -0.9756, -0.9756, 0.6908, 0.5423, -0.7351, -0.3182, -0.6369, -0.8319, -0.872, -0.1531, -0.1531, -0.2732, -0.5106, 0.0, 0.0, -0.8591, -0.0772, -0.6298, 0.0, -0.5927, -0.5106, -0.296, -0.8176, -0.34, -0.8176, -0.6597, -0.743, -0.296, -0.743, -0.8591, -0.7269, -0.8957, -0.4215, -0.5994, -0.7003, -0.7506, -0.7184, -0.3818, -0.6705, -0.872, -0.872, -0.1796, -0.3415, -0.872, -0.9403, -0.3182, -0.6369, -0.7003, -0.7003, -0.0289, -0.0289, 0.296, -0.9118, -0.9118, -0.9509, -0.6597, -0.6124, -0.5719, -0.8074, -0.9325, -0.886, -0.8442, -0.7506, -0.6124, -0.34, -0.34, 0.0, 0.0, -0.9524, -0.7964, -0.9524, 0.3818, -0.872, -0.802, -0.802, -0.5267, -0.6808, -0.6808, -0.5267, -0.6705, -0.6908, -0.9723, -0.6808, -0.6486, 0.4939, -0.296, -0.296, -0.8225, -0.25, -0.8225, -0.9559, -0.9559, -0.9246, -0.9246, -0.9118, -0.891, -0.3818, -0.2486, -0.7269, -0.6705, -0.8442, -0.891, -0.3182, -0.3182, -0.5423, -0.8346, -0.5805, -0.1779, -0.4404, -0.8074, 0.0, -0.7964, -0.2382, -0.9929, -0.9949, -0.2382, -0.296, -0.7003, -0.1154, -0.2617, -0.7964, -0.7964, 0.9448, 0.9448, -0.7506, -0.7506, 0.0, -0.9437, -0.6249, -0.875, 0.0, -0.875, -0.5106, -0.7845, -0.8519, -0.4767, -0.5478, -0.1779, -0.1779, 0.5423, -0.6249, 0.0, -0.3182, -0.7579, -0.8591, -0.8481, -0.4404, -0.4404, 0.0, -0.4019, -0.6002, -0.6002, 0.0, -0.6705, -0.7184, -0.4588, -0.7184, -0.7003, -0.9081, -0.7003, -0.4404, -0.9325, 0.8622, -0.296, -0.9313, 0.8168, -0.6369, -0.7717, -0.6369, -0.4767, -0.7783, -0.1531, -0.1531, -0.4404, -0.4404, -0.8481, -0.8481, -0.802, -0.7184, -0.296, -0.6705, -0.4404, 0.25, -0.7998, -0.5574, -0.8074, -0.8591, -0.4404, -0.7998, -0.9274, -0.9274, -0.9217, -0.9118, -0.4588, -0.296, -0.9517, -0.9595, -0.34, -0.4939, -0.9022, -0.7096, -0.7096, -0.928, -0.6705, -0.968, 0.0, 0.3612, 0.3612, -0.6124, -0.0276, 0.128, 0.128, -0.6124, -0.6808, -0.6808, -0.5719, -0.5719, 0.8168, -0.743, -0.7506, -0.4019, -0.0516, -0.0516, -0.5574, 0.8356, 0.5106, -0.8481, 0.5106, -0.4939, -0.1531, -0.8577, -0.9051, -0.1027, -0.714, -0.7351, -0.891, -0.8704, -0.3595, -0.8979, -0.4588, -0.8979, 0.4939, 0.4939, -0.9287, -0.4404, -0.9287, -0.5574, -0.6597, -0.6929, -0.6597, 0.0, -0.7184, 0.5574, 0.1531, -0.3182, -0.296, -0.296, -0.7506, -0.8519, -0.5106, -0.5106, -0.8502, -0.6369, -0.8502, -0.7506, -0.4242, -0.6597, -0.8316, -0.8316, -0.9042, -0.9042, -0.6486, -0.6486, -0.3182, -0.9042, -0.9042, -0.296, -0.7351, -0.886, -0.5859, -0.1027, -0.1027, -0.9231, -0.9231, 0.765, 0.765, 0.4019, 0.34, -0.875, 0.0, -0.7506, 0.0, -0.6124, -0.765, -0.765, -0.6124, -0.4767, -0.8316, -0.7184, -0.7184, -0.296, -0.5719, -0.9051, -0.9897, -0.7783, -0.9371, -0.6705, -0.8176, -0.872, -0.872, -0.9413, -0.9413, -0.7351, 0.128, -0.4767, 0.0, -0.7131, 0.128, -0.9565, -0.4404, -0.743, -0.8481, -0.8481, -0.4939, -0.5267, -0.5423, -0.5423, -0.7003, -0.6597, -0.6705, -0.7269, -0.25, -0.872, 0.0119, -0.25, -0.1779, 0.0, -0.5859, -0.4939, -0.9403, -0.9403, 0.9136, -0.7783, 0.9136, 0.128, -0.4215, -0.4215, -0.4404, -0.1779, -0.3818, -0.3818, -0.296, -0.296, -0.8402, -0.9313, -0.8402, -0.8591, -0.9313, -0.946, -0.8126, -0.8126, -0.886, -0.0982, -0.9274, -0.6808, 0.0772, -0.7351, -0.7351, -0.4019, -0.4019, -0.1531, -0.2263, -0.9638, -0.8481, -0.8979, -0.5106, -0.6124, 0.128, 0.128, -0.8972, -0.1779, -0.1779, -0.2023, -0.7003, 0.128, -0.1336, -0.6705, -0.5574, -0.34, -0.9432, -0.7717, -0.9432, 0.5719, -0.8979, -0.9118, -0.9118, -0.6908, 0.4019, 0.0, -0.7506, -0.1779, -0.6249, -0.2263, -0.3182, -0.3182, -0.296, -0.9269, -0.4404, -0.4404, -0.4404, -0.4404, 0.128, 0.4588, -0.7172, -0.4404, -0.5267, -0.5267, 0.3612, 0.3612, -0.9287, -0.0155, -0.0155, 0.2709, -0.9231, -0.9021, -0.7003, -0.9021, -0.6369, -0.296, -0.8972, -0.8074, -0.8248, -0.2714, -0.9456, -0.2023, -0.6124, -0.6124, -0.6923, -0.9234, 0.0, -0.6249, 0.0, -0.2486, -0.2486, -0.872, -0.1531, -0.8074, -0.8834, -0.9118, -0.6808, -0.6808, -0.6249, -0.6249, -0.6705, 0.128, 0.128, 0.5574, -0.6597, -0.6597, 0.25, 0.8225, -0.882, -0.6597, -0.8271, -0.779, -0.8625, -0.9287, -0.7351, -0.7351, 0.0, -0.4215, -0.8885, -0.296, 0.1531, 0.1531, 0.4939, -0.296, -0.5574, -0.8519, -0.8519, -0.8658, -0.296, -0.9524, -0.9432, -0.2732, -0.8225, -0.5994, -0.9766, -0.9287, -0.9287, -0.296, 0.7096, -0.1027, -0.1027, -0.34, -0.8859, -0.9231, 0.0, -0.4404, -0.5574, -0.7506, -0.9578, -0.0258, 0.4588, -0.4404, -0.7783, -0.9493, 0.0, -0.6705, 0.2003, -0.8979, -0.9543, -0.3818, -0.5574, -0.8315, -0.4019, -0.4019, -0.4404, -0.6298, -0.8481, -0.9062, -0.8316, -0.8225, -0.9351, -0.8807, -0.9393, -0.1531, -0.9897, 0.6597, -0.25, 0.2714, -0.9451, -0.8074, -0.5267, -0.5267, -0.128, -0.5994, -0.0572, -0.5994, -0.8442, 0.7239, 0.7096, -0.25, -0.25, -0.9468, -0.3182, -0.7003, -0.6908, 0.3612, -0.9642, 0.1531, -0.743, -0.743, -0.2023, -0.296, 0.0, -0.891, 0.1531, 0.1531, 0.34, -0.1027, -0.9726, -0.9726, -0.7351, -0.8586, -0.8586, -0.875, -0.875, -0.9858, -0.2714, 0.0, -0.802, -0.91, -0.91, 0.3182, 0.3182, 0.0, 0.128, 0.34, 0.34, -0.3818, -0.5859, -0.9274, -0.296, -0.296, -0.8126, -0.5719, -0.9552, 0.7351, -0.5574, -0.7717, -0.4588, -0.4588, -0.8625, -0.6705, -0.8316, -0.5106, -0.9196, 0.875, 0.875, -0.5574, -0.7351, -0.7351, -0.9081, -0.9081, -0.891, -0.765, -0.8625, -0.7845, -0.7172, -0.5106, -0.25, -0.3595, -0.9733, -0.4404, -0.7964, 0.0, -0.9169, 0.1779, -0.765, 0.1027, -0.1779, -0.7717, -0.7906, -0.6808, -0.6808, -0.7506, -0.7506, 0.5994, -0.1779, -0.296, -0.6249, 0.0, -0.9528, -0.4767, -0.4767, 0.0, 0.2144, 0.2144, -0.8625, -0.9081, -0.8658, -0.765, -0.6124, -0.5106, 0.0, -0.5106, -0.836, -0.3818, -0.296, 0.7506, -0.8625, -0.9217, -0.6597, -0.4215, -0.4215, 0.4404, 0.0, -0.7351, 0.0, 0.128, -0.296, -0.9666, -0.5267, -0.5267, -0.9439, -0.8481, -0.8176, -0.9432, -0.9432, 0.25, -0.128, -0.4019, -0.128, -0.8481, -0.8481, -0.3182, -0.8074, -0.1779, -0.7131, -0.8519, -0.4215, -0.4215, -0.875, -0.7325, -0.8109, -0.7845, -0.802, -0.296, -0.6447, -0.9371, -0.8689, 0.0, 0.128, -0.9607, -0.6705, -0.9325, -0.6705, 0.8047, 0.9144, -0.6705, -0.6705, -0.7506, -0.9359, -0.9359, -0.5719, -0.6369, -0.2263, 0.2023, -0.7184, -0.2023, -0.4939, -0.4767, 0.0516, 0.0, 0.5423, -0.8201, -0.7717, -0.7717, -0.296, -0.8074, -0.7506, -0.9201, -0.93, 0.128, -0.8885, -0.2023, -0.7003, -0.6249, -0.902, 0.4019, 0.0, -0.6597, -0.6486, -0.7515, -0.7515, -0.9803, -0.4767, -0.8225, -0.9169, -0.9744, -0.8519, -0.296, -0.9468, 0.0772, -0.5574, -0.8481, 0.4588, -0.6705, -0.9118, 0.2023, -0.7717, -0.7906, -0.296, -0.6705, 0.5574, 0.5574, -0.8516, -0.5267, -0.5267, -0.8407, -0.8407, 0.0, 0.0, -0.4404, -0.4404, -0.5859, -0.4404, -0.7579, -0.7579, 0.0772, 0.3818, -0.891, -0.5423, -0.5423, -0.5719, 0.6858, -0.8064, -0.7705, -0.836, -0.9531, 0.2732, 0.2732, -0.9874, -0.9396, -0.9874, -0.1818, -0.4215, -0.34, -0.34, -0.8074, -0.2732, -0.7096, -0.7096, -0.296, 0.7964, -0.9451, -0.9451, -0.9643, 0.4588, 0.2732, -0.1779, -0.8271, -0.8836, -0.8836, -0.4939, -0.8481, -0.9652, -0.9652, -0.8934, 0.4939, 0.4939, -0.802, -0.9739, -0.9739, -0.296, -0.7096, -0.8834, -0.8126, 0.25, -0.25, -0.6705, -0.6705, -0.8625, 0.4404, 0.4404, -0.2259, -0.4404, -0.7906, -0.8271, -0.8442, -0.296, -0.6705, -0.875, -0.9226, -0.8658, -0.1027, 0.25, -0.9186, -0.34, -0.9186, -0.296, -0.296, 0.128, 0.128, -0.2263, -0.7964, -0.7964, 0.5719, -0.9022, -0.8402, -0.5859, -0.8555, 0.4939, 0.3612, -0.9607, -0.9081, -0.9081, -0.6249, -0.6249, -0.1779, -0.1779, -0.1779, 0.0, -0.6908, -0.6597, -0.6908, -0.4939, -0.4939, 0.0, 0.0, -0.6705, -0.25, -0.4767, 0.0516, -0.2263, 0.2023, 0.2023, -0.296, -0.2732, -0.9552, -0.1561, -0.8479, -0.9723, -0.9723, -0.8123, -0.8074, -0.8519, -0.7783, -0.8519, 0.128, 0.128, -0.9847, 0.128, -0.6908, -0.4215, -0.4215, -0.8885, -0.8885, -0.9876, 0.0772, -0.296, 0.128, 0.128, -0.4404, -0.3818, -0.5584, -0.0772, -0.6808, -0.7783, -0.9325, 0.0, 0.0, -0.3612, -0.7003, -0.6486, -0.9468, -0.2263, -0.9153, -0.5574, -0.2263, 0.4363, -0.8225, -0.5106, -0.4767, -0.4767, 0.128, -0.1027, -0.1027, -0.2263, 0.9416, 0.6597, -0.8934, -0.4215, -0.1027, -0.6249, -0.34, -0.34, -0.6486, 0.128, -0.1779, -0.7096, -0.6597, -0.5574, -0.7579, 0.0772, 0.0772, -0.5574, -0.686, -0.8202, -0.1531, -0.1531, -0.7906, -0.9001, -0.9001, -0.7178, -0.8779, -0.7003, -0.9001, -0.7351, 0.0, -0.296, -0.3818, -0.7717, -0.1779, -0.6705, -0.4215, -0.2732, -0.2732, -0.7906, -0.8591, -0.296, -0.296, -0.9552, -0.4404, -0.6486, -0.7269, -0.7269, -0.7906, -0.4404, 0.0, -0.8271, -0.0772, -0.7184, -0.296, -0.6705, -0.3378, -0.4767, -0.4767, 0.5574, -0.5574, -0.9521, -0.9521, 0.0, -0.9517, -0.6369, -0.4215, 0.8555, 0.8555, -0.942, 0.4019, 0.4019, -0.7096, -0.1779, -0.4404, 0.0, -0.7003, -0.9788, 0.743, 0.743, -0.743, -0.7269, -0.743, -0.5106, -0.7783, -0.7783, -0.3818, -0.1531, -0.4404, -0.4404, -0.8442, 0.0, -0.5994, -0.875, -0.8442, -0.6249, -0.8176, -0.3818, -0.2741, -0.2741, 0.5023, -0.296, -0.6249, -0.6705, -0.6705, -0.8316, -0.8316, 0.0, -0.296, -0.7506, -0.4404, -0.8481, -0.1779, 0.128, 0.128, -0.9843, -0.9843, -0.8934, -0.9382, -0.4588, -0.7506, 0.34, 0.0, -0.296, -0.296, -0.6808, -0.25, -0.3818, -0.4767, -0.765, -0.4767, -0.8689, -0.743, -0.9371, -0.4404, -0.6249, -0.802, -0.9612, 0.128, 0.128, -0.1779, -0.4215, -0.765, -0.7269, -0.5994, 0.8804, -0.7346, -0.6705, -0.2732, -0.3182, -0.8126, -0.3182, 0.0, -0.7351, -0.1779, -0.743, -0.3612, 0.4019, -0.7964, -0.7964, -0.4767, -0.7184, -0.9509, -0.4215, -0.2732, -0.296, -0.802, 0.8481, -0.4404, -0.5574, -0.5423, -0.5423, -0.6845, 0.0, 0.2023, -0.9001, -0.9062, -0.9531, -0.9246, -0.9246, -0.5994, -0.2263, -0.8957, -0.8957, 0.0, -0.9584, -0.9584, -0.802, -0.802, -0.7184, 0.0, -0.5574, 0.0, 0.0, 0.0, 0.3612, -0.8885, -0.5423, -0.5423, 0.0, -0.1027, 0.1615, 0.128, 0.128, -0.8442, 0.1531, 0.1531, 0.0, 0.0, 0.3612, -0.1531, -0.4404, -0.7003, -0.3818, -0.6486, 0.2263, -0.296, -0.5719, -0.836, -0.296, -0.8807, -0.7964, -0.6705, -0.6705, -0.6124, 0.5574, -0.4767, -0.4767, -0.872, -0.872, -0.2509, -0.875, -0.6486, -0.6486, -0.296, -0.872, -0.872, -0.8625, -0.631, -0.631, 0.128, 0.128, 0.7003, -0.1531, -0.7178, 0.5423, 0.7263, -0.296, -0.1531, -0.91, -0.4404, -0.4404, -0.5106, -0.6705, 0.128, -0.9081, 0.0, 0.128, -0.2732, -0.8316, 0.2732, -0.9001, 0.2732, -0.8519, -0.2728, 0.8794, -0.1027, -0.7096, -0.34, -0.9246, -0.8934, 0.0, -0.8074, 0.3612, -0.6249, -0.2732, -0.6845, -0.3818, 0.4019, 0.4019, -0.836, -0.836, -0.836, -0.9062, -0.5423, -0.959, -0.8402, -0.7096, 0.5499, 0.3612, -0.8519, -0.9501, -0.9501, -0.7003, -0.7003, -0.6486, -0.4767, -0.6486, -0.8625, -0.872, -0.7269, -0.8315, -0.9011, -0.9432, -0.6705, -0.5267, -0.7783, -0.7783, -0.7895, -0.9524, -0.6705, -0.8519, -0.8934, -0.8934, -0.296, 0.0, -0.4404, -0.6705, -0.5574, 0.0, 0.0258, -0.5106, -0.886, -0.7506, -0.4404, -0.4404, -0.6705, -0.6705, -0.4215, -0.0, -0.7964, -0.9628, -0.9628, 0.128, -0.4404, 0.3612, 0.3612, 0.3612, 0.296, 0.296, -0.296, -0.2732, 0.0, -0.7096, 0.1027, -0.8126, 0.0, -0.6249, -0.9001, 0.1779, -0.466, -0.296, -0.8299, -0.5106, 0.25, 0.25, -0.1531, -0.34, -0.34, -0.0772, -0.0772, -0.9217, -0.1531, 0.6322, -0.9509, -0.2509, -0.1027, -0.1027, -0.0057, -0.0057, -0.296, -0.296, -0.8074, -0.7227, 0.128, -0.7227, 0.5423, 0.3182, 0.7037, -0.5719, -0.5719, -0.5267, 0.0, -0.7351, -0.4404, -0.4404, -0.9956, -0.9889, -0.9042, -0.3612, -0.1531, 0.0, -0.8074, -0.7506, -0.6124, -0.8271, -0.9501, -0.296, -0.7351, -0.4019, -0.93, -0.836, -0.93, -0.4404, -0.4404, -0.5574, -0.5267, 0.0, -0.4215, -0.6705, 0.128, 0.7184, 0.296, -0.4767, -0.802, 0.128, -0.6369, -0.7906, -0.9153, -0.9295, -0.9153, -0.765, -0.9623, -0.9643, 0.6597, -0.8873, -0.8873, -0.5106, -0.296, -0.8957, -0.6486, 0.1779, 0.0, -0.1779, -0.9349, -0.891, 0.7037, 0.0, -0.8957, -0.9217, 0.6322, -0.5106, -0.7096, -0.5423, -0.7906, 0.128, 0.128, -0.4767, -0.7971, -0.4767, -0.9493, -0.7906, -0.296, 0.128, -0.6124, -0.7351, -0.6486, -0.9153, -0.9153, -0.296, -0.6996, -0.9903, -0.9524, -0.7351, -0.9432, -0.8122, 0.128, -0.6705, -0.7351, -0.7971, 0.0, 0.0258, -0.9613, -0.9613, -0.7003, -0.8176, -0.9001, -0.9001, -0.8442, -0.8074, -0.8074, -0.8074, -0.8481, -0.9153, 0.431, -0.296, -0.296, -0.7269, -0.7269, -0.4215, -0.4215, -0.9666, -0.9666, -0.3612, -0.7184, 0.0, -0.9851, -0.9851, -0.9607, -0.296, -0.2263, -0.3818, -0.5106, -0.8316, -0.7003, -0.5267, 0.5859, 0.5859, -0.836, -0.8821, -0.686, -0.8821, -0.8268, -0.8126, -0.4215, -0.4215, 0.0, -0.1779, 0.3818, 0.3818, -0.4215, -0.7351, -0.4404, -0.9337, -0.9337, 0.0, -0.7717, -0.3818, 0.0, -0.296, -0.9313, -0.7269, -0.4404, -0.9062, -0.9062, -0.7845, -0.5423, -0.4404, -0.4215, -0.2263, -0.9903, -0.1779, -0.3612, 0.4939, -0.875, -0.4019, -0.4019, 0.128, 0.0, -0.3182, 0.128, 0.3987, -0.09, -0.09, -0.5423, -0.4404, 0.128, -0.9186, -0.1027, 0.4363, -0.7003, -0.7003, -0.1027, 0.8804, -0.9921, -0.8271, -0.8271, -0.6705, 0.0408, -0.2598, -0.1027, -0.25, 0.3818, -0.8402, 0.0, -0.7357, -0.9729, 0.5859, -0.5563, -0.296, -0.5849, -0.7003, -0.9545, -0.8591, -0.9432, -0.7096, 0.0258, -0.34, -0.765, 0.6597, -0.7717, -0.7717, -0.8885, -0.8074, -0.7096, -0.9939, -0.9939, -0.9981, -0.9871, 0.0, -0.6808, -0.7351, -0.296, -0.7845, -0.1779, -0.5994, 0.0, -0.9287, -0.4588, -0.296, 0.0, -0.4404, -0.2023, -0.2023, -0.7579, -0.9081, -0.7783, -0.7783, -0.9287, -0.5859, 0.6597, 0.6597, -0.7964, -0.9062, -0.4404, 0.0, -0.4588, -0.4588, 0.296, -0.802, 0.296, -0.5859, -0.1779, -0.7184, -0.6705, 0.0, -0.8934, -0.8934, -0.5719, -0.5719, -0.5106, -0.6705, -0.5267, -0.5267, -0.9803, -0.872, -0.872, -0.9531, 0.4019, 0.4019, -0.9788, 0.6369, 0.6369, -0.802, -0.891, -0.891, -0.7351, -0.8481, -0.5423, -0.5719, -0.5719, -0.8957, -0.7003, -0.7003, 0.3612, -0.8126, -0.8126, -0.701, -0.701, 0.0, -0.9738, 0.34, 0.6249, 0.0, -0.1531, 0.0, -0.8271, -0.2732, -0.4767, -0.8519, -0.5574, -0.7003, 0.0, -0.7351, -0.9837, -0.9837, -0.296, -0.836, -0.9709, -0.9559, -0.3818, -0.6908, -0.296, 0.0, -0.4215, -0.4215, -0.7717, -0.2732, -0.802, -0.802, -0.875, -0.34, -0.7845, -0.6908, -0.6908, 0.0, -0.9756, -0.9968, -0.2263, -0.2263, -0.9889, -0.9984, -0.8176, -0.8176, 0.1779, 0.296], 'Asian': [-0.1027, -0.1027, -0.1779, 0.7506, -0.5574, -0.5574, 0.6249, -0.7555, -0.9382, -0.9382, -0.926, -0.7351, 0.7506, -0.9618, -0.7555, 0.4019, 0.0, -0.7351, -0.7964, -0.7106, -0.6369, -0.296, 0.0772, -0.7906, 0.4019, 0.0, 0.4404, -0.8074, -0.8074, -0.0516, -0.4404, -0.7106, -0.6369, -0.8067, -0.7269, -0.8555, 0.0516, -0.7906, -0.1531, -0.875, -0.5859, -0.4215, -0.8316, -0.6705, -0.7717, -0.6705, -0.5106, -0.6908, -0.6908, -0.9754, -0.9754, 0.0, -0.6249, -0.875, -0.8316, -0.1531, 0.7261, 0.7261, -0.2942, -0.9578, -0.9413, -0.5106, -0.5106, 0.128, -0.1779, 0.0, -0.2263, -0.8067, -0.4404, -0.4404, 0.7261, 0.0, -0.6908, -0.3818, -0.6705, -0.7096, -0.9371, 0.0, -0.7351, -0.7096, 0.0, 0.0516, -0.886, -0.5574, -0.34, -0.4767, -0.9169, -0.836, -0.8591, -0.9755, -0.8807, -0.8807, -0.3182, -0.3182, 0.0, -0.296, -0.296, -0.6124, -0.9201, -0.9413, -0.9413, -0.8807, -0.4019, -0.9205, 0.0, -0.296, -0.4767, -0.3182, -0.6597, -0.7955, -0.7955, 0.4019, 0.9169, -0.9571, -0.296, -0.9413, -0.8316, -0.5719, -0.5719, -0.659, -0.5574, -0.7906, -0.7906, -0.8934, -0.9081, 0.7579, -0.6249, -0.6249, 0.7579, -0.296, -0.296, -0.8316, -0.7281, -0.7281, -0.7506, -0.296, -0.4404, -0.8689, -0.8689, 0.4019, -0.6908, -0.4404, -0.4588, -0.802, 0.0258, -0.8442, -0.6908, -0.1779, -0.1779, 0.0258, -0.952, -0.952, -0.8625, -0.9022, -0.5859, 0.4019, -0.8442, -0.9338, 0.7269, 0.7269, -0.4588, -0.0772, -0.5719, -0.9338, 0.0, -0.5859, -0.5267, -0.8225, 0.0, -0.1531, -0.9432, -0.8074, -0.8074, -0.4404, -0.5267, -0.7269, -0.5267, -0.9136, -0.9136, 0.0, 0.0, 0.4939, 0.4939, -0.7351, -0.7351, -0.5859, -0.6124, 0.8402, 0.8402, -0.4019, -0.4019, -0.7783, 0.0, -0.6369, -0.8962, -0.8962, -0.5719, 0.7783, 0.7783, -0.9337, -0.9337, -0.6705, -0.7351, -0.8836, -0.891, 0.6808, -0.5994, -0.5994, -0.9074, -0.9074, -0.8225, -0.6488, -0.6486, -0.8126, -0.6908, -0.7177, -0.6369, -0.7783, -0.7184, -0.7184, -0.296, -0.8176, -0.296, -0.4215, -0.4215, 0.0, -0.1078, -0.9729, 0.3182, 0.3182, -0.296, -0.1779, -0.8176, -0.6705, -0.7717, -0.6597, -0.6619, -0.6619, -0.659, -0.4767, -0.8834, -0.8225, 0.0, -0.4215, -0.9741, -0.9081, -0.7184, -0.4767, -0.6426, -0.792, 0.4019, -0.802, -0.802, -0.8126, -0.296, -0.9174, -0.2263, -0.5859, -0.5859, -0.9274, -0.7579, 0.3818, 0.3818, -0.8176, -0.5994, -0.9741], nan: [-0.4588, -0.836, -0.836, -0.6597, -0.765, -0.7279, -0.2263, -0.9451, -0.8834, 0.3182, -0.296, 0.3182, 0.128, -0.7845, -0.7845, -0.296, -0.8442, -0.7717, -0.7717, -0.9876, -0.8555, 0.0, 0.5574, -0.8176, -0.8176, -0.8779, -0.4215, -0.8779, 0.0, -0.7783, -0.9201, -0.8225, -0.4404, -0.6784, -0.3818, -0.8225, -0.9595, -0.8519, -0.9595, -0.6908, -0.296, -0.5667, -0.9947, -0.9682, -0.9959, -0.9947, 0.0, -0.4404, -0.3818, 0.1027, -0.6369, -0.5994, -0.5719, -0.6486, -0.2023, 0.0, -0.8074, -0.9022, -0.4215, 0.128, -0.5267, 0.0, 0.6597, -0.5267, 0.0, 0.2263, -0.7351, 0.128, -0.5106, -0.4767, -0.4404, -0.7003, -0.8442, -0.6486, -0.3417, -0.0021, -0.6597, -0.6597, -0.7269, -0.6369, -0.6369, 0.0, -0.4939, -0.8519, -0.8519, 0.0, -0.4805, -0.4404, -0.4404, -0.9022, -0.9371, -0.9022, -0.5719, -0.5719, 0.2023, 0.7351, -0.6369, -0.1027, 0.1027, -0.9387, -0.8658, -0.8822, -0.7506, -0.7506, 0.0, -0.1779, -0.8979, -0.8555, -0.6124, -0.34, 0.128, -0.6808, -0.6808, -0.8126, -0.8689, -0.8126, -0.9666, -0.8658, -0.7351, 0.128, 0.128, -0.1027, -0.7184, -0.8555, 0.128, 0.128, -0.8979, -0.9321, -0.9321, -0.2263, -0.296, 0.128, -0.8689, -0.9894, -0.9786, -0.9914, -0.5719, -0.9186, -0.5719, -0.0516, -0.5719, -0.5719, -0.4019, -0.4019, -0.9382, -0.8126, -0.1779, -0.1779, -0.4404, 0.6369, -0.8689, -0.8316, -0.7732, 0.4939, -0.9607, -0.765, -0.8225, -0.765, 0.25, 0.25, -0.9607, -0.8225, -0.8225, -0.5859, -0.9022, -0.5106, -0.765, 0.4019, -0.5267, -0.5267, -0.9123, -0.765, -0.8885, -0.765, -0.624, -0.7773, -0.9153, -0.9153, -0.5719, -0.5719, -0.1779, -0.926, -0.926, -0.765, -0.6124, -0.4404, -0.4404, -0.4588, -0.8481, -0.4588, 0.0, -0.4404, -0.4404, -0.9217, -0.1779, -0.1779, 0.5574, 0.5574, -0.4215, -0.1779, -0.4404, -0.5478, -0.4404, -0.9081, -0.9081, -0.7506, -0.891, -0.891, 0.0, -0.8316, 0.3187, -0.969, -0.1779, -0.9382, -0.4588, -0.8402, -0.5574, -0.9578, -0.9578, -0.8126, -0.802, -0.7184, -0.0516, 0.2732, 0.2732, -0.7506, -0.7964, -0.9201, -0.8126, 0.0, -0.9231, -0.9022, -0.1531, -0.1531, -0.9726, -0.9153, 0.0, -0.5719, -0.5719, -0.802, -0.1027, -0.1779, -0.9584, 0.4939, 0.0, -0.1531, 0.128, -0.6369, -0.9828, -0.6369, 0.0, -0.7184, -0.5106, -0.7351, -0.3197, -0.3612, 0.4019, -0.936, -0.9313, -0.936, -0.9313, -0.9136, -0.8591, -0.926, 0.3612, 0.3612, -0.296, -0.7003, -0.9393, -0.9246, -0.5106, -0.5106, -0.5106, -0.1779, 0.25, 0.25, -0.7269, -0.8176, -0.9246, 0.4939, -0.1045, -0.7584, -0.9643, 0.7096, 0.7096, -0.6808, -0.743, 0.4588, -0.296, -0.6705, -0.6705, -0.7845, -0.7845, -0.7351, -0.7351, -0.8271, -0.8271, -0.4805, -0.9601, -0.7732, -0.9578, 0.7579, 0.7579, -0.6808, -0.4523, -0.5106, -0.6369, -0.7783, -0.9949, -0.9413, 0.128, -0.2382, 0.0, -0.6486, -0.6486, -0.6486, -0.7184, 0.128, -0.1043, -0.9578, -0.9947, -0.992, -0.9855, -0.9925, -0.2382, 0.0, -0.296, -0.9738, -0.9738, 0.9137, -0.5719, -0.5859, -0.5859, -0.4215, -0.1043, -0.1779, -0.8126, -0.8658, -0.9963, -0.8126, -0.926, 0.0258, 0.0, -0.6808, -0.6808, -0.4404, -0.4404, -0.8555, -0.7351, -0.296, -0.802, -0.8689, -0.802, -0.4404, -0.296, -0.4404, -0.8979, -0.7506, -0.9186, -0.91, -0.9001, -0.4767, -0.4215, -0.4215, -0.3612, -0.9382, -0.9904, -0.9904, -0.2732, -0.4404, -0.8519, -0.9325, -0.9184, -0.9325, -0.9123, 0.8807, 0.8807, -0.8225, -0.8689, -0.8225, -0.4404, -0.3447, 0.128, 0.2263, 0.041, -0.5008, -0.5859, -0.7096, -0.7096, 0.4019, 0.9001, 0.936, -0.9599, -0.9923, -0.926, -0.3818, -0.1818, 0.7418, 0.9134, -0.6249, -0.875, -0.9001, -0.875, -0.9337, -0.9081, -0.9081, -0.7096, 0.0, -0.7096, -0.8074, -0.6486, -0.6369, -0.8779, -0.91, -0.1779, -0.5574, -0.2263, -0.7351, -0.8225, -0.7003, -0.9851, -0.7003, -0.4404, 0.3374, -0.4926, -0.4926, -0.9151, -0.6369, -0.9151, -0.7184, -0.9744, -0.743, -0.9246, -0.7184, -0.6486, -0.7096, 0.1027, -0.5267, -0.891, -0.5267, -0.6908, 0.0, -0.8537, -0.4404, -0.8271, -0.9849, -0.9674, -0.9849, 0.3374, -0.4404, -0.7906, 0.0, -0.4404, -0.7184, 0.0, -0.4767, -0.6808, 0.0, -0.4404, 0.0, -0.8402, -0.4404, 0.128, -0.296, 0.128, -0.4404, -0.6124, -0.9404, -0.91, -0.8126, -0.8225, 0.4416, -0.9612, -0.7096, -0.7096, -0.7845, 0.2023, -0.8126, -0.8074, -0.926, -0.2023, 0.5423, 0.5423, 0.0, -0.6249, -0.7351, -0.5106, -0.5106, -0.5106, -0.1027, -0.6124, -0.8225, -0.8225, -0.5574, -0.6124, -0.8658, -0.9702, -0.7783, -0.875, 0.4939, -0.5881, -0.5859, -0.5859, -0.6369, 0.2732, 0.2732, -0.7184, -0.9001, -0.7184, -0.836, 0.0, -0.7506, -0.5881, -0.7906, -0.7906, -0.9936, -0.9093, -0.5574, 0.2732, -0.4939, -0.296, -0.7003, 0.0, -0.4404, -0.765, -0.296, -0.4215, -0.4215, -0.3818, -0.34, -0.3818, -0.8834, -0.8481, -0.6249, -0.8481, -0.8591, -0.296, -0.8591, -0.8271, -0.4404, 0.0, 0.0, -0.1531, 0.25, -0.4019, -0.1779, -0.6249, -0.6249, -0.34, -0.5994, -0.5994, -0.4215, 0.128, 0.34, 0.2732, -0.6369, -0.6369, 0.5994, -0.34, -0.8658, -0.5994, -0.3612, 0.4767, 0.5423, 0.7579, -0.34, -0.4767, 0.128, -0.6705, -0.34, -0.34, 0.128, 0.7506, -0.891, 0.1779, -0.9564, -0.9564, -0.9943, -0.1779, 0.0, -0.1779, 0.4019, -0.9187, -0.0093, -0.1779, -0.9509, -0.9432, -0.9509, -0.4404, -0.5106, -0.7845, 0.128, -0.9428, -0.1779, -0.34, -0.1779, 0.7783, 0.7783, -0.4019, -0.4019, -0.8807, -0.7003, -0.8555, -0.8807, -0.9432, -0.9432, -0.9186, -0.891, -0.9186, -0.9903, -0.9903, -0.9989, -0.9903, -0.9022, -0.7783, -0.9022, -0.5859, -0.9803, -0.7351, -0.9062, 0.0258, 0.0258, -0.0258, -0.0258, -0.8126, -0.2023, -0.6124, -0.5423, -0.2023, -0.1027, -0.7506, -0.6249, -0.4215, 0.128, -0.8957, -0.5574, -0.5859, -0.5719, -0.4588, -0.1779, -0.7184, -0.5994, -0.7269, -0.7269, -0.9042, -0.1017, -0.2023, 0.3291, 0.34, -0.1531, -0.9274, -0.9818, -0.9349, -0.34, -0.6369, -0.7003, -0.8807, -0.8807, 0.0, -0.0, -0.6597, -0.8074, -0.2263, -0.2263, -0.3089, 0.25, -0.4404, -0.7351, -0.6808, 0.0, -0.4404, -0.6124, -0.6908, 0.128, 0.128, -0.8519, -0.9349, -0.9933, 0.4019, -0.8118, -0.8316, -0.8957, 0.0, -0.34, 0.0, -0.9118, -0.3612, -0.9022, -0.7269, -0.6124, 0.128, -0.6369, -0.6369, -0.802, -0.9313, -0.7964, -0.9442, -0.7351, -0.8271, -0.7964, -0.8519, -0.8885, -0.8885, -0.9231, -0.9371, -0.7096, -0.2732, -0.9628, -0.5719, -0.8458, -0.7269, -0.91, -0.9818, -0.9325, -0.967, -0.9851, -0.7906, -0.9325, -0.3818, -0.7748, -0.7748, -0.4841, 0.4019, -0.6705, -0.3612, -0.3612, -0.9371, -0.765, -0.7351, -0.296, -0.9895, -0.9477, -0.9895, -0.9403, -0.7579, -0.4767, -0.4767, -0.9187, 0.4019, 0.128, -0.9081, -0.8442, -0.9022, 0.128, -0.9042, -0.9845, -0.9042, -0.7506, -0.7506, -0.8519, -0.886, -0.0516, 0.1027, -0.6249, 0.5106, -0.8689, -0.8689, 0.0, -0.6597, -0.9201, -0.9526, -0.4404, -0.9081, -0.9201, -0.8555, -0.128, -0.25, 0.1027, -0.5106, -0.5106, -0.6124, -0.2732, 0.0772, -0.4404, -0.9042, -0.9709, -0.9988, -0.4404, -0.8074, -0.995, -0.6369, -0.2996, 0.4939, 0.6597, 0.6597, -0.6486, -0.9001, -0.9803, -0.7351, -0.4767, 0.128, -0.6808, -0.6808, -0.9022, -0.9595, -0.8126, -0.9628, -0.9001, 0.0, -0.6808, 0.4788, 0.4788, -0.7717, -0.7096, -0.25, -0.7506, -0.7506, -0.8126, -0.7912, -0.4939, -0.791, -0.791, -0.9231, -0.8402, -0.9231, -0.7351, -0.9485, -0.9758, -0.9485, -0.9239, -0.4767, -0.6808, -0.7783, 0.0, 0.128, 0.0, -0.4215, -0.9865, -0.9385, -0.9865, 0.0, 0.0, -0.9825, -0.891, -0.891, -0.8774, -0.9432, -0.9432, -0.9719, -0.9451, -0.9618, -0.5859, -0.8555, -0.5859, -0.93, -0.7351, -0.1779, 0.0, -0.1779, -0.3818, -0.5719, -0.5719, -0.969, -0.7644, -0.969, -0.4404, -0.4404, 0.25, 0.25, -0.5106, -0.6369, -0.3612, -0.1779, -0.7351, -0.7964, -0.4215, -0.4215, 0.0772, -0.7269, -0.886, -0.9728, -0.9968, -0.9595, -0.8955, -0.2263, -0.296, 0.7096, -0.9201, -0.8885, -0.9741, -0.8885, -0.296, -0.4404, 0.6808, 0.7783, -0.6249, -0.8316, -0.8316, -0.4404, -0.8126, -0.8225, -0.296, -0.714, -0.8225, -0.9442, -0.9612, -0.8519, 0.0, -0.7717, -0.8338, 0.1779, -0.1017, 0.128, -0.34, -0.34, 0.4939, -0.6249, -0.7783, -0.9943, -0.1779, -0.4404, -0.4404, -0.4404, 0.6597, 0.91, -0.1027, -0.6124, 0.5994, 0.5994, -0.4404, -0.5859, -0.4404, -0.6597, 0.34, 0.25, -0.884, -0.9042, -0.7003, -0.7912, -0.4939, -0.969, -0.5719, -0.4767, -0.8271, -0.7964, -0.7579, -0.3818, -0.93, 0.0, -0.8271, -0.9923, -0.9884, -0.8316, -0.9906, -0.6705, -0.8338, -0.6486, -0.5719, -0.7351, -0.9022, -0.9991, -0.9965, -0.9931, -0.9994, -0.9923, -0.6124, -0.6124, 0.4939, 0.4939, -0.5267, -0.7003, -0.6124, -0.8807, -0.8807, -0.9601, 0.0, -0.9686, 0.296, 0.7772, 0.4939, 0.4215, 0.6103, -0.2732, -0.1531, -0.6808, -0.9153, -0.5106, -0.5584, -0.5584, -0.9178, -0.6369, -0.9186, -0.9694, -0.9694, -0.9694, 0.128, -0.9186, -0.93, -0.9468, -0.807, -0.8519, -0.7579, -0.9042, -0.7351, -0.7351, -0.4588, -0.7906, 0.0, -0.6705, -0.8074, -0.6705, -0.8627, 0.128, -0.7096, 0.0, -0.6808, -0.9186, -0.34, -0.8882, -0.4404, -0.1027, -0.6486, -0.8277, -0.4404, 0.4939, -0.3612, -0.3449, -0.5608, -0.8591, -0.8591, -0.9682, -0.9349, -0.743, -0.4404, -0.4404, -0.7269, -0.9246, -0.5859, -0.4404, -0.9217, -0.9217, -0.7783, -0.5719, -0.4404, -0.7579, -0.9948, -0.836, -0.34, -0.4767, 0.128, 0.128, 0.886, 0.9313, -0.9517, -0.7096, -0.93, -0.4731, -0.4731, -0.9153, -0.6597, -0.6124, -0.7184, -0.6597, -0.7003, -0.7003, -0.2263, -0.3612, -0.9828, -0.9674, -0.8568, -0.1531, -0.9186, -0.9186, -0.7845, 0.0, -0.4215, -0.9413, -0.7717, -0.7506, -0.8402, -0.7944, -0.3182, -0.7579, -0.9612, -0.5789, -0.8277, 0.0, -0.5994, -0.9694, 0.0, 0.128, -0.8555, -0.7845, 0.128, -0.3182, -0.875, -0.296, -0.1779, -0.7351, -0.8126, -0.765, -0.765, -0.4588, -0.9879, 0.0, -0.8316, -0.8591, 0.0, -0.9595, -0.92, 0.5994, -0.1779, 0.5994, -0.9657, -0.8074, -0.4019, -0.4019, -0.8402, -0.9371, -0.9371, 0.4019, -0.3612, 0.0, -0.765, -0.6486, -0.7906, -0.8779, -0.5267, 0.0, -0.1779, -0.5736, 0.2732, 0.7996, 0.7996, -0.9287, -0.9287, -0.9274, -0.9524, -0.6858, -0.6858, -0.3217, -0.3217, -0.802, -0.9947, -0.9393, -0.765, -0.5859, -0.9169, -0.8591, -0.9403, -0.9403, -0.6249, 0.0, 0.128, -0.7184, -0.5859, -0.6114, -0.6249, -0.886, -0.9808, -0.9694, -0.9808, -0.1531, -0.1531, -0.872, -0.872, -0.93, -0.93, -0.4404, -0.5719, -0.5719, -0.7579, -0.9612, -0.4404, -0.296, -0.2732, -0.7783, -0.4404, -0.4404, -0.8955, -0.5574, -0.936, -0.9968, -0.9903, -0.8402, -0.7351, -0.7845, -0.4215, -0.9413, -0.1027, 0.128, -0.4767, -0.5859, -0.3818, -0.836, -0.8481, -0.9081, -0.8356, -0.7506, -0.34, -0.6486, -0.6597, -0.8316, -0.765, -0.765, -0.743, 0.0, -0.9337, 0.3818, -0.891, -0.891, 0.0, -0.4404, -0.6369, -0.3818, -0.6705, -0.8445, -0.6004, -0.9169, -0.992, -0.4215, -0.9961, -0.9601, -0.5859, 0.6785, 0.6785, -0.9186, -0.4003, -0.9042, 0.6834, 0.6834, -0.4404, -0.936, -0.6249, -0.9442, -0.9442, -0.656, 0.0, -0.875, -0.4588, -0.7717, -0.8922, -0.8922, -0.3952, -0.4215, -0.4215, 0.0, 0.128, -0.7088, -0.8225, -0.5994, -0.6369, -0.802, -0.7506, -0.9612, -0.9961, -0.9825, -0.9432, -0.9618, -0.0, -0.9657, -0.0, -0.9716, -0.6114, -0.743, -0.872, -0.6249, -0.6249, -0.9231, -0.836, 0.0, -0.9287, -0.7184, 0.0, -0.4588, 0.4767, 0.8715, -0.9062, -0.9201, -0.6486, -0.4215, -0.4215, 0.4939, 0.1511, 0.0772, -0.8225, -0.807, -0.4404, -0.4404, -0.025, -0.025, -0.9949, -0.9949, -0.9022, 0.7772, -0.3612, -0.9753, -0.9771, 0.4939, 0.4939, -0.4404, 0.34, -0.4019, -0.9509, -0.4019, -0.8957, -0.6597, -0.7184, -0.8074, -0.8074, -0.6124, -0.6124, -0.6486, -0.4404, -0.4588, -0.8658, -0.8658, 0.0, -0.8176, -0.9656, -0.9656, -0.9674, -0.7783, -0.9698, -0.6808, -0.6808, -0.8344, -0.7506, -0.7322, 0.128, -0.9022, -0.9022, -0.4404, 0.0, -0.5574, -0.6249, -0.34, -0.743, -0.5789, -0.8737, -0.8737, -0.7579, -0.9436, -0.7783, -0.6597, -0.9694, -0.9559, -0.9559, -0.4404, -0.0534, -0.3818, -0.8955, -0.5719, -0.9825, -0.5719, -0.296, 0.4939, -0.5584, -0.8957, -0.9422, -0.7351, -0.7351, 0.0, -0.7269, -0.4404, -0.7351, -0.5499, -0.8882, -0.4404, 0.128, -0.933, -0.7845, 0.3818, -0.9716, -0.7351, -0.9246, -0.9246, 0.0258, 0.4588, 0.3182, -0.9382, -0.8885, -0.9814, 0.0, -0.9022, -0.6486, -0.9371, -0.6486, -0.6249, -0.9907, -0.9881, -0.9907, -0.5574, 0.25, 0.52, 0.52, -0.6317, -0.8481, -0.9571, -0.872, -0.9661, -0.1779, -0.9186, -0.9186, 0.4588, 0.4588, -0.9153, -0.9859, -0.9153, -0.5106, -0.5106, -0.296, 0.1779, -0.4404, -0.4404, -0.4404, 0.128, 0.128, -0.7096, -0.9022, -0.9022, -0.7184, -0.7184, -0.6908, 0.3182, 0.128, -0.7184, -0.7351, -0.1531, -0.4404, -0.9918, -0.6486, -0.5405, -0.4215, -0.2382, -0.7964, -0.6808, -0.8126, -0.34, -0.1818, -0.7506, -0.7003, -0.4404, -0.8834, -0.8834, -0.6249, -0.2076, -0.5574, -0.0041, -0.9601, -0.8402, -0.8402, -0.4404, -0.9432, -0.8689, -0.9432, -0.4019, 0.25, -0.4019, -0.8519, -0.7845, 0.3182, -0.3818, 0.2235, -0.8754, -0.8415, -0.8481, -0.0516, -0.6249, -0.7906, -0.7906, -0.4019, 0.0772, -0.7269, -0.9081, -0.7269, -0.8415, -0.34, 0.9318, -0.1531, -0.7506, -0.7506, -0.9641, -0.8402, 0.6597, -0.0516, -0.4215, -0.4215, -0.2996, 0.0, 0.0, -0.3818, -0.6705, 0.128, -0.3612, 0.128, -0.802, -0.4404, -0.8519, -0.8625, -0.8225, -0.9042, -0.9042, -0.7003, 0.0, -0.4404, -0.4767, -0.9382, -0.9974, -0.91, -0.0516, -0.7096, 0.4939, 0.4019, 0.5106, -0.9918, -0.7184, 0.128, -0.7003, -0.4404, -0.743, -0.4102, -0.8957, -0.124, -0.7579, -0.6597, -0.8316, -0.9864, -0.7579, -0.7579, -0.5859, -0.0041, -0.34, 0.0, 0.4019, -0.6369, -0.8442, -0.8225, -0.9974, -0.8957, -0.8316, -0.8316, 0.5423, -0.7783, -0.5267, -0.765, -0.875, -0.765, -0.6369, -0.3612, -0.8689, -0.959, -0.9325, -0.4019, -0.1531, -0.9287, -0.7845, -0.5994, -0.5106, -0.6486, -0.8402, -0.8402, -0.128, -0.7783, 0.0, -0.5574, -0.9022, 0.4019, -0.34, -0.891, 0.128, 0.0, -0.743, 0.0, 0.703, -0.6705, -0.7506, -0.4767, -0.4588, -0.4588, -0.7906, -0.6486, 0.0, -0.4404, 0.0, -0.7351, -0.4417, -0.5584, -0.5574, -0.5574, -0.1531, -0.296, -0.8658, -0.4404, -0.8225, -0.8225, -0.4404, -0.9682, 0.4939, -0.5994, -0.5994, -0.6597, 0.7351, -0.3818, -0.6705, -0.6705, -0.9641, -0.872, -0.9217, 0.5423, -0.9062, -0.8271, -0.8555, -0.9682, -0.34, -0.5994, -0.91, -0.7579, -0.6369, -0.6705, -0.6705, -0.6486, -0.881, -0.6486, 0.7269, 0.7269, -0.8885, -0.4404, -0.9607, -0.6249, -0.8957, -0.9201, 0.5423, -0.4404, -0.6486, -0.7096, -0.9872, -0.9875, -0.802, -0.802, -0.6249, 0.0, -0.3818, 0.0, -0.6908, -0.8481, -0.9062, 0.0, 0.0, -0.6705, -0.9081, 0.128, -0.6124, 0.4019, 0.4019, 0.0258, -0.5574, -0.7579, -0.7457, -0.1818, -0.7096, -0.7096, 0.6597, -0.991, -0.7579, -0.8519, -0.4939, -0.9953, 0.0, -0.4404, -0.8591, -0.8591, -0.7506, -0.4805, -0.8271, -0.8271, -0.6249, -0.7457, -0.4588, -0.4588, -0.875, 0.5423, 0.0, -0.875, -0.875, -0.9928, -0.2023, -0.7096, -0.7096, -0.9136, -0.9136, 0.5267, 0.5267, -0.296, -0.6249, -0.7184, -0.7184, -0.7351, -0.4767, -0.933, 0.7351, -0.9949, -0.9891, -0.9977, -0.9968, -0.9783]}\n"
     ]
    }
   ],
   "source": [
    "race_sents = {}\n",
    "for race, text in zip(data['Complainant Race'], data['Text Content']):\n",
    "    clean = clean_text(text)\n",
    "    if race == 'Native American/Alaskan Native':\n",
    "        # Not enough examples to confidently include\n",
    "        continue\n",
    "    elif race == 'Asian/Pacific Islander':\n",
    "        race = 'Asian'\n",
    "    \n",
    "    if race not in race_sents:\n",
    "        race_sents[race] = []\n",
    "    \n",
    "    scores = sid.polarity_scores(clean)\n",
    "    \n",
    "    race_sents[race].append(scores['compound'])"
   ]
  },
  {
   "cell_type": "code",
   "execution_count": 75,
   "metadata": {},
   "outputs": [
    {
     "data": {
      "text/plain": [
       "-0.48957798930144747"
      ]
     },
     "execution_count": 75,
     "metadata": {},
     "output_type": "execute_result"
    }
   ],
   "source": [
    "np.average(race_sents['Black'])"
   ]
  },
  {
   "cell_type": "code",
   "execution_count": null,
   "metadata": {},
   "outputs": [],
   "source": []
  }
 ],
 "metadata": {
  "kernelspec": {
   "display_name": "Python 3",
   "language": "python",
   "name": "python3"
  },
  "language_info": {
   "codemirror_mode": {
    "name": "ipython",
    "version": 3
   },
   "file_extension": ".py",
   "mimetype": "text/x-python",
   "name": "python",
   "nbconvert_exporter": "python",
   "pygments_lexer": "ipython3",
   "version": "3.7.6"
  }
 },
 "nbformat": 4,
 "nbformat_minor": 4
}
