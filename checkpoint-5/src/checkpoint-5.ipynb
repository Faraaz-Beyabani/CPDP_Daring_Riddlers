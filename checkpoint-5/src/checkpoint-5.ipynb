{
 "cells": [
  {
   "cell_type": "code",
   "execution_count": 1,
   "metadata": {},
   "outputs": [
    {
     "name": "stderr",
     "output_type": "stream",
     "text": [
      "<ipython-input-1-cc92c9a22e1a>:20: FutureWarning: Passing a negative integer is deprecated in version 1.0 and will not be supported in future version. Instead, use None to not limit the column width.\n",
      "  pd.set_option('display.max_colwidth', -1)\n"
     ]
    }
   ],
   "source": [
    "import pandas as pd\n",
    "import numpy as np\n",
    "import matplotlib.pyplot as plt\n",
    "\n",
    "import re\n",
    "\n",
    "from string import punctuation\n",
    "\n",
    "from nltk.corpus import stopwords\n",
    "from nltk.tokenize import word_tokenize\n",
    "from nltk.sentiment.vader import SentimentIntensityAnalyzer\n",
    "\n",
    "from sklearn.linear_model import LinearRegression\n",
    "\n",
    "reg = LinearRegression()\n",
    "\n",
    "sid = SentimentIntensityAnalyzer()\n",
    "stop_words = stopwords.words('English')\n",
    "\n",
    "pd.set_option('display.max_colwidth', -1)"
   ]
  },
  {
   "cell_type": "code",
   "execution_count": 2,
   "metadata": {},
   "outputs": [],
   "source": [
    "def clean_text(s):\n",
    "    if s[-1] == '.': \n",
    "        s = s[:-1]\n",
    "    return s.lower().replace('\\n', ' ')"
   ]
  },
  {
   "cell_type": "markdown",
   "metadata": {},
   "source": [
    "# Data Preprocessing\n",
    "\n",
    "Before starting our analyses, we load the data into a pandas dataframe.\n",
    "\n",
    "We then remove certain allegation data that are related to findings or conclusions, before cleaning up the texts and removing duplicate entries"
   ]
  },
  {
   "cell_type": "code",
   "execution_count": 3,
   "metadata": {},
   "outputs": [
    {
     "name": "stderr",
     "output_type": "stream",
     "text": [
      "<ipython-input-3-6ed7420e8e0f>:13: SettingWithCopyWarning: \n",
      "A value is trying to be set on a copy of a slice from a DataFrame.\n",
      "Try using .loc[row_indexer,col_indexer] = value instead\n",
      "\n",
      "See the caveats in the documentation: https://pandas.pydata.org/pandas-docs/stable/user_guide/indexing.html#returning-a-view-versus-a-copy\n",
      "  data['Text Content'] = data['Text Content'].apply(lambda x: clean_text(x))\n"
     ]
    }
   ],
   "source": [
    "headers = [\"Allegation ID\", \"Section Name\", \"Column Name\", \"Text Content\", \"Area Name\", \"Median Income\", \"Complainant Gender\", \"Complainant Race\", \"Complainant Birth Year\"]\n",
    "\n",
    "raw_data = pd.read_csv('./data/community_allegation_narratives.csv', \n",
    "    names=headers\n",
    ")\n",
    "\n",
    "# Removing lines without meaningful summaries\n",
    "data = raw_data[~raw_data['Text Content'].isin([\n",
    "    '(None Entered)',\n",
    "    'NOMISCONDUCT\\n(NOTIF)',\n",
    "    'NOT SUSTAINED'\n",
    "])]\n",
    "data['Text Content'] = data['Text Content'].apply(lambda x: clean_text(x))\n",
    "data = data.drop_duplicates(subset=['Text Content'])"
   ]
  },
  {
   "cell_type": "code",
   "execution_count": 4,
   "metadata": {},
   "outputs": [
    {
     "data": {
      "text/plain": [
       "Index(['Allegation ID', 'Section Name', 'Column Name', 'Text Content',\n",
       "       'Area Name', 'Median Income', 'Complainant Gender', 'Complainant Race',\n",
       "       'Complainant Birth Year'],\n",
       "      dtype='object')"
      ]
     },
     "execution_count": 4,
     "metadata": {},
     "output_type": "execute_result"
    }
   ],
   "source": [
    "data.columns"
   ]
  },
  {
   "cell_type": "markdown",
   "metadata": {},
   "source": [
    "After all is said and done, this is the format of our data. Note that we still have organization variables such as allegation ID, and that median income is still a string."
   ]
  },
  {
   "cell_type": "code",
   "execution_count": 6,
   "metadata": {},
   "outputs": [
    {
     "data": {
      "text/html": [
       "<div>\n",
       "<style scoped>\n",
       "    .dataframe tbody tr th:only-of-type {\n",
       "        vertical-align: middle;\n",
       "    }\n",
       "\n",
       "    .dataframe tbody tr th {\n",
       "        vertical-align: top;\n",
       "    }\n",
       "\n",
       "    .dataframe thead th {\n",
       "        text-align: right;\n",
       "    }\n",
       "</style>\n",
       "<table border=\"1\" class=\"dataframe\">\n",
       "  <thead>\n",
       "    <tr style=\"text-align: right;\">\n",
       "      <th></th>\n",
       "      <th>Allegation ID</th>\n",
       "      <th>Section Name</th>\n",
       "      <th>Column Name</th>\n",
       "      <th>Text Content</th>\n",
       "      <th>Area Name</th>\n",
       "      <th>Median Income</th>\n",
       "      <th>Complainant Gender</th>\n",
       "      <th>Complainant Race</th>\n",
       "      <th>Complainant Birth Year</th>\n",
       "    </tr>\n",
       "  </thead>\n",
       "  <tbody>\n",
       "    <tr>\n",
       "      <th>0</th>\n",
       "      <td>1062924</td>\n",
       "      <td>Accused Members</td>\n",
       "      <td>Initial / Intake Allegation</td>\n",
       "      <td>the complainant stated that she was involved in traffic accident with another ewvillan the complainant alleged that the accused officer incorrectly and inacurrately completed the traffic crash accident report the complainant did not have her case report number</td>\n",
       "      <td>Hermosa</td>\n",
       "      <td>$39,057</td>\n",
       "      <td>F</td>\n",
       "      <td>Hispanic</td>\n",
       "      <td>1971.0</td>\n",
       "    </tr>\n",
       "    <tr>\n",
       "      <th>1</th>\n",
       "      <td>1050875</td>\n",
       "      <td>Accused Members</td>\n",
       "      <td>Initial / Intake Allegation</td>\n",
       "      <td>the complainant alleges that the accused failed to arrest a female offender who threw a bottle at her and refused to leave the premises, the complainant alleges that the accused failed to arrest a female offender who threw a bottle at her and refused to leave the premises</td>\n",
       "      <td>Chicago Lawn</td>\n",
       "      <td>$32,944</td>\n",
       "      <td>F</td>\n",
       "      <td>Black</td>\n",
       "      <td>1977.0</td>\n",
       "    </tr>\n",
       "    <tr>\n",
       "      <th>3</th>\n",
       "      <td>1060347</td>\n",
       "      <td>Accused Members</td>\n",
       "      <td>Initial / Intake Allegation</td>\n",
       "      <td>and that she was afraid that the might come back. the reporting alleges that the accused was rude and and stated in an aggressive \"maybe we can look at the tape. if so scared, change your locks. i'm not to do anything for you.”</td>\n",
       "      <td>North Park</td>\n",
       "      <td>$51,589</td>\n",
       "      <td>F</td>\n",
       "      <td>White</td>\n",
       "      <td>1970.0</td>\n",
       "    </tr>\n",
       "    <tr>\n",
       "      <th>4</th>\n",
       "      <td>1060347</td>\n",
       "      <td>Accused Members</td>\n",
       "      <td>Initial / Intake Allegation</td>\n",
       "      <td>the reporting party alleges that she called to speak to the accused, who is assigned to investigate her case. the reporting party alleges that she stated to the accused that the offender had all of her information and keys to her place of residence and that she was afraid that the offender might come back. the reporting party alleges that the accused was rude and unprofessional and stated in an aggressive manner, \"maybe we can look at the tape. if you're so scared, change your locks. i'm not going to do anything for you.”</td>\n",
       "      <td>North Park</td>\n",
       "      <td>$51,589</td>\n",
       "      <td>F</td>\n",
       "      <td>White</td>\n",
       "      <td>1970.0</td>\n",
       "    </tr>\n",
       "    <tr>\n",
       "      <th>5</th>\n",
       "      <td>1049777</td>\n",
       "      <td>Accused Members</td>\n",
       "      <td>Initial / Intake Allegation</td>\n",
       "      <td>the reporting party alleges that the accused officer had his vehicle illegally towed due to loud music. the reporting party alleges that the speakers in his vehicle are not operating therefore; the impounding of his vehicle was just harassment from the accused officer</td>\n",
       "      <td>Chicago Lawn</td>\n",
       "      <td>$32,944</td>\n",
       "      <td>M</td>\n",
       "      <td>Black</td>\n",
       "      <td>1989.0</td>\n",
       "    </tr>\n",
       "    <tr>\n",
       "      <th>...</th>\n",
       "      <td>...</td>\n",
       "      <td>...</td>\n",
       "      <td>...</td>\n",
       "      <td>...</td>\n",
       "      <td>...</td>\n",
       "      <td>...</td>\n",
       "      <td>...</td>\n",
       "      <td>...</td>\n",
       "      <td>...</td>\n",
       "    </tr>\n",
       "    <tr>\n",
       "      <th>47699</th>\n",
       "      <td>1063984</td>\n",
       "      <td>Accused Members</td>\n",
       "      <td>Initial / Intake Allegation</td>\n",
       "      <td>the complainant alleged that the accused officer refused to properly investigate the victim's report of a “road rage\" altercation with another driver</td>\n",
       "      <td>North Park</td>\n",
       "      <td>$51,589</td>\n",
       "      <td>M</td>\n",
       "      <td>Hispanic</td>\n",
       "      <td>1988.0</td>\n",
       "    </tr>\n",
       "    <tr>\n",
       "      <th>47704</th>\n",
       "      <td>1049236</td>\n",
       "      <td>Accused Members</td>\n",
       "      <td>Initial / Intake Allegation</td>\n",
       "      <td>the reporting party, who is representing himself, alleges that the accused struck him with a squad car, which caused serveral bruises on his face, legs, knees and back. the reporting party further alleges that while he was on the ground, the accused stepped on his back, handcuffed him and then threw him in the backseat of the squad car</td>\n",
       "      <td>Greater Grand Crossing</td>\n",
       "      <td>$26,354</td>\n",
       "      <td>M</td>\n",
       "      <td>Black</td>\n",
       "      <td>1980.0</td>\n",
       "    </tr>\n",
       "    <tr>\n",
       "      <th>47708</th>\n",
       "      <td>1051081</td>\n",
       "      <td>Accused Members</td>\n",
       "      <td>Initial / Intake Allegation</td>\n",
       "      <td>the reporting party alleges that the accused officer was rude and unprofessional in that the accused officer called the victim to clear a missing person and the victim stated that he would have to wait until he was available to serve him. the accused officer responded, \"l don't want to hear that shit you fucking jag off.\"</td>\n",
       "      <td>Douglas</td>\n",
       "      <td>$29,099</td>\n",
       "      <td>M</td>\n",
       "      <td>Black</td>\n",
       "      <td>1964.0</td>\n",
       "    </tr>\n",
       "    <tr>\n",
       "      <th>47710</th>\n",
       "      <td>1051081</td>\n",
       "      <td>Current Allegations</td>\n",
       "      <td>Allegation</td>\n",
       "      <td>the complainant, police officer gregory rudolph #16639, unit 184 alleges that on 03 january 2012 at 2255 hours, via the telephone detective joseph mc guire #20016, unit 620 was rude and unprofessional the complainant, police officer gregory rudolph #16639, unit 184 further alleegs that on 04 january 2012 at 1745 hours, via the telephone detective joseph mc guire #20016, unit 620 threatened him and denied his request to speak to a supervisor</td>\n",
       "      <td>Douglas</td>\n",
       "      <td>$29,099</td>\n",
       "      <td>M</td>\n",
       "      <td>Black</td>\n",
       "      <td>1964.0</td>\n",
       "    </tr>\n",
       "    <tr>\n",
       "      <th>47711</th>\n",
       "      <td>1051081</td>\n",
       "      <td>Accused Members</td>\n",
       "      <td>Initial / Intake Allegation</td>\n",
       "      <td>the reporting party alleges that the accused officer was rude and unprofessional in that the accused officer called the victim to clear a missing person and the victim stated that he would have to wait until he was available to serve him. the accused officer responded, \"l don't want to hear that shit you fucking jag off.\"</td>\n",
       "      <td>Douglas</td>\n",
       "      <td>$29,099</td>\n",
       "      <td>M</td>\n",
       "      <td>Black</td>\n",
       "      <td>1964.0</td>\n",
       "    </tr>\n",
       "  </tbody>\n",
       "</table>\n",
       "<p>21368 rows × 9 columns</p>\n",
       "</div>"
      ],
      "text/plain": [
       "       Allegation ID         Section Name                  Column Name  \\\n",
       "0      1062924        Accused Members      Initial / Intake Allegation   \n",
       "1      1050875        Accused Members      Initial / Intake Allegation   \n",
       "3      1060347        Accused Members      Initial / Intake Allegation   \n",
       "4      1060347        Accused Members      Initial / Intake Allegation   \n",
       "5      1049777        Accused Members      Initial / Intake Allegation   \n",
       "...        ...                    ...                              ...   \n",
       "47699  1063984        Accused Members      Initial / Intake Allegation   \n",
       "47704  1049236        Accused Members      Initial / Intake Allegation   \n",
       "47708  1051081        Accused Members      Initial / Intake Allegation   \n",
       "47710  1051081        Current Allegations  Allegation                    \n",
       "47711  1051081        Accused Members      Initial / Intake Allegation   \n",
       "\n",
       "                                                                                                                                                                                                                                                                                                                                                                                                                                                                                                                                          Text Content  \\\n",
       "0      the complainant stated that she was involved in traffic accident with another ewvillan the complainant alleged that the accused officer incorrectly and inacurrately completed the traffic crash accident report the complainant did not have her case report number                                                                                                                                                                                                                                                                              \n",
       "1      the complainant alleges that the accused failed to arrest a female offender who threw a bottle at her and refused to leave the premises, the complainant alleges that the accused failed to arrest a female offender who threw a bottle at her and refused to leave the premises                                                                                                                                                                                                                                                                  \n",
       "3      and that she was afraid that the might come back. the reporting alleges that the accused was rude and and stated in an aggressive \"maybe we can look at the tape. if so scared, change your locks. i'm not to do anything for you.”                                                                                                                                                                                                                                                                                                               \n",
       "4      the reporting party alleges that she called to speak to the accused, who is assigned to investigate her case. the reporting party alleges that she stated to the accused that the offender had all of her information and keys to her place of residence and that she was afraid that the offender might come back. the reporting party alleges that the accused was rude and unprofessional and stated in an aggressive manner, \"maybe we can look at the tape. if you're so scared, change your locks. i'm not going to do anything for you.”   \n",
       "5      the reporting party alleges that the accused officer had his vehicle illegally towed due to loud music. the reporting party alleges that the speakers in his vehicle are not operating therefore; the impounding of his vehicle was just harassment from the accused officer                                                                                                                                                                                                                                                                      \n",
       "...                                                                                                                                                                                                                                                                             ...                                                                                                                                                                                                                                                                      \n",
       "47699  the complainant alleged that the accused officer refused to properly investigate the victim's report of a “road rage\" altercation with another driver                                                                                                                                                                                                                                                                                                                                                                                             \n",
       "47704  the reporting party, who is representing himself, alleges that the accused struck him with a squad car, which caused serveral bruises on his face, legs, knees and back. the reporting party further alleges that while he was on the ground, the accused stepped on his back, handcuffed him and then threw him in the backseat of the squad car                                                                                                                                                                                                 \n",
       "47708   the reporting party alleges that the accused officer was rude and unprofessional in that the accused officer called the victim to clear a missing person and the victim stated that he would have to wait until he was available to serve him. the accused officer responded, \"l don't want to hear that shit you fucking jag off.\"                                                                                                                                                                                                              \n",
       "47710  the complainant, police officer gregory rudolph #16639, unit 184 alleges that on 03 january 2012 at 2255 hours, via the telephone detective joseph mc guire #20016, unit 620 was rude and unprofessional the complainant, police officer gregory rudolph #16639, unit 184 further alleegs that on 04 january 2012 at 1745 hours, via the telephone detective joseph mc guire #20016, unit 620 threatened him and denied his request to speak to a supervisor                                                                                      \n",
       "47711  the reporting party alleges that the accused officer was rude and unprofessional in that the accused officer called the victim to clear a missing person and the victim stated that he would have to wait until he was available to serve him. the accused officer responded, \"l don't want to hear that shit you fucking jag off.\"                                                                                                                                                                                                               \n",
       "\n",
       "                    Area Name Median Income Complainant Gender  \\\n",
       "0      Hermosa                 $39,057       F                   \n",
       "1      Chicago Lawn            $32,944       F                   \n",
       "3      North Park              $51,589       F                   \n",
       "4      North Park              $51,589       F                   \n",
       "5      Chicago Lawn            $32,944       M                   \n",
       "...             ...                ...      ..                   \n",
       "47699  North Park              $51,589       M                   \n",
       "47704  Greater Grand Crossing  $26,354       M                   \n",
       "47708  Douglas                 $29,099       M                   \n",
       "47710  Douglas                 $29,099       M                   \n",
       "47711  Douglas                 $29,099       M                   \n",
       "\n",
       "      Complainant Race  Complainant Birth Year  \n",
       "0      Hispanic         1971.0                  \n",
       "1      Black            1977.0                  \n",
       "3      White            1970.0                  \n",
       "4      White            1970.0                  \n",
       "5      Black            1989.0                  \n",
       "...      ...               ...                  \n",
       "47699  Hispanic         1988.0                  \n",
       "47704  Black            1980.0                  \n",
       "47708  Black            1964.0                  \n",
       "47710  Black            1964.0                  \n",
       "47711  Black            1964.0                  \n",
       "\n",
       "[21368 rows x 9 columns]"
      ]
     },
     "execution_count": 6,
     "metadata": {},
     "output_type": "execute_result"
    }
   ],
   "source": [
    "data"
   ]
  },
  {
   "cell_type": "markdown",
   "metadata": {},
   "source": [
    "# Introduction\n",
    "\n",
    "For our analyses, we will be examining the relationship of sentiment to certain geographic and complainant features, such as median income, complainant race, and complainant race and gender.\n",
    "\n",
    "We will then attempt to corroborate or reject our results by using linear regression to learn a model on the data using almost every feature.\n",
    "\n",
    "Finally, we will examine the differences between the race and race/gender analyses, and whether either of them significantly correlate to the sentiment calculated for each allegation."
   ]
  },
  {
   "cell_type": "markdown",
   "metadata": {},
   "source": [
    "# Income"
   ]
  },
  {
   "cell_type": "code",
   "execution_count": 7,
   "metadata": {},
   "outputs": [],
   "source": [
    "# Find all compound sentiment scores, divided by area\n",
    "area_scores = {}\n",
    "for n, (area, text, income) in enumerate(zip(data['Area Name'], data['Text Content'], data['Median Income'])):\n",
    "    clean = clean_text(text)\n",
    "    \n",
    "    if area not in area_scores:\n",
    "        area_scores[area] = {\n",
    "            'total_score': 0,\n",
    "            'count': 0,\n",
    "            'income': income\n",
    "        }\n",
    "    \n",
    "    scores = sid.polarity_scores(clean)\n",
    "    \n",
    "    area_scores[area]['count'] += 1\n",
    "    area_scores[area]['total_score'] += scores['compound']"
   ]
  },
  {
   "cell_type": "code",
   "execution_count": 8,
   "metadata": {},
   "outputs": [],
   "source": [
    "sorted_scores = sorted([\n",
    "    (\n",
    "        area, \n",
    "        area_scores[area]['total_score'] / area_scores[area]['count'],\n",
    "        area_scores[area]['income']\n",
    "    )\n",
    "    for area in area_scores\n",
    "], key=lambda line: line[1])"
   ]
  },
  {
   "cell_type": "code",
   "execution_count": 9,
   "metadata": {
    "scrolled": true
   },
   "outputs": [
    {
     "data": {
      "text/html": [
       "<div>\n",
       "<style scoped>\n",
       "    .dataframe tbody tr th:only-of-type {\n",
       "        vertical-align: middle;\n",
       "    }\n",
       "\n",
       "    .dataframe tbody tr th {\n",
       "        vertical-align: top;\n",
       "    }\n",
       "\n",
       "    .dataframe thead th {\n",
       "        text-align: right;\n",
       "    }\n",
       "</style>\n",
       "<table border=\"1\" class=\"dataframe\">\n",
       "  <thead>\n",
       "    <tr style=\"text-align: right;\">\n",
       "      <th></th>\n",
       "      <th>Area</th>\n",
       "      <th>Score</th>\n",
       "      <th>Income</th>\n",
       "    </tr>\n",
       "  </thead>\n",
       "  <tbody>\n",
       "    <tr>\n",
       "      <th>0</th>\n",
       "      <td>Edison Park</td>\n",
       "      <td>-0.599305</td>\n",
       "      <td>$84,331</td>\n",
       "    </tr>\n",
       "    <tr>\n",
       "      <th>1</th>\n",
       "      <td>Jefferson Park</td>\n",
       "      <td>-0.597945</td>\n",
       "      <td>$60,384</td>\n",
       "    </tr>\n",
       "    <tr>\n",
       "      <th>2</th>\n",
       "      <td>Lincoln Square</td>\n",
       "      <td>-0.589593</td>\n",
       "      <td>$62,427</td>\n",
       "    </tr>\n",
       "    <tr>\n",
       "      <th>3</th>\n",
       "      <td>South Lawndale</td>\n",
       "      <td>-0.573953</td>\n",
       "      <td>$30,603</td>\n",
       "    </tr>\n",
       "    <tr>\n",
       "      <th>4</th>\n",
       "      <td>Hegewisch</td>\n",
       "      <td>-0.565878</td>\n",
       "      <td>$50,252</td>\n",
       "    </tr>\n",
       "    <tr>\n",
       "      <th>...</th>\n",
       "      <td>...</td>\n",
       "      <td>...</td>\n",
       "      <td>...</td>\n",
       "    </tr>\n",
       "    <tr>\n",
       "      <th>72</th>\n",
       "      <td>O'Hare</td>\n",
       "      <td>-0.420273</td>\n",
       "      <td>$46,065</td>\n",
       "    </tr>\n",
       "    <tr>\n",
       "      <th>73</th>\n",
       "      <td>Oakland</td>\n",
       "      <td>-0.407486</td>\n",
       "      <td>$28,269</td>\n",
       "    </tr>\n",
       "    <tr>\n",
       "      <th>74</th>\n",
       "      <td>Portage Park</td>\n",
       "      <td>-0.395742</td>\n",
       "      <td>$56,649</td>\n",
       "    </tr>\n",
       "    <tr>\n",
       "      <th>75</th>\n",
       "      <td>Edgewater</td>\n",
       "      <td>-0.394468</td>\n",
       "      <td>$46,103</td>\n",
       "    </tr>\n",
       "    <tr>\n",
       "      <th>76</th>\n",
       "      <td>North Park</td>\n",
       "      <td>-0.328843</td>\n",
       "      <td>$51,589</td>\n",
       "    </tr>\n",
       "  </tbody>\n",
       "</table>\n",
       "<p>77 rows × 3 columns</p>\n",
       "</div>"
      ],
      "text/plain": [
       "              Area     Score   Income\n",
       "0   Edison Park    -0.599305  $84,331\n",
       "1   Jefferson Park -0.597945  $60,384\n",
       "2   Lincoln Square -0.589593  $62,427\n",
       "3   South Lawndale -0.573953  $30,603\n",
       "4   Hegewisch      -0.565878  $50,252\n",
       "..        ...            ...      ...\n",
       "72  O'Hare         -0.420273  $46,065\n",
       "73  Oakland        -0.407486  $28,269\n",
       "74  Portage Park   -0.395742  $56,649\n",
       "75  Edgewater      -0.394468  $46,103\n",
       "76  North Park     -0.328843  $51,589\n",
       "\n",
       "[77 rows x 3 columns]"
      ]
     },
     "execution_count": 9,
     "metadata": {},
     "output_type": "execute_result"
    }
   ],
   "source": [
    "pd.DataFrame(sorted_scores, columns=['Area', 'Score', 'Income'], )"
   ]
  },
  {
   "cell_type": "code",
   "execution_count": 10,
   "metadata": {},
   "outputs": [
    {
     "data": {
      "text/plain": [
       "<matplotlib.collections.PathCollection at 0x2630c90cd30>"
      ]
     },
     "execution_count": 10,
     "metadata": {},
     "output_type": "execute_result"
    },
    {
     "data": {
      "image/png": "[encoded data removed]",
      "text/plain": [
       "<Figure size 432x288 with 1 Axes>"
      ]
     },
     "metadata": {
      "needs_background": "light"
     },
     "output_type": "display_data"
    }
   ],
   "source": [
    "plot_x = [int(x[2][1:].replace(',', '')) for x in sorted_scores]\n",
    "plot_y = [y[1] for y in sorted_scores]\n",
    "\n",
    "plt.suptitle('Accusation Sentiment by City Area')\n",
    "plt.xlabel('Median Income')\n",
    "plt.ylabel('Sentiment')\n",
    "plt.scatter(plot_x, plot_y)"
   ]
  },
  {
   "cell_type": "markdown",
   "metadata": {},
   "source": [
    "# Race"
   ]
  },
  {
   "cell_type": "code",
   "execution_count": 11,
   "metadata": {},
   "outputs": [],
   "source": [
    "race_scores = {}\n",
    "for race, text in zip(data['Complainant Race'], data['Text Content']):\n",
    "    clean = clean_text(text)\n",
    "    if race == 'Native American/Alaskan Native':\n",
    "        # Not enough examples to confidently include\n",
    "        continue\n",
    "    elif race == 'Asian/Pacific Islander':\n",
    "        race = 'Asian'\n",
    "    \n",
    "    if race not in race_scores:\n",
    "        race_scores[race] = {\n",
    "            'total_score': 0,\n",
    "            'count': 0\n",
    "        }\n",
    "    \n",
    "    scores = sid.polarity_scores(clean)\n",
    "    \n",
    "    race_scores[race]['count'] += 1\n",
    "    race_scores[race]['total_score'] += scores['compound']"
   ]
  },
  {
   "cell_type": "code",
   "execution_count": 12,
   "metadata": {},
   "outputs": [],
   "source": [
    "race_data = dict(sorted([\n",
    "    (race, -1 * race_scores[race]['total_score'] / race_scores[race]['count'])\n",
    "    for race in race_scores if type(race) == str\n",
    "], key=lambda item: item[1]))"
   ]
  },
  {
   "cell_type": "code",
   "execution_count": 13,
   "metadata": {},
   "outputs": [
    {
     "data": {
      "text/plain": [
       "<BarContainer object of 4 artists>"
      ]
     },
     "execution_count": 13,
     "metadata": {},
     "output_type": "execute_result"
    },
    {
     "data": {
      "image/png": "[encoded data removed]",
      "text/plain": [
       "<Figure size 432x288 with 1 Axes>"
      ]
     },
     "metadata": {
      "needs_background": "light"
     },
     "output_type": "display_data"
    }
   ],
   "source": [
    "plt.suptitle('Negative Sentiment of Complaints by Complainant Race')\n",
    "plt.ylim([0.4, 0.52])\n",
    "plt.bar(race_data.keys(), [race_data[race] for race in race_data])"
   ]
  },
  {
   "cell_type": "code",
   "execution_count": 14,
   "metadata": {
    "scrolled": true
   },
   "outputs": [
    {
     "data": {
      "text/html": [
       "<div>\n",
       "<style scoped>\n",
       "    .dataframe tbody tr th:only-of-type {\n",
       "        vertical-align: middle;\n",
       "    }\n",
       "\n",
       "    .dataframe tbody tr th {\n",
       "        vertical-align: top;\n",
       "    }\n",
       "\n",
       "    .dataframe thead th {\n",
       "        text-align: right;\n",
       "    }\n",
       "</style>\n",
       "<table border=\"1\" class=\"dataframe\">\n",
       "  <thead>\n",
       "    <tr style=\"text-align: right;\">\n",
       "      <th></th>\n",
       "      <th>Race</th>\n",
       "      <th>Avg Score</th>\n",
       "    </tr>\n",
       "  </thead>\n",
       "  <tbody>\n",
       "    <tr>\n",
       "      <th>0</th>\n",
       "      <td>Asian</td>\n",
       "      <td>0.467126</td>\n",
       "    </tr>\n",
       "    <tr>\n",
       "      <th>1</th>\n",
       "      <td>White</td>\n",
       "      <td>0.478442</td>\n",
       "    </tr>\n",
       "    <tr>\n",
       "      <th>2</th>\n",
       "      <td>Black</td>\n",
       "      <td>0.489578</td>\n",
       "    </tr>\n",
       "    <tr>\n",
       "      <th>3</th>\n",
       "      <td>Hispanic</td>\n",
       "      <td>0.503951</td>\n",
       "    </tr>\n",
       "  </tbody>\n",
       "</table>\n",
       "</div>"
      ],
      "text/plain": [
       "       Race  Avg Score\n",
       "0  Asian     0.467126 \n",
       "1  White     0.478442 \n",
       "2  Black     0.489578 \n",
       "3  Hispanic  0.503951 "
      ]
     },
     "execution_count": 14,
     "metadata": {},
     "output_type": "execute_result"
    }
   ],
   "source": [
    "pd.DataFrame(race_data.items(), columns=['Race', 'Avg Score'])"
   ]
  },
  {
   "cell_type": "markdown",
   "metadata": {},
   "source": [
    "# Race and Gender"
   ]
  },
  {
   "cell_type": "code",
   "execution_count": 15,
   "metadata": {},
   "outputs": [],
   "source": [
    "race_gender_scores = {}\n",
    "for race, gender, text in zip(data['Complainant Race'], data['Complainant Gender'], data['Text Content']):\n",
    "    clean = clean_text(text)\n",
    "    if race == 'Native American/Alaskan Native':\n",
    "        # Not enough examples to confidently include\n",
    "        continue\n",
    "    elif race == 'Asian/Pacific Islander':\n",
    "        race = 'Asian'\n",
    "    elif float in [type(race), type(gender)]:\n",
    "        continue\n",
    "        \n",
    "    key = race + '_' + gender\n",
    "    \n",
    "    if key not in race_gender_scores:\n",
    "        race_gender_scores[key] = {\n",
    "            'total_score': 0,\n",
    "            'count': 0\n",
    "        }\n",
    "    \n",
    "    scores = sid.polarity_scores(clean)\n",
    "    \n",
    "    race_gender_scores[key]['count'] += 1\n",
    "    race_gender_scores[key]['total_score'] += scores['compound']"
   ]
  },
  {
   "cell_type": "code",
   "execution_count": 16,
   "metadata": {},
   "outputs": [],
   "source": [
    "race_gender_data = dict(sorted([\n",
    "    (key, -1 * race_gender_scores[key]['total_score'] / race_gender_scores[key]['count'])\n",
    "    for key in race_gender_scores if type(key) == str\n",
    "], key=lambda item: item[1]))"
   ]
  },
  {
   "cell_type": "code",
   "execution_count": 17,
   "metadata": {},
   "outputs": [
    {
     "data": {
      "text/plain": [
       "<BarContainer object of 8 artists>"
      ]
     },
     "execution_count": 17,
     "metadata": {},
     "output_type": "execute_result"
    },
    {
     "data": {
      "image/png": "[encoded data removed]",
      "text/plain": [
       "<Figure size 720x288 with 1 Axes>"
      ]
     },
     "metadata": {
      "needs_background": "light"
     },
     "output_type": "display_data"
    }
   ],
   "source": [
    "plt.figure(figsize=(10, 4))\n",
    "plt.suptitle('Negative Sentiment of Complaints by Race and Gender of Complainant')\n",
    "plt.ylim([0.42, 0.53])\n",
    "plt.bar(race_gender_data.keys(), [race_gender_data[key] for key in race_gender_data])"
   ]
  },
  {
   "cell_type": "code",
   "execution_count": 18,
   "metadata": {},
   "outputs": [
    {
     "data": {
      "text/html": [
       "<div>\n",
       "<style scoped>\n",
       "    .dataframe tbody tr th:only-of-type {\n",
       "        vertical-align: middle;\n",
       "    }\n",
       "\n",
       "    .dataframe tbody tr th {\n",
       "        vertical-align: top;\n",
       "    }\n",
       "\n",
       "    .dataframe thead th {\n",
       "        text-align: right;\n",
       "    }\n",
       "</style>\n",
       "<table border=\"1\" class=\"dataframe\">\n",
       "  <thead>\n",
       "    <tr style=\"text-align: right;\">\n",
       "      <th></th>\n",
       "      <th>Race</th>\n",
       "      <th>Avg Score</th>\n",
       "    </tr>\n",
       "  </thead>\n",
       "  <tbody>\n",
       "    <tr>\n",
       "      <th>0</th>\n",
       "      <td>Asian_F</td>\n",
       "      <td>0.453001</td>\n",
       "    </tr>\n",
       "    <tr>\n",
       "      <th>1</th>\n",
       "      <td>White_F</td>\n",
       "      <td>0.472198</td>\n",
       "    </tr>\n",
       "    <tr>\n",
       "      <th>2</th>\n",
       "      <td>Asian_M</td>\n",
       "      <td>0.472570</td>\n",
       "    </tr>\n",
       "    <tr>\n",
       "      <th>3</th>\n",
       "      <td>White_M</td>\n",
       "      <td>0.481604</td>\n",
       "    </tr>\n",
       "    <tr>\n",
       "      <th>4</th>\n",
       "      <td>Black_M</td>\n",
       "      <td>0.482587</td>\n",
       "    </tr>\n",
       "    <tr>\n",
       "      <th>5</th>\n",
       "      <td>Hispanic_M</td>\n",
       "      <td>0.490032</td>\n",
       "    </tr>\n",
       "    <tr>\n",
       "      <th>6</th>\n",
       "      <td>Black_F</td>\n",
       "      <td>0.496370</td>\n",
       "    </tr>\n",
       "    <tr>\n",
       "      <th>7</th>\n",
       "      <td>Hispanic_F</td>\n",
       "      <td>0.524962</td>\n",
       "    </tr>\n",
       "  </tbody>\n",
       "</table>\n",
       "</div>"
      ],
      "text/plain": [
       "         Race  Avg Score\n",
       "0  Asian_F     0.453001 \n",
       "1  White_F     0.472198 \n",
       "2  Asian_M     0.472570 \n",
       "3  White_M     0.481604 \n",
       "4  Black_M     0.482587 \n",
       "5  Hispanic_M  0.490032 \n",
       "6  Black_F     0.496370 \n",
       "7  Hispanic_F  0.524962 "
      ]
     },
     "execution_count": 18,
     "metadata": {},
     "output_type": "execute_result"
    }
   ],
   "source": [
    "pd.DataFrame(race_gender_data.items(), columns=['Race', 'Avg Score'])"
   ]
  },
  {
   "cell_type": "markdown",
   "metadata": {},
   "source": [
    "# Linear Regression\n",
    "\n",
    "To perform regression, first we will limit the number of unique categorical values in our data, so that we have a reasonable number of features when we later perform one-hot encoding. We start with limiting ourselves to the top ten most frequently occurring areas."
   ]
  },
  {
   "cell_type": "code",
   "execution_count": 19,
   "metadata": {},
   "outputs": [
    {
     "data": {
      "text/plain": [
       "['Austin',\n",
       " 'Auburn Gresham',\n",
       " 'Loop',\n",
       " 'Near North Side',\n",
       " 'North Lawndale',\n",
       " 'West Englewood',\n",
       " 'South Shore',\n",
       " 'Near West Side',\n",
       " 'Woodlawn',\n",
       " 'Humboldt Park']"
      ]
     },
     "execution_count": 19,
     "metadata": {},
     "output_type": "execute_result"
    }
   ],
   "source": [
    "frequent_areas = data['Area Name'].value_counts()[:10].index.tolist()\n",
    "\n",
    "frequent_areas"
   ]
  },
  {
   "cell_type": "code",
   "execution_count": 20,
   "metadata": {},
   "outputs": [
    {
     "name": "stderr",
     "output_type": "stream",
     "text": [
      "<ipython-input-20-1fe1062a7d55>:5: SettingWithCopyWarning: \n",
      "A value is trying to be set on a copy of a slice from a DataFrame.\n",
      "Try using .loc[row_indexer,col_indexer] = value instead\n",
      "\n",
      "See the caveats in the documentation: https://pandas.pydata.org/pandas-docs/stable/user_guide/indexing.html#returning-a-view-versus-a-copy\n",
      "  filtered_df['Median Income'] = filtered_df['Median Income'].map(lambda x: float(re.sub(\"[^0-9]\", \"\", x)))\n"
     ]
    },
    {
     "data": {
      "text/html": [
       "<div>\n",
       "<style scoped>\n",
       "    .dataframe tbody tr th:only-of-type {\n",
       "        vertical-align: middle;\n",
       "    }\n",
       "\n",
       "    .dataframe tbody tr th {\n",
       "        vertical-align: top;\n",
       "    }\n",
       "\n",
       "    .dataframe thead th {\n",
       "        text-align: right;\n",
       "    }\n",
       "</style>\n",
       "<table border=\"1\" class=\"dataframe\">\n",
       "  <thead>\n",
       "    <tr style=\"text-align: right;\">\n",
       "      <th></th>\n",
       "      <th>Allegation ID</th>\n",
       "      <th>Section Name</th>\n",
       "      <th>Column Name</th>\n",
       "      <th>Text Content</th>\n",
       "      <th>Area Name</th>\n",
       "      <th>Median Income</th>\n",
       "      <th>Complainant Gender</th>\n",
       "      <th>Complainant Race</th>\n",
       "      <th>Complainant Birth Year</th>\n",
       "    </tr>\n",
       "  </thead>\n",
       "  <tbody>\n",
       "    <tr>\n",
       "      <th>6</th>\n",
       "      <td>1075895</td>\n",
       "      <td>Accused Members</td>\n",
       "      <td>Initial / Intake Allegation</td>\n",
       "      <td>the complainant alleged that the accused officer falsely issued parking tickets to her and her friend, the complainant stated that they were issued tickets for not having parking permits when both vehicles had the permits displayed</td>\n",
       "      <td>Near West Side</td>\n",
       "      <td>71663.0</td>\n",
       "      <td>F</td>\n",
       "      <td>Asian/Pacific Islander</td>\n",
       "      <td>1993.0</td>\n",
       "    </tr>\n",
       "    <tr>\n",
       "      <th>21</th>\n",
       "      <td>1067568</td>\n",
       "      <td>Accused Members</td>\n",
       "      <td>Initial / Intake Allegation</td>\n",
       "      <td>the reporting party alleged that the accused officers falsely arrested him for three bags of heroin. it is further alleged that the accused officers searched and impounded his vehicle without justification</td>\n",
       "      <td>Austin</td>\n",
       "      <td>31478.0</td>\n",
       "      <td>M</td>\n",
       "      <td>Black</td>\n",
       "      <td>1988.0</td>\n",
       "    </tr>\n",
       "    <tr>\n",
       "      <th>23</th>\n",
       "      <td>1067568</td>\n",
       "      <td>Current Allegations</td>\n",
       "      <td>Allegation</td>\n",
       "      <td>the reporting party alleged that on 11 february 2014, at 1100 hours, at 5 unknown officers in civilian attire, in unmarked squad cars falsely arrested him and searched and impounded his vehicle without justification. the reporting party alleged that on 11 february 2014, at 1100 hours, at 5 unknown officers in civilian attire, in unmarked squad cars falsely arrested him and searched and impounded his vehicle without justification. the reporting party alleged that on 11 february 2014, at 1100 hours, at ___ 5 unknown officers in civilian attire, in unmarked squad cars falsely arrested him and searched and impounded his vehicle without justification. the reporting party alleged that on 11 february 2014, at 1100 hours, at 5 unknown officers in civilian attire, in unmarked squad cars falsely arrested him and searched and impounded his vehicle without justification the reporting party alleged that on 11 february 2014, at 1100 hours, at 5 unknown officers in civilian attire, in unmarked squad cars falsely arrested him and searched and impounded his vehicle without justification</td>\n",
       "      <td>Austin</td>\n",
       "      <td>31478.0</td>\n",
       "      <td>M</td>\n",
       "      <td>Black</td>\n",
       "      <td>1988.0</td>\n",
       "    </tr>\n",
       "    <tr>\n",
       "      <th>32</th>\n",
       "      <td>1069205</td>\n",
       "      <td>Accused Members</td>\n",
       "      <td>Initial / Intake Allegation</td>\n",
       "      <td>the reporting party alleged that the accused officers are following her and allowing crime to occur</td>\n",
       "      <td>Loop</td>\n",
       "      <td>91851.0</td>\n",
       "      <td>NaN</td>\n",
       "      <td>NaN</td>\n",
       "      <td>NaN</td>\n",
       "    </tr>\n",
       "    <tr>\n",
       "      <th>44</th>\n",
       "      <td>1067675</td>\n",
       "      <td>Accused Members</td>\n",
       "      <td>Initial / Intake Allegation</td>\n",
       "      <td>threatened to shoot people without justification</td>\n",
       "      <td>Loop</td>\n",
       "      <td>91851.0</td>\n",
       "      <td>NaN</td>\n",
       "      <td>NaN</td>\n",
       "      <td>NaN</td>\n",
       "    </tr>\n",
       "    <tr>\n",
       "      <th>...</th>\n",
       "      <td>...</td>\n",
       "      <td>...</td>\n",
       "      <td>...</td>\n",
       "      <td>...</td>\n",
       "      <td>...</td>\n",
       "      <td>...</td>\n",
       "      <td>...</td>\n",
       "      <td>...</td>\n",
       "      <td>...</td>\n",
       "    </tr>\n",
       "    <tr>\n",
       "      <th>47675</th>\n",
       "      <td>1063398</td>\n",
       "      <td>Accused Members</td>\n",
       "      <td>Initial / Intake Allegation</td>\n",
       "      <td>the complainant alleges that the accused officer searched him inappropriately</td>\n",
       "      <td>North Lawndale</td>\n",
       "      <td>22132.0</td>\n",
       "      <td>M</td>\n",
       "      <td>Black</td>\n",
       "      <td>1977.0</td>\n",
       "    </tr>\n",
       "    <tr>\n",
       "      <th>47677</th>\n",
       "      <td>1063398</td>\n",
       "      <td>Current Allegations</td>\n",
       "      <td>Allegation</td>\n",
       "      <td>reynaldo sei documented u time as inmate alleges that on 30 january 2013, 1050 hours, at rrat! hed him inappropriately. note, this is is now serving chicago police department officer</td>\n",
       "      <td>North Lawndale</td>\n",
       "      <td>22132.0</td>\n",
       "      <td>M</td>\n",
       "      <td>Black</td>\n",
       "      <td>1977.0</td>\n",
       "    </tr>\n",
       "    <tr>\n",
       "      <th>47693</th>\n",
       "      <td>1057069</td>\n",
       "      <td>Accused Members</td>\n",
       "      <td>Initial / Intake Allegation</td>\n",
       "      <td>the complainant alleges that the accused officer issued him six citations without justification. the complainant alleges that the accused officer searched his establishment without justification. the complainant alleges that the accused officers searched his establishment without justification.  the complainant alleges that the accused officer informed him that he was responding to a call of patrons in the street which the victim stated was incorrect. the complainant alleges that the accused officer threatened to lock the victim and his patrons up. the complainant alleges that the accused threatened to beat their \"ass\" and shut his establishment down</td>\n",
       "      <td>Austin</td>\n",
       "      <td>31478.0</td>\n",
       "      <td>M</td>\n",
       "      <td>Black</td>\n",
       "      <td>1958.0</td>\n",
       "    </tr>\n",
       "    <tr>\n",
       "      <th>47695</th>\n",
       "      <td>1057069</td>\n",
       "      <td>Current Allegations</td>\n",
       "      <td>Allegation</td>\n",
       "      <td>ails) victim/offender situation armed? weapon types</td>\n",
       "      <td>Austin</td>\n",
       "      <td>31478.0</td>\n",
       "      <td>M</td>\n",
       "      <td>Black</td>\n",
       "      <td>1958.0</td>\n",
       "    </tr>\n",
       "    <tr>\n",
       "      <th>47696</th>\n",
       "      <td>1057069</td>\n",
       "      <td>Accused Members</td>\n",
       "      <td>Initial / Intake Allegation</td>\n",
       "      <td>the complainant alleges that the accused officer issued him six citations without justification. the complainant alleges that the accused officer searched his establishment without justification.  the complainant alleges that the accused officers searched his establishment without justification. the complainant alleges that the accused officer informed him that he was responding to a call of patrons in the street which the victim stated was incorrect. the complainant alleges that the accused officer threatened to lock the victim and his patrons up. the complainant alleges that the accused threatened to beat their \"ass\" and shut his establishment down</td>\n",
       "      <td>Austin</td>\n",
       "      <td>31478.0</td>\n",
       "      <td>M</td>\n",
       "      <td>Black</td>\n",
       "      <td>1958.0</td>\n",
       "    </tr>\n",
       "  </tbody>\n",
       "</table>\n",
       "<p>7477 rows × 9 columns</p>\n",
       "</div>"
      ],
      "text/plain": [
       "       Allegation ID         Section Name                  Column Name  \\\n",
       "6      1075895        Accused Members      Initial / Intake Allegation   \n",
       "21     1067568        Accused Members      Initial / Intake Allegation   \n",
       "23     1067568        Current Allegations  Allegation                    \n",
       "32     1069205        Accused Members      Initial / Intake Allegation   \n",
       "44     1067675        Accused Members      Initial / Intake Allegation   \n",
       "...        ...                    ...                              ...   \n",
       "47675  1063398        Accused Members      Initial / Intake Allegation   \n",
       "47677  1063398        Current Allegations  Allegation                    \n",
       "47693  1057069        Accused Members      Initial / Intake Allegation   \n",
       "47695  1057069        Current Allegations  Allegation                    \n",
       "47696  1057069        Accused Members      Initial / Intake Allegation   \n",
       "\n",
       "                                                                                                                                                                                                                                                                                                                                                                                                                                                                                                                                                                                                                                                                                                                                                                                                                                                                                                                                                                                                                                                                                                                           Text Content  \\\n",
       "6      the complainant alleged that the accused officer falsely issued parking tickets to her and her friend, the complainant stated that they were issued tickets for not having parking permits when both vehicles had the permits displayed                                                                                                                                                                                                                                                                                                                                                                                                                                                                                                                                                                                                                                                                                                                                                                                                                                                                                            \n",
       "21     the reporting party alleged that the accused officers falsely arrested him for three bags of heroin. it is further alleged that the accused officers searched and impounded his vehicle without justification                                                                                                                                                                                                                                                                                                                                                                                                                                                                                                                                                                                                                                                                                                                                                                                                                                                                                                                      \n",
       "23       the reporting party alleged that on 11 february 2014, at 1100 hours, at 5 unknown officers in civilian attire, in unmarked squad cars falsely arrested him and searched and impounded his vehicle without justification. the reporting party alleged that on 11 february 2014, at 1100 hours, at 5 unknown officers in civilian attire, in unmarked squad cars falsely arrested him and searched and impounded his vehicle without justification. the reporting party alleged that on 11 february 2014, at 1100 hours, at ___ 5 unknown officers in civilian attire, in unmarked squad cars falsely arrested him and searched and impounded his vehicle without justification. the reporting party alleged that on 11 february 2014, at 1100 hours, at 5 unknown officers in civilian attire, in unmarked squad cars falsely arrested him and searched and impounded his vehicle without justification the reporting party alleged that on 11 february 2014, at 1100 hours, at 5 unknown officers in civilian attire, in unmarked squad cars falsely arrested him and searched and impounded his vehicle without justification   \n",
       "32     the reporting party alleged that the accused officers are following her and allowing crime to occur                                                                                                                                                                                                                                                                                                                                                                                                                                                                                                                                                                                                                                                                                                                                                                                                                                                                                                                                                                                                                                \n",
       "44     threatened to shoot people without justification                                                                                                                                                                                                                                                                                                                                                                                                                                                                                                                                                                                                                                                                                                                                                                                                                                                                                                                                                                                                                                                                                   \n",
       "...                                                 ...                                                                                                                                                                                                                                                                                                                                                                                                                                                                                                                                                                                                                                                                                                                                                                                                                                                                                                                                                                                                                                                                                   \n",
       "47675  the complainant alleges that the accused officer searched him inappropriately                                                                                                                                                                                                                                                                                                                                                                                                                                                                                                                                                                                                                                                                                                                                                                                                                                                                                                                                                                                                                                                      \n",
       "47677  reynaldo sei documented u time as inmate alleges that on 30 january 2013, 1050 hours, at rrat! hed him inappropriately. note, this is is now serving chicago police department officer                                                                                                                                                                                                                                                                                                                                                                                                                                                                                                                                                                                                                                                                                                                                                                                                                                                                                                                                             \n",
       "47693  the complainant alleges that the accused officer issued him six citations without justification. the complainant alleges that the accused officer searched his establishment without justification. the complainant alleges that the accused officers searched his establishment without justification.  the complainant alleges that the accused officer informed him that he was responding to a call of patrons in the street which the victim stated was incorrect. the complainant alleges that the accused officer threatened to lock the victim and his patrons up. the complainant alleges that the accused threatened to beat their \"ass\" and shut his establishment down                                                                                                                                                                                                                                                                                                                                                                                                                                                 \n",
       "47695  ails) victim/offender situation armed? weapon types                                                                                                                                                                                                                                                                                                                                                                                                                                                                                                                                                                                                                                                                                                                                                                                                                                                                                                                                                                                                                                                                                \n",
       "47696  the complainant alleges that the accused officer issued him six citations without justification. the complainant alleges that the accused officer searched his establishment without justification.  the complainant alleges that the accused officers searched his establishment without justification. the complainant alleges that the accused officer informed him that he was responding to a call of patrons in the street which the victim stated was incorrect. the complainant alleges that the accused officer threatened to lock the victim and his patrons up. the complainant alleges that the accused threatened to beat their \"ass\" and shut his establishment down                                                                                                                                                                                                                                                                                                                                                                                                                                                 \n",
       "\n",
       "            Area Name  Median Income Complainant Gender  \\\n",
       "6      Near West Side  71663.0        F                   \n",
       "21     Austin          31478.0        M                   \n",
       "23     Austin          31478.0        M                   \n",
       "32     Loop            91851.0        NaN                 \n",
       "44     Loop            91851.0        NaN                 \n",
       "...     ...                ...        ...                 \n",
       "47675  North Lawndale  22132.0        M                   \n",
       "47677  North Lawndale  22132.0        M                   \n",
       "47693  Austin          31478.0        M                   \n",
       "47695  Austin          31478.0        M                   \n",
       "47696  Austin          31478.0        M                   \n",
       "\n",
       "             Complainant Race  Complainant Birth Year  \n",
       "6      Asian/Pacific Islander  1993.0                  \n",
       "21     Black                   1988.0                  \n",
       "23     Black                   1988.0                  \n",
       "32     NaN                    NaN                      \n",
       "44     NaN                    NaN                      \n",
       "...    ...                     ..                      \n",
       "47675  Black                   1977.0                  \n",
       "47677  Black                   1977.0                  \n",
       "47693  Black                   1958.0                  \n",
       "47695  Black                   1958.0                  \n",
       "47696  Black                   1958.0                  \n",
       "\n",
       "[7477 rows x 9 columns]"
      ]
     },
     "execution_count": 20,
     "metadata": {},
     "output_type": "execute_result"
    }
   ],
   "source": [
    "out = data['Area Name'].isin(frequent_areas)\n",
    "\n",
    "filtered_df = data[out]\n",
    "\n",
    "filtered_df['Median Income'] = filtered_df['Median Income'].map(lambda x: float(re.sub(\"[^0-9]\", \"\", x)))\n",
    "\n",
    "filtered_df"
   ]
  },
  {
   "cell_type": "code",
   "execution_count": 21,
   "metadata": {},
   "outputs": [
    {
     "name": "stdout",
     "output_type": "stream",
     "text": [
      "[[7.1663e+04 1.9930e+03 0.0000e+00 0.0000e+00 0.0000e+00 0.0000e+00\n",
      "  0.0000e+00 1.0000e+00 0.0000e+00 0.0000e+00 0.0000e+00 0.0000e+00\n",
      "  1.0000e+00 0.0000e+00 1.0000e+00 0.0000e+00 0.0000e+00 0.0000e+00\n",
      "  0.0000e+00]\n",
      " [3.1478e+04 1.9880e+03 0.0000e+00 1.0000e+00 0.0000e+00 0.0000e+00\n",
      "  0.0000e+00 0.0000e+00 0.0000e+00 0.0000e+00 0.0000e+00 0.0000e+00\n",
      "  0.0000e+00 1.0000e+00 0.0000e+00 1.0000e+00 0.0000e+00 0.0000e+00\n",
      "  0.0000e+00]\n",
      " [3.1478e+04 1.9880e+03 0.0000e+00 1.0000e+00 0.0000e+00 0.0000e+00\n",
      "  0.0000e+00 0.0000e+00 0.0000e+00 0.0000e+00 0.0000e+00 0.0000e+00\n",
      "  0.0000e+00 1.0000e+00 0.0000e+00 1.0000e+00 0.0000e+00 0.0000e+00\n",
      "  0.0000e+00]\n",
      " [9.1851e+04 0.0000e+00 0.0000e+00 0.0000e+00 0.0000e+00 1.0000e+00\n",
      "  0.0000e+00 0.0000e+00 0.0000e+00 0.0000e+00 0.0000e+00 0.0000e+00\n",
      "  0.0000e+00 0.0000e+00 0.0000e+00 0.0000e+00 0.0000e+00 0.0000e+00\n",
      "  0.0000e+00]\n",
      " [9.1851e+04 0.0000e+00 0.0000e+00 0.0000e+00 0.0000e+00 1.0000e+00\n",
      "  0.0000e+00 0.0000e+00 0.0000e+00 0.0000e+00 0.0000e+00 0.0000e+00\n",
      "  0.0000e+00 0.0000e+00 0.0000e+00 0.0000e+00 0.0000e+00 0.0000e+00\n",
      "  0.0000e+00]\n",
      " [9.1851e+04 0.0000e+00 0.0000e+00 0.0000e+00 0.0000e+00 1.0000e+00\n",
      "  0.0000e+00 0.0000e+00 0.0000e+00 0.0000e+00 0.0000e+00 0.0000e+00\n",
      "  0.0000e+00 0.0000e+00 0.0000e+00 0.0000e+00 0.0000e+00 0.0000e+00\n",
      "  0.0000e+00]\n",
      " [3.1478e+04 1.9910e+03 0.0000e+00 1.0000e+00 0.0000e+00 0.0000e+00\n",
      "  0.0000e+00 0.0000e+00 0.0000e+00 0.0000e+00 0.0000e+00 0.0000e+00\n",
      "  1.0000e+00 0.0000e+00 0.0000e+00 1.0000e+00 0.0000e+00 0.0000e+00\n",
      "  0.0000e+00]\n",
      " [3.1478e+04 1.9910e+03 0.0000e+00 1.0000e+00 0.0000e+00 0.0000e+00\n",
      "  0.0000e+00 0.0000e+00 0.0000e+00 0.0000e+00 0.0000e+00 0.0000e+00\n",
      "  1.0000e+00 0.0000e+00 0.0000e+00 1.0000e+00 0.0000e+00 0.0000e+00\n",
      "  0.0000e+00]\n",
      " [9.1851e+04 0.0000e+00 0.0000e+00 0.0000e+00 0.0000e+00 1.0000e+00\n",
      "  0.0000e+00 0.0000e+00 0.0000e+00 0.0000e+00 0.0000e+00 0.0000e+00\n",
      "  1.0000e+00 0.0000e+00 0.0000e+00 0.0000e+00 0.0000e+00 0.0000e+00\n",
      "  1.0000e+00]\n",
      " [2.5845e+04 1.9770e+03 0.0000e+00 0.0000e+00 0.0000e+00 0.0000e+00\n",
      "  0.0000e+00 0.0000e+00 0.0000e+00 1.0000e+00 0.0000e+00 0.0000e+00\n",
      "  1.0000e+00 0.0000e+00 0.0000e+00 1.0000e+00 0.0000e+00 0.0000e+00\n",
      "  0.0000e+00]]\n",
      "Index(['Median Income', 'Complainant Birth Year', 'Area Name_Auburn Gresham',\n",
      "       'Area Name_Austin', 'Area Name_Humboldt Park', 'Area Name_Loop',\n",
      "       'Area Name_Near North Side', 'Area Name_Near West Side',\n",
      "       'Area Name_North Lawndale', 'Area Name_South Shore',\n",
      "       'Area Name_West Englewood', 'Area Name_Woodlawn',\n",
      "       'Complainant Gender_F', 'Complainant Gender_M',\n",
      "       'Complainant Race_Asian/Pacific Islander', 'Complainant Race_Black',\n",
      "       'Complainant Race_Hispanic',\n",
      "       'Complainant Race_Native American/Alaskan Native',\n",
      "       'Complainant Race_White'],\n",
      "      dtype='object')\n"
     ]
    }
   ],
   "source": [
    "# headers = [\"Allegation ID\", \"Section Name\", \"Column Name\", \"Text Content\", \"Area Name\", \"Median Income\", \"Complainant Gender\", \"Complainant Race\", \"Complainant Birth Year\"]\n",
    "\n",
    "X = filtered_df.drop(columns=[\"Allegation ID\", \"Section Name\", \"Column Name\", \"Text Content\"]) # These don't tell us much about the nature of the complaint, but are mostly used to organize data\n",
    "\n",
    "X = pd.get_dummies(X, columns=[\"Area Name\", \"Complainant Gender\", \"Complainant Race\"]) # These are the categorical variables that we need to one-hot encode for regression. Change this if you have a better implementation\n",
    "\n",
    "features = X.columns\n",
    "\n",
    "X = np.nan_to_num(X.to_numpy())\n",
    "\n",
    "print(X[:10])\n",
    "\n",
    "print(features)"
   ]
  },
  {
   "cell_type": "code",
   "execution_count": 22,
   "metadata": {},
   "outputs": [],
   "source": [
    "y = list(filtered_df['Text Content'])\n",
    "y = np.asarray([sid.polarity_scores(txt)['compound'] for txt in y])"
   ]
  },
  {
   "cell_type": "code",
   "execution_count": 23,
   "metadata": {},
   "outputs": [
    {
     "data": {
      "text/plain": [
       "array([-0.1027, -0.7906, -0.4588, -0.4588, -0.6597, -0.765 ,  0.    ,\n",
       "        0.34  , -0.875 , -0.6597])"
      ]
     },
     "execution_count": 23,
     "metadata": {},
     "output_type": "execute_result"
    }
   ],
   "source": [
    "y[:10] # sample of negative sentiments."
   ]
  },
  {
   "cell_type": "code",
   "execution_count": 24,
   "metadata": {
    "scrolled": true
   },
   "outputs": [
    {
     "name": "stdout",
     "output_type": "stream",
     "text": [
      "(7477,)\n",
      "(7477, 19)\n"
     ]
    }
   ],
   "source": [
    "print(y.shape)\n",
    "print(X.shape)"
   ]
  },
  {
   "cell_type": "code",
   "execution_count": 25,
   "metadata": {},
   "outputs": [],
   "source": [
    "y_train = y[:5600]\n",
    "y_test = y[5600:]\n",
    "\n",
    "X_train = X[:5600]\n",
    "X_test = X[5600:]"
   ]
  },
  {
   "cell_type": "code",
   "execution_count": 26,
   "metadata": {
    "scrolled": true
   },
   "outputs": [
    {
     "data": {
      "text/plain": [
       "LinearRegression()"
      ]
     },
     "execution_count": 26,
     "metadata": {},
     "output_type": "execute_result"
    }
   ],
   "source": [
    "reg.fit(X_train,y_train)"
   ]
  },
  {
   "cell_type": "markdown",
   "metadata": {},
   "source": [
    "These were the final coefficients we achieved for each feature."
   ]
  },
  {
   "cell_type": "code",
   "execution_count": 27,
   "metadata": {},
   "outputs": [
    {
     "data": {
      "text/html": [
       "<div>\n",
       "<style scoped>\n",
       "    .dataframe tbody tr th:only-of-type {\n",
       "        vertical-align: middle;\n",
       "    }\n",
       "\n",
       "    .dataframe tbody tr th {\n",
       "        vertical-align: top;\n",
       "    }\n",
       "\n",
       "    .dataframe thead th {\n",
       "        text-align: right;\n",
       "    }\n",
       "</style>\n",
       "<table border=\"1\" class=\"dataframe\">\n",
       "  <thead>\n",
       "    <tr style=\"text-align: right;\">\n",
       "      <th></th>\n",
       "      <th>0</th>\n",
       "    </tr>\n",
       "  </thead>\n",
       "  <tbody>\n",
       "    <tr>\n",
       "      <th>Median Income</th>\n",
       "      <td>0.0000</td>\n",
       "    </tr>\n",
       "    <tr>\n",
       "      <th>Complainant Birth Year</th>\n",
       "      <td>0.0000</td>\n",
       "    </tr>\n",
       "    <tr>\n",
       "      <th>Area Name_Auburn Gresham</th>\n",
       "      <td>-0.0052</td>\n",
       "    </tr>\n",
       "    <tr>\n",
       "      <th>Area Name_Austin</th>\n",
       "      <td>-0.0015</td>\n",
       "    </tr>\n",
       "    <tr>\n",
       "      <th>Area Name_Humboldt Park</th>\n",
       "      <td>0.0008</td>\n",
       "    </tr>\n",
       "    <tr>\n",
       "      <th>Area Name_Loop</th>\n",
       "      <td>-0.0027</td>\n",
       "    </tr>\n",
       "    <tr>\n",
       "      <th>Area Name_Near North Side</th>\n",
       "      <td>-0.0139</td>\n",
       "    </tr>\n",
       "    <tr>\n",
       "      <th>Area Name_Near West Side</th>\n",
       "      <td>0.0249</td>\n",
       "    </tr>\n",
       "    <tr>\n",
       "      <th>Area Name_North Lawndale</th>\n",
       "      <td>0.0357</td>\n",
       "    </tr>\n",
       "    <tr>\n",
       "      <th>Area Name_South Shore</th>\n",
       "      <td>-0.0510</td>\n",
       "    </tr>\n",
       "    <tr>\n",
       "      <th>Area Name_West Englewood</th>\n",
       "      <td>0.0001</td>\n",
       "    </tr>\n",
       "    <tr>\n",
       "      <th>Area Name_Woodlawn</th>\n",
       "      <td>0.0128</td>\n",
       "    </tr>\n",
       "    <tr>\n",
       "      <th>Complainant Gender_F</th>\n",
       "      <td>-0.0409</td>\n",
       "    </tr>\n",
       "    <tr>\n",
       "      <th>Complainant Gender_M</th>\n",
       "      <td>-0.0271</td>\n",
       "    </tr>\n",
       "    <tr>\n",
       "      <th>Complainant Race_Asian/Pacific Islander</th>\n",
       "      <td>0.1087</td>\n",
       "    </tr>\n",
       "    <tr>\n",
       "      <th>Complainant Race_Black</th>\n",
       "      <td>0.0261</td>\n",
       "    </tr>\n",
       "    <tr>\n",
       "      <th>Complainant Race_Hispanic</th>\n",
       "      <td>-0.0235</td>\n",
       "    </tr>\n",
       "    <tr>\n",
       "      <th>Complainant Race_Native American/Alaskan Native</th>\n",
       "      <td>-0.3174</td>\n",
       "    </tr>\n",
       "    <tr>\n",
       "      <th>Complainant Race_White</th>\n",
       "      <td>0.0289</td>\n",
       "    </tr>\n",
       "  </tbody>\n",
       "</table>\n",
       "</div>"
      ],
      "text/plain": [
       "                                                      0\n",
       "Median Income                                    0.0000\n",
       "Complainant Birth Year                           0.0000\n",
       "Area Name_Auburn Gresham                        -0.0052\n",
       "Area Name_Austin                                -0.0015\n",
       "Area Name_Humboldt Park                          0.0008\n",
       "Area Name_Loop                                  -0.0027\n",
       "Area Name_Near North Side                       -0.0139\n",
       "Area Name_Near West Side                         0.0249\n",
       "Area Name_North Lawndale                         0.0357\n",
       "Area Name_South Shore                           -0.0510\n",
       "Area Name_West Englewood                         0.0001\n",
       "Area Name_Woodlawn                               0.0128\n",
       "Complainant Gender_F                            -0.0409\n",
       "Complainant Gender_M                            -0.0271\n",
       "Complainant Race_Asian/Pacific Islander          0.1087\n",
       "Complainant Race_Black                           0.0261\n",
       "Complainant Race_Hispanic                       -0.0235\n",
       "Complainant Race_Native American/Alaskan Native -0.3174\n",
       "Complainant Race_White                           0.0289"
      ]
     },
     "execution_count": 27,
     "metadata": {},
     "output_type": "execute_result"
    }
   ],
   "source": [
    "pd.DataFrame([round(c, 4) for c in reg.coef_], index = features)"
   ]
  },
  {
   "cell_type": "markdown",
   "metadata": {},
   "source": [
    "# Significance of Difference in Sentiments"
   ]
  },
  {
   "cell_type": "code",
   "execution_count": 28,
   "metadata": {},
   "outputs": [],
   "source": [
    "from scipy.stats import ttest_ind"
   ]
  },
  {
   "cell_type": "code",
   "execution_count": 29,
   "metadata": {
    "scrolled": true
   },
   "outputs": [],
   "source": [
    "cat = filtered_df.drop(columns=[\"Allegation ID\", \"Section Name\", \"Column Name\", \"Text Content\"])\n",
    "cat = np.nan_to_num(cat.to_numpy())\n",
    "\n",
    "y = list(filtered_df['Text Content'])\n",
    "y = np.asarray([sid.polarity_scores(txt)['compound'] for txt in y])"
   ]
  },
  {
   "cell_type": "code",
   "execution_count": 30,
   "metadata": {},
   "outputs": [],
   "source": [
    "sent_F = y[np.where(cat[:,2]=='F')]\n",
    "sent_M = y[np.where(cat[:,2]=='M')]"
   ]
  },
  {
   "cell_type": "code",
   "execution_count": 31,
   "metadata": {
    "scrolled": true
   },
   "outputs": [
    {
     "data": {
      "image/png": "[encoded data removed]",
      "text/plain": [
       "<Figure size 432x288 with 1 Axes>"
      ]
     },
     "metadata": {
      "needs_background": "light"
     },
     "output_type": "display_data"
    }
   ],
   "source": [
    "plt.boxplot([sent_F, sent_M], labels=['Female', 'Male'])\n",
    "plt.show()"
   ]
  },
  {
   "cell_type": "code",
   "execution_count": 32,
   "metadata": {},
   "outputs": [
    {
     "data": {
      "text/plain": [
       "Ttest_indResult(statistic=-0.7373886557814943, pvalue=0.4609098035963891)"
      ]
     },
     "execution_count": 32,
     "metadata": {},
     "output_type": "execute_result"
    }
   ],
   "source": [
    "# P value between male and female complaint sentiments\n",
    "ttest_ind(sent_F, sent_M)"
   ]
  },
  {
   "cell_type": "code",
   "execution_count": 33,
   "metadata": {},
   "outputs": [],
   "source": [
    "sent_black = y[np.where(cat[:,3]=='Black')]\n",
    "sent_white = y[np.where(cat[:,3]=='White')]\n",
    "sent_hispanic = y[np.where(cat[:,3]=='Hispanic')]\n",
    "sent_asian = y[np.where(cat[:,3]=='Asian/Pacific Islander')]"
   ]
  },
  {
   "cell_type": "code",
   "execution_count": 34,
   "metadata": {},
   "outputs": [
    {
     "data": {
      "image/png": "[encoded data removed]",
      "text/plain": [
       "<Figure size 432x288 with 1 Axes>"
      ]
     },
     "metadata": {
      "needs_background": "light"
     },
     "output_type": "display_data"
    }
   ],
   "source": [
    "plt.boxplot([sent_black, sent_white, sent_hispanic, sent_asian], labels=['Black', 'White', 'Hispanic', 'Asian/Pacific Islander'])\n",
    "plt.show()"
   ]
  },
  {
   "cell_type": "code",
   "execution_count": 35,
   "metadata": {},
   "outputs": [
    {
     "name": "stdout",
     "output_type": "stream",
     "text": [
      "[[1.         0.06829741 0.18195407 0.05356938]\n",
      " [0.06829741 1.         0.02275279 0.16218192]\n",
      " [0.18195407 0.02275279 1.         0.01958343]\n",
      " [0.05356938 0.16218192 0.01958343 1.        ]]\n"
     ]
    }
   ],
   "source": [
    "# P value between male and female complaint sentiments\n",
    "p_vals = np.zeros((4,4))\n",
    "sents = [sent_black, sent_white, sent_hispanic, sent_asian]\n",
    "for i in range(4):\n",
    "    for j in range(4):\n",
    "        p_vals[i][j] = ttest_ind(sents[i], sents[j])[1]\n",
    "\n",
    "print(p_vals)"
   ]
  },
  {
   "cell_type": "code",
   "execution_count": 36,
   "metadata": {},
   "outputs": [],
   "source": [
    "race_sents = {}\n",
    "for race, text in zip(data['Complainant Race'], data['Text Content']):\n",
    "    clean = clean_text(text)\n",
    "    if race == 'Native American/Alaskan Native':\n",
    "        # Not enough examples to confidently include\n",
    "        continue\n",
    "    elif race == 'Asian/Pacific Islander':\n",
    "        race = 'Asian'\n",
    "    \n",
    "    if race not in race_sents:\n",
    "        race_sents[race] = []\n",
    "    \n",
    "    scores = sid.polarity_scores(clean)\n",
    "    \n",
    "    race_sents[race].append(scores['compound'])"
   ]
  },
  {
   "cell_type": "code",
   "execution_count": 37,
   "metadata": {},
   "outputs": [
    {
     "data": {
      "text/plain": [
       "-0.48957798930144747"
      ]
     },
     "execution_count": 37,
     "metadata": {},
     "output_type": "execute_result"
    }
   ],
   "source": [
    "np.average(race_sents['Black'])"
   ]
  }
 ],
 "metadata": {
  "kernelspec": {
   "display_name": "Python 3",
   "language": "python",
   "name": "python3"
  },
  "language_info": {
   "codemirror_mode": {
    "name": "ipython",
    "version": 3
   },
   "file_extension": ".py",
   "mimetype": "text/x-python",
   "name": "python",
   "nbconvert_exporter": "python",
   "pygments_lexer": "ipython3",
   "version": "3.9.0"
  }
 },
 "nbformat": 4,
 "nbformat_minor": 4
}
