{
 "cells": [
  {
   "cell_type": "code",
   "execution_count": 234,
   "metadata": {},
   "outputs": [],
   "source": [
    "import pandas as pd\n",
    "import numpy as np\n",
    "import matplotlib.pyplot as plt\n",
    "\n",
    "from string import punctuation\n",
    "\n",
    "from nltk.corpus import stopwords\n",
    "from nltk.tokenize import word_tokenize\n",
    "from nltk.sentiment.vader import SentimentIntensityAnalyzer\n",
    "\n",
    "sid = SentimentIntensityAnalyzer()\n",
    "stop_words = stopwords.words('English')\n",
    "\n",
    "pd.set_option('display.max_colwidth', -1)"
   ]
  },
  {
   "cell_type": "code",
   "execution_count": 227,
   "metadata": {},
   "outputs": [],
   "source": [
    "def clean_text(s):\n",
    "    if s[-1] == '.': \n",
    "        s = s[:-1]\n",
    "    return s.lower().replace('\\n', ' ')"
   ]
  },
  {
   "cell_type": "code",
   "execution_count": 228,
   "metadata": {},
   "outputs": [
    {
     "name": "stderr",
     "output_type": "stream",
     "text": [
      "C:\\Users\\User\\Anaconda3\\lib\\site-packages\\ipykernel_launcher.py:13: SettingWithCopyWarning: \n",
      "A value is trying to be set on a copy of a slice from a DataFrame.\n",
      "Try using .loc[row_indexer,col_indexer] = value instead\n",
      "\n",
      "See the caveats in the documentation: http://pandas.pydata.org/pandas-docs/stable/user_guide/indexing.html#returning-a-view-versus-a-copy\n",
      "  del sys.path[0]\n"
     ]
    }
   ],
   "source": [
    "headers = [\"Allegation ID\", \"Section Name\", \"Column Name\", \"Text Content\", \"Area Name\", \"Median Income\", \"Complainant Gender\", \"Complainant Race\", \"Complainant Birth Year\"]\n",
    "\n",
    "raw_data = pd.read_csv('./data/community_allegation_narratives.csv', \n",
    "    names=headers\n",
    ")\n",
    "\n",
    "# Removing lines without meaningful summaries\n",
    "data = raw_data[~raw_data['Text Content'].isin([\n",
    "    '(None Entered)',\n",
    "    'NOMISCONDUCT\\n(NOTIF)',\n",
    "    'NOT SUSTAINED'\n",
    "])]\n",
    "data['Text Content'] = data['Text Content'].apply(lambda x: clean_text(x))\n",
    "data = data.drop_duplicates(subset=['Text Content'])"
   ]
  },
  {
   "cell_type": "code",
   "execution_count": 203,
   "metadata": {},
   "outputs": [
    {
     "data": {
      "text/plain": [
       "Index(['Allegation ID', 'Section Name', 'Column Name', 'Text Content',\n",
       "       'Area Name', 'Median Income', 'Complainant Gender', 'Complainant Race',\n",
       "       'Complainant Birth Year'],\n",
       "      dtype='object')"
      ]
     },
     "execution_count": 203,
     "metadata": {},
     "output_type": "execute_result"
    }
   ],
   "source": [
    "data.columns"
   ]
  },
  {
   "cell_type": "code",
   "execution_count": 204,
   "metadata": {},
   "outputs": [],
   "source": [
    "summaries = data['Text Content']"
   ]
  },
  {
   "cell_type": "code",
   "execution_count": 235,
   "metadata": {},
   "outputs": [
    {
     "data": {
      "text/html": [
       "<div>\n",
       "<style scoped>\n",
       "    .dataframe tbody tr th:only-of-type {\n",
       "        vertical-align: middle;\n",
       "    }\n",
       "\n",
       "    .dataframe tbody tr th {\n",
       "        vertical-align: top;\n",
       "    }\n",
       "\n",
       "    .dataframe thead th {\n",
       "        text-align: right;\n",
       "    }\n",
       "</style>\n",
       "<table border=\"1\" class=\"dataframe\">\n",
       "  <thead>\n",
       "    <tr style=\"text-align: right;\">\n",
       "      <th></th>\n",
       "      <th>Allegation ID</th>\n",
       "      <th>Section Name</th>\n",
       "      <th>Column Name</th>\n",
       "      <th>Text Content</th>\n",
       "      <th>Area Name</th>\n",
       "      <th>Median Income</th>\n",
       "      <th>Complainant Gender</th>\n",
       "      <th>Complainant Race</th>\n",
       "      <th>Complainant Birth Year</th>\n",
       "    </tr>\n",
       "  </thead>\n",
       "  <tbody>\n",
       "    <tr>\n",
       "      <td>0</td>\n",
       "      <td>1062924</td>\n",
       "      <td>Accused Members</td>\n",
       "      <td>Initial / Intake Allegation</td>\n",
       "      <td>the complainant stated that she was involved in traffic accident with another ewvillan the complainant alleged that the accused officer incorrectly and inacurrately completed the traffic crash accident report the complainant did not have her case report number</td>\n",
       "      <td>Hermosa</td>\n",
       "      <td>$39,057</td>\n",
       "      <td>F</td>\n",
       "      <td>Hispanic</td>\n",
       "      <td>1971.0</td>\n",
       "    </tr>\n",
       "    <tr>\n",
       "      <td>1</td>\n",
       "      <td>1050875</td>\n",
       "      <td>Accused Members</td>\n",
       "      <td>Initial / Intake Allegation</td>\n",
       "      <td>the complainant alleges that the accused failed to arrest a female offender who threw a bottle at her and refused to leave the premises, the complainant alleges that the accused failed to arrest a female offender who threw a bottle at her and refused to leave the premises</td>\n",
       "      <td>Chicago Lawn</td>\n",
       "      <td>$32,944</td>\n",
       "      <td>F</td>\n",
       "      <td>Black</td>\n",
       "      <td>1977.0</td>\n",
       "    </tr>\n",
       "    <tr>\n",
       "      <td>3</td>\n",
       "      <td>1060347</td>\n",
       "      <td>Accused Members</td>\n",
       "      <td>Initial / Intake Allegation</td>\n",
       "      <td>and that she was afraid that the might come back. the reporting alleges that the accused was rude and and stated in an aggressive \"maybe we can look at the tape. if so scared, change your locks. i'm not to do anything for you.”</td>\n",
       "      <td>North Park</td>\n",
       "      <td>$51,589</td>\n",
       "      <td>F</td>\n",
       "      <td>White</td>\n",
       "      <td>1970.0</td>\n",
       "    </tr>\n",
       "    <tr>\n",
       "      <td>4</td>\n",
       "      <td>1060347</td>\n",
       "      <td>Accused Members</td>\n",
       "      <td>Initial / Intake Allegation</td>\n",
       "      <td>the reporting party alleges that she called to speak to the accused, who is assigned to investigate her case. the reporting party alleges that she stated to the accused that the offender had all of her information and keys to her place of residence and that she was afraid that the offender might come back. the reporting party alleges that the accused was rude and unprofessional and stated in an aggressive manner, \"maybe we can look at the tape. if you're so scared, change your locks. i'm not going to do anything for you.”</td>\n",
       "      <td>North Park</td>\n",
       "      <td>$51,589</td>\n",
       "      <td>F</td>\n",
       "      <td>White</td>\n",
       "      <td>1970.0</td>\n",
       "    </tr>\n",
       "    <tr>\n",
       "      <td>5</td>\n",
       "      <td>1049777</td>\n",
       "      <td>Accused Members</td>\n",
       "      <td>Initial / Intake Allegation</td>\n",
       "      <td>the reporting party alleges that the accused officer had his vehicle illegally towed due to loud music. the reporting party alleges that the speakers in his vehicle are not operating therefore; the impounding of his vehicle was just harassment from the accused officer</td>\n",
       "      <td>Chicago Lawn</td>\n",
       "      <td>$32,944</td>\n",
       "      <td>M</td>\n",
       "      <td>Black</td>\n",
       "      <td>1989.0</td>\n",
       "    </tr>\n",
       "    <tr>\n",
       "      <td>...</td>\n",
       "      <td>...</td>\n",
       "      <td>...</td>\n",
       "      <td>...</td>\n",
       "      <td>...</td>\n",
       "      <td>...</td>\n",
       "      <td>...</td>\n",
       "      <td>...</td>\n",
       "      <td>...</td>\n",
       "      <td>...</td>\n",
       "    </tr>\n",
       "    <tr>\n",
       "      <td>47699</td>\n",
       "      <td>1063984</td>\n",
       "      <td>Accused Members</td>\n",
       "      <td>Initial / Intake Allegation</td>\n",
       "      <td>the complainant alleged that the accused officer refused to properly investigate the victim's report of a “road rage\" altercation with another driver</td>\n",
       "      <td>North Park</td>\n",
       "      <td>$51,589</td>\n",
       "      <td>M</td>\n",
       "      <td>Hispanic</td>\n",
       "      <td>1988.0</td>\n",
       "    </tr>\n",
       "    <tr>\n",
       "      <td>47704</td>\n",
       "      <td>1049236</td>\n",
       "      <td>Accused Members</td>\n",
       "      <td>Initial / Intake Allegation</td>\n",
       "      <td>the reporting party, who is representing himself, alleges that the accused struck him with a squad car, which caused serveral bruises on his face, legs, knees and back. the reporting party further alleges that while he was on the ground, the accused stepped on his back, handcuffed him and then threw him in the backseat of the squad car</td>\n",
       "      <td>Greater Grand Crossing</td>\n",
       "      <td>$26,354</td>\n",
       "      <td>M</td>\n",
       "      <td>Black</td>\n",
       "      <td>1980.0</td>\n",
       "    </tr>\n",
       "    <tr>\n",
       "      <td>47708</td>\n",
       "      <td>1051081</td>\n",
       "      <td>Accused Members</td>\n",
       "      <td>Initial / Intake Allegation</td>\n",
       "      <td>the reporting party alleges that the accused officer was rude and unprofessional in that the accused officer called the victim to clear a missing person and the victim stated that he would have to wait until he was available to serve him. the accused officer responded, \"l don't want to hear that shit you fucking jag off.\"</td>\n",
       "      <td>Douglas</td>\n",
       "      <td>$29,099</td>\n",
       "      <td>M</td>\n",
       "      <td>Black</td>\n",
       "      <td>1964.0</td>\n",
       "    </tr>\n",
       "    <tr>\n",
       "      <td>47710</td>\n",
       "      <td>1051081</td>\n",
       "      <td>Current Allegations</td>\n",
       "      <td>Allegation</td>\n",
       "      <td>the complainant, police officer gregory rudolph #16639, unit 184 alleges that on 03 january 2012 at 2255 hours, via the telephone detective joseph mc guire #20016, unit 620 was rude and unprofessional the complainant, police officer gregory rudolph #16639, unit 184 further alleegs that on 04 january 2012 at 1745 hours, via the telephone detective joseph mc guire #20016, unit 620 threatened him and denied his request to speak to a supervisor</td>\n",
       "      <td>Douglas</td>\n",
       "      <td>$29,099</td>\n",
       "      <td>M</td>\n",
       "      <td>Black</td>\n",
       "      <td>1964.0</td>\n",
       "    </tr>\n",
       "    <tr>\n",
       "      <td>47711</td>\n",
       "      <td>1051081</td>\n",
       "      <td>Accused Members</td>\n",
       "      <td>Initial / Intake Allegation</td>\n",
       "      <td>the reporting party alleges that the accused officer was rude and unprofessional in that the accused officer called the victim to clear a missing person and the victim stated that he would have to wait until he was available to serve him. the accused officer responded, \"l don't want to hear that shit you fucking jag off.\"</td>\n",
       "      <td>Douglas</td>\n",
       "      <td>$29,099</td>\n",
       "      <td>M</td>\n",
       "      <td>Black</td>\n",
       "      <td>1964.0</td>\n",
       "    </tr>\n",
       "  </tbody>\n",
       "</table>\n",
       "<p>21368 rows × 9 columns</p>\n",
       "</div>"
      ],
      "text/plain": [
       "       Allegation ID         Section Name                  Column Name  \\\n",
       "0      1062924        Accused Members      Initial / Intake Allegation   \n",
       "1      1050875        Accused Members      Initial / Intake Allegation   \n",
       "3      1060347        Accused Members      Initial / Intake Allegation   \n",
       "4      1060347        Accused Members      Initial / Intake Allegation   \n",
       "5      1049777        Accused Members      Initial / Intake Allegation   \n",
       "...        ...                    ...                              ...   \n",
       "47699  1063984        Accused Members      Initial / Intake Allegation   \n",
       "47704  1049236        Accused Members      Initial / Intake Allegation   \n",
       "47708  1051081        Accused Members      Initial / Intake Allegation   \n",
       "47710  1051081        Current Allegations  Allegation                    \n",
       "47711  1051081        Accused Members      Initial / Intake Allegation   \n",
       "\n",
       "                                                                                                                                                                                                                                                                                                                                                                                                                                                                                                                                          Text Content  \\\n",
       "0      the complainant stated that she was involved in traffic accident with another ewvillan the complainant alleged that the accused officer incorrectly and inacurrately completed the traffic crash accident report the complainant did not have her case report number                                                                                                                                                                                                                                                                              \n",
       "1      the complainant alleges that the accused failed to arrest a female offender who threw a bottle at her and refused to leave the premises, the complainant alleges that the accused failed to arrest a female offender who threw a bottle at her and refused to leave the premises                                                                                                                                                                                                                                                                  \n",
       "3      and that she was afraid that the might come back. the reporting alleges that the accused was rude and and stated in an aggressive \"maybe we can look at the tape. if so scared, change your locks. i'm not to do anything for you.”                                                                                                                                                                                                                                                                                                               \n",
       "4      the reporting party alleges that she called to speak to the accused, who is assigned to investigate her case. the reporting party alleges that she stated to the accused that the offender had all of her information and keys to her place of residence and that she was afraid that the offender might come back. the reporting party alleges that the accused was rude and unprofessional and stated in an aggressive manner, \"maybe we can look at the tape. if you're so scared, change your locks. i'm not going to do anything for you.”   \n",
       "5      the reporting party alleges that the accused officer had his vehicle illegally towed due to loud music. the reporting party alleges that the speakers in his vehicle are not operating therefore; the impounding of his vehicle was just harassment from the accused officer                                                                                                                                                                                                                                                                      \n",
       "...                                                                                                                                                                                                                                                                             ...                                                                                                                                                                                                                                                                      \n",
       "47699  the complainant alleged that the accused officer refused to properly investigate the victim's report of a “road rage\" altercation with another driver                                                                                                                                                                                                                                                                                                                                                                                             \n",
       "47704  the reporting party, who is representing himself, alleges that the accused struck him with a squad car, which caused serveral bruises on his face, legs, knees and back. the reporting party further alleges that while he was on the ground, the accused stepped on his back, handcuffed him and then threw him in the backseat of the squad car                                                                                                                                                                                                 \n",
       "47708   the reporting party alleges that the accused officer was rude and unprofessional in that the accused officer called the victim to clear a missing person and the victim stated that he would have to wait until he was available to serve him. the accused officer responded, \"l don't want to hear that shit you fucking jag off.\"                                                                                                                                                                                                              \n",
       "47710  the complainant, police officer gregory rudolph #16639, unit 184 alleges that on 03 january 2012 at 2255 hours, via the telephone detective joseph mc guire #20016, unit 620 was rude and unprofessional the complainant, police officer gregory rudolph #16639, unit 184 further alleegs that on 04 january 2012 at 1745 hours, via the telephone detective joseph mc guire #20016, unit 620 threatened him and denied his request to speak to a supervisor                                                                                      \n",
       "47711  the reporting party alleges that the accused officer was rude and unprofessional in that the accused officer called the victim to clear a missing person and the victim stated that he would have to wait until he was available to serve him. the accused officer responded, \"l don't want to hear that shit you fucking jag off.\"                                                                                                                                                                                                               \n",
       "\n",
       "                    Area Name Median Income Complainant Gender  \\\n",
       "0      Hermosa                 $39,057       F                   \n",
       "1      Chicago Lawn            $32,944       F                   \n",
       "3      North Park              $51,589       F                   \n",
       "4      North Park              $51,589       F                   \n",
       "5      Chicago Lawn            $32,944       M                   \n",
       "...             ...                ...      ..                   \n",
       "47699  North Park              $51,589       M                   \n",
       "47704  Greater Grand Crossing  $26,354       M                   \n",
       "47708  Douglas                 $29,099       M                   \n",
       "47710  Douglas                 $29,099       M                   \n",
       "47711  Douglas                 $29,099       M                   \n",
       "\n",
       "      Complainant Race  Complainant Birth Year  \n",
       "0      Hispanic         1971.0                  \n",
       "1      Black            1977.0                  \n",
       "3      White            1970.0                  \n",
       "4      White            1970.0                  \n",
       "5      Black            1989.0                  \n",
       "...      ...               ...                  \n",
       "47699  Hispanic         1988.0                  \n",
       "47704  Black            1980.0                  \n",
       "47708  Black            1964.0                  \n",
       "47710  Black            1964.0                  \n",
       "47711  Black            1964.0                  \n",
       "\n",
       "[21368 rows x 9 columns]"
      ]
     },
     "execution_count": 235,
     "metadata": {},
     "output_type": "execute_result"
    }
   ],
   "source": [
    "data"
   ]
  },
  {
   "cell_type": "markdown",
   "metadata": {},
   "source": [
    "# Area vs Income"
   ]
  },
  {
   "cell_type": "code",
   "execution_count": 237,
   "metadata": {},
   "outputs": [],
   "source": [
    "# Find all compound sentiment scores, divided by area\n",
    "area_scores = {}\n",
    "for n, (area, text, income) in enumerate(zip(data['Area Name'], data['Text Content'], data['Median Income'])):\n",
    "    clean = clean_text(text)\n",
    "    \n",
    "    if area not in area_scores:\n",
    "        area_scores[area] = {\n",
    "            'total_score': 0,\n",
    "            'count': 0,\n",
    "            'income': income\n",
    "        }\n",
    "    \n",
    "    scores = sid.polarity_scores(clean)\n",
    "    \n",
    "    area_scores[area]['count'] += 1\n",
    "    area_scores[area]['total_score'] += scores['compound']"
   ]
  },
  {
   "cell_type": "code",
   "execution_count": 238,
   "metadata": {},
   "outputs": [],
   "source": [
    "sorted_scores = sorted([\n",
    "    (\n",
    "        area, \n",
    "        area_scores[area]['total_score'] / area_scores[area]['count'],\n",
    "        area_scores[area]['income']\n",
    "    )\n",
    "    for area in area_scores\n",
    "], key=lambda line: line[1])"
   ]
  },
  {
   "cell_type": "code",
   "execution_count": 239,
   "metadata": {},
   "outputs": [
    {
     "data": {
      "text/html": [
       "<div>\n",
       "<style scoped>\n",
       "    .dataframe tbody tr th:only-of-type {\n",
       "        vertical-align: middle;\n",
       "    }\n",
       "\n",
       "    .dataframe tbody tr th {\n",
       "        vertical-align: top;\n",
       "    }\n",
       "\n",
       "    .dataframe thead th {\n",
       "        text-align: right;\n",
       "    }\n",
       "</style>\n",
       "<table border=\"1\" class=\"dataframe\">\n",
       "  <thead>\n",
       "    <tr style=\"text-align: right;\">\n",
       "      <th></th>\n",
       "      <th>Area</th>\n",
       "      <th>Score</th>\n",
       "      <th>Income</th>\n",
       "    </tr>\n",
       "  </thead>\n",
       "  <tbody>\n",
       "    <tr>\n",
       "      <td>0</td>\n",
       "      <td>Edison Park</td>\n",
       "      <td>-0.599305</td>\n",
       "      <td>$84,331</td>\n",
       "    </tr>\n",
       "    <tr>\n",
       "      <td>1</td>\n",
       "      <td>Jefferson Park</td>\n",
       "      <td>-0.597945</td>\n",
       "      <td>$60,384</td>\n",
       "    </tr>\n",
       "    <tr>\n",
       "      <td>2</td>\n",
       "      <td>Lincoln Square</td>\n",
       "      <td>-0.589593</td>\n",
       "      <td>$62,427</td>\n",
       "    </tr>\n",
       "    <tr>\n",
       "      <td>3</td>\n",
       "      <td>South Lawndale</td>\n",
       "      <td>-0.573953</td>\n",
       "      <td>$30,603</td>\n",
       "    </tr>\n",
       "    <tr>\n",
       "      <td>4</td>\n",
       "      <td>Hegewisch</td>\n",
       "      <td>-0.565878</td>\n",
       "      <td>$50,252</td>\n",
       "    </tr>\n",
       "    <tr>\n",
       "      <td>...</td>\n",
       "      <td>...</td>\n",
       "      <td>...</td>\n",
       "      <td>...</td>\n",
       "    </tr>\n",
       "    <tr>\n",
       "      <td>72</td>\n",
       "      <td>O'Hare</td>\n",
       "      <td>-0.420273</td>\n",
       "      <td>$46,065</td>\n",
       "    </tr>\n",
       "    <tr>\n",
       "      <td>73</td>\n",
       "      <td>Oakland</td>\n",
       "      <td>-0.407486</td>\n",
       "      <td>$28,269</td>\n",
       "    </tr>\n",
       "    <tr>\n",
       "      <td>74</td>\n",
       "      <td>Portage Park</td>\n",
       "      <td>-0.395742</td>\n",
       "      <td>$56,649</td>\n",
       "    </tr>\n",
       "    <tr>\n",
       "      <td>75</td>\n",
       "      <td>Edgewater</td>\n",
       "      <td>-0.394468</td>\n",
       "      <td>$46,103</td>\n",
       "    </tr>\n",
       "    <tr>\n",
       "      <td>76</td>\n",
       "      <td>North Park</td>\n",
       "      <td>-0.328843</td>\n",
       "      <td>$51,589</td>\n",
       "    </tr>\n",
       "  </tbody>\n",
       "</table>\n",
       "<p>77 rows × 3 columns</p>\n",
       "</div>"
      ],
      "text/plain": [
       "              Area     Score   Income\n",
       "0   Edison Park    -0.599305  $84,331\n",
       "1   Jefferson Park -0.597945  $60,384\n",
       "2   Lincoln Square -0.589593  $62,427\n",
       "3   South Lawndale -0.573953  $30,603\n",
       "4   Hegewisch      -0.565878  $50,252\n",
       "..        ...            ...      ...\n",
       "72  O'Hare         -0.420273  $46,065\n",
       "73  Oakland        -0.407486  $28,269\n",
       "74  Portage Park   -0.395742  $56,649\n",
       "75  Edgewater      -0.394468  $46,103\n",
       "76  North Park     -0.328843  $51,589\n",
       "\n",
       "[77 rows x 3 columns]"
      ]
     },
     "execution_count": 239,
     "metadata": {},
     "output_type": "execute_result"
    }
   ],
   "source": [
    "pd.DataFrame(sorted_scores, columns=['Area', 'Score', 'Income'], )"
   ]
  },
  {
   "cell_type": "code",
   "execution_count": 265,
   "metadata": {},
   "outputs": [
    {
     "data": {
      "text/plain": [
       "<matplotlib.collections.PathCollection at 0x24567e36548>"
      ]
     },
     "execution_count": 265,
     "metadata": {},
     "output_type": "execute_result"
    },
    {
     "data": {
      "image/png": "[encoded data removed]",
      "text/plain": [
       "<Figure size 432x288 with 1 Axes>"
      ]
     },
     "metadata": {
      "needs_background": "light"
     },
     "output_type": "display_data"
    }
   ],
   "source": [
    "plot_x = [int(x[2][1:].replace(',', '')) for x in sorted_scores]\n",
    "plot_y = [y[1] for y in sorted_scores]\n",
    "\n",
    "plt.suptitle('Accusation Sentiment by City Area')\n",
    "plt.xlabel('Median Income')\n",
    "plt.ylabel('Sentiment')\n",
    "plt.scatter(plot_x, plot_y)"
   ]
  },
  {
   "cell_type": "markdown",
   "metadata": {},
   "source": [
    "# Race"
   ]
  },
  {
   "cell_type": "code",
   "execution_count": 251,
   "metadata": {},
   "outputs": [],
   "source": [
    "race_scores = {}\n",
    "for race, text in zip(data['Complainant Race'], data['Text Content']):\n",
    "    clean = clean_text(text)\n",
    "    if race == 'Native American/Alaskan Native':\n",
    "        # Not enough examples to confidently include\n",
    "        continue\n",
    "    elif race == 'Asian/Pacific Islander':\n",
    "        race = 'Asian'\n",
    "    \n",
    "    if race not in race_scores:\n",
    "        race_scores[race] = {\n",
    "            'total_score': 0,\n",
    "            'count': 0\n",
    "        }\n",
    "    \n",
    "    scores = sid.polarity_scores(clean)\n",
    "    \n",
    "    race_scores[race]['count'] += 1\n",
    "    race_scores[race]['total_score'] += scores['compound']"
   ]
  },
  {
   "cell_type": "code",
   "execution_count": 257,
   "metadata": {},
   "outputs": [],
   "source": [
    "race_data = dict(sorted([\n",
    "    (race, -1 * race_scores[race]['total_score'] / race_scores[race]['count'])\n",
    "    for race in race_scores if type(race) == str\n",
    "], key=lambda item: item[1]))"
   ]
  },
  {
   "cell_type": "code",
   "execution_count": 260,
   "metadata": {},
   "outputs": [
    {
     "data": {
      "text/plain": [
       "<BarContainer object of 4 artists>"
      ]
     },
     "execution_count": 260,
     "metadata": {},
     "output_type": "execute_result"
    },
    {
     "data": {
      "image/png": "[encoded data removed]",
      "text/plain": [
       "<Figure size 432x288 with 1 Axes>"
      ]
     },
     "metadata": {
      "needs_background": "light"
     },
     "output_type": "display_data"
    }
   ],
   "source": [
    "plt.suptitle('Negative Sentiment of Accusations by Race')\n",
    "plt.ylim([0.4, 0.52])\n",
    "plt.bar(race_data.keys(), [race_data[race] for race in race_data])"
   ]
  },
  {
   "cell_type": "code",
   "execution_count": 261,
   "metadata": {},
   "outputs": [
    {
     "data": {
      "text/html": [
       "<div>\n",
       "<style scoped>\n",
       "    .dataframe tbody tr th:only-of-type {\n",
       "        vertical-align: middle;\n",
       "    }\n",
       "\n",
       "    .dataframe tbody tr th {\n",
       "        vertical-align: top;\n",
       "    }\n",
       "\n",
       "    .dataframe thead th {\n",
       "        text-align: right;\n",
       "    }\n",
       "</style>\n",
       "<table border=\"1\" class=\"dataframe\">\n",
       "  <thead>\n",
       "    <tr style=\"text-align: right;\">\n",
       "      <th></th>\n",
       "      <th>Race</th>\n",
       "      <th>Avg Score</th>\n",
       "    </tr>\n",
       "  </thead>\n",
       "  <tbody>\n",
       "    <tr>\n",
       "      <td>0</td>\n",
       "      <td>Asian</td>\n",
       "      <td>0.467126</td>\n",
       "    </tr>\n",
       "    <tr>\n",
       "      <td>1</td>\n",
       "      <td>White</td>\n",
       "      <td>0.478442</td>\n",
       "    </tr>\n",
       "    <tr>\n",
       "      <td>2</td>\n",
       "      <td>Black</td>\n",
       "      <td>0.489578</td>\n",
       "    </tr>\n",
       "    <tr>\n",
       "      <td>3</td>\n",
       "      <td>Hispanic</td>\n",
       "      <td>0.503951</td>\n",
       "    </tr>\n",
       "  </tbody>\n",
       "</table>\n",
       "</div>"
      ],
      "text/plain": [
       "       Race  Avg Score\n",
       "0  Asian     0.467126 \n",
       "1  White     0.478442 \n",
       "2  Black     0.489578 \n",
       "3  Hispanic  0.503951 "
      ]
     },
     "execution_count": 261,
     "metadata": {},
     "output_type": "execute_result"
    }
   ],
   "source": [
    "pd.DataFrame(race_data.items(), columns=['Race', 'Avg Score'])"
   ]
  },
  {
   "cell_type": "code",
   "execution_count": null,
   "metadata": {},
   "outputs": [],
   "source": []
  }
 ],
 "metadata": {
  "kernelspec": {
   "display_name": "Python 3",
   "language": "python",
   "name": "python3"
  },
  "language_info": {
   "codemirror_mode": {
    "name": "ipython",
    "version": 3
   },
   "file_extension": ".py",
   "mimetype": "text/x-python",
   "name": "python",
   "nbconvert_exporter": "python",
   "pygments_lexer": "ipython3",
   "version": "3.7.4"
  }
 },
 "nbformat": 4,
 "nbformat_minor": 4
}
